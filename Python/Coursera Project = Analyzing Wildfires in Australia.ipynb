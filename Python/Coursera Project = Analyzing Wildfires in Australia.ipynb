{
 "cells": [
  {
   "cell_type": "markdown",
   "id": "82649a58",
   "metadata": {},
   "source": [
    "# Analyzing the wildfire activities in Australia"
   ]
  },
  {
   "cell_type": "markdown",
   "id": "58187087",
   "metadata": {},
   "source": [
    "Objective \\\n",
    "To analyze and visualize the wildfire activities in Australia using the provided dataset and explore patterns and trends, and create visualizations to gain insights into the behavior of wildfires in different regions of Australia."
   ]
  },
  {
   "cell_type": "markdown",
   "id": "cd84c3c3",
   "metadata": {},
   "source": [
    "*VariableS\\\n",
    "\n",
    "*Region: the 7 regions\\\n",
    "*Date: in UTC and provide the data for 24 hours ahead\\\n",
    "*Estimated_fire_area: daily sum of estimated fire area for presumed vegetation fires\\\n",
    "                      with a confidence > 75% for a each region in km2\\\n",
    "*Mean_estimated_fire_brightness: daily mean (by flagged fire pixels(=count)) of estimated fire brightness\\ \n",
    "                                 for presumed vegetation fires with a confidence level > 75% in Kelvin\\\n",
    "*Mean_estimated_fire_radiative_power: daily mean of estimated radiative power for presumed vegetation\\\n",
    "                                    fires with a confidence level > 75% for a given region in megawatts\\\n",
    "*Mean_confidence: daily mean of confidence for presumed vegetation fires with a confidence level > 75%\\\n",
    "*Std_confidence: standard deviation of estimated fire radiative power in megawatts\\\n",
    "*Var_confidence: Variance of estimated fire radiative power in megawatts\\\n",
    "*Count: daily numbers of pixels for presumed vegetation fires with a confidence level of larger than 75% for a given region\\\n",
    "     Replaced: Indicates with an Y whether the data has been replaced with standard quality data when they are available\\\n",
    "                                        (usually with a 2-3 month lag). Replaced data has a slightly higher quality\\\n",
    "                                        in terms of locations\n"
   ]
  },
  {
   "cell_type": "code",
   "execution_count": 1,
   "id": "72eca324",
   "metadata": {},
   "outputs": [],
   "source": [
    "import pandas as pd\n",
    "import seaborn as sns\n",
    "import numpy as np\n",
    "import matplotlib.pyplot as plt\n",
    "import folium\n",
    "%matplotlib inline"
   ]
  },
  {
   "cell_type": "code",
   "execution_count": 2,
   "id": "6bc813ef",
   "metadata": {},
   "outputs": [],
   "source": [
    "data = pd.read_csv(\"https://cf-courses-data.s3.us.cloud-object-storage.appdomain.cloud/IBMDeveloperSkillsNetwork-DV0101EN-SkillsNetwork/Data%20Files/Historical_Wildfires.csv\")"
   ]
  },
  {
   "cell_type": "code",
   "execution_count": 3,
   "id": "48ede6e4",
   "metadata": {},
   "outputs": [
    {
     "data": {
      "text/html": [
       "<div>\n",
       "<style scoped>\n",
       "    .dataframe tbody tr th:only-of-type {\n",
       "        vertical-align: middle;\n",
       "    }\n",
       "\n",
       "    .dataframe tbody tr th {\n",
       "        vertical-align: top;\n",
       "    }\n",
       "\n",
       "    .dataframe thead th {\n",
       "        text-align: right;\n",
       "    }\n",
       "</style>\n",
       "<table border=\"1\" class=\"dataframe\">\n",
       "  <thead>\n",
       "    <tr style=\"text-align: right;\">\n",
       "      <th></th>\n",
       "      <th>Region</th>\n",
       "      <th>Date</th>\n",
       "      <th>Estimated_fire_area</th>\n",
       "      <th>Mean_estimated_fire_brightness</th>\n",
       "      <th>Mean_estimated_fire_radiative_power</th>\n",
       "      <th>Mean_confidence</th>\n",
       "      <th>Std_confidence</th>\n",
       "      <th>Var_confidence</th>\n",
       "      <th>Count</th>\n",
       "      <th>Replaced</th>\n",
       "    </tr>\n",
       "  </thead>\n",
       "  <tbody>\n",
       "    <tr>\n",
       "      <th>0</th>\n",
       "      <td>NSW</td>\n",
       "      <td>1/4/2005</td>\n",
       "      <td>8.68000</td>\n",
       "      <td>312.266667</td>\n",
       "      <td>42.4000</td>\n",
       "      <td>78.666667</td>\n",
       "      <td>2.886751</td>\n",
       "      <td>8.333333</td>\n",
       "      <td>3</td>\n",
       "      <td>R</td>\n",
       "    </tr>\n",
       "    <tr>\n",
       "      <th>1</th>\n",
       "      <td>NSW</td>\n",
       "      <td>1/5/2005</td>\n",
       "      <td>16.61125</td>\n",
       "      <td>322.475000</td>\n",
       "      <td>62.3625</td>\n",
       "      <td>85.500000</td>\n",
       "      <td>8.088793</td>\n",
       "      <td>65.428571</td>\n",
       "      <td>8</td>\n",
       "      <td>R</td>\n",
       "    </tr>\n",
       "  </tbody>\n",
       "</table>\n",
       "</div>"
      ],
      "text/plain": [
       "  Region      Date  Estimated_fire_area  Mean_estimated_fire_brightness  \\\n",
       "0    NSW  1/4/2005              8.68000                      312.266667   \n",
       "1    NSW  1/5/2005             16.61125                      322.475000   \n",
       "\n",
       "   Mean_estimated_fire_radiative_power  Mean_confidence  Std_confidence  \\\n",
       "0                              42.4000        78.666667        2.886751   \n",
       "1                              62.3625        85.500000        8.088793   \n",
       "\n",
       "   Var_confidence  Count Replaced  \n",
       "0        8.333333      3        R  \n",
       "1       65.428571      8        R  "
      ]
     },
     "execution_count": 3,
     "metadata": {},
     "output_type": "execute_result"
    }
   ],
   "source": [
    "data.head(2)"
   ]
  },
  {
   "cell_type": "markdown",
   "id": "9eb1805b",
   "metadata": {},
   "source": [
    "Let's do Data Wrangling"
   ]
  },
  {
   "cell_type": "code",
   "execution_count": 4,
   "id": "52557bdd",
   "metadata": {},
   "outputs": [
    {
     "data": {
      "text/plain": [
       "Region                                    0\n",
       "Date                                      0\n",
       "Estimated_fire_area                       0\n",
       "Mean_estimated_fire_brightness            0\n",
       "Mean_estimated_fire_radiative_power       0\n",
       "Mean_confidence                           0\n",
       "Std_confidence                         2207\n",
       "Var_confidence                         2207\n",
       "Count                                     0\n",
       "Replaced                                  0\n",
       "dtype: int64"
      ]
     },
     "execution_count": 4,
     "metadata": {},
     "output_type": "execute_result"
    }
   ],
   "source": [
    "data.isnull().sum()"
   ]
  },
  {
   "cell_type": "markdown",
   "id": "fb2ca08e",
   "metadata": {},
   "source": [
    "Columns \"Std_confidence\" and \"Var_confidence\" have 2207 nulls each"
   ]
  },
  {
   "cell_type": "code",
   "execution_count": 5,
   "id": "e35e647b",
   "metadata": {},
   "outputs": [
    {
     "data": {
      "text/plain": [
       "(26406, 10)"
      ]
     },
     "execution_count": 5,
     "metadata": {},
     "output_type": "execute_result"
    }
   ],
   "source": [
    "data.shape"
   ]
  },
  {
   "cell_type": "markdown",
   "id": "a89cfdbe",
   "metadata": {},
   "source": [
    "Let's check the null values in columns \"Std_confidence\" and \"Var_confidence\""
   ]
  },
  {
   "cell_type": "code",
   "execution_count": 6,
   "id": "cbd50758",
   "metadata": {},
   "outputs": [],
   "source": [
    "Columns_with_NA = data[['Std_confidence', 'Var_confidence']]"
   ]
  },
  {
   "cell_type": "code",
   "execution_count": 7,
   "id": "1e9ad55b",
   "metadata": {},
   "outputs": [],
   "source": [
    "mask = Columns_with_NA.isnull().any(axis=1)"
   ]
  },
  {
   "cell_type": "code",
   "execution_count": 8,
   "id": "187efe4e",
   "metadata": {},
   "outputs": [],
   "source": [
    "rows_with_missing = data[mask]"
   ]
  },
  {
   "cell_type": "code",
   "execution_count": 9,
   "id": "c876bd58",
   "metadata": {},
   "outputs": [
    {
     "data": {
      "text/html": [
       "<div>\n",
       "<style scoped>\n",
       "    .dataframe tbody tr th:only-of-type {\n",
       "        vertical-align: middle;\n",
       "    }\n",
       "\n",
       "    .dataframe tbody tr th {\n",
       "        vertical-align: top;\n",
       "    }\n",
       "\n",
       "    .dataframe thead th {\n",
       "        text-align: right;\n",
       "    }\n",
       "</style>\n",
       "<table border=\"1\" class=\"dataframe\">\n",
       "  <thead>\n",
       "    <tr style=\"text-align: right;\">\n",
       "      <th></th>\n",
       "      <th>Region</th>\n",
       "      <th>Date</th>\n",
       "      <th>Estimated_fire_area</th>\n",
       "      <th>Mean_estimated_fire_brightness</th>\n",
       "      <th>Mean_estimated_fire_radiative_power</th>\n",
       "      <th>Mean_confidence</th>\n",
       "      <th>Std_confidence</th>\n",
       "      <th>Var_confidence</th>\n",
       "      <th>Count</th>\n",
       "      <th>Replaced</th>\n",
       "    </tr>\n",
       "  </thead>\n",
       "  <tbody>\n",
       "    <tr>\n",
       "      <th>48</th>\n",
       "      <td>NSW</td>\n",
       "      <td>2/26/2005</td>\n",
       "      <td>1.0</td>\n",
       "      <td>303.15</td>\n",
       "      <td>8.0</td>\n",
       "      <td>79.0</td>\n",
       "      <td>NaN</td>\n",
       "      <td>NaN</td>\n",
       "      <td>1</td>\n",
       "      <td>R</td>\n",
       "    </tr>\n",
       "    <tr>\n",
       "      <th>149</th>\n",
       "      <td>NSW</td>\n",
       "      <td>6/12/2005</td>\n",
       "      <td>1.0</td>\n",
       "      <td>302.55</td>\n",
       "      <td>17.9</td>\n",
       "      <td>79.0</td>\n",
       "      <td>NaN</td>\n",
       "      <td>NaN</td>\n",
       "      <td>1</td>\n",
       "      <td>R</td>\n",
       "    </tr>\n",
       "  </tbody>\n",
       "</table>\n",
       "</div>"
      ],
      "text/plain": [
       "    Region       Date  Estimated_fire_area  Mean_estimated_fire_brightness  \\\n",
       "48     NSW  2/26/2005                  1.0                          303.15   \n",
       "149    NSW  6/12/2005                  1.0                          302.55   \n",
       "\n",
       "     Mean_estimated_fire_radiative_power  Mean_confidence  Std_confidence  \\\n",
       "48                                   8.0             79.0             NaN   \n",
       "149                                 17.9             79.0             NaN   \n",
       "\n",
       "     Var_confidence  Count Replaced  \n",
       "48              NaN      1        R  \n",
       "149             NaN      1        R  "
      ]
     },
     "execution_count": 9,
     "metadata": {},
     "output_type": "execute_result"
    }
   ],
   "source": [
    "rows_with_missing.head(2)"
   ]
  },
  {
   "cell_type": "markdown",
   "id": "fc938357",
   "metadata": {},
   "source": [
    "As our objective doesn't involve constructing a model, our aim is to generate visual representations that facilitate a deeper understanding of wildfire patterns across various regions in Australia."
   ]
  },
  {
   "cell_type": "code",
   "execution_count": 10,
   "id": "86a42c24",
   "metadata": {},
   "outputs": [],
   "source": [
    "#mean of mean \n",
    "#mean estimated_area \n",
    "#mean count\n",
    "#max and min\n"
   ]
  },
  {
   "cell_type": "markdown",
   "id": "cba473bf",
   "metadata": {},
   "source": [
    "Let's check the data type of each column to see if appropriate "
   ]
  },
  {
   "cell_type": "code",
   "execution_count": 11,
   "id": "fc23cf56",
   "metadata": {},
   "outputs": [
    {
     "data": {
      "text/plain": [
       "Region                                  object\n",
       "Date                                    object\n",
       "Estimated_fire_area                    float64\n",
       "Mean_estimated_fire_brightness         float64\n",
       "Mean_estimated_fire_radiative_power    float64\n",
       "Mean_confidence                        float64\n",
       "Std_confidence                         float64\n",
       "Var_confidence                         float64\n",
       "Count                                    int64\n",
       "Replaced                                object\n",
       "dtype: object"
      ]
     },
     "execution_count": 11,
     "metadata": {},
     "output_type": "execute_result"
    }
   ],
   "source": [
    "data.dtypes"
   ]
  },
  {
   "cell_type": "markdown",
   "id": "122f6179",
   "metadata": {},
   "source": [
    "Observe that the 'Date' column is of the 'object' type. We should convert it to the 'datetime' type and additionally extract the 'Year' and 'Month' from the date, incorporating them into the dataframe as distinct columns."
   ]
  },
  {
   "cell_type": "code",
   "execution_count": 12,
   "id": "b2dfcc30",
   "metadata": {},
   "outputs": [],
   "source": [
    "import datetime as dt"
   ]
  },
  {
   "cell_type": "code",
   "execution_count": 14,
   "id": "513f2f8a",
   "metadata": {},
   "outputs": [],
   "source": [
    "data['NYear'] = pd.to_datetime(data['Date']).dt.year\n",
    "data['Month'] = pd.to_datetime(data['Date']).dt.year\n"
   ]
  },
  {
   "cell_type": "code",
   "execution_count": 15,
   "id": "d8fbd067",
   "metadata": {},
   "outputs": [
    {
     "data": {
      "text/plain": [
       "Region                                  object\n",
       "Date                                    object\n",
       "Estimated_fire_area                    float64\n",
       "Mean_estimated_fire_brightness         float64\n",
       "Mean_estimated_fire_radiative_power    float64\n",
       "Mean_confidence                        float64\n",
       "Std_confidence                         float64\n",
       "Var_confidence                         float64\n",
       "Count                                    int64\n",
       "Replaced                                object\n",
       "NYear                                    int64\n",
       "Month                                    int64\n",
       "dtype: object"
      ]
     },
     "execution_count": 15,
     "metadata": {},
     "output_type": "execute_result"
    }
   ],
   "source": [
    "#check again\n",
    "data.dtypes"
   ]
  },
  {
   "cell_type": "markdown",
   "id": "fd0b5378",
   "metadata": {},
   "source": [
    "Let's try to understand the change in average estimated fire area over time"
   ]
  },
  {
   "cell_type": "code",
   "execution_count": 16,
   "id": "aa13996a",
   "metadata": {},
   "outputs": [],
   "source": [
    "estimated_fire_area_over_time = data['Estimated_fire_area'].groupby(by=data['NYear']).mean()"
   ]
  },
  {
   "cell_type": "code",
   "execution_count": 20,
   "id": "ec87bdaa",
   "metadata": {},
   "outputs": [
    {
     "data": {
      "image/png": "[encoded data removed]",
      "text/plain": [
       "<Figure size 1000x600 with 1 Axes>"
      ]
     },
     "metadata": {},
     "output_type": "display_data"
    }
   ],
   "source": [
    "plt.figure(figsize =(10,6))\n",
    "estimated_fire_area_over_time.plot(kind='line', color = 'r')\n",
    "plt.xlabel('Year')\n",
    "plt.ylabel('Average Estimated Fire Area (km²)')\n",
    "plt.title('Estimated Fire Area over Time')\n",
    "plt.show()"
   ]
  },
  {
   "cell_type": "code",
   "execution_count": 1,
   "id": "9f83a2a7",
   "metadata": {},
   "outputs": [
    {
     "ename": "SyntaxError",
     "evalue": "invalid syntax (2765532734.py, line 1)",
     "output_type": "error",
     "traceback": [
      "\u001b[1;36m  Input \u001b[1;32mIn [1]\u001b[1;36m\u001b[0m\n\u001b[1;33m    pip3.8 install setuptools\u001b[0m\n\u001b[1;37m        ^\u001b[0m\n\u001b[1;31mSyntaxError\u001b[0m\u001b[1;31m:\u001b[0m invalid syntax\n"
     ]
    }
   ],
   "source": [
    "pip3.8 install setuptools"
   ]
  },
  {
   "cell_type": "code",
   "execution_count": null,
   "id": "5a10bb28",
   "metadata": {},
   "outputs": [],
   "source": [
    "import pandas as pd\n",
    "import dash\n",
    "from dash import html, dcc\n",
    "from dash.dependencies import Input, Output, State\n",
    "import plotly.graph_objects as go\n",
    "import plotly.express as px\n",
    "from dash import no_update\n",
    "import datetime as dt\n",
    "\n",
    "#Create app\n",
    "\n",
    "app = dash.Dash(__name__)\n",
    "\n",
    "# Clear the layout and do not display exception till callback gets executed\n",
    "app.config.suppress_callback_exceptions = True\n",
    "\n",
    "# Read the wildfire data into pandas dataframe\n",
    "df =  pd.read_csv('https://cf-courses-data.s3.us.cloud-object-storage.appdomain.cloud/IBMDeveloperSkillsNetwork-DV0101EN-SkillsNetwork/Data%20Files/Historical_Wildfires.csv')\n",
    "\n",
    "#Extract year and month from the date column\n",
    "\n",
    "df['Month'] = pd.to_datetime(df['Date']).dt.month_name(locale = 'English') #used for the names of the months\n",
    "df['Year'] = pd.to_datetime(df['Date']).dt.year\n",
    "\n",
    "#Layout Section of Dash\n",
    "\n",
    "#Task 2.1 Add the Title to the Dashboard\n",
    "app.layout = html.Div(children=[html.H1('Australia Wildfire Dashboard', style={'textAlign': 'center', 'color': '#503D36',\n",
    "                                'font-size': 26}),\n",
    "\n",
    "# TASK 2.2: Add the radio items and a dropdown right below the first inner division\n",
    "#outer division starts\n",
    "     html.Div([\n",
    "          html.H2('Select Region:', style={'margin-right': '2em'}),\n",
    "             #Radio items to select the region\n",
    "             dcc.RadioItems(['NSW','QL','SA','TA','VI','WA'], 'NSW', id='region',inline=True)]),\n",
    "            \n",
    "                   # First inner divsion for  adding dropdown helper text for Selected Drive wheels\n",
    "                    html.Div([\n",
    "                        html.H2('Select Year:', style={'margin-right': '2em'}),\n",
    "                        dcc.Dropdown(df.Year.unique(), value = 2005,id='year')\n",
    "                        #notice the use of unique() from pandas to fetch the values of year from the dataframe for dropdown\n",
    "                    ]),\n",
    "                            html.H2(.........),\n",
    "\n",
    "                    #Radio items to select the region\n",
    "                    #dcc.RadioItems(['NSW',.....], value ='...', id='...',inline=True)]),\n",
    "                    dcc.RadioItems([{\"label\":\"New South Wales\",\"value\": \"NSW\"},\n",
    "                                    {..........},\n",
    "                                    {..........},\n",
    "                                    {..........},\n",
    "                                    {..........},\n",
    "                                    {..........},\n",
    "                                    {\"label\":\"...\",\"value\": ..}], value = \"...\", id='.....,inline=True)]),\n",
    "                    #Dropdown to select year\n",
    "                    html.Div([\n",
    "                            html.H2('.........', style={...........}),\n",
    "                        dcc.Dropdown(.....................)\n",
    "                    ]),\n",
    "#Second Inner division for adding 2 inner divisions for 2 output graphs\n",
    "#TASK 2.3: Add two empty divisions for output inside the next inner division.\n",
    "                    html.Div([\n",
    "                \n",
    "                        html.Div([ ], id='........'),\n",
    "                        html.Div([ ], id='.........')\n",
    "                    ], style={'.........}),\n",
    "\n",
    "    ])\n",
    "    #outer division ends\n",
    "\n",
    "])\n",
    "#layout ends\n",
    "#TASK 2.4: Add the Ouput and input components inside the app.callback decorator.\n",
    "#Place to add @app.callback Decorator\n",
    "@app.callback([Output(component_id=.........., component_property=..........),\n",
    "               Output(component_id=.........., component_property=..........)],\n",
    "               [Input(component_id=.........., component_property=..........),\n",
    "                Input(component_id=.........., component_property=..........)])\n",
    "\n",
    "   \n",
    "#TASK 2.5: Add the callback function.\n",
    "#Place to define the callback function .\n",
    "def reg_year_display(input_region,input_year):\n",
    "    \n",
    "    #data\n",
    "   region_data = df[df['Region'] == input_region]\n",
    "   y_r_data = region_data[region_data['Year']==input_year]\n",
    "    #Plot one - Monthly Average Estimated Fire Area\n",
    "   \n",
    "   est_data = .........................\n",
    " \n",
    "   fig1 = px.pie(.............., title=\"{} : Monthly Average Estimated Fire Area in year {}\".format(input_region,input_year))\n",
    "   \n",
    "     #Plot two - Monthly Average Count of Pixels for Presumed Vegetation Fires\n",
    "   veg_data = .............................\n",
    "   fig2 = px.bar(..............., title='{} : Average Count of Pixels for Presumed Vegetation Fires in year {}'.format(input_region,input_year))\n",
    "    \n",
    "   return [.......,\n",
    "            ......... ]\n",
    "\n",
    "if __name__ == '__main__':\n",
    "    app.run_server()"
   ]
  },
  {
   "cell_type": "code",
   "execution_count": null,
   "id": "08382dc5",
   "metadata": {},
   "outputs": [],
   "source": []
  }
 ],
 "metadata": {
  "kernelspec": {
   "display_name": "Python 3 (ipykernel)",
   "language": "python",
   "name": "python3"
  },
  "language_info": {
   "codemirror_mode": {
    "name": "ipython",
    "version": 3
   },
   "file_extension": ".py",
   "mimetype": "text/x-python",
   "name": "python",
   "nbconvert_exporter": "python",
   "pygments_lexer": "ipython3",
   "version": "3.9.16"
  }
 },
 "nbformat": 4,
 "nbformat_minor": 5
}
