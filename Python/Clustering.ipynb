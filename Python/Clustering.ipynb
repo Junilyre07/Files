{
 "cells": [
  {
   "cell_type": "code",
   "execution_count": 1,
   "id": "053ce59e-18ee-4ab6-ab69-4d71a8cfdfea",
   "metadata": {},
   "outputs": [],
   "source": [
    "import pandas as pd\n",
    "import numpy as np\n",
    "import matplotlib.pyplot as plt\n",
    "import seaborn as sns\n",
    "from sklearn.cluster import KMeans\n",
    "from sklearn.preprocessing import StandardScaler\n",
    "from sklearn.metrics import silhouette_score"
   ]
  },
  {
   "cell_type": "code",
   "execution_count": null,
   "id": "ca32af48-b9fa-4ef9-a917-ef4eb6fdf396",
   "metadata": {},
   "outputs": [],
   "source": []
  },
  {
   "cell_type": "code",
   "execution_count": null,
   "id": "c4ce81a1-4735-409b-b4b7-280a63f99988",
   "metadata": {},
   "outputs": [],
   "source": []
  },
  {
   "cell_type": "code",
   "execution_count": 2,
   "id": "d5ea5608-fe9a-446a-b8f5-755603c1e18f",
   "metadata": {},
   "outputs": [],
   "source": [
    "df = pd.read_csv(\"Country-data.csv\")\n",
    "#Step1- Date preprocessing "
   ]
  },
  {
   "cell_type": "code",
   "execution_count": 4,
   "id": "bcfc226e",
   "metadata": {},
   "outputs": [
    {
     "data": {
      "text/html": [
       "<div>\n",
       "<style scoped>\n",
       "    .dataframe tbody tr th:only-of-type {\n",
       "        vertical-align: middle;\n",
       "    }\n",
       "\n",
       "    .dataframe tbody tr th {\n",
       "        vertical-align: top;\n",
       "    }\n",
       "\n",
       "    .dataframe thead th {\n",
       "        text-align: right;\n",
       "    }\n",
       "</style>\n",
       "<table border=\"1\" class=\"dataframe\">\n",
       "  <thead>\n",
       "    <tr style=\"text-align: right;\">\n",
       "      <th></th>\n",
       "      <th>country</th>\n",
       "      <th>child_mort</th>\n",
       "      <th>exports</th>\n",
       "      <th>health</th>\n",
       "      <th>imports</th>\n",
       "      <th>income</th>\n",
       "      <th>inflation</th>\n",
       "      <th>life_expec</th>\n",
       "      <th>total_fer</th>\n",
       "      <th>gdpp</th>\n",
       "    </tr>\n",
       "  </thead>\n",
       "  <tbody>\n",
       "    <tr>\n",
       "      <th>0</th>\n",
       "      <td>Afghanistan</td>\n",
       "      <td>90.2</td>\n",
       "      <td>10.0</td>\n",
       "      <td>7.58</td>\n",
       "      <td>44.9</td>\n",
       "      <td>1610</td>\n",
       "      <td>9.44</td>\n",
       "      <td>56.2</td>\n",
       "      <td>5.82</td>\n",
       "      <td>553</td>\n",
       "    </tr>\n",
       "    <tr>\n",
       "      <th>1</th>\n",
       "      <td>Albania</td>\n",
       "      <td>16.6</td>\n",
       "      <td>28.0</td>\n",
       "      <td>6.55</td>\n",
       "      <td>48.6</td>\n",
       "      <td>9930</td>\n",
       "      <td>4.49</td>\n",
       "      <td>76.3</td>\n",
       "      <td>1.65</td>\n",
       "      <td>4090</td>\n",
       "    </tr>\n",
       "  </tbody>\n",
       "</table>\n",
       "</div>"
      ],
      "text/plain": [
       "       country  child_mort  exports  health  imports  income  inflation  \\\n",
       "0  Afghanistan        90.2     10.0    7.58     44.9    1610       9.44   \n",
       "1      Albania        16.6     28.0    6.55     48.6    9930       4.49   \n",
       "\n",
       "   life_expec  total_fer  gdpp  \n",
       "0        56.2       5.82   553  \n",
       "1        76.3       1.65  4090  "
      ]
     },
     "execution_count": 4,
     "metadata": {},
     "output_type": "execute_result"
    }
   ],
   "source": [
    "df.head(2)"
   ]
  },
  {
   "cell_type": "code",
   "execution_count": 12,
   "id": "7a7dec04",
   "metadata": {},
   "outputs": [
    {
     "data": {
      "text/html": [
       "<div>\n",
       "<style scoped>\n",
       "    .dataframe tbody tr th:only-of-type {\n",
       "        vertical-align: middle;\n",
       "    }\n",
       "\n",
       "    .dataframe tbody tr th {\n",
       "        vertical-align: top;\n",
       "    }\n",
       "\n",
       "    .dataframe thead th {\n",
       "        text-align: right;\n",
       "    }\n",
       "</style>\n",
       "<table border=\"1\" class=\"dataframe\">\n",
       "  <thead>\n",
       "    <tr style=\"text-align: right;\">\n",
       "      <th></th>\n",
       "      <th>country</th>\n",
       "      <th>child_mort</th>\n",
       "      <th>exports</th>\n",
       "      <th>health</th>\n",
       "      <th>imports</th>\n",
       "      <th>income</th>\n",
       "      <th>inflation</th>\n",
       "      <th>life_expec</th>\n",
       "      <th>total_fer</th>\n",
       "      <th>gdpp</th>\n",
       "    </tr>\n",
       "  </thead>\n",
       "  <tbody>\n",
       "    <tr>\n",
       "      <th>6</th>\n",
       "      <td>Armenia</td>\n",
       "      <td>18.1</td>\n",
       "      <td>20.8</td>\n",
       "      <td>4.40</td>\n",
       "      <td>45.3</td>\n",
       "      <td>6700</td>\n",
       "      <td>7.770</td>\n",
       "      <td>73.3</td>\n",
       "      <td>1.69</td>\n",
       "      <td>3220</td>\n",
       "    </tr>\n",
       "    <tr>\n",
       "      <th>7</th>\n",
       "      <td>Australia</td>\n",
       "      <td>4.8</td>\n",
       "      <td>19.8</td>\n",
       "      <td>8.73</td>\n",
       "      <td>20.9</td>\n",
       "      <td>41400</td>\n",
       "      <td>1.160</td>\n",
       "      <td>82.0</td>\n",
       "      <td>1.93</td>\n",
       "      <td>51900</td>\n",
       "    </tr>\n",
       "    <tr>\n",
       "      <th>8</th>\n",
       "      <td>Austria</td>\n",
       "      <td>4.3</td>\n",
       "      <td>51.3</td>\n",
       "      <td>11.00</td>\n",
       "      <td>47.8</td>\n",
       "      <td>43200</td>\n",
       "      <td>0.873</td>\n",
       "      <td>80.5</td>\n",
       "      <td>1.44</td>\n",
       "      <td>46900</td>\n",
       "    </tr>\n",
       "    <tr>\n",
       "      <th>9</th>\n",
       "      <td>Azerbaijan</td>\n",
       "      <td>39.2</td>\n",
       "      <td>54.3</td>\n",
       "      <td>5.88</td>\n",
       "      <td>20.7</td>\n",
       "      <td>16000</td>\n",
       "      <td>13.800</td>\n",
       "      <td>69.1</td>\n",
       "      <td>1.92</td>\n",
       "      <td>5840</td>\n",
       "    </tr>\n",
       "    <tr>\n",
       "      <th>10</th>\n",
       "      <td>Bahamas</td>\n",
       "      <td>13.8</td>\n",
       "      <td>35.0</td>\n",
       "      <td>7.89</td>\n",
       "      <td>43.7</td>\n",
       "      <td>22900</td>\n",
       "      <td>-0.393</td>\n",
       "      <td>73.8</td>\n",
       "      <td>1.86</td>\n",
       "      <td>28000</td>\n",
       "    </tr>\n",
       "    <tr>\n",
       "      <th>...</th>\n",
       "      <td>...</td>\n",
       "      <td>...</td>\n",
       "      <td>...</td>\n",
       "      <td>...</td>\n",
       "      <td>...</td>\n",
       "      <td>...</td>\n",
       "      <td>...</td>\n",
       "      <td>...</td>\n",
       "      <td>...</td>\n",
       "      <td>...</td>\n",
       "    </tr>\n",
       "    <tr>\n",
       "      <th>162</th>\n",
       "      <td>Vanuatu</td>\n",
       "      <td>29.2</td>\n",
       "      <td>46.6</td>\n",
       "      <td>5.25</td>\n",
       "      <td>52.7</td>\n",
       "      <td>2950</td>\n",
       "      <td>2.620</td>\n",
       "      <td>63.0</td>\n",
       "      <td>3.50</td>\n",
       "      <td>2970</td>\n",
       "    </tr>\n",
       "    <tr>\n",
       "      <th>163</th>\n",
       "      <td>Venezuela</td>\n",
       "      <td>17.1</td>\n",
       "      <td>28.5</td>\n",
       "      <td>4.91</td>\n",
       "      <td>17.6</td>\n",
       "      <td>16500</td>\n",
       "      <td>45.900</td>\n",
       "      <td>75.4</td>\n",
       "      <td>2.47</td>\n",
       "      <td>13500</td>\n",
       "    </tr>\n",
       "    <tr>\n",
       "      <th>164</th>\n",
       "      <td>Vietnam</td>\n",
       "      <td>23.3</td>\n",
       "      <td>72.0</td>\n",
       "      <td>6.84</td>\n",
       "      <td>80.2</td>\n",
       "      <td>4490</td>\n",
       "      <td>12.100</td>\n",
       "      <td>73.1</td>\n",
       "      <td>1.95</td>\n",
       "      <td>1310</td>\n",
       "    </tr>\n",
       "    <tr>\n",
       "      <th>165</th>\n",
       "      <td>Yemen</td>\n",
       "      <td>56.3</td>\n",
       "      <td>30.0</td>\n",
       "      <td>5.18</td>\n",
       "      <td>34.4</td>\n",
       "      <td>4480</td>\n",
       "      <td>23.600</td>\n",
       "      <td>67.5</td>\n",
       "      <td>4.67</td>\n",
       "      <td>1310</td>\n",
       "    </tr>\n",
       "    <tr>\n",
       "      <th>166</th>\n",
       "      <td>Zambia</td>\n",
       "      <td>83.1</td>\n",
       "      <td>37.0</td>\n",
       "      <td>5.89</td>\n",
       "      <td>30.9</td>\n",
       "      <td>3280</td>\n",
       "      <td>14.000</td>\n",
       "      <td>52.0</td>\n",
       "      <td>5.40</td>\n",
       "      <td>1460</td>\n",
       "    </tr>\n",
       "  </tbody>\n",
       "</table>\n",
       "<p>161 rows × 10 columns</p>\n",
       "</div>"
      ],
      "text/plain": [
       "        country  child_mort  exports  health  imports  income  inflation  \\\n",
       "6       Armenia        18.1     20.8    4.40     45.3    6700      7.770   \n",
       "7     Australia         4.8     19.8    8.73     20.9   41400      1.160   \n",
       "8       Austria         4.3     51.3   11.00     47.8   43200      0.873   \n",
       "9    Azerbaijan        39.2     54.3    5.88     20.7   16000     13.800   \n",
       "10      Bahamas        13.8     35.0    7.89     43.7   22900     -0.393   \n",
       "..          ...         ...      ...     ...      ...     ...        ...   \n",
       "162     Vanuatu        29.2     46.6    5.25     52.7    2950      2.620   \n",
       "163   Venezuela        17.1     28.5    4.91     17.6   16500     45.900   \n",
       "164     Vietnam        23.3     72.0    6.84     80.2    4490     12.100   \n",
       "165       Yemen        56.3     30.0    5.18     34.4    4480     23.600   \n",
       "166      Zambia        83.1     37.0    5.89     30.9    3280     14.000   \n",
       "\n",
       "     life_expec  total_fer   gdpp  \n",
       "6          73.3       1.69   3220  \n",
       "7          82.0       1.93  51900  \n",
       "8          80.5       1.44  46900  \n",
       "9          69.1       1.92   5840  \n",
       "10         73.8       1.86  28000  \n",
       "..          ...        ...    ...  \n",
       "162        63.0       3.50   2970  \n",
       "163        75.4       2.47  13500  \n",
       "164        73.1       1.95   1310  \n",
       "165        67.5       4.67   1310  \n",
       "166        52.0       5.40   1460  \n",
       "\n",
       "[161 rows x 10 columns]"
      ]
     },
     "execution_count": 12,
     "metadata": {},
     "output_type": "execute_result"
    }
   ],
   "source": [
    "\n",
    "df.iloc[6:,:]"
   ]
  },
  {
   "cell_type": "code",
   "execution_count": 85,
   "id": "d5138c2d-57bf-4092-9613-475747f5cd00",
   "metadata": {},
   "outputs": [
    {
     "data": {
      "text/plain": [
       "(167, 10)"
      ]
     },
     "execution_count": 85,
     "metadata": {},
     "output_type": "execute_result"
    }
   ],
   "source": [
    "#checking the dataset\n",
    "df.shape"
   ]
  },
  {
   "cell_type": "code",
   "execution_count": 86,
   "id": "cf34a53a-a002-4a6f-a9a7-87c25e3c9f8a",
   "metadata": {},
   "outputs": [
    {
     "name": "stdout",
     "output_type": "stream",
     "text": [
      "Dataframe does not contain null values\n"
     ]
    }
   ],
   "source": [
    "#checking if there are null values. \n",
    "\n",
    "if df.isnull().values.any():\n",
    "    print(\"Dataframe contains null values\")\n",
    "else:\n",
    "    print(\"Dataframe does not contain null values\")"
   ]
  },
  {
   "cell_type": "code",
   "execution_count": 87,
   "id": "fa44829b-b1e1-4d52-a2fd-9e2fc07e4bdf",
   "metadata": {},
   "outputs": [
    {
     "name": "stdout",
     "output_type": "stream",
     "text": [
      "Dataframe does not contain duplicates\n"
     ]
    }
   ],
   "source": [
    "# Check for duplicates in the entire dataframe\n",
    "if df.duplicated().any():\n",
    "    print(\"Dataframe contains duplicates\")\n",
    "else:\n",
    "    print(\"Dataframe does not contain duplicates\")"
   ]
  },
  {
   "cell_type": "code",
   "execution_count": 88,
   "id": "d7d0f6ab-23ef-449e-accd-78dab744a20d",
   "metadata": {},
   "outputs": [
    {
     "data": {
      "text/html": [
       "<div>\n",
       "<style scoped>\n",
       "    .dataframe tbody tr th:only-of-type {\n",
       "        vertical-align: middle;\n",
       "    }\n",
       "\n",
       "    .dataframe tbody tr th {\n",
       "        vertical-align: top;\n",
       "    }\n",
       "\n",
       "    .dataframe thead th {\n",
       "        text-align: right;\n",
       "    }\n",
       "</style>\n",
       "<table border=\"1\" class=\"dataframe\">\n",
       "  <thead>\n",
       "    <tr style=\"text-align: right;\">\n",
       "      <th></th>\n",
       "      <th>child_mort</th>\n",
       "      <th>exports</th>\n",
       "      <th>health</th>\n",
       "      <th>imports</th>\n",
       "      <th>income</th>\n",
       "      <th>inflation</th>\n",
       "      <th>life_expec</th>\n",
       "      <th>total_fer</th>\n",
       "      <th>gdpp</th>\n",
       "    </tr>\n",
       "  </thead>\n",
       "  <tbody>\n",
       "    <tr>\n",
       "      <th>child_mort</th>\n",
       "      <td>1.000000</td>\n",
       "      <td>-0.318093</td>\n",
       "      <td>-0.200402</td>\n",
       "      <td>-0.127211</td>\n",
       "      <td>-0.524315</td>\n",
       "      <td>0.288276</td>\n",
       "      <td>-0.886676</td>\n",
       "      <td>0.848478</td>\n",
       "      <td>-0.483032</td>\n",
       "    </tr>\n",
       "    <tr>\n",
       "      <th>exports</th>\n",
       "      <td>-0.318093</td>\n",
       "      <td>1.000000</td>\n",
       "      <td>-0.114408</td>\n",
       "      <td>0.737381</td>\n",
       "      <td>0.516784</td>\n",
       "      <td>-0.107294</td>\n",
       "      <td>0.316313</td>\n",
       "      <td>-0.320011</td>\n",
       "      <td>0.418725</td>\n",
       "    </tr>\n",
       "    <tr>\n",
       "      <th>health</th>\n",
       "      <td>-0.200402</td>\n",
       "      <td>-0.114408</td>\n",
       "      <td>1.000000</td>\n",
       "      <td>0.095717</td>\n",
       "      <td>0.129579</td>\n",
       "      <td>-0.255376</td>\n",
       "      <td>0.210692</td>\n",
       "      <td>-0.196674</td>\n",
       "      <td>0.345966</td>\n",
       "    </tr>\n",
       "    <tr>\n",
       "      <th>imports</th>\n",
       "      <td>-0.127211</td>\n",
       "      <td>0.737381</td>\n",
       "      <td>0.095717</td>\n",
       "      <td>1.000000</td>\n",
       "      <td>0.122406</td>\n",
       "      <td>-0.246994</td>\n",
       "      <td>0.054391</td>\n",
       "      <td>-0.159048</td>\n",
       "      <td>0.115498</td>\n",
       "    </tr>\n",
       "    <tr>\n",
       "      <th>income</th>\n",
       "      <td>-0.524315</td>\n",
       "      <td>0.516784</td>\n",
       "      <td>0.129579</td>\n",
       "      <td>0.122406</td>\n",
       "      <td>1.000000</td>\n",
       "      <td>-0.147756</td>\n",
       "      <td>0.611962</td>\n",
       "      <td>-0.501840</td>\n",
       "      <td>0.895571</td>\n",
       "    </tr>\n",
       "    <tr>\n",
       "      <th>inflation</th>\n",
       "      <td>0.288276</td>\n",
       "      <td>-0.107294</td>\n",
       "      <td>-0.255376</td>\n",
       "      <td>-0.246994</td>\n",
       "      <td>-0.147756</td>\n",
       "      <td>1.000000</td>\n",
       "      <td>-0.239705</td>\n",
       "      <td>0.316921</td>\n",
       "      <td>-0.221631</td>\n",
       "    </tr>\n",
       "    <tr>\n",
       "      <th>life_expec</th>\n",
       "      <td>-0.886676</td>\n",
       "      <td>0.316313</td>\n",
       "      <td>0.210692</td>\n",
       "      <td>0.054391</td>\n",
       "      <td>0.611962</td>\n",
       "      <td>-0.239705</td>\n",
       "      <td>1.000000</td>\n",
       "      <td>-0.760875</td>\n",
       "      <td>0.600089</td>\n",
       "    </tr>\n",
       "    <tr>\n",
       "      <th>total_fer</th>\n",
       "      <td>0.848478</td>\n",
       "      <td>-0.320011</td>\n",
       "      <td>-0.196674</td>\n",
       "      <td>-0.159048</td>\n",
       "      <td>-0.501840</td>\n",
       "      <td>0.316921</td>\n",
       "      <td>-0.760875</td>\n",
       "      <td>1.000000</td>\n",
       "      <td>-0.454910</td>\n",
       "    </tr>\n",
       "    <tr>\n",
       "      <th>gdpp</th>\n",
       "      <td>-0.483032</td>\n",
       "      <td>0.418725</td>\n",
       "      <td>0.345966</td>\n",
       "      <td>0.115498</td>\n",
       "      <td>0.895571</td>\n",
       "      <td>-0.221631</td>\n",
       "      <td>0.600089</td>\n",
       "      <td>-0.454910</td>\n",
       "      <td>1.000000</td>\n",
       "    </tr>\n",
       "  </tbody>\n",
       "</table>\n",
       "</div>"
      ],
      "text/plain": [
       "            child_mort   exports    health   imports    income  inflation  \\\n",
       "child_mort    1.000000 -0.318093 -0.200402 -0.127211 -0.524315   0.288276   \n",
       "exports      -0.318093  1.000000 -0.114408  0.737381  0.516784  -0.107294   \n",
       "health       -0.200402 -0.114408  1.000000  0.095717  0.129579  -0.255376   \n",
       "imports      -0.127211  0.737381  0.095717  1.000000  0.122406  -0.246994   \n",
       "income       -0.524315  0.516784  0.129579  0.122406  1.000000  -0.147756   \n",
       "inflation     0.288276 -0.107294 -0.255376 -0.246994 -0.147756   1.000000   \n",
       "life_expec   -0.886676  0.316313  0.210692  0.054391  0.611962  -0.239705   \n",
       "total_fer     0.848478 -0.320011 -0.196674 -0.159048 -0.501840   0.316921   \n",
       "gdpp         -0.483032  0.418725  0.345966  0.115498  0.895571  -0.221631   \n",
       "\n",
       "            life_expec  total_fer      gdpp  \n",
       "child_mort   -0.886676   0.848478 -0.483032  \n",
       "exports       0.316313  -0.320011  0.418725  \n",
       "health        0.210692  -0.196674  0.345966  \n",
       "imports       0.054391  -0.159048  0.115498  \n",
       "income        0.611962  -0.501840  0.895571  \n",
       "inflation    -0.239705   0.316921 -0.221631  \n",
       "life_expec    1.000000  -0.760875  0.600089  \n",
       "total_fer    -0.760875   1.000000 -0.454910  \n",
       "gdpp          0.600089  -0.454910  1.000000  "
      ]
     },
     "execution_count": 88,
     "metadata": {},
     "output_type": "execute_result"
    }
   ],
   "source": [
    "#checking the correlation for feature selection\n",
    "df.corr()"
   ]
  },
  {
   "cell_type": "code",
   "execution_count": 89,
   "id": "9eeb2dcb-df04-44aa-8347-fecb9b072802",
   "metadata": {},
   "outputs": [
    {
     "data": {
      "image/png": "[encoded data removed]",
      "text/plain": [
       "<Figure size 640x480 with 2 Axes>"
      ]
     },
     "metadata": {},
     "output_type": "display_data"
    }
   ],
   "source": [
    "corr_matrix = df.corr()\n",
    "# Plot the correlation matrix as a heatmap\n",
    "sns.heatmap(corr_matrix, cmap=\"YlGnBu\")\n",
    "plt.show()"
   ]
  },
  {
   "cell_type": "code",
   "execution_count": 90,
   "id": "b63dfc5b-e90f-4136-a558-4006b5924c4d",
   "metadata": {},
   "outputs": [],
   "source": [
    "CX = df[[\"income\", \"child_mort\"]]"
   ]
  },
  {
   "cell_type": "code",
   "execution_count": 91,
   "id": "9c4e192f-fa66-4d7c-973b-ad5cbd3f189a",
   "metadata": {},
   "outputs": [
    {
     "data": {
      "text/plain": [
       "<AxesSubplot:>"
      ]
     },
     "execution_count": 91,
     "metadata": {},
     "output_type": "execute_result"
    },
    {
     "data": {
      "image/png": "[encoded data removed]",
      "text/plain": [
       "<Figure size 640x480 with 1 Axes>"
      ]
     },
     "metadata": {},
     "output_type": "display_data"
    }
   ],
   "source": [
    "sns.boxplot(data=CX)"
   ]
  },
  {
   "cell_type": "code",
   "execution_count": 92,
   "id": "d1e9832b",
   "metadata": {
    "scrolled": true
   },
   "outputs": [
    {
     "data": {
      "text/plain": [
       "Text(0, 0.5, 'child_mort')"
      ]
     },
     "execution_count": 92,
     "metadata": {},
     "output_type": "execute_result"
    },
    {
     "data": {
      "image/png": "[encoded data removed]",
      "text/plain": [
       "<Figure size 1000x600 with 1 Axes>"
      ]
     },
     "metadata": {},
     "output_type": "display_data"
    }
   ],
   "source": [
    "plt.figure(figsize=(10,6))\n",
    "plt.scatter(df['child_mort'],df['income'])\n",
    "plt.xlabel('income')\n",
    "plt.ylabel('child_mort')"
   ]
  },
  {
   "cell_type": "code",
   "execution_count": 93,
   "id": "6546cd5c-0beb-4d92-8ff4-0395c6a374c6",
   "metadata": {},
   "outputs": [],
   "source": [
    "Q1 = CX.quantile(0.25)\n",
    "Q3 = CX.quantile(0.75)\n",
    "IQR = Q3 - Q1"
   ]
  },
  {
   "cell_type": "code",
   "execution_count": 94,
   "id": "faf1d939-ae2d-4733-a567-d3911f67c451",
   "metadata": {},
   "outputs": [
    {
     "data": {
      "text/plain": [
       "income        19445.00\n",
       "child_mort       53.85\n",
       "dtype: float64"
      ]
     },
     "execution_count": 94,
     "metadata": {},
     "output_type": "execute_result"
    }
   ],
   "source": [
    "IQR"
   ]
  },
  {
   "cell_type": "code",
   "execution_count": 95,
   "id": "18e0c2a4-9fe6-4d6d-911e-4de19ab6986b",
   "metadata": {},
   "outputs": [],
   "source": [
    "lower_bound = Q1 - 1.5 * IQR\n",
    "upper_bound = Q3 + 1.5 * IQR"
   ]
  },
  {
   "cell_type": "code",
   "execution_count": 96,
   "id": "ef4a802e-2c82-4ac7-b614-69b100dcd250",
   "metadata": {},
   "outputs": [],
   "source": [
    "outliers = ((CX < lower_bound) | (CX > upper_bound)).any(axis=1)"
   ]
  },
  {
   "cell_type": "code",
   "execution_count": 97,
   "id": "5241f29c-fc1f-4bc4-b3ac-37aa4a18a7fa",
   "metadata": {},
   "outputs": [
    {
     "name": "stdout",
     "output_type": "stream",
     "text": [
      "Number of outliers: 12\n"
     ]
    }
   ],
   "source": [
    "print(\"Number of outliers:\", outliers.sum())"
   ]
  },
  {
   "cell_type": "code",
   "execution_count": 98,
   "id": "3e89d8b8-f5cc-4f8f-aab5-16dc4484c10f",
   "metadata": {},
   "outputs": [
    {
     "name": "stdout",
     "output_type": "stream",
     "text": [
      "Indices of outliers: Int64Index([23, 31, 32, 66, 82, 91, 114, 123, 132, 133, 145, 157], dtype='int64')\n"
     ]
    }
   ],
   "source": [
    "print(\"Indices of outliers:\", CX[outliers].index)"
   ]
  },
  {
   "cell_type": "code",
   "execution_count": 99,
   "id": "b357ec15-b36f-4d2a-a92b-d93bc930ef97",
   "metadata": {},
   "outputs": [],
   "source": [
    "# Remove the outliers from the dataset\n",
    "X = CX[~outliers]"
   ]
  },
  {
   "cell_type": "code",
   "execution_count": 100,
   "id": "a1882219-cb30-4e96-ae27-c4f47576256a",
   "metadata": {},
   "outputs": [
    {
     "data": {
      "text/plain": [
       "(155, 2)"
      ]
     },
     "execution_count": 100,
     "metadata": {},
     "output_type": "execute_result"
    }
   ],
   "source": [
    "X.shape"
   ]
  },
  {
   "cell_type": "code",
   "execution_count": 101,
   "id": "6f665c5d",
   "metadata": {},
   "outputs": [
    {
     "name": "stderr",
     "output_type": "stream",
     "text": [
      "C:\\Users\\Romelio Villar Jr\\anaconda3\\lib\\site-packages\\sklearn\\cluster\\_kmeans.py:870: FutureWarning: The default value of `n_init` will change from 10 to 'auto' in 1.4. Set the value of `n_init` explicitly to suppress the warning\n",
      "  warnings.warn(\n",
      "C:\\Users\\Romelio Villar Jr\\anaconda3\\lib\\site-packages\\sklearn\\cluster\\_kmeans.py:1382: UserWarning: KMeans is known to have a memory leak on Windows with MKL, when there are less chunks than available threads. You can avoid it by setting the environment variable OMP_NUM_THREADS=1.\n",
      "  warnings.warn(\n",
      "C:\\Users\\Romelio Villar Jr\\anaconda3\\lib\\site-packages\\sklearn\\cluster\\_kmeans.py:870: FutureWarning: The default value of `n_init` will change from 10 to 'auto' in 1.4. Set the value of `n_init` explicitly to suppress the warning\n",
      "  warnings.warn(\n",
      "C:\\Users\\Romelio Villar Jr\\anaconda3\\lib\\site-packages\\sklearn\\cluster\\_kmeans.py:1382: UserWarning: KMeans is known to have a memory leak on Windows with MKL, when there are less chunks than available threads. You can avoid it by setting the environment variable OMP_NUM_THREADS=1.\n",
      "  warnings.warn(\n",
      "C:\\Users\\Romelio Villar Jr\\anaconda3\\lib\\site-packages\\sklearn\\cluster\\_kmeans.py:870: FutureWarning: The default value of `n_init` will change from 10 to 'auto' in 1.4. Set the value of `n_init` explicitly to suppress the warning\n",
      "  warnings.warn(\n",
      "C:\\Users\\Romelio Villar Jr\\anaconda3\\lib\\site-packages\\sklearn\\cluster\\_kmeans.py:1382: UserWarning: KMeans is known to have a memory leak on Windows with MKL, when there are less chunks than available threads. You can avoid it by setting the environment variable OMP_NUM_THREADS=1.\n",
      "  warnings.warn(\n",
      "C:\\Users\\Romelio Villar Jr\\anaconda3\\lib\\site-packages\\sklearn\\cluster\\_kmeans.py:870: FutureWarning: The default value of `n_init` will change from 10 to 'auto' in 1.4. Set the value of `n_init` explicitly to suppress the warning\n",
      "  warnings.warn(\n",
      "C:\\Users\\Romelio Villar Jr\\anaconda3\\lib\\site-packages\\sklearn\\cluster\\_kmeans.py:1382: UserWarning: KMeans is known to have a memory leak on Windows with MKL, when there are less chunks than available threads. You can avoid it by setting the environment variable OMP_NUM_THREADS=1.\n",
      "  warnings.warn(\n",
      "C:\\Users\\Romelio Villar Jr\\anaconda3\\lib\\site-packages\\sklearn\\cluster\\_kmeans.py:870: FutureWarning: The default value of `n_init` will change from 10 to 'auto' in 1.4. Set the value of `n_init` explicitly to suppress the warning\n",
      "  warnings.warn(\n",
      "C:\\Users\\Romelio Villar Jr\\anaconda3\\lib\\site-packages\\sklearn\\cluster\\_kmeans.py:1382: UserWarning: KMeans is known to have a memory leak on Windows with MKL, when there are less chunks than available threads. You can avoid it by setting the environment variable OMP_NUM_THREADS=1.\n",
      "  warnings.warn(\n",
      "C:\\Users\\Romelio Villar Jr\\anaconda3\\lib\\site-packages\\sklearn\\cluster\\_kmeans.py:870: FutureWarning: The default value of `n_init` will change from 10 to 'auto' in 1.4. Set the value of `n_init` explicitly to suppress the warning\n",
      "  warnings.warn(\n",
      "C:\\Users\\Romelio Villar Jr\\anaconda3\\lib\\site-packages\\sklearn\\cluster\\_kmeans.py:1382: UserWarning: KMeans is known to have a memory leak on Windows with MKL, when there are less chunks than available threads. You can avoid it by setting the environment variable OMP_NUM_THREADS=1.\n",
      "  warnings.warn(\n",
      "C:\\Users\\Romelio Villar Jr\\anaconda3\\lib\\site-packages\\sklearn\\cluster\\_kmeans.py:870: FutureWarning: The default value of `n_init` will change from 10 to 'auto' in 1.4. Set the value of `n_init` explicitly to suppress the warning\n",
      "  warnings.warn(\n",
      "C:\\Users\\Romelio Villar Jr\\anaconda3\\lib\\site-packages\\sklearn\\cluster\\_kmeans.py:1382: UserWarning: KMeans is known to have a memory leak on Windows with MKL, when there are less chunks than available threads. You can avoid it by setting the environment variable OMP_NUM_THREADS=1.\n",
      "  warnings.warn(\n",
      "C:\\Users\\Romelio Villar Jr\\anaconda3\\lib\\site-packages\\sklearn\\cluster\\_kmeans.py:870: FutureWarning: The default value of `n_init` will change from 10 to 'auto' in 1.4. Set the value of `n_init` explicitly to suppress the warning\n",
      "  warnings.warn(\n",
      "C:\\Users\\Romelio Villar Jr\\anaconda3\\lib\\site-packages\\sklearn\\cluster\\_kmeans.py:1382: UserWarning: KMeans is known to have a memory leak on Windows with MKL, when there are less chunks than available threads. You can avoid it by setting the environment variable OMP_NUM_THREADS=1.\n",
      "  warnings.warn(\n",
      "C:\\Users\\Romelio Villar Jr\\anaconda3\\lib\\site-packages\\sklearn\\cluster\\_kmeans.py:870: FutureWarning: The default value of `n_init` will change from 10 to 'auto' in 1.4. Set the value of `n_init` explicitly to suppress the warning\n",
      "  warnings.warn(\n",
      "C:\\Users\\Romelio Villar Jr\\anaconda3\\lib\\site-packages\\sklearn\\cluster\\_kmeans.py:1382: UserWarning: KMeans is known to have a memory leak on Windows with MKL, when there are less chunks than available threads. You can avoid it by setting the environment variable OMP_NUM_THREADS=1.\n",
      "  warnings.warn(\n",
      "C:\\Users\\Romelio Villar Jr\\anaconda3\\lib\\site-packages\\sklearn\\cluster\\_kmeans.py:870: FutureWarning: The default value of `n_init` will change from 10 to 'auto' in 1.4. Set the value of `n_init` explicitly to suppress the warning\n",
      "  warnings.warn(\n",
      "C:\\Users\\Romelio Villar Jr\\anaconda3\\lib\\site-packages\\sklearn\\cluster\\_kmeans.py:1382: UserWarning: KMeans is known to have a memory leak on Windows with MKL, when there are less chunks than available threads. You can avoid it by setting the environment variable OMP_NUM_THREADS=1.\n",
      "  warnings.warn(\n"
     ]
    }
   ],
   "source": [
    "inertias = []\n",
    "for k in range(1, 11):\n",
    "    kmeans = KMeans(n_clusters=k, init='k-means++', random_state = 42)\n",
    "    kmeans.fit(X)\n",
    "    inertias.append(kmeans.inertia_) # inertia_ = Sum of squared distances of samples to their closest cluster center.\n"
   ]
  },
  {
   "cell_type": "code",
   "execution_count": 102,
   "id": "25ec3721",
   "metadata": {},
   "outputs": [
    {
     "name": "stderr",
     "output_type": "stream",
     "text": [
      "C:\\Users\\Romelio Villar Jr\\anaconda3\\lib\\site-packages\\sklearn\\cluster\\_kmeans.py:870: FutureWarning: The default value of `n_init` will change from 10 to 'auto' in 1.4. Set the value of `n_init` explicitly to suppress the warning\n",
      "  warnings.warn(\n",
      "C:\\Users\\Romelio Villar Jr\\anaconda3\\lib\\site-packages\\sklearn\\cluster\\_kmeans.py:1382: UserWarning: KMeans is known to have a memory leak on Windows with MKL, when there are less chunks than available threads. You can avoid it by setting the environment variable OMP_NUM_THREADS=1.\n",
      "  warnings.warn(\n",
      "C:\\Users\\Romelio Villar Jr\\anaconda3\\lib\\site-packages\\sklearn\\cluster\\_kmeans.py:870: FutureWarning: The default value of `n_init` will change from 10 to 'auto' in 1.4. Set the value of `n_init` explicitly to suppress the warning\n",
      "  warnings.warn(\n",
      "C:\\Users\\Romelio Villar Jr\\anaconda3\\lib\\site-packages\\sklearn\\cluster\\_kmeans.py:1382: UserWarning: KMeans is known to have a memory leak on Windows with MKL, when there are less chunks than available threads. You can avoid it by setting the environment variable OMP_NUM_THREADS=1.\n",
      "  warnings.warn(\n",
      "C:\\Users\\Romelio Villar Jr\\anaconda3\\lib\\site-packages\\sklearn\\cluster\\_kmeans.py:870: FutureWarning: The default value of `n_init` will change from 10 to 'auto' in 1.4. Set the value of `n_init` explicitly to suppress the warning\n",
      "  warnings.warn(\n",
      "C:\\Users\\Romelio Villar Jr\\anaconda3\\lib\\site-packages\\sklearn\\cluster\\_kmeans.py:1382: UserWarning: KMeans is known to have a memory leak on Windows with MKL, when there are less chunks than available threads. You can avoid it by setting the environment variable OMP_NUM_THREADS=1.\n",
      "  warnings.warn(\n",
      "C:\\Users\\Romelio Villar Jr\\anaconda3\\lib\\site-packages\\sklearn\\cluster\\_kmeans.py:870: FutureWarning: The default value of `n_init` will change from 10 to 'auto' in 1.4. Set the value of `n_init` explicitly to suppress the warning\n",
      "  warnings.warn(\n",
      "C:\\Users\\Romelio Villar Jr\\anaconda3\\lib\\site-packages\\sklearn\\cluster\\_kmeans.py:1382: UserWarning: KMeans is known to have a memory leak on Windows with MKL, when there are less chunks than available threads. You can avoid it by setting the environment variable OMP_NUM_THREADS=1.\n",
      "  warnings.warn(\n",
      "C:\\Users\\Romelio Villar Jr\\anaconda3\\lib\\site-packages\\sklearn\\cluster\\_kmeans.py:870: FutureWarning: The default value of `n_init` will change from 10 to 'auto' in 1.4. Set the value of `n_init` explicitly to suppress the warning\n",
      "  warnings.warn(\n",
      "C:\\Users\\Romelio Villar Jr\\anaconda3\\lib\\site-packages\\sklearn\\cluster\\_kmeans.py:1382: UserWarning: KMeans is known to have a memory leak on Windows with MKL, when there are less chunks than available threads. You can avoid it by setting the environment variable OMP_NUM_THREADS=1.\n",
      "  warnings.warn(\n",
      "C:\\Users\\Romelio Villar Jr\\anaconda3\\lib\\site-packages\\sklearn\\cluster\\_kmeans.py:870: FutureWarning: The default value of `n_init` will change from 10 to 'auto' in 1.4. Set the value of `n_init` explicitly to suppress the warning\n",
      "  warnings.warn(\n",
      "C:\\Users\\Romelio Villar Jr\\anaconda3\\lib\\site-packages\\sklearn\\cluster\\_kmeans.py:1382: UserWarning: KMeans is known to have a memory leak on Windows with MKL, when there are less chunks than available threads. You can avoid it by setting the environment variable OMP_NUM_THREADS=1.\n",
      "  warnings.warn(\n",
      "C:\\Users\\Romelio Villar Jr\\anaconda3\\lib\\site-packages\\sklearn\\cluster\\_kmeans.py:870: FutureWarning: The default value of `n_init` will change from 10 to 'auto' in 1.4. Set the value of `n_init` explicitly to suppress the warning\n",
      "  warnings.warn(\n",
      "C:\\Users\\Romelio Villar Jr\\anaconda3\\lib\\site-packages\\sklearn\\cluster\\_kmeans.py:1382: UserWarning: KMeans is known to have a memory leak on Windows with MKL, when there are less chunks than available threads. You can avoid it by setting the environment variable OMP_NUM_THREADS=1.\n",
      "  warnings.warn(\n",
      "C:\\Users\\Romelio Villar Jr\\anaconda3\\lib\\site-packages\\sklearn\\cluster\\_kmeans.py:870: FutureWarning: The default value of `n_init` will change from 10 to 'auto' in 1.4. Set the value of `n_init` explicitly to suppress the warning\n",
      "  warnings.warn(\n",
      "C:\\Users\\Romelio Villar Jr\\anaconda3\\lib\\site-packages\\sklearn\\cluster\\_kmeans.py:1382: UserWarning: KMeans is known to have a memory leak on Windows with MKL, when there are less chunks than available threads. You can avoid it by setting the environment variable OMP_NUM_THREADS=1.\n",
      "  warnings.warn(\n",
      "C:\\Users\\Romelio Villar Jr\\anaconda3\\lib\\site-packages\\sklearn\\cluster\\_kmeans.py:870: FutureWarning: The default value of `n_init` will change from 10 to 'auto' in 1.4. Set the value of `n_init` explicitly to suppress the warning\n",
      "  warnings.warn(\n",
      "C:\\Users\\Romelio Villar Jr\\anaconda3\\lib\\site-packages\\sklearn\\cluster\\_kmeans.py:1382: UserWarning: KMeans is known to have a memory leak on Windows with MKL, when there are less chunks than available threads. You can avoid it by setting the environment variable OMP_NUM_THREADS=1.\n",
      "  warnings.warn(\n"
     ]
    }
   ],
   "source": [
    "sum_of_sqr_dist = {}\n",
    "\n",
    "for k in range(1, 10):\n",
    "    km = KMeans(n_clusters=k, init='k-means++', max_iter=1000)\n",
    "    km = km.fit(X)\n",
    "    sum_of_sqr_dist[k] = km.inertia_"
   ]
  },
  {
   "cell_type": "code",
   "execution_count": 103,
   "id": "87e86f7b-be24-42d3-a9a7-9770f3d458b1",
   "metadata": {},
   "outputs": [],
   "source": [
    "from sklearn.cluster import KMeans\n",
    "from sklearn.preprocessing import StandardScaler\n",
    "import numpy as np"
   ]
  },
  {
   "cell_type": "code",
   "execution_count": 104,
   "id": "cc08f35a-18ed-43ec-a404-26e9acd7dcbc",
   "metadata": {},
   "outputs": [],
   "source": [
    "#standardized the data \n",
    "scaler = StandardScaler()\n",
    "data_std = scaler.fit_transform(X)\n",
    "data_std = pd.DataFrame(data_std, columns=CX.columns)"
   ]
  },
  {
   "cell_type": "code",
   "execution_count": 105,
   "id": "54b46f4b-a572-44cd-9ef5-327093b77e6b",
   "metadata": {},
   "outputs": [
    {
     "data": {
      "text/html": [
       "<div>\n",
       "<style scoped>\n",
       "    .dataframe tbody tr th:only-of-type {\n",
       "        vertical-align: middle;\n",
       "    }\n",
       "\n",
       "    .dataframe tbody tr th {\n",
       "        vertical-align: top;\n",
       "    }\n",
       "\n",
       "    .dataframe thead th {\n",
       "        text-align: right;\n",
       "    }\n",
       "</style>\n",
       "<table border=\"1\" class=\"dataframe\">\n",
       "  <thead>\n",
       "    <tr style=\"text-align: right;\">\n",
       "      <th></th>\n",
       "      <th>income</th>\n",
       "      <th>child_mort</th>\n",
       "    </tr>\n",
       "  </thead>\n",
       "  <tbody>\n",
       "    <tr>\n",
       "      <th>0</th>\n",
       "      <td>-0.975316</td>\n",
       "      <td>1.519064</td>\n",
       "    </tr>\n",
       "    <tr>\n",
       "      <th>1</th>\n",
       "      <td>-0.342660</td>\n",
       "      <td>-0.566539</td>\n",
       "    </tr>\n",
       "    <tr>\n",
       "      <th>2</th>\n",
       "      <td>-0.116820</td>\n",
       "      <td>-0.263333</td>\n",
       "    </tr>\n",
       "    <tr>\n",
       "      <th>3</th>\n",
       "      <td>-0.649103</td>\n",
       "      <td>2.335170</td>\n",
       "    </tr>\n",
       "    <tr>\n",
       "      <th>4</th>\n",
       "      <td>0.354630</td>\n",
       "      <td>-0.745062</td>\n",
       "    </tr>\n",
       "  </tbody>\n",
       "</table>\n",
       "</div>"
      ],
      "text/plain": [
       "     income  child_mort\n",
       "0 -0.975316    1.519064\n",
       "1 -0.342660   -0.566539\n",
       "2 -0.116820   -0.263333\n",
       "3 -0.649103    2.335170\n",
       "4  0.354630   -0.745062"
      ]
     },
     "execution_count": 105,
     "metadata": {},
     "output_type": "execute_result"
    }
   ],
   "source": [
    "data_std.head()"
   ]
  },
  {
   "cell_type": "code",
   "execution_count": 106,
   "id": "8d1ed4ef-616d-4989-aee9-6c25dbf629cc",
   "metadata": {},
   "outputs": [],
   "source": [
    "def optimise_k_means(data_std, max_k):\n",
    "   \n",
    "    inertias = {}\n",
    "\n",
    "    for k in range(1, max_k):\n",
    "        kmeans = KMeans(n_clusters=k)\n",
    "        kmeans.fit(data_std)\n",
    " \n",
    "        \n",
    "        inertias.append(kmeans.inertia_)\n"
   ]
  },
  {
   "cell_type": "code",
   "execution_count": 107,
   "id": "20a7e964",
   "metadata": {},
   "outputs": [
    {
     "name": "stderr",
     "output_type": "stream",
     "text": [
      "C:\\Users\\Romelio Villar Jr\\anaconda3\\lib\\site-packages\\sklearn\\cluster\\_kmeans.py:870: FutureWarning: The default value of `n_init` will change from 10 to 'auto' in 1.4. Set the value of `n_init` explicitly to suppress the warning\n",
      "  warnings.warn(\n",
      "C:\\Users\\Romelio Villar Jr\\anaconda3\\lib\\site-packages\\sklearn\\cluster\\_kmeans.py:1382: UserWarning: KMeans is known to have a memory leak on Windows with MKL, when there are less chunks than available threads. You can avoid it by setting the environment variable OMP_NUM_THREADS=1.\n",
      "  warnings.warn(\n",
      "C:\\Users\\Romelio Villar Jr\\anaconda3\\lib\\site-packages\\sklearn\\cluster\\_kmeans.py:870: FutureWarning: The default value of `n_init` will change from 10 to 'auto' in 1.4. Set the value of `n_init` explicitly to suppress the warning\n",
      "  warnings.warn(\n",
      "C:\\Users\\Romelio Villar Jr\\anaconda3\\lib\\site-packages\\sklearn\\cluster\\_kmeans.py:1382: UserWarning: KMeans is known to have a memory leak on Windows with MKL, when there are less chunks than available threads. You can avoid it by setting the environment variable OMP_NUM_THREADS=1.\n",
      "  warnings.warn(\n",
      "C:\\Users\\Romelio Villar Jr\\anaconda3\\lib\\site-packages\\sklearn\\cluster\\_kmeans.py:870: FutureWarning: The default value of `n_init` will change from 10 to 'auto' in 1.4. Set the value of `n_init` explicitly to suppress the warning\n",
      "  warnings.warn(\n",
      "C:\\Users\\Romelio Villar Jr\\anaconda3\\lib\\site-packages\\sklearn\\cluster\\_kmeans.py:1382: UserWarning: KMeans is known to have a memory leak on Windows with MKL, when there are less chunks than available threads. You can avoid it by setting the environment variable OMP_NUM_THREADS=1.\n",
      "  warnings.warn(\n",
      "C:\\Users\\Romelio Villar Jr\\anaconda3\\lib\\site-packages\\sklearn\\cluster\\_kmeans.py:870: FutureWarning: The default value of `n_init` will change from 10 to 'auto' in 1.4. Set the value of `n_init` explicitly to suppress the warning\n",
      "  warnings.warn(\n",
      "C:\\Users\\Romelio Villar Jr\\anaconda3\\lib\\site-packages\\sklearn\\cluster\\_kmeans.py:1382: UserWarning: KMeans is known to have a memory leak on Windows with MKL, when there are less chunks than available threads. You can avoid it by setting the environment variable OMP_NUM_THREADS=1.\n",
      "  warnings.warn(\n",
      "C:\\Users\\Romelio Villar Jr\\anaconda3\\lib\\site-packages\\sklearn\\cluster\\_kmeans.py:870: FutureWarning: The default value of `n_init` will change from 10 to 'auto' in 1.4. Set the value of `n_init` explicitly to suppress the warning\n",
      "  warnings.warn(\n",
      "C:\\Users\\Romelio Villar Jr\\anaconda3\\lib\\site-packages\\sklearn\\cluster\\_kmeans.py:1382: UserWarning: KMeans is known to have a memory leak on Windows with MKL, when there are less chunks than available threads. You can avoid it by setting the environment variable OMP_NUM_THREADS=1.\n",
      "  warnings.warn(\n",
      "C:\\Users\\Romelio Villar Jr\\anaconda3\\lib\\site-packages\\sklearn\\cluster\\_kmeans.py:870: FutureWarning: The default value of `n_init` will change from 10 to 'auto' in 1.4. Set the value of `n_init` explicitly to suppress the warning\n",
      "  warnings.warn(\n",
      "C:\\Users\\Romelio Villar Jr\\anaconda3\\lib\\site-packages\\sklearn\\cluster\\_kmeans.py:1382: UserWarning: KMeans is known to have a memory leak on Windows with MKL, when there are less chunks than available threads. You can avoid it by setting the environment variable OMP_NUM_THREADS=1.\n",
      "  warnings.warn(\n",
      "C:\\Users\\Romelio Villar Jr\\anaconda3\\lib\\site-packages\\sklearn\\cluster\\_kmeans.py:870: FutureWarning: The default value of `n_init` will change from 10 to 'auto' in 1.4. Set the value of `n_init` explicitly to suppress the warning\n",
      "  warnings.warn(\n",
      "C:\\Users\\Romelio Villar Jr\\anaconda3\\lib\\site-packages\\sklearn\\cluster\\_kmeans.py:1382: UserWarning: KMeans is known to have a memory leak on Windows with MKL, when there are less chunks than available threads. You can avoid it by setting the environment variable OMP_NUM_THREADS=1.\n",
      "  warnings.warn(\n",
      "C:\\Users\\Romelio Villar Jr\\anaconda3\\lib\\site-packages\\sklearn\\cluster\\_kmeans.py:870: FutureWarning: The default value of `n_init` will change from 10 to 'auto' in 1.4. Set the value of `n_init` explicitly to suppress the warning\n",
      "  warnings.warn(\n",
      "C:\\Users\\Romelio Villar Jr\\anaconda3\\lib\\site-packages\\sklearn\\cluster\\_kmeans.py:1382: UserWarning: KMeans is known to have a memory leak on Windows with MKL, when there are less chunks than available threads. You can avoid it by setting the environment variable OMP_NUM_THREADS=1.\n",
      "  warnings.warn(\n",
      "C:\\Users\\Romelio Villar Jr\\anaconda3\\lib\\site-packages\\sklearn\\cluster\\_kmeans.py:870: FutureWarning: The default value of `n_init` will change from 10 to 'auto' in 1.4. Set the value of `n_init` explicitly to suppress the warning\n",
      "  warnings.warn(\n",
      "C:\\Users\\Romelio Villar Jr\\anaconda3\\lib\\site-packages\\sklearn\\cluster\\_kmeans.py:1382: UserWarning: KMeans is known to have a memory leak on Windows with MKL, when there are less chunks than available threads. You can avoid it by setting the environment variable OMP_NUM_THREADS=1.\n",
      "  warnings.warn(\n",
      "C:\\Users\\Romelio Villar Jr\\anaconda3\\lib\\site-packages\\sklearn\\cluster\\_kmeans.py:870: FutureWarning: The default value of `n_init` will change from 10 to 'auto' in 1.4. Set the value of `n_init` explicitly to suppress the warning\n",
      "  warnings.warn(\n",
      "C:\\Users\\Romelio Villar Jr\\anaconda3\\lib\\site-packages\\sklearn\\cluster\\_kmeans.py:1382: UserWarning: KMeans is known to have a memory leak on Windows with MKL, when there are less chunks than available threads. You can avoid it by setting the environment variable OMP_NUM_THREADS=1.\n",
      "  warnings.warn(\n"
     ]
    }
   ],
   "source": [
    "# Calculate Sum of squared distances of samples to their closest cluster center for elbow method \n",
    "inertias = []\n",
    "for k in range(1, 11):\n",
    "    kmeans = KMeans(n_clusters=k, init='k-means++', random_state = 42, max_iter = 1000)\n",
    "    kmeans.fit(data_std)\n",
    "    inertias.append(kmeans.inertia_) # inertia_ = Sum of squared distances of samples to their closest cluster center."
   ]
  },
  {
   "cell_type": "code",
   "execution_count": 108,
   "id": "bfa6c6b7",
   "metadata": {},
   "outputs": [
    {
     "data": {
      "image/png": "[encoded data removed]",
      "text/plain": [
       "<Figure size 640x480 with 1 Axes>"
      ]
     },
     "metadata": {},
     "output_type": "display_data"
    }
   ],
   "source": [
    "sns.pointplot(x=list(sum_of_sqr_dist.keys()), y=list(sum_of_sqr_dist.values()))\n",
    "plt.xlabel(\"Number of Clusters (K)\")\n",
    "plt.ylabel(\"Sum of Square Distances\")\n",
    "plt.title(\"Elbow Method for Optimal K\")\n",
    "plt.show()\n"
   ]
  },
  {
   "cell_type": "code",
   "execution_count": 109,
   "id": "73a8e5d9-6c1b-46bd-8e25-9da196f49edd",
   "metadata": {},
   "outputs": [
    {
     "name": "stderr",
     "output_type": "stream",
     "text": [
      "C:\\Users\\Romelio Villar Jr\\anaconda3\\lib\\site-packages\\sklearn\\cluster\\_kmeans.py:870: FutureWarning: The default value of `n_init` will change from 10 to 'auto' in 1.4. Set the value of `n_init` explicitly to suppress the warning\n",
      "  warnings.warn(\n",
      "C:\\Users\\Romelio Villar Jr\\anaconda3\\lib\\site-packages\\sklearn\\cluster\\_kmeans.py:1382: UserWarning: KMeans is known to have a memory leak on Windows with MKL, when there are less chunks than available threads. You can avoid it by setting the environment variable OMP_NUM_THREADS=1.\n",
      "  warnings.warn(\n"
     ]
    },
    {
     "data": {
      "text/html": [
       "<style>#sk-container-id-2 {color: black;background-color: white;}#sk-container-id-2 pre{padding: 0;}#sk-container-id-2 div.sk-toggleable {background-color: white;}#sk-container-id-2 label.sk-toggleable__label {cursor: pointer;display: block;width: 100%;margin-bottom: 0;padding: 0.3em;box-sizing: border-box;text-align: center;}#sk-container-id-2 label.sk-toggleable__label-arrow:before {content: \"▸\";float: left;margin-right: 0.25em;color: #696969;}#sk-container-id-2 label.sk-toggleable__label-arrow:hover:before {color: black;}#sk-container-id-2 div.sk-estimator:hover label.sk-toggleable__label-arrow:before {color: black;}#sk-container-id-2 div.sk-toggleable__content {max-height: 0;max-width: 0;overflow: hidden;text-align: left;background-color: #f0f8ff;}#sk-container-id-2 div.sk-toggleable__content pre {margin: 0.2em;color: black;border-radius: 0.25em;background-color: #f0f8ff;}#sk-container-id-2 input.sk-toggleable__control:checked~div.sk-toggleable__content {max-height: 200px;max-width: 100%;overflow: auto;}#sk-container-id-2 input.sk-toggleable__control:checked~label.sk-toggleable__label-arrow:before {content: \"▾\";}#sk-container-id-2 div.sk-estimator input.sk-toggleable__control:checked~label.sk-toggleable__label {background-color: #d4ebff;}#sk-container-id-2 div.sk-label input.sk-toggleable__control:checked~label.sk-toggleable__label {background-color: #d4ebff;}#sk-container-id-2 input.sk-hidden--visually {border: 0;clip: rect(1px 1px 1px 1px);clip: rect(1px, 1px, 1px, 1px);height: 1px;margin: -1px;overflow: hidden;padding: 0;position: absolute;width: 1px;}#sk-container-id-2 div.sk-estimator {font-family: monospace;background-color: #f0f8ff;border: 1px dotted black;border-radius: 0.25em;box-sizing: border-box;margin-bottom: 0.5em;}#sk-container-id-2 div.sk-estimator:hover {background-color: #d4ebff;}#sk-container-id-2 div.sk-parallel-item::after {content: \"\";width: 100%;border-bottom: 1px solid gray;flex-grow: 1;}#sk-container-id-2 div.sk-label:hover label.sk-toggleable__label {background-color: #d4ebff;}#sk-container-id-2 div.sk-serial::before {content: \"\";position: absolute;border-left: 1px solid gray;box-sizing: border-box;top: 0;bottom: 0;left: 50%;z-index: 0;}#sk-container-id-2 div.sk-serial {display: flex;flex-direction: column;align-items: center;background-color: white;padding-right: 0.2em;padding-left: 0.2em;position: relative;}#sk-container-id-2 div.sk-item {position: relative;z-index: 1;}#sk-container-id-2 div.sk-parallel {display: flex;align-items: stretch;justify-content: center;background-color: white;position: relative;}#sk-container-id-2 div.sk-item::before, #sk-container-id-2 div.sk-parallel-item::before {content: \"\";position: absolute;border-left: 1px solid gray;box-sizing: border-box;top: 0;bottom: 0;left: 50%;z-index: -1;}#sk-container-id-2 div.sk-parallel-item {display: flex;flex-direction: column;z-index: 1;position: relative;background-color: white;}#sk-container-id-2 div.sk-parallel-item:first-child::after {align-self: flex-end;width: 50%;}#sk-container-id-2 div.sk-parallel-item:last-child::after {align-self: flex-start;width: 50%;}#sk-container-id-2 div.sk-parallel-item:only-child::after {width: 0;}#sk-container-id-2 div.sk-dashed-wrapped {border: 1px dashed gray;margin: 0 0.4em 0.5em 0.4em;box-sizing: border-box;padding-bottom: 0.4em;background-color: white;}#sk-container-id-2 div.sk-label label {font-family: monospace;font-weight: bold;display: inline-block;line-height: 1.2em;}#sk-container-id-2 div.sk-label-container {text-align: center;}#sk-container-id-2 div.sk-container {/* jupyter's `normalize.less` sets `[hidden] { display: none; }` but bootstrap.min.css set `[hidden] { display: none !important; }` so we also need the `!important` here to be able to override the default hidden behavior on the sphinx rendered scikit-learn.org. See: https://github.com/scikit-learn/scikit-learn/issues/21755 */display: inline-block !important;position: relative;}#sk-container-id-2 div.sk-text-repr-fallback {display: none;}</style><div id=\"sk-container-id-2\" class=\"sk-top-container\"><div class=\"sk-text-repr-fallback\"><pre>KMeans(max_iter=1000, n_clusters=3)</pre><b>In a Jupyter environment, please rerun this cell to show the HTML representation or trust the notebook. <br />On GitHub, the HTML representation is unable to render, please try loading this page with nbviewer.org.</b></div><div class=\"sk-container\" hidden><div class=\"sk-item\"><div class=\"sk-estimator sk-toggleable\"><input class=\"sk-toggleable__control sk-hidden--visually\" id=\"sk-estimator-id-2\" type=\"checkbox\" checked><label for=\"sk-estimator-id-2\" class=\"sk-toggleable__label sk-toggleable__label-arrow\">KMeans</label><div class=\"sk-toggleable__content\"><pre>KMeans(max_iter=1000, n_clusters=3)</pre></div></div></div></div></div>"
      ],
      "text/plain": [
       "KMeans(max_iter=1000, n_clusters=3)"
      ]
     },
     "execution_count": 109,
     "metadata": {},
     "output_type": "execute_result"
    }
   ],
   "source": [
    "Model = KMeans(n_clusters=3,\n",
    "             init='k-means++',\n",
    "             max_iter=1000)\n",
    "Model.fit(data_std)"
   ]
  },
  {
   "cell_type": "code",
   "execution_count": 110,
   "id": "afeba007-6b5f-429e-b9e7-d304118968c3",
   "metadata": {},
   "outputs": [
    {
     "name": "stdout",
     "output_type": "stream",
     "text": [
      "Labels [1 2 2 1 2 2 2 0 0 2 2 0 1 2 2 0 2 1 2 2 2 2 2 2 1 1 2 1 0 2 2 2 2 1 1 1 2\n",
      " 1 2 0 0 0 2 2 2 2 1 1 2 2 0 0 1 1 2 0 1 0 2 2 1 1 2 2 0 1 2 2 2 0 0 0 2 0\n",
      " 2 2 1 1 2 1 2 2 1 1 0 2 2 1 1 2 2 1 0 1 2 2 2 2 2 2 1 1 1 2 0 0 1 1 0 1 2\n",
      " 2 2 2 2 0 2 2 1 2 0 1 2 2 0 0 2 2 0 0 2 2 1 2 0 1 1 2 1 1 2 2 2 1 1 2 0 0\n",
      " 2 2 2 2 2 1 1]\n"
     ]
    }
   ],
   "source": [
    "print(\"Labels\", Model.labels_)"
   ]
  },
  {
   "cell_type": "code",
   "execution_count": 111,
   "id": "74afe962",
   "metadata": {},
   "outputs": [
    {
     "name": "stdout",
     "output_type": "stream",
     "text": [
      "Centroids [[ 1.70962135 -0.87989122]\n",
      " [-0.81998267  1.38499873]\n",
      " [-0.20378534 -0.44364956]]\n"
     ]
    }
   ],
   "source": [
    "print(\"Centroids\", Model.cluster_centers_)"
   ]
  },
  {
   "cell_type": "code",
   "execution_count": 112,
   "id": "68020c63-d032-436f-bd96-b7ea1df131b1",
   "metadata": {},
   "outputs": [],
   "source": [
    "centroids = Model.cluster_centers_"
   ]
  },
  {
   "cell_type": "code",
   "execution_count": 113,
   "id": "b7a5e477-70f1-42d3-9642-508bd0313c7e",
   "metadata": {},
   "outputs": [
    {
     "name": "stderr",
     "output_type": "stream",
     "text": [
      "C:\\Users\\Romelio Villar Jr\\anaconda3\\lib\\site-packages\\sklearn\\cluster\\_kmeans.py:870: FutureWarning: The default value of `n_init` will change from 10 to 'auto' in 1.4. Set the value of `n_init` explicitly to suppress the warning\n",
      "  warnings.warn(\n",
      "C:\\Users\\Romelio Villar Jr\\anaconda3\\lib\\site-packages\\sklearn\\cluster\\_kmeans.py:1382: UserWarning: KMeans is known to have a memory leak on Windows with MKL, when there are less chunks than available threads. You can avoid it by setting the environment variable OMP_NUM_THREADS=1.\n",
      "  warnings.warn(\n"
     ]
    }
   ],
   "source": [
    "data_std_cluster = data_std.copy()\n",
    "data_std_cluster[\"Cluster\"] = Model.fit_predict(data_std)"
   ]
  },
  {
   "cell_type": "code",
   "execution_count": 114,
   "id": "13cc7b42-c031-47ff-9301-6d94db5aaa6f",
   "metadata": {},
   "outputs": [
    {
     "data": {
      "text/html": [
       "<div>\n",
       "<style scoped>\n",
       "    .dataframe tbody tr th:only-of-type {\n",
       "        vertical-align: middle;\n",
       "    }\n",
       "\n",
       "    .dataframe tbody tr th {\n",
       "        vertical-align: top;\n",
       "    }\n",
       "\n",
       "    .dataframe thead th {\n",
       "        text-align: right;\n",
       "    }\n",
       "</style>\n",
       "<table border=\"1\" class=\"dataframe\">\n",
       "  <thead>\n",
       "    <tr style=\"text-align: right;\">\n",
       "      <th></th>\n",
       "      <th>income</th>\n",
       "      <th>child_mort</th>\n",
       "      <th>Cluster</th>\n",
       "    </tr>\n",
       "  </thead>\n",
       "  <tbody>\n",
       "    <tr>\n",
       "      <th>0</th>\n",
       "      <td>-0.975316</td>\n",
       "      <td>1.519064</td>\n",
       "      <td>2</td>\n",
       "    </tr>\n",
       "    <tr>\n",
       "      <th>1</th>\n",
       "      <td>-0.342660</td>\n",
       "      <td>-0.566539</td>\n",
       "      <td>1</td>\n",
       "    </tr>\n",
       "    <tr>\n",
       "      <th>2</th>\n",
       "      <td>-0.116820</td>\n",
       "      <td>-0.263333</td>\n",
       "      <td>1</td>\n",
       "    </tr>\n",
       "    <tr>\n",
       "      <th>3</th>\n",
       "      <td>-0.649103</td>\n",
       "      <td>2.335170</td>\n",
       "      <td>2</td>\n",
       "    </tr>\n",
       "    <tr>\n",
       "      <th>4</th>\n",
       "      <td>0.354630</td>\n",
       "      <td>-0.745062</td>\n",
       "      <td>1</td>\n",
       "    </tr>\n",
       "    <tr>\n",
       "      <th>...</th>\n",
       "      <td>...</td>\n",
       "      <td>...</td>\n",
       "      <td>...</td>\n",
       "    </tr>\n",
       "    <tr>\n",
       "      <th>150</th>\n",
       "      <td>-0.873422</td>\n",
       "      <td>-0.209493</td>\n",
       "      <td>1</td>\n",
       "    </tr>\n",
       "    <tr>\n",
       "      <th>151</th>\n",
       "      <td>0.156925</td>\n",
       "      <td>-0.552370</td>\n",
       "      <td>1</td>\n",
       "    </tr>\n",
       "    <tr>\n",
       "      <th>152</th>\n",
       "      <td>-0.756320</td>\n",
       "      <td>-0.376681</td>\n",
       "      <td>1</td>\n",
       "    </tr>\n",
       "    <tr>\n",
       "      <th>153</th>\n",
       "      <td>-0.757080</td>\n",
       "      <td>0.558440</td>\n",
       "      <td>2</td>\n",
       "    </tr>\n",
       "    <tr>\n",
       "      <th>154</th>\n",
       "      <td>-0.848329</td>\n",
       "      <td>1.317872</td>\n",
       "      <td>2</td>\n",
       "    </tr>\n",
       "  </tbody>\n",
       "</table>\n",
       "<p>155 rows × 3 columns</p>\n",
       "</div>"
      ],
      "text/plain": [
       "       income  child_mort  Cluster\n",
       "0   -0.975316    1.519064        2\n",
       "1   -0.342660   -0.566539        1\n",
       "2   -0.116820   -0.263333        1\n",
       "3   -0.649103    2.335170        2\n",
       "4    0.354630   -0.745062        1\n",
       "..        ...         ...      ...\n",
       "150 -0.873422   -0.209493        1\n",
       "151  0.156925   -0.552370        1\n",
       "152 -0.756320   -0.376681        1\n",
       "153 -0.757080    0.558440        2\n",
       "154 -0.848329    1.317872        2\n",
       "\n",
       "[155 rows x 3 columns]"
      ]
     },
     "execution_count": 114,
     "metadata": {},
     "output_type": "execute_result"
    }
   ],
   "source": [
    "data_std_cluster"
   ]
  },
  {
   "cell_type": "code",
   "execution_count": 115,
   "id": "3a1faecc-795f-478b-9497-4d1c9c16880c",
   "metadata": {},
   "outputs": [],
   "source": [
    "#Visualizing Clusters\n",
    "Color = ['red', 'blue', 'black']\n",
    "data_std_cluster['Color'] = data_std_cluster['Cluster'].map(lambda p:Color[p])"
   ]
  },
  {
   "cell_type": "code",
   "execution_count": 116,
   "id": "f3398379-2651-4f0d-8a69-a3602e45585d",
   "metadata": {},
   "outputs": [
    {
     "data": {
      "image/png": "[encoded data removed]",
      "text/plain": [
       "<Figure size 2000x1000 with 1 Axes>"
      ]
     },
     "metadata": {},
     "output_type": "display_data"
    }
   ],
   "source": [
    "plt.figure(figsize=(20, 10))\n",
    "plt.scatter(data_std[\"income\"],\n",
    "           data_std[\"child_mort\"],\n",
    "           c=data_std_cluster[\"Color\"])\n",
    "\n",
    "plt.scatter(centroids[:, 0], centroids[:, 1], c='green', s=250)\n",
    "plt.show()"
   ]
  },
  {
   "cell_type": "code",
   "execution_count": 117,
   "id": "e7e446c7-f2b0-4df2-baa5-6b6952aeb56d",
   "metadata": {},
   "outputs": [],
   "source": [
    "#Evaluation with Silhouette Score\n",
    "labels = Model.labels_"
   ]
  },
  {
   "cell_type": "code",
   "execution_count": 122,
   "id": "e3ed2bc8-8455-4702-b49d-e950804c57dd",
   "metadata": {},
   "outputs": [
    {
     "data": {
      "text/plain": [
       "0.5569354023241216"
      ]
     },
     "execution_count": 122,
     "metadata": {},
     "output_type": "execute_result"
    }
   ],
   "source": [
    "silhouette_score(data_std, labels)"
   ]
  },
  {
   "cell_type": "code",
   "execution_count": 123,
   "id": "b59be52b-1a7d-4ffa-83d5-e9a98e4b4833",
   "metadata": {},
   "outputs": [
    {
     "name": "stderr",
     "output_type": "stream",
     "text": [
      "C:\\Users\\Romelio Villar Jr\\anaconda3\\lib\\site-packages\\sklearn\\cluster\\_kmeans.py:870: FutureWarning: The default value of `n_init` will change from 10 to 'auto' in 1.4. Set the value of `n_init` explicitly to suppress the warning\n",
      "  warnings.warn(\n",
      "C:\\Users\\Romelio Villar Jr\\anaconda3\\lib\\site-packages\\sklearn\\cluster\\_kmeans.py:1382: UserWarning: KMeans is known to have a memory leak on Windows with MKL, when there are less chunks than available threads. You can avoid it by setting the environment variable OMP_NUM_THREADS=1.\n",
      "  warnings.warn(\n",
      "C:\\Users\\Romelio Villar Jr\\anaconda3\\lib\\site-packages\\sklearn\\cluster\\_kmeans.py:870: FutureWarning: The default value of `n_init` will change from 10 to 'auto' in 1.4. Set the value of `n_init` explicitly to suppress the warning\n",
      "  warnings.warn(\n",
      "C:\\Users\\Romelio Villar Jr\\anaconda3\\lib\\site-packages\\sklearn\\cluster\\_kmeans.py:1382: UserWarning: KMeans is known to have a memory leak on Windows with MKL, when there are less chunks than available threads. You can avoid it by setting the environment variable OMP_NUM_THREADS=1.\n",
      "  warnings.warn(\n",
      "C:\\Users\\Romelio Villar Jr\\anaconda3\\lib\\site-packages\\sklearn\\cluster\\_kmeans.py:870: FutureWarning: The default value of `n_init` will change from 10 to 'auto' in 1.4. Set the value of `n_init` explicitly to suppress the warning\n",
      "  warnings.warn(\n",
      "C:\\Users\\Romelio Villar Jr\\anaconda3\\lib\\site-packages\\sklearn\\cluster\\_kmeans.py:1382: UserWarning: KMeans is known to have a memory leak on Windows with MKL, when there are less chunks than available threads. You can avoid it by setting the environment variable OMP_NUM_THREADS=1.\n",
      "  warnings.warn(\n",
      "C:\\Users\\Romelio Villar Jr\\anaconda3\\lib\\site-packages\\sklearn\\cluster\\_kmeans.py:870: FutureWarning: The default value of `n_init` will change from 10 to 'auto' in 1.4. Set the value of `n_init` explicitly to suppress the warning\n",
      "  warnings.warn(\n",
      "C:\\Users\\Romelio Villar Jr\\anaconda3\\lib\\site-packages\\sklearn\\cluster\\_kmeans.py:1382: UserWarning: KMeans is known to have a memory leak on Windows with MKL, when there are less chunks than available threads. You can avoid it by setting the environment variable OMP_NUM_THREADS=1.\n",
      "  warnings.warn(\n",
      "C:\\Users\\Romelio Villar Jr\\anaconda3\\lib\\site-packages\\sklearn\\cluster\\_kmeans.py:870: FutureWarning: The default value of `n_init` will change from 10 to 'auto' in 1.4. Set the value of `n_init` explicitly to suppress the warning\n",
      "  warnings.warn(\n",
      "C:\\Users\\Romelio Villar Jr\\anaconda3\\lib\\site-packages\\sklearn\\cluster\\_kmeans.py:1382: UserWarning: KMeans is known to have a memory leak on Windows with MKL, when there are less chunks than available threads. You can avoid it by setting the environment variable OMP_NUM_THREADS=1.\n",
      "  warnings.warn(\n",
      "C:\\Users\\Romelio Villar Jr\\anaconda3\\lib\\site-packages\\sklearn\\cluster\\_kmeans.py:870: FutureWarning: The default value of `n_init` will change from 10 to 'auto' in 1.4. Set the value of `n_init` explicitly to suppress the warning\n",
      "  warnings.warn(\n",
      "C:\\Users\\Romelio Villar Jr\\anaconda3\\lib\\site-packages\\sklearn\\cluster\\_kmeans.py:1382: UserWarning: KMeans is known to have a memory leak on Windows with MKL, when there are less chunks than available threads. You can avoid it by setting the environment variable OMP_NUM_THREADS=1.\n",
      "  warnings.warn(\n"
     ]
    }
   ],
   "source": [
    "\n",
    "\n",
    "silhouette = {}\n",
    "\n",
    "for k in range(2,8):\n",
    "    km = KMeans(n_clusters=k, init='k-means++', max_iter=1000)\n",
    "    km.fit(data_std)\n",
    "    silhouette[k] = silhouette_score(data_std, km.labels_)\n",
    "\n"
   ]
  },
  {
   "cell_type": "code",
   "execution_count": 124,
   "id": "c997099c-6f2a-4ac4-93ee-124be1bebd51",
   "metadata": {},
   "outputs": [
    {
     "data": {
      "image/png": "[encoded data removed]",
      "text/plain": [
       "<Figure size 640x480 with 1 Axes>"
      ]
     },
     "metadata": {},
     "output_type": "display_data"
    }
   ],
   "source": [
    "sns.pointplot(x=list(silhouette.keys()), y=list(silhouette.values()))\n",
    "plt.xlabel(\"Number of Clusters (K)\")\n",
    "plt.ylabel(\"Silhouette Scores\")\n",
    "plt.title(\"Silhouette Scores for Each K\")\n",
    "plt.show()"
   ]
  },
  {
   "cell_type": "code",
   "execution_count": 130,
   "id": "4a16315d-3da1-4772-b5ea-f66cabb215f1",
   "metadata": {},
   "outputs": [],
   "source": [
    "data_std['labels'] = labels"
   ]
  },
  {
   "cell_type": "code",
   "execution_count": 131,
   "id": "01777ea9-3efe-48d5-a032-bbdf1dfb9efd",
   "metadata": {},
   "outputs": [],
   "source": [
    "grouped_data = data_std.groupby('labels').agg(['mean', 'median'])"
   ]
  },
  {
   "cell_type": "code",
   "execution_count": 132,
   "id": "631c7a3e-430e-4a96-8c90-b92a3a8e1f89",
   "metadata": {},
   "outputs": [
    {
     "data": {
      "text/html": [
       "<div>\n",
       "<style scoped>\n",
       "    .dataframe tbody tr th:only-of-type {\n",
       "        vertical-align: middle;\n",
       "    }\n",
       "\n",
       "    .dataframe tbody tr th {\n",
       "        vertical-align: top;\n",
       "    }\n",
       "\n",
       "    .dataframe thead tr th {\n",
       "        text-align: left;\n",
       "    }\n",
       "\n",
       "    .dataframe thead tr:last-of-type th {\n",
       "        text-align: right;\n",
       "    }\n",
       "</style>\n",
       "<table border=\"1\" class=\"dataframe\">\n",
       "  <thead>\n",
       "    <tr>\n",
       "      <th></th>\n",
       "      <th colspan=\"2\" halign=\"left\">income</th>\n",
       "      <th colspan=\"2\" halign=\"left\">child_mort</th>\n",
       "      <th colspan=\"2\" halign=\"left\">label</th>\n",
       "    </tr>\n",
       "    <tr>\n",
       "      <th></th>\n",
       "      <th>mean</th>\n",
       "      <th>median</th>\n",
       "      <th>mean</th>\n",
       "      <th>median</th>\n",
       "      <th>mean</th>\n",
       "      <th>median</th>\n",
       "    </tr>\n",
       "    <tr>\n",
       "      <th>labels</th>\n",
       "      <th></th>\n",
       "      <th></th>\n",
       "      <th></th>\n",
       "      <th></th>\n",
       "      <th></th>\n",
       "      <th></th>\n",
       "    </tr>\n",
       "  </thead>\n",
       "  <tbody>\n",
       "    <tr>\n",
       "      <th>0</th>\n",
       "      <td>1.709621</td>\n",
       "      <td>1.708150</td>\n",
       "      <td>-0.879891</td>\n",
       "      <td>-0.917918</td>\n",
       "      <td>0.0</td>\n",
       "      <td>0.0</td>\n",
       "    </tr>\n",
       "    <tr>\n",
       "      <th>1</th>\n",
       "      <td>-0.203785</td>\n",
       "      <td>-0.268901</td>\n",
       "      <td>-0.443650</td>\n",
       "      <td>-0.509865</td>\n",
       "      <td>1.0</td>\n",
       "      <td>1.0</td>\n",
       "    </tr>\n",
       "    <tr>\n",
       "      <th>2</th>\n",
       "      <td>-0.819983</td>\n",
       "      <td>-0.937296</td>\n",
       "      <td>1.384999</td>\n",
       "      <td>1.317872</td>\n",
       "      <td>2.0</td>\n",
       "      <td>2.0</td>\n",
       "    </tr>\n",
       "  </tbody>\n",
       "</table>\n",
       "</div>"
      ],
      "text/plain": [
       "          income           child_mort           label       \n",
       "            mean    median       mean    median  mean median\n",
       "labels                                                      \n",
       "0       1.709621  1.708150  -0.879891 -0.917918   0.0    0.0\n",
       "1      -0.203785 -0.268901  -0.443650 -0.509865   1.0    1.0\n",
       "2      -0.819983 -0.937296   1.384999  1.317872   2.0    2.0"
      ]
     },
     "execution_count": 132,
     "metadata": {},
     "output_type": "execute_result"
    }
   ],
   "source": [
    "grouped_data"
   ]
  },
  {
   "cell_type": "code",
   "execution_count": null,
   "id": "90c111c4-59b9-4035-95da-c5c98d645e74",
   "metadata": {},
   "outputs": [],
   "source": []
  }
 ],
 "metadata": {
  "kernelspec": {
   "display_name": "Python 3 (ipykernel)",
   "language": "python",
   "name": "python3"
  },
  "language_info": {
   "codemirror_mode": {
    "name": "ipython",
    "version": 3
   },
   "file_extension": ".py",
   "mimetype": "text/x-python",
   "name": "python",
   "nbconvert_exporter": "python",
   "pygments_lexer": "ipython3",
   "version": "3.9.16"
  }
 },
 "nbformat": 4,
 "nbformat_minor": 5
}
