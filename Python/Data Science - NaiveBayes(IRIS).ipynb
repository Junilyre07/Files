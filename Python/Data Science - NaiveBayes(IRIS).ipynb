{
 "cells": [
  {
   "cell_type": "code",
   "execution_count": 1,
   "metadata": {
    "executionInfo": {
     "elapsed": 1058,
     "status": "ok",
     "timestamp": 1634359632022,
     "user": {
      "displayName": "JP Tomas",
      "photoUrl": "https://lh3.googleusercontent.com/a-/AOh14GjfcEz8glk5JLbq68J2oi2ApT-qr-OQg_l7_UOsZQ=s64",
      "userId": "06329793643259846704"
     },
     "user_tz": -480
    },
    "id": "EZuYWicjva1x"
   },
   "outputs": [],
   "source": [
    "import pandas as pd\n",
    "import numpy as np\n",
    "from matplotlib import pyplot as plt\n",
    "#import plotly.plotly as py\n",
    "#import plotly.graph_objs as go\n",
    "#from sklearn import datasets\n",
    "from sklearn.decomposition import PCA\n",
    "from sklearn.naive_bayes import GaussianNB"
   ]
  },
  {
   "cell_type": "code",
   "execution_count": 3,
   "metadata": {
    "colab": {
     "base_uri": "https://localhost:8080/"
    },
    "executionInfo": {
     "elapsed": 75441,
     "status": "ok",
     "timestamp": 1634359710797,
     "user": {
      "displayName": "JP Tomas",
      "photoUrl": "https://lh3.googleusercontent.com/a-/AOh14GjfcEz8glk5JLbq68J2oi2ApT-qr-OQg_l7_UOsZQ=s64",
      "userId": "06329793643259846704"
     },
     "user_tz": -480
    },
    "id": "NUxh5v-zva17",
    "outputId": "6f730cf1-4620-4d7a-bd47-d23d68ed5513"
   },
   "outputs": [
    {
     "ename": "ModuleNotFoundError",
     "evalue": "No module named 'google.colab'",
     "output_type": "error",
     "traceback": [
      "\u001b[1;31m---------------------------------------------------------------------------\u001b[0m",
      "\u001b[1;31mModuleNotFoundError\u001b[0m                       Traceback (most recent call last)",
      "Input \u001b[1;32mIn [3]\u001b[0m, in \u001b[0;36m<cell line: 2>\u001b[1;34m()\u001b[0m\n\u001b[0;32m      1\u001b[0m \u001b[38;5;66;03m#set import drive\u001b[39;00m\n\u001b[1;32m----> 2\u001b[0m \u001b[38;5;28;01mfrom\u001b[39;00m \u001b[38;5;21;01mgoogle\u001b[39;00m\u001b[38;5;21;01m.\u001b[39;00m\u001b[38;5;21;01mcolab\u001b[39;00m \u001b[38;5;28;01mimport\u001b[39;00m drive\n\u001b[0;32m      3\u001b[0m drive\u001b[38;5;241m.\u001b[39mmount(\u001b[38;5;124m\"\u001b[39m\u001b[38;5;124m/content/gdrive\u001b[39m\u001b[38;5;124m\"\u001b[39m)\n\u001b[0;32m      4\u001b[0m \u001b[38;5;66;03m# read the csv clothing_data_driven_training data using the pandas package  \u001b[39;00m\n",
      "\u001b[1;31mModuleNotFoundError\u001b[0m: No module named 'google.colab'"
     ]
    }
   ],
   "source": [
    "#set import drive\n",
    "from google.colab import drive\n",
    "drive.mount(\"/content/gdrive\")\n",
    "# read the csv clothing_data_driven_training data using the pandas package  \n",
    "iris_data = pd.read_csv(\"/content/gdrive/My Drive/DataSet/Iris.csv\") "
   ]
  },
  {
   "cell_type": "code",
   "execution_count": null,
   "metadata": {
    "colab": {
     "base_uri": "https://localhost:8080/",
     "height": 419
    },
    "executionInfo": {
     "elapsed": 318,
     "status": "ok",
     "timestamp": 1634359792865,
     "user": {
      "displayName": "JP Tomas",
      "photoUrl": "https://lh3.googleusercontent.com/a-/AOh14GjfcEz8glk5JLbq68J2oi2ApT-qr-OQg_l7_UOsZQ=s64",
      "userId": "06329793643259846704"
     },
     "user_tz": -480
    },
    "id": "JRtkfw6zHDEb",
    "outputId": "738c20bb-e943-46b5-b778-3a3559a84a16"
   },
   "outputs": [],
   "source": [
    "iris_data.head(200)"
   ]
  },
  {
   "cell_type": "code",
   "execution_count": null,
   "metadata": {
    "colab": {
     "base_uri": "https://localhost:8080/"
    },
    "executionInfo": {
     "elapsed": 358,
     "status": "ok",
     "timestamp": 1634359819576,
     "user": {
      "displayName": "JP Tomas",
      "photoUrl": "https://lh3.googleusercontent.com/a-/AOh14GjfcEz8glk5JLbq68J2oi2ApT-qr-OQg_l7_UOsZQ=s64",
      "userId": "06329793643259846704"
     },
     "user_tz": -480
    },
    "id": "dKadoGWDHC_x",
    "outputId": "ced09607-750d-477e-9260-9c8e8a3526ac"
   },
   "outputs": [],
   "source": [
    "X=iris_data.iloc[:,:4].values\n",
    "y=iris_data['Species'].values\n",
    "print(X)\n",
    "print(y)"
   ]
  },
  {
   "cell_type": "code",
   "execution_count": null,
   "metadata": {
    "colab": {
     "base_uri": "https://localhost:8080/",
     "height": 585
    },
    "executionInfo": {
     "elapsed": 1190,
     "status": "ok",
     "timestamp": 1634359847842,
     "user": {
      "displayName": "JP Tomas",
      "photoUrl": "https://lh3.googleusercontent.com/a-/AOh14GjfcEz8glk5JLbq68J2oi2ApT-qr-OQg_l7_UOsZQ=s64",
      "userId": "06329793643259846704"
     },
     "user_tz": -480
    },
    "id": "1_fq3TrHHCw-",
    "outputId": "3d8a4cd9-946d-4c34-f4c9-4e8b7b02320b"
   },
   "outputs": [],
   "source": [
    "from sklearn.datasets import load_iris\n",
    "iris = load_iris()\n",
    "\n",
    "from matplotlib import pyplot as plt\n",
    "\n",
    "# The indices of the features that we are plotting\n",
    "x_index = 0\n",
    "y_index = 1\n",
    "\n",
    "# this formatter will label the colorbar with the correct target names\n",
    "formatter = plt.FuncFormatter(lambda i, *args: iris.target_names[int(i)])\n",
    "\n",
    "plt.figure(figsize=(8, 8))\n",
    "plt.scatter(iris.data[:, x_index], iris.data[:, y_index], c=iris.target)\n",
    "plt.colorbar(ticks=[0, 1, 2], format=formatter)\n",
    "plt.xlabel(iris.feature_names[x_index])\n",
    "plt.ylabel(iris.feature_names[y_index])\n",
    "\n",
    "plt.tight_layout()\n",
    "plt.show()\n"
   ]
  },
  {
   "cell_type": "code",
   "execution_count": null,
   "metadata": {
    "id": "cWSn_IZgL0UR"
   },
   "outputs": [],
   "source": [
    "### SPLITTING INTO TRAINING AND TEST SETS\n",
    "from sklearn.model_selection import train_test_split\n",
    "X_train, X_test, y_train, y_test = train_test_split(X, y, test_size = 0.25,random_state=28)"
   ]
  },
  {
   "cell_type": "code",
   "execution_count": null,
   "metadata": {
    "id": "BlS-fcklL0R1"
   },
   "outputs": [],
   "source": [
    "### NORMALIZTION / FEATURE SCALING\n",
    "from sklearn.preprocessing import StandardScaler\n",
    "sc=StandardScaler()\n",
    "X_train = sc.fit_transform(X_train)\n",
    "X_test = sc.transform(X_test)"
   ]
  },
  {
   "cell_type": "code",
   "execution_count": null,
   "metadata": {
    "colab": {
     "base_uri": "https://localhost:8080/"
    },
    "executionInfo": {
     "elapsed": 281,
     "status": "ok",
     "timestamp": 1634354060968,
     "user": {
      "displayName": "JP Tomas",
      "photoUrl": "https://lh3.googleusercontent.com/a-/AOh14GjfcEz8glk5JLbq68J2oi2ApT-qr-OQg_l7_UOsZQ=s64",
      "userId": "06329793643259846704"
     },
     "user_tz": -480
    },
    "id": "SATq58y8L0Pe",
    "outputId": "d2af50b6-368b-437b-f3ba-5512042a3d4f"
   },
   "outputs": [
    {
     "data": {
      "text/plain": [
       "GaussianNB(priors=None, var_smoothing=1e-09)"
      ]
     },
     "execution_count": 9,
     "metadata": {},
     "output_type": "execute_result"
    }
   ],
   "source": [
    "### WE WILL FIT THE THE CLASSIFIER TO THE TRAINING SET\n",
    "naiveClassifier=GaussianNB()\n",
    "naiveClassifier.fit(X_train,y_train)"
   ]
  },
  {
   "cell_type": "code",
   "execution_count": null,
   "metadata": {
    "id": "65ikdCLWL0M3"
   },
   "outputs": [],
   "source": [
    "y_pred = naiveClassifier.predict(X_test)"
   ]
  },
  {
   "cell_type": "code",
   "execution_count": null,
   "metadata": {
    "colab": {
     "base_uri": "https://localhost:8080/"
    },
    "executionInfo": {
     "elapsed": 285,
     "status": "ok",
     "timestamp": 1634354205912,
     "user": {
      "displayName": "JP Tomas",
      "photoUrl": "https://lh3.googleusercontent.com/a-/AOh14GjfcEz8glk5JLbq68J2oi2ApT-qr-OQg_l7_UOsZQ=s64",
      "userId": "06329793643259846704"
     },
     "user_tz": -480
    },
    "id": "72MM45zKL0KN",
    "outputId": "5268b9ba-b16c-441a-d415-c806c2ab91b0"
   },
   "outputs": [
    {
     "data": {
      "text/plain": [
       "array([['Iris-setosa', 'Iris-setosa'],\n",
       "       ['Iris-virginica', 'Iris-virginica'],\n",
       "       ['Iris-versicolor', 'Iris-versicolor'],\n",
       "       ['Iris-setosa', 'Iris-setosa'],\n",
       "       ['Iris-virginica', 'Iris-virginica'],\n",
       "       ['Iris-versicolor', 'Iris-versicolor'],\n",
       "       ['Iris-virginica', 'Iris-virginica'],\n",
       "       ['Iris-versicolor', 'Iris-versicolor'],\n",
       "       ['Iris-versicolor', 'Iris-versicolor'],\n",
       "       ['Iris-setosa', 'Iris-setosa'],\n",
       "       ['Iris-virginica', 'Iris-versicolor'],\n",
       "       ['Iris-setosa', 'Iris-setosa'],\n",
       "       ['Iris-versicolor', 'Iris-versicolor'],\n",
       "       ['Iris-versicolor', 'Iris-versicolor'],\n",
       "       ['Iris-virginica', 'Iris-virginica'],\n",
       "       ['Iris-setosa', 'Iris-setosa'],\n",
       "       ['Iris-virginica', 'Iris-virginica'],\n",
       "       ['Iris-virginica', 'Iris-virginica'],\n",
       "       ['Iris-virginica', 'Iris-virginica'],\n",
       "       ['Iris-versicolor', 'Iris-versicolor']], dtype=object)"
      ]
     },
     "execution_count": 11,
     "metadata": {},
     "output_type": "execute_result"
    }
   ],
   "source": [
    "#Keeping the actual and predicted value side by side\n",
    "y_compare = np.vstack((y_test,y_pred)).T\n",
    "#Actual->LEFT\n",
    "#predicted->RIGHT\n",
    "#Number of values to be print\n",
    "y_compare[:20,:]"
   ]
  },
  {
   "cell_type": "code",
   "execution_count": null,
   "metadata": {
    "colab": {
     "base_uri": "https://localhost:8080/",
     "height": 296
    },
    "executionInfo": {
     "elapsed": 321,
     "status": "ok",
     "timestamp": 1634354387847,
     "user": {
      "displayName": "JP Tomas",
      "photoUrl": "https://lh3.googleusercontent.com/a-/AOh14GjfcEz8glk5JLbq68J2oi2ApT-qr-OQg_l7_UOsZQ=s64",
      "userId": "06329793643259846704"
     },
     "user_tz": -480
    },
    "id": "x3qQmeMpL0Hv",
    "outputId": "38ed5a71-b831-4c1d-a50d-8a902c967159"
   },
   "outputs": [
    {
     "data": {
      "text/plain": [
       "Text(0, 0.5, 'PREDICTED')"
      ]
     },
     "execution_count": 15,
     "metadata": {},
     "output_type": "execute_result"
    },
    {
     "data": {
      "image/png": "[encoded data removed]",
      "text/plain": [
       "<Figure size 432x288 with 1 Axes>"
      ]
     },
     "metadata": {
      "needs_background": "light"
     },
     "output_type": "display_data"
    }
   ],
   "source": [
    "%matplotlib inline\n",
    "plt.scatter(y_test, y_pred)\n",
    "plt.xlabel(\"ACTUAL VALUES\")\n",
    "plt.ylabel(\"PREDICTED\")"
   ]
  },
  {
   "cell_type": "code",
   "execution_count": null,
   "metadata": {
    "colab": {
     "base_uri": "https://localhost:8080/"
    },
    "executionInfo": {
     "elapsed": 292,
     "status": "ok",
     "timestamp": 1634354226204,
     "user": {
      "displayName": "JP Tomas",
      "photoUrl": "https://lh3.googleusercontent.com/a-/AOh14GjfcEz8glk5JLbq68J2oi2ApT-qr-OQg_l7_UOsZQ=s64",
      "userId": "06329793643259846704"
     },
     "user_tz": -480
    },
    "id": "QF15VFuSL0Fp",
    "outputId": "5e5fd3ca-9fff-4c56-ac57-da5430c2afc5"
   },
   "outputs": [
    {
     "name": "stdout",
     "output_type": "stream",
     "text": [
      "[[11  0  0]\n",
      " [ 0 15  0]\n",
      " [ 0  1 11]]\n"
     ]
    }
   ],
   "source": [
    "# Making the Confusion Matrix\n",
    "from sklearn.metrics import confusion_matrix\n",
    "cm = confusion_matrix(y_test, y_pred)\n",
    "print(cm)"
   ]
  },
  {
   "cell_type": "code",
   "execution_count": null,
   "metadata": {
    "colab": {
     "base_uri": "https://localhost:8080/"
    },
    "executionInfo": {
     "elapsed": 290,
     "status": "ok",
     "timestamp": 1634354465531,
     "user": {
      "displayName": "JP Tomas",
      "photoUrl": "https://lh3.googleusercontent.com/a-/AOh14GjfcEz8glk5JLbq68J2oi2ApT-qr-OQg_l7_UOsZQ=s64",
      "userId": "06329793643259846704"
     },
     "user_tz": -480
    },
    "id": "yzE4XzFOL0C5",
    "outputId": "15c927f7-5f70-4277-e4df-55890c6eb99a"
   },
   "outputs": [
    {
     "name": "stdout",
     "output_type": "stream",
     "text": [
      "Correct predictions:  37\n",
      "False predictions 1\n",
      "\n",
      "\n",
      "Accuracy of the Naive Bayes Clasification is:  0.9736842105263158\n"
     ]
    }
   ],
   "source": [
    "#finding accuracy from the confusion matrix.\n",
    "a = cm.shape\n",
    "correctPrediction = 0\n",
    "falsePrediction = 0\n",
    "\n",
    "for row in range(a[0]):\n",
    "    for c in range(a[1]):\n",
    "        if row == c:\n",
    "            correctPrediction +=cm[row,c]\n",
    "        else:\n",
    "            falsePrediction += cm[row,c]\n",
    "print('Correct predictions: ', correctPrediction)\n",
    "print('False predictions', falsePrediction)\n",
    "print ('\\n\\nAccuracy of the Naive Bayes Clasification is: ', correctPrediction/(cm.sum()))"
   ]
  },
  {
   "cell_type": "code",
   "execution_count": null,
   "metadata": {
    "id": "jnzZXNHhLz_-"
   },
   "outputs": [],
   "source": [
    "\n",
    "\n"
   ]
  },
  {
   "cell_type": "code",
   "execution_count": null,
   "metadata": {
    "id": "6GLr_JO8Lz9p"
   },
   "outputs": [],
   "source": []
  }
 ],
 "metadata": {
  "colab": {
   "collapsed_sections": [],
   "name": "Data Science - NaiveBayes(IRIS).ipynb",
   "provenance": [
    {
     "file_id": "1TQjM1InO_dSmfCWxPeOzbAL_64Ueghw-",
     "timestamp": 1611471191847
    },
    {
     "file_id": "1uXImNrW9CT0eAyy_OQw9bW43BNNZ1_lH",
     "timestamp": 1611468855692
    }
   ]
  },
  "kernelspec": {
   "display_name": "Python 3 (ipykernel)",
   "language": "python",
   "name": "python3"
  },
  "language_info": {
   "codemirror_mode": {
    "name": "ipython",
    "version": 3
   },
   "file_extension": ".py",
   "mimetype": "text/x-python",
   "name": "python",
   "nbconvert_exporter": "python",
   "pygments_lexer": "ipython3",
   "version": "3.9.16"
  }
 },
 "nbformat": 4,
 "nbformat_minor": 1
}
