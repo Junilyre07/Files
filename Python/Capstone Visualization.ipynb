{
 "cells": [
  {
   "cell_type": "code",
   "execution_count": 1,
   "id": "1e32bfd8",
   "metadata": {},
   "outputs": [],
   "source": [
    "url = \"https://cf-courses-data.s3.us.cloud-object-storage.appdomain.cloud/IBM-DA0321EN-SkillsNetwork/LargeData/m4_survey_data.sqlite\""
   ]
  },
  {
   "cell_type": "code",
   "execution_count": 2,
   "id": "493a69f4",
   "metadata": {},
   "outputs": [],
   "source": [
    "import requests\n",
    "import pandas as pd\n",
    "import matplotlib.pyplot as plt "
   ]
  },
  {
   "cell_type": "code",
   "execution_count": 3,
   "id": "38d1850b",
   "metadata": {},
   "outputs": [],
   "source": [
    "file_path = \"m4_survey_data.sqlite\""
   ]
  },
  {
   "cell_type": "code",
   "execution_count": 4,
   "id": "34b16be7",
   "metadata": {},
   "outputs": [
    {
     "name": "stdout",
     "output_type": "stream",
     "text": [
      "File downloaded successfully\n"
     ]
    }
   ],
   "source": [
    "# Download the file\n",
    "response = requests.get(url)\n",
    "with open(file_path, \"wb\") as file:\n",
    "    file.write(response.content)\n",
    "\n",
    "print(\"File downloaded successfully\")"
   ]
  },
  {
   "cell_type": "code",
   "execution_count": 5,
   "id": "a8e5db51",
   "metadata": {},
   "outputs": [],
   "source": [
    "import sqlite3\n",
    "conn = sqlite3.connect(\"m4_survey_data.sqlite\") # open a database connection"
   ]
  },
  {
   "cell_type": "code",
   "execution_count": 6,
   "id": "144bfcfd",
   "metadata": {},
   "outputs": [
    {
     "name": "stdout",
     "output_type": "stream",
     "text": [
      "EduOther\n",
      "DevType\n",
      "LastInt\n",
      "JobFactors\n",
      "WorkPlan\n",
      "WorkChallenge\n",
      "LanguageWorkedWith\n",
      "LanguageDesireNextYear\n",
      "DatabaseWorkedWith\n",
      "DatabaseDesireNextYear\n",
      "PlatformWorkedWith\n",
      "PlatformDesireNextYear\n",
      "WebFrameWorkedWith\n",
      "WebFrameDesireNextYear\n",
      "MiscTechWorkedWith\n",
      "MiscTechDesireNextYear\n",
      "DevEnviron\n",
      "Containers\n",
      "SOVisitTo\n",
      "SONewContent\n",
      "Gender\n",
      "Sexuality\n",
      "Ethnicity\n",
      "master\n"
     ]
    }
   ],
   "source": [
    "cursor = conn.cursor()\n",
    "cursor.execute(\"SELECT name FROM sqlite_master WHERE type='table';\")\n",
    "tables = cursor.fetchall()\n",
    "for table in tables:\n",
    "    print(table[0])"
   ]
  },
  {
   "cell_type": "code",
   "execution_count": 7,
   "id": "4b3d8091",
   "metadata": {},
   "outputs": [],
   "source": [
    "import pandas as pd\n",
    "import matplotlib.pyplot as plt\n"
   ]
  },
  {
   "cell_type": "code",
   "execution_count": 59,
   "id": "27ba0512",
   "metadata": {
    "scrolled": true
   },
   "outputs": [
    {
     "data": {
      "text/html": [
       "<div>\n",
       "<style scoped>\n",
       "    .dataframe tbody tr th:only-of-type {\n",
       "        vertical-align: middle;\n",
       "    }\n",
       "\n",
       "    .dataframe tbody tr th {\n",
       "        vertical-align: top;\n",
       "    }\n",
       "\n",
       "    .dataframe thead th {\n",
       "        text-align: right;\n",
       "    }\n",
       "</style>\n",
       "<table border=\"1\" class=\"dataframe\">\n",
       "  <thead>\n",
       "    <tr style=\"text-align: right;\">\n",
       "      <th></th>\n",
       "      <th>Respondent</th>\n",
       "      <th>LanguageWorkedWith</th>\n",
       "      <th>Count(B1.LanguageWorkedWith)</th>\n",
       "      <th>ConvertedComp</th>\n",
       "    </tr>\n",
       "  </thead>\n",
       "  <tbody>\n",
       "    <tr>\n",
       "      <th>0</th>\n",
       "      <td>9</td>\n",
       "      <td>JavaScript</td>\n",
       "      <td>8687</td>\n",
       "      <td>95179.0</td>\n",
       "    </tr>\n",
       "    <tr>\n",
       "      <th>1</th>\n",
       "      <td>9</td>\n",
       "      <td>HTML/CSS</td>\n",
       "      <td>7830</td>\n",
       "      <td>95179.0</td>\n",
       "    </tr>\n",
       "    <tr>\n",
       "      <th>2</th>\n",
       "      <td>4</td>\n",
       "      <td>SQL</td>\n",
       "      <td>7106</td>\n",
       "      <td>61000.0</td>\n",
       "    </tr>\n",
       "    <tr>\n",
       "      <th>3</th>\n",
       "      <td>9</td>\n",
       "      <td>Bash/Shell/PowerShell</td>\n",
       "      <td>4642</td>\n",
       "      <td>95179.0</td>\n",
       "    </tr>\n",
       "    <tr>\n",
       "      <th>4</th>\n",
       "      <td>4</td>\n",
       "      <td>Python</td>\n",
       "      <td>4542</td>\n",
       "      <td>61000.0</td>\n",
       "    </tr>\n",
       "    <tr>\n",
       "      <th>5</th>\n",
       "      <td>19</td>\n",
       "      <td>Java</td>\n",
       "      <td>4506</td>\n",
       "      <td>31140.0</td>\n",
       "    </tr>\n",
       "    <tr>\n",
       "      <th>6</th>\n",
       "      <td>4</td>\n",
       "      <td>C#</td>\n",
       "      <td>4288</td>\n",
       "      <td>61000.0</td>\n",
       "    </tr>\n",
       "    <tr>\n",
       "      <th>7</th>\n",
       "      <td>9</td>\n",
       "      <td>TypeScript</td>\n",
       "      <td>3232</td>\n",
       "      <td>95179.0</td>\n",
       "    </tr>\n",
       "    <tr>\n",
       "      <th>8</th>\n",
       "      <td>13</td>\n",
       "      <td>PHP</td>\n",
       "      <td>2913</td>\n",
       "      <td>90000.0</td>\n",
       "    </tr>\n",
       "    <tr>\n",
       "      <th>9</th>\n",
       "      <td>4</td>\n",
       "      <td>C++</td>\n",
       "      <td>1946</td>\n",
       "      <td>61000.0</td>\n",
       "    </tr>\n",
       "  </tbody>\n",
       "</table>\n",
       "</div>"
      ],
      "text/plain": [
       "   Respondent     LanguageWorkedWith  Count(B1.LanguageWorkedWith)  \\\n",
       "0           9             JavaScript                          8687   \n",
       "1           9               HTML/CSS                          7830   \n",
       "2           4                    SQL                          7106   \n",
       "3           9  Bash/Shell/PowerShell                          4642   \n",
       "4           4                 Python                          4542   \n",
       "5          19                   Java                          4506   \n",
       "6           4                     C#                          4288   \n",
       "7           9             TypeScript                          3232   \n",
       "8          13                    PHP                          2913   \n",
       "9           4                    C++                          1946   \n",
       "\n",
       "   ConvertedComp  \n",
       "0        95179.0  \n",
       "1        95179.0  \n",
       "2        61000.0  \n",
       "3        95179.0  \n",
       "4        61000.0  \n",
       "5        31140.0  \n",
       "6        61000.0  \n",
       "7        95179.0  \n",
       "8        90000.0  \n",
       "9        61000.0  "
      ]
     },
     "execution_count": 59,
     "metadata": {},
     "output_type": "execute_result"
    }
   ],
   "source": [
    "QUERY = \"\"\"\n",
    "SELECT B1.Respondent, B1.LanguageWorkedWith, Count(B1.LanguageWorkedWith), B2.ConvertedComp\n",
    "FROM LanguageWorkedWith AS B1\n",
    "JOIN master AS B2\n",
    "ON B1.Respondent = B2.Respondent\n",
    "GROUP BY B1.LanguageWorkedWith\n",
    "Order by Count(B1.LanguageWorkedWith) DESC\n",
    "\"\"\"\n",
    "data = pd.read_sql(QUERY, conn)\n",
    "data.head(10)"
   ]
  },
  {
   "cell_type": "code",
   "execution_count": 67,
   "id": "e20d3a67",
   "metadata": {},
   "outputs": [
    {
     "data": {
      "text/plain": [
       "(1938, 3)"
      ]
     },
     "execution_count": 67,
     "metadata": {},
     "output_type": "execute_result"
    }
   ],
   "source": [
    "QUERY = \"\"\"\n",
    "SELECT B1.Respondent, B1.LanguageWorkedWith, B2.ConvertedComp\n",
    "FROM LanguageWorkedWith AS B1\n",
    "JOIN master AS B2\n",
    "ON B1.Respondent = B2.Respondent\n",
    "WHERE B2.ConvertedComp > 100000 and B1.LanguageWorkedWith = \"JavaScript\"\n",
    "ORDER BY B2.ConvertedComp DESC\n",
    "\"\"\"\n",
    "data = pd.read_sql(QUERY, conn)\n",
    "data.shape"
   ]
  },
  {
   "cell_type": "code",
   "execution_count": 63,
   "id": "fb346ca8",
   "metadata": {},
   "outputs": [
    {
     "data": {
      "text/plain": [
       "(1673, 3)"
      ]
     },
     "execution_count": 63,
     "metadata": {},
     "output_type": "execute_result"
    }
   ],
   "source": [
    "QUERY = \"\"\"\n",
    "SELECT B1.Respondent, B1.LanguageWorkedWith, B2.ConvertedComp\n",
    "FROM LanguageWorkedWith AS B1\n",
    "JOIN master AS B2\n",
    "ON B1.Respondent = B2.Respondent\n",
    "WHERE B2.ConvertedComp > 100000 and B1.LanguageWorkedWith = \"HTML/CSS\"\n",
    "ORDER BY B2.ConvertedComp DESC\n",
    "\"\"\"\n",
    "data = pd.read_sql(QUERY, conn)\n",
    "data.shape"
   ]
  },
  {
   "cell_type": "code",
   "execution_count": 11,
   "id": "4486b725",
   "metadata": {},
   "outputs": [
    {
     "data": {
      "text/plain": [
       "(1564, 3)"
      ]
     },
     "execution_count": 11,
     "metadata": {},
     "output_type": "execute_result"
    }
   ],
   "source": [
    "QUERY = \"\"\"\n",
    "SELECT B1.Respondent, B1.LanguageWorkedWith, B2.ConvertedComp\n",
    "FROM LanguageWorkedWith AS B1\n",
    "JOIN master AS B2\n",
    "ON B1.Respondent = B2.Respondent\n",
    "WHERE B2.ConvertedComp > 100000 and B1.LanguageWorkedWith = \"SQL\"\n",
    "ORDER BY B2.ConvertedComp DESC\n",
    "\"\"\"\n",
    "data = pd.read_sql(QUERY, conn)\n",
    "data.shape"
   ]
  },
  {
   "cell_type": "code",
   "execution_count": 12,
   "id": "c74d2dfd",
   "metadata": {},
   "outputs": [
    {
     "data": {
      "text/plain": [
       "(1160, 3)"
      ]
     },
     "execution_count": 12,
     "metadata": {},
     "output_type": "execute_result"
    }
   ],
   "source": [
    "QUERY = \"\"\"\n",
    "SELECT B1.Respondent, B1.LanguageWorkedWith, B2.ConvertedComp\n",
    "FROM LanguageWorkedWith AS B1\n",
    "JOIN master AS B2\n",
    "ON B1.Respondent = B2.Respondent\n",
    "WHERE B2.ConvertedComp > 100000 and B1.LanguageWorkedWith = \"Python\"\n",
    "ORDER BY B2.ConvertedComp DESC\n",
    "\"\"\"\n",
    "data = pd.read_sql(QUERY, conn)\n",
    "data.shape"
   ]
  },
  {
   "cell_type": "code",
   "execution_count": 13,
   "id": "baa8e237",
   "metadata": {},
   "outputs": [
    {
     "data": {
      "text/plain": [
       "(1285, 3)"
      ]
     },
     "execution_count": 13,
     "metadata": {},
     "output_type": "execute_result"
    }
   ],
   "source": [
    "QUERY = \"\"\"\n",
    "SELECT B1.Respondent, B1.LanguageWorkedWith, B2.ConvertedComp\n",
    "FROM LanguageWorkedWith AS B1\n",
    "JOIN master AS B2\n",
    "ON B1.Respondent = B2.Respondent\n",
    "WHERE B2.ConvertedComp > 100000 and B1.LanguageWorkedWith = \"Bash/Shell/PowerShell\"\n",
    "ORDER BY B2.ConvertedComp DESC\n",
    "\"\"\"\n",
    "data = pd.read_sql(QUERY, conn)\n",
    "data.shape"
   ]
  },
  {
   "cell_type": "code",
   "execution_count": 14,
   "id": "c3611976",
   "metadata": {},
   "outputs": [
    {
     "data": {
      "text/plain": [
       "<AxesSubplot:>"
      ]
     },
     "execution_count": 14,
     "metadata": {},
     "output_type": "execute_result"
    },
    {
     "data": {
      "image/png": "[encoded data removed]",
      "text/plain": [
       "<Figure size 640x480 with 1 Axes>"
      ]
     },
     "metadata": {},
     "output_type": "display_data"
    }
   ],
   "source": [
    "data.plot(kind='barh')"
   ]
  },
  {
   "cell_type": "code",
   "execution_count": 34,
   "id": "edaf6514",
   "metadata": {},
   "outputs": [
    {
     "name": "stdout",
     "output_type": "stream",
     "text": [
      "                Language  Number of High Earners\n",
      "0             JavaScript                    1938\n",
      "1               HTML/CSS                    1673\n",
      "2                    SQL                    1564\n",
      "3  Bash/Shell/PowerShell                    1285\n",
      "4                 Python                    1160\n"
     ]
    }
   ],
   "source": [
    "Top_5 = pd.DataFrame({'Language': ['JavaScript', 'HTML/CSS', 'SQL', 'Bash/Shell/PowerShell', 'Python'],\n",
    "                      'Number of High Earners': [1938, 1673, 1564, 1285, 1160]})\n",
    "\n",
    "\n",
    "print(Top_5)\n"
   ]
  },
  {
   "cell_type": "code",
   "execution_count": 38,
   "id": "725a2860",
   "metadata": {
    "scrolled": true
   },
   "outputs": [
    {
     "data": {
      "image/png": "[encoded data removed]",
      "text/plain": [
       "<Figure size 1000x600 with 1 Axes>"
      ]
     },
     "metadata": {},
     "output_type": "display_data"
    }
   ],
   "source": [
    "colors = ['blue', 'green', 'red', 'purple', 'orange']\n",
    "plt.figure(figsize=(10,6))\n",
    "\n",
    "\n",
    "bars = plt.bar(Top_5['Language'], Top_5['Number of High Earners'], color=colors)\n",
    "\n",
    "plt.show()\n",
    "\n"
   ]
  },
  {
   "cell_type": "code",
   "execution_count": 55,
   "id": "ed186413",
   "metadata": {},
   "outputs": [
    {
     "data": {
      "text/html": [
       "<div>\n",
       "<style scoped>\n",
       "    .dataframe tbody tr th:only-of-type {\n",
       "        vertical-align: middle;\n",
       "    }\n",
       "\n",
       "    .dataframe tbody tr th {\n",
       "        vertical-align: top;\n",
       "    }\n",
       "\n",
       "    .dataframe thead th {\n",
       "        text-align: right;\n",
       "    }\n",
       "</style>\n",
       "<table border=\"1\" class=\"dataframe\">\n",
       "  <thead>\n",
       "    <tr style=\"text-align: right;\">\n",
       "      <th></th>\n",
       "      <th>Respondent</th>\n",
       "      <th>DatabaseWorkedWith</th>\n",
       "      <th>COUNT(B1.DatabaseWorkedWith)</th>\n",
       "      <th>ConvertedComp</th>\n",
       "    </tr>\n",
       "  </thead>\n",
       "  <tbody>\n",
       "    <tr>\n",
       "      <th>0</th>\n",
       "      <td>4</td>\n",
       "      <td>MySQL</td>\n",
       "      <td>5469</td>\n",
       "      <td>61000.0</td>\n",
       "    </tr>\n",
       "    <tr>\n",
       "      <th>1</th>\n",
       "      <td>16</td>\n",
       "      <td>Microsoft SQL Server</td>\n",
       "      <td>4110</td>\n",
       "      <td>455352.0</td>\n",
       "    </tr>\n",
       "    <tr>\n",
       "      <th>2</th>\n",
       "      <td>9</td>\n",
       "      <td>PostgreSQL</td>\n",
       "      <td>4097</td>\n",
       "      <td>95179.0</td>\n",
       "    </tr>\n",
       "    <tr>\n",
       "      <th>3</th>\n",
       "      <td>4</td>\n",
       "      <td>SQLite</td>\n",
       "      <td>3248</td>\n",
       "      <td>61000.0</td>\n",
       "    </tr>\n",
       "    <tr>\n",
       "      <th>4</th>\n",
       "      <td>16</td>\n",
       "      <td>MongoDB</td>\n",
       "      <td>3016</td>\n",
       "      <td>455352.0</td>\n",
       "    </tr>\n",
       "    <tr>\n",
       "      <th>5</th>\n",
       "      <td>22</td>\n",
       "      <td>Redis</td>\n",
       "      <td>2508</td>\n",
       "      <td>103000.0</td>\n",
       "    </tr>\n",
       "    <tr>\n",
       "      <th>6</th>\n",
       "      <td>20</td>\n",
       "      <td>Elasticsearch</td>\n",
       "      <td>1954</td>\n",
       "      <td>41244.0</td>\n",
       "    </tr>\n",
       "    <tr>\n",
       "      <th>7</th>\n",
       "      <td>22</td>\n",
       "      <td>Oracle</td>\n",
       "      <td>1744</td>\n",
       "      <td>103000.0</td>\n",
       "    </tr>\n",
       "    <tr>\n",
       "      <th>8</th>\n",
       "      <td>20</td>\n",
       "      <td>MariaDB</td>\n",
       "      <td>1709</td>\n",
       "      <td>41244.0</td>\n",
       "    </tr>\n",
       "    <tr>\n",
       "      <th>9</th>\n",
       "      <td>13</td>\n",
       "      <td>Firebase</td>\n",
       "      <td>1314</td>\n",
       "      <td>90000.0</td>\n",
       "    </tr>\n",
       "  </tbody>\n",
       "</table>\n",
       "</div>"
      ],
      "text/plain": [
       "   Respondent    DatabaseWorkedWith  COUNT(B1.DatabaseWorkedWith)  \\\n",
       "0           4                 MySQL                          5469   \n",
       "1          16  Microsoft SQL Server                          4110   \n",
       "2           9            PostgreSQL                          4097   \n",
       "3           4                SQLite                          3248   \n",
       "4          16               MongoDB                          3016   \n",
       "5          22                 Redis                          2508   \n",
       "6          20         Elasticsearch                          1954   \n",
       "7          22                Oracle                          1744   \n",
       "8          20               MariaDB                          1709   \n",
       "9          13              Firebase                          1314   \n",
       "\n",
       "   ConvertedComp  \n",
       "0        61000.0  \n",
       "1       455352.0  \n",
       "2        95179.0  \n",
       "3        61000.0  \n",
       "4       455352.0  \n",
       "5       103000.0  \n",
       "6        41244.0  \n",
       "7       103000.0  \n",
       "8        41244.0  \n",
       "9        90000.0  "
      ]
     },
     "execution_count": 55,
     "metadata": {},
     "output_type": "execute_result"
    }
   ],
   "source": [
    "QUERY = \"\"\"\n",
    "SELECT B1.Respondent, B1.DatabaseWorkedWith, COUNT(B1.DatabaseWorkedWith), B2.ConvertedComp\n",
    "FROM DatabaseWorkedWith AS B1\n",
    "JOIN master AS B2\n",
    "ON B1.Respondent = B2.Respondent\n",
    "GROUP BY B1.DatabaseWorkedWith\n",
    "Order by Count(B1.DatabaseWorkedWith) DESC\n",
    "\"\"\"\n",
    "data = pd.read_sql(QUERY, conn)\n",
    "data.head(10)"
   ]
  },
  {
   "cell_type": "markdown",
   "id": "366d618c",
   "metadata": {},
   "source": [
    "Database"
   ]
  },
  {
   "cell_type": "code",
   "execution_count": 48,
   "id": "8ee095e2",
   "metadata": {},
   "outputs": [
    {
     "data": {
      "text/plain": [
       "(1028, 3)"
      ]
     },
     "execution_count": 48,
     "metadata": {},
     "output_type": "execute_result"
    }
   ],
   "source": [
    "QUERY = \"\"\"\n",
    "SELECT B1.Respondent, B1.DatabaseWorkedWith, B2.ConvertedComp\n",
    "FROM DatabaseWorkedWith AS B1\n",
    "JOIN master AS B2\n",
    "ON B1.Respondent = B2.Respondent\n",
    "WHERE B2.ConvertedComp > 100000 and B1.DatabaseWorkedWith = \"MySQL\"\n",
    "ORDER BY B2.ConvertedComp DESC\n",
    "\"\"\"\n",
    "data = pd.read_sql(QUERY, conn)\n",
    "data.shape"
   ]
  },
  {
   "cell_type": "code",
   "execution_count": 49,
   "id": "76963b75",
   "metadata": {},
   "outputs": [
    {
     "data": {
      "text/plain": [
       "(894, 3)"
      ]
     },
     "execution_count": 49,
     "metadata": {},
     "output_type": "execute_result"
    }
   ],
   "source": [
    "QUERY = \"\"\"\n",
    "SELECT B1.Respondent, B1.DatabaseWorkedWith, B2.ConvertedComp\n",
    "FROM DatabaseWorkedWith AS B1\n",
    "JOIN master AS B2\n",
    "ON B1.Respondent = B2.Respondent\n",
    "WHERE B2.ConvertedComp > 100000 and B1.DatabaseWorkedWith = \"Microsoft SQL Server\"\n",
    "ORDER BY B2.ConvertedComp DESC\n",
    "\"\"\"\n",
    "data = pd.read_sql(QUERY, conn)\n",
    "data.shape"
   ]
  },
  {
   "cell_type": "code",
   "execution_count": 50,
   "id": "1694728b",
   "metadata": {},
   "outputs": [
    {
     "data": {
      "text/plain": [
       "(994, 3)"
      ]
     },
     "execution_count": 50,
     "metadata": {},
     "output_type": "execute_result"
    }
   ],
   "source": [
    "QUERY = \"\"\"\n",
    "SELECT B1.Respondent, B1.DatabaseWorkedWith, B2.ConvertedComp\n",
    "FROM DatabaseWorkedWith AS B1\n",
    "JOIN master AS B2\n",
    "ON B1.Respondent = B2.Respondent\n",
    "WHERE B2.ConvertedComp > 100000 and B1.DatabaseWorkedWith = \"PostgreSQL\"\n",
    "ORDER BY B2.ConvertedComp DESC\n",
    "\"\"\"\n",
    "data = pd.read_sql(QUERY, conn)\n",
    "data.shape"
   ]
  },
  {
   "cell_type": "code",
   "execution_count": 51,
   "id": "620c2cbb",
   "metadata": {},
   "outputs": [
    {
     "data": {
      "text/plain": [
       "(624, 3)"
      ]
     },
     "execution_count": 51,
     "metadata": {},
     "output_type": "execute_result"
    }
   ],
   "source": [
    "QUERY = \"\"\"\n",
    "SELECT B1.Respondent, B1.DatabaseWorkedWith, B2.ConvertedComp\n",
    "FROM DatabaseWorkedWith AS B1\n",
    "JOIN master AS B2\n",
    "ON B1.Respondent = B2.Respondent\n",
    "WHERE B2.ConvertedComp > 100000 and B1.DatabaseWorkedWith = \"SQLite\"\n",
    "ORDER BY B2.ConvertedComp DESC\n",
    "\"\"\"\n",
    "data = pd.read_sql(QUERY, conn)\n",
    "data.shape"
   ]
  },
  {
   "cell_type": "code",
   "execution_count": 52,
   "id": "af287a39",
   "metadata": {},
   "outputs": [
    {
     "data": {
      "text/plain": [
       "(621, 3)"
      ]
     },
     "execution_count": 52,
     "metadata": {},
     "output_type": "execute_result"
    }
   ],
   "source": [
    "QUERY = \"\"\"\n",
    "SELECT B1.Respondent, B1.DatabaseWorkedWith, B2.ConvertedComp\n",
    "FROM DatabaseWorkedWith AS B1\n",
    "JOIN master AS B2\n",
    "ON B1.Respondent = B2.Respondent\n",
    "WHERE B2.ConvertedComp > 100000 and B1.DatabaseWorkedWith = \"MongoDB\"\n",
    "ORDER BY B2.ConvertedComp DESC\n",
    "\"\"\"\n",
    "data = pd.read_sql(QUERY, conn)\n",
    "data.shape"
   ]
  },
  {
   "cell_type": "code",
   "execution_count": 56,
   "id": "daa2a8e6",
   "metadata": {},
   "outputs": [
    {
     "data": {
      "text/plain": [
       "(727, 3)"
      ]
     },
     "execution_count": 56,
     "metadata": {},
     "output_type": "execute_result"
    }
   ],
   "source": [
    "QUERY = \"\"\"\n",
    "SELECT B1.Respondent, B1.DatabaseWorkedWith, B2.ConvertedComp\n",
    "FROM DatabaseWorkedWith AS B1\n",
    "JOIN master AS B2\n",
    "ON B1.Respondent = B2.Respondent\n",
    "WHERE B2.ConvertedComp > 100000 and B1.DatabaseWorkedWith = \"Redis\"\n",
    "ORDER BY B2.ConvertedComp DESC\n",
    "\"\"\"\n",
    "data = pd.read_sql(QUERY, conn)\n",
    "data.shape"
   ]
  },
  {
   "cell_type": "code",
   "execution_count": 57,
   "id": "705d90db",
   "metadata": {},
   "outputs": [
    {
     "data": {
      "text/plain": [
       "(302, 3)"
      ]
     },
     "execution_count": 57,
     "metadata": {},
     "output_type": "execute_result"
    }
   ],
   "source": [
    "QUERY = \"\"\"\n",
    "SELECT B1.Respondent, B1.DatabaseWorkedWith, B2.ConvertedComp\n",
    "FROM DatabaseWorkedWith AS B1\n",
    "JOIN master AS B2\n",
    "ON B1.Respondent = B2.Respondent\n",
    "WHERE B2.ConvertedComp > 100000 and B1.DatabaseWorkedWith = \"Oracle\"\n",
    "ORDER BY B2.ConvertedComp DESC\n",
    "\"\"\"\n",
    "data = pd.read_sql(QUERY, conn)\n",
    "data.shape"
   ]
  },
  {
   "cell_type": "code",
   "execution_count": 58,
   "id": "5e29036d",
   "metadata": {},
   "outputs": [
    {
     "data": {
      "text/plain": [
       "(577, 3)"
      ]
     },
     "execution_count": 58,
     "metadata": {},
     "output_type": "execute_result"
    }
   ],
   "source": [
    "QUERY = \"\"\"\n",
    "SELECT B1.Respondent, B1.DatabaseWorkedWith, B2.ConvertedComp\n",
    "FROM DatabaseWorkedWith AS B1\n",
    "JOIN master AS B2\n",
    "ON B1.Respondent = B2.Respondent\n",
    "WHERE B2.ConvertedComp > 100000 and B1.DatabaseWorkedWith = \"Elasticsearch\"\n",
    "ORDER BY B2.ConvertedComp DESC\n",
    "\"\"\"\n",
    "data = pd.read_sql(QUERY, conn)\n",
    "data.shape"
   ]
  },
  {
   "cell_type": "code",
   "execution_count": 17,
   "id": "e5ba53cc",
   "metadata": {},
   "outputs": [],
   "source": [
    "data = pd.read_csv('data_demographics.csv')"
   ]
  },
  {
   "cell_type": "code",
   "execution_count": 18,
   "id": "572419b2",
   "metadata": {},
   "outputs": [
    {
     "ename": "SyntaxError",
     "evalue": "cannot assign to operator (1066299926.py, line 2)",
     "output_type": "error",
     "traceback": [
      "\u001b[1;36m  Input \u001b[1;32mIn [18]\u001b[1;36m\u001b[0m\n\u001b[1;33m    HTML/CSS \t=1673\u001b[0m\n\u001b[1;37m    ^\u001b[0m\n\u001b[1;31mSyntaxError\u001b[0m\u001b[1;31m:\u001b[0m cannot assign to operator\n"
     ]
    }
   ],
   "source": [
    "MySQL 1028\n",
    "Microsoft SQL Server 894\n",
    "PostgreSQL 994\n",
    "SQLite 624\n",
    "MongoDB 621\n",
    "Redis 727"
   ]
  },
  {
   "cell_type": "code",
   "execution_count": 69,
   "id": "3df0aaea",
   "metadata": {},
   "outputs": [
    {
     "name": "stdout",
     "output_type": "stream",
     "text": [
      "               Database  Number of High Earners\n",
      "0                 MySQL                    1028\n",
      "1            PostgreSQL                     994\n",
      "2  Microsoft SQL Server                     894\n",
      "3                 Redis                     727\n",
      "4                SQLite                     624\n",
      "5              MongoDB                      621\n"
     ]
    }
   ],
   "source": [
    "Top_D = pd.DataFrame({'Database': ['MySQL', 'PostgreSQL', 'Microsoft SQL Server', 'Redis', 'SQLite','MongoDB '],\n",
    "                      'Number of High Earners': [1028, 994, 894, 727, 624,621]})\n",
    "\n",
    "\n",
    "print(Top_D)"
   ]
  },
  {
   "cell_type": "code",
   "execution_count": 72,
   "id": "308d7388",
   "metadata": {},
   "outputs": [
    {
     "data": {
      "image/png": "[encoded data removed]",
      "text/plain": [
       "<Figure size 900x600 with 1 Axes>"
      ]
     },
     "metadata": {},
     "output_type": "display_data"
    }
   ],
   "source": [
    "colors = ['blue', 'green', 'red', 'purple', 'orange','pink']\n",
    "plt.figure(figsize=(9,6))\n",
    "\n",
    "\n",
    "bars = plt.bar(Top_D['Database'], Top_D['Number of High Earners'], color=colors)\n",
    "\n",
    "plt.show()\n"
   ]
  },
  {
   "cell_type": "code",
   "execution_count": 9,
   "id": "808d332c",
   "metadata": {},
   "outputs": [
    {
     "data": {
      "text/plain": [
       "Index(['Respondent', 'MainBranch', 'Hobbyist', 'OpenSourcer', 'OpenSource',\n",
       "       'Employment', 'Country', 'Student', 'EdLevel', 'UndergradMajor',\n",
       "       'EduOther', 'OrgSize', 'DevType', 'YearsCode', 'Age1stCode',\n",
       "       'YearsCodePro', 'CareerSat', 'JobSat', 'MgrIdiot', 'MgrMoney',\n",
       "       'MgrWant', 'JobSeek', 'LastHireDate', 'LastInt', 'FizzBuzz',\n",
       "       'JobFactors', 'ResumeUpdate', 'CurrencySymbol', 'CurrencyDesc',\n",
       "       'CompTotal', 'CompFreq', 'ConvertedComp', 'WorkWeekHrs', 'WorkPlan',\n",
       "       'WorkChallenge', 'WorkRemote', 'WorkLoc', 'ImpSyn', 'CodeRev',\n",
       "       'CodeRevHrs', 'UnitTests', 'PurchaseHow', 'PurchaseWhat', 'BetterLife',\n",
       "       'ITperson', 'OffOn', 'SocialMedia', 'Extraversion', 'ScreenName',\n",
       "       'SOVisit1st', 'SOVisitFreq', 'SOVisitTo', 'SOFindAnswer', 'SOTimeSaved',\n",
       "       'SOHowMuchTime', 'SOAccount', 'SOPartFreq', 'SOJobs', 'EntTeams',\n",
       "       'SOComm', 'WelcomeChange', 'SONewContent', 'Age', 'Gender', 'Trans',\n",
       "       'Sexuality', 'Ethnicity', 'Dependents', 'SurveyLength', 'SurveyEase'],\n",
       "      dtype='object')"
      ]
     },
     "execution_count": 9,
     "metadata": {},
     "output_type": "execute_result"
    }
   ],
   "source": [
    "data.columns"
   ]
  },
  {
   "cell_type": "markdown",
   "id": "ccd8ea1e",
   "metadata": {},
   "source": [
    "Variable Selection\\\n",
    "-EdLevel\\\n",
    "-UndergradMajor\\\n",
    "-DevType\\\n",
    "-YearsCode\\\n",
    "-Age\\\n",
    "-Gender"
   ]
  },
  {
   "cell_type": "markdown",
   "id": "626dc053",
   "metadata": {},
   "source": [
    "Visualization before defining \"High earning developers\""
   ]
  },
  {
   "cell_type": "markdown",
   "id": "d15e0ac4",
   "metadata": {},
   "source": [
    "Gender"
   ]
  },
  {
   "cell_type": "code",
   "execution_count": 10,
   "id": "796c4f0a",
   "metadata": {},
   "outputs": [
    {
     "data": {
      "text/plain": [
       "array(['Man', 'Woman',\n",
       "       'Non-binary, genderqueer, or gender non-conforming', nan,\n",
       "       'Woman;Non-binary, genderqueer, or gender non-conforming',\n",
       "       'Woman;Man',\n",
       "       'Woman;Man;Non-binary, genderqueer, or gender non-conforming',\n",
       "       'Man;Non-binary, genderqueer, or gender non-conforming'],\n",
       "      dtype=object)"
      ]
     },
     "execution_count": 10,
     "metadata": {},
     "output_type": "execute_result"
    }
   ],
   "source": [
    "data['Gender'].unique()"
   ]
  },
  {
   "cell_type": "code",
   "execution_count": 11,
   "id": "c9623bd0",
   "metadata": {},
   "outputs": [
    {
     "data": {
      "text/plain": [
       "0"
      ]
     },
     "execution_count": 11,
     "metadata": {},
     "output_type": "execute_result"
    }
   ],
   "source": [
    "no_null = data['Gender'].dropna(inplace=False)\n",
    "no_null.isnull().sum()"
   ]
  },
  {
   "cell_type": "code",
   "execution_count": 12,
   "id": "e68ea73a",
   "metadata": {},
   "outputs": [
    {
     "data": {
      "text/plain": [
       "Man                                                            10480\n",
       "Woman                                                            731\n",
       "Non-binary, genderqueer, or gender non-conforming                 63\n",
       "Man;Non-binary, genderqueer, or gender non-conforming             26\n",
       "Woman;Non-binary, genderqueer, or gender non-conforming           14\n",
       "Woman;Man                                                          9\n",
       "Woman;Man;Non-binary, genderqueer, or gender non-conforming        2\n",
       "Name: Gender, dtype: int64"
      ]
     },
     "execution_count": 12,
     "metadata": {},
     "output_type": "execute_result"
    }
   ],
   "source": [
    "gender_count= no_null.value_counts()\n",
    "gender_count"
   ]
  },
  {
   "cell_type": "code",
   "execution_count": 13,
   "id": "73547eb5",
   "metadata": {},
   "outputs": [
    {
     "data": {
      "text/plain": [
       "<AxesSubplot:>"
      ]
     },
     "execution_count": 13,
     "metadata": {},
     "output_type": "execute_result"
    },
    {
     "data": {
      "image/png": "[encoded data removed]",
      "text/plain": [
       "<Figure size 640x480 with 1 Axes>"
      ]
     },
     "metadata": {},
     "output_type": "display_data"
    }
   ],
   "source": [
    "gender_count.plot(kind='barh')"
   ]
  },
  {
   "cell_type": "code",
   "execution_count": 75,
   "id": "78d0c7bd",
   "metadata": {},
   "outputs": [
    {
     "data": {
      "text/plain": [
       "Man      10480\n",
       "Woman      731\n",
       "Name: Gender, dtype: int64"
      ]
     },
     "execution_count": 75,
     "metadata": {},
     "output_type": "execute_result"
    }
   ],
   "source": [
    "filtered_no_null = no_null[no_null.isin(['Man', 'Woman'])]\n",
    "filtered_no_null.value_counts()"
   ]
  },
  {
   "cell_type": "code",
   "execution_count": 86,
   "id": "01a302b3",
   "metadata": {},
   "outputs": [
    {
     "data": {
      "text/plain": [
       "<AxesSubplot:ylabel='Gender'>"
      ]
     },
     "execution_count": 86,
     "metadata": {},
     "output_type": "execute_result"
    },
    {
     "data": {
      "image/png": "[encoded data removed]",
      "text/plain": [
       "<Figure size 640x480 with 1 Axes>"
      ]
     },
     "metadata": {},
     "output_type": "display_data"
    }
   ],
   "source": [
    "labels = ['Man', 'Woman','','','','','']\n",
    "\n",
    "gender_count.plot(kind='pie',labels=labels,\n",
    "                 autopct='%1.1f%%')"
   ]
  },
  {
   "cell_type": "code",
   "execution_count": null,
   "id": "695e7692",
   "metadata": {},
   "outputs": [],
   "source": [
    "#92.5 percent are Man"
   ]
  },
  {
   "cell_type": "markdown",
   "id": "c8789c3b",
   "metadata": {},
   "source": [
    "Age"
   ]
  },
  {
   "cell_type": "code",
   "execution_count": 93,
   "id": "c18a1581",
   "metadata": {},
   "outputs": [
    {
     "data": {
      "text/plain": [
       "287"
      ]
     },
     "execution_count": 93,
     "metadata": {},
     "output_type": "execute_result"
    }
   ],
   "source": [
    "data['Age'].isnull().sum()"
   ]
  },
  {
   "cell_type": "code",
   "execution_count": 88,
   "id": "1285b98f",
   "metadata": {},
   "outputs": [
    {
     "data": {
      "text/plain": [
       "99.0"
      ]
     },
     "execution_count": 88,
     "metadata": {},
     "output_type": "execute_result"
    }
   ],
   "source": [
    "data['Age'].max()"
   ]
  },
  {
   "cell_type": "code",
   "execution_count": 89,
   "id": "ab12ce30",
   "metadata": {},
   "outputs": [
    {
     "data": {
      "text/plain": [
       "16.0"
      ]
     },
     "execution_count": 89,
     "metadata": {},
     "output_type": "execute_result"
    }
   ],
   "source": [
    "data['Age'].min()"
   ]
  },
  {
   "cell_type": "code",
   "execution_count": 90,
   "id": "2a2a7528",
   "metadata": {},
   "outputs": [
    {
     "data": {
      "text/plain": [
       "30.779137791377913"
      ]
     },
     "execution_count": 90,
     "metadata": {},
     "output_type": "execute_result"
    }
   ],
   "source": [
    "data['Age'].mean()"
   ]
  },
  {
   "cell_type": "code",
   "execution_count": 91,
   "id": "24e95fb9",
   "metadata": {},
   "outputs": [
    {
     "data": {
      "text/plain": [
       "0    28.0\n",
       "Name: Age, dtype: float64"
      ]
     },
     "execution_count": 91,
     "metadata": {},
     "output_type": "execute_result"
    }
   ],
   "source": [
    "data['Age'].mode()"
   ]
  },
  {
   "cell_type": "code",
   "execution_count": 92,
   "id": "eed1987c",
   "metadata": {},
   "outputs": [
    {
     "data": {
      "text/plain": [
       "<AxesSubplot:xlabel='Age', ylabel='Count'>"
      ]
     },
     "execution_count": 92,
     "metadata": {},
     "output_type": "execute_result"
    },
    {
     "data": {
      "image/png": "[encoded data removed]",
      "text/plain": [
       "<Figure size 640x480 with 1 Axes>"
      ]
     },
     "metadata": {},
     "output_type": "display_data"
    }
   ],
   "source": [
    "import seaborn as sns\n",
    "sns.histplot(data=data['Age'], bins='auto')"
   ]
  },
  {
   "cell_type": "markdown",
   "id": "1934f84b",
   "metadata": {},
   "source": [
    "Educational level"
   ]
  },
  {
   "cell_type": "code",
   "execution_count": 94,
   "id": "b7e1faf3",
   "metadata": {},
   "outputs": [
    {
     "data": {
      "text/plain": [
       "112"
      ]
     },
     "execution_count": 94,
     "metadata": {},
     "output_type": "execute_result"
    }
   ],
   "source": [
    "data['EdLevel'].isnull().sum()"
   ]
  },
  {
   "cell_type": "code",
   "execution_count": 97,
   "id": "777aac7f",
   "metadata": {},
   "outputs": [],
   "source": [
    "ed_level = data['EdLevel'].value_counts()"
   ]
  },
  {
   "cell_type": "code",
   "execution_count": 98,
   "id": "64426e27",
   "metadata": {},
   "outputs": [
    {
     "data": {
      "text/plain": [
       "<AxesSubplot:>"
      ]
     },
     "execution_count": 98,
     "metadata": {},
     "output_type": "execute_result"
    },
    {
     "data": {
      "image/png": "[encoded data removed]",
      "text/plain": [
       "<Figure size 640x480 with 1 Axes>"
      ]
     },
     "metadata": {},
     "output_type": "display_data"
    }
   ],
   "source": [
    "ed_level.plot(kind='barh')"
   ]
  },
  {
   "cell_type": "code",
   "execution_count": 105,
   "id": "ec361779",
   "metadata": {},
   "outputs": [
    {
     "data": {
      "text/plain": [
       "Computer science, computer engineering, or software engineering          6953\n",
       "Information systems, information technology, or system administration     794\n",
       "Another engineering discipline (ex. civil, electrical, mechanical)        759\n",
       "Web development or web design                                             410\n",
       "A natural science (ex. biology, chemistry, physics)                       403\n",
       "Mathematics or statistics                                                 372\n",
       "A business discipline (ex. accounting, finance, marketing)                244\n",
       "A social science (ex. anthropology, psychology, political science)        210\n",
       "A humanities discipline (ex. literature, history, philosophy)             207\n",
       "Fine arts or performing arts (ex. graphic design, music, studio art)      161\n",
       "I never declared a major                                                  124\n",
       "A health science (ex. nursing, pharmacy, radiology)                        24\n",
       "Name: UndergradMajor, dtype: int64"
      ]
     },
     "execution_count": 105,
     "metadata": {},
     "output_type": "execute_result"
    }
   ],
   "source": [
    "Under_major = data['UndergradMajor'].value_counts()\n",
    "Under_major"
   ]
  },
  {
   "cell_type": "code",
   "execution_count": 149,
   "id": "5b0ed822",
   "metadata": {},
   "outputs": [
    {
     "data": {
      "text/plain": [
       "<AxesSubplot:ylabel='UndergradMajor'>"
      ]
     },
     "execution_count": 149,
     "metadata": {},
     "output_type": "execute_result"
    },
    {
     "data": {
      "image/png": "[encoded data removed]",
      "text/plain": [
       "<Figure size 1000x800 with 1 Axes>"
      ]
     },
     "metadata": {},
     "output_type": "display_data"
    }
   ],
   "source": [
    "plt.figure(figsize=(10,8))\n",
    "\n",
    "Under_major.plot(kind='pie',\n",
    "                labels=None,\n",
    "                autopct='%1.1f%%',\n",
    "                pctdistance = 1.3)\n",
    "\n"
   ]
  },
  {
   "cell_type": "code",
   "execution_count": null,
   "id": "e8121ca0",
   "metadata": {},
   "outputs": [],
   "source": [
    "-DevType\n",
    "-YearsCode"
   ]
  },
  {
   "cell_type": "code",
   "execution_count": 156,
   "id": "03f2fb05",
   "metadata": {},
   "outputs": [
    {
     "data": {
      "text/plain": [
       "Developer, full-stack                                                                                                                                                                                                                                                                           1472\n",
       "Developer, back-end                                                                                                                                                                                                                                                                              752\n",
       "Developer, back-end;Developer, front-end;Developer, full-stack                                                                                                                                                                                                                                   446\n",
       "Developer, back-end;Developer, full-stack                                                                                                                                                                                                                                                        405\n",
       "Developer, front-end                                                                                                                                                                                                                                                                             292\n",
       "                                                                                                                                                                                                                                                                                                ... \n",
       "Database administrator;Developer, back-end;DevOps specialist;Engineer, data;Engineer, site reliability                                                                                                                                                                                             1\n",
       "Developer, full-stack;Developer, mobile;Engineer, data                                                                                                                                                                                                                                             1\n",
       "Developer, desktop or enterprise applications;Developer, front-end;Developer, full-stack;Educator                                                                                                                                                                                                  1\n",
       "Data scientist or machine learning specialist;Developer, back-end;Developer, front-end;Developer, full-stack;Developer, mobile;Student                                                                                                                                                             1\n",
       "Database administrator;Developer, back-end;Developer, desktop or enterprise applications;Developer, embedded applications or devices;Developer, front-end;Developer, full-stack;Developer, game or graphics;Developer, mobile;Engineer, data;Engineer, site reliability;System administrator       1\n",
       "Name: DevType, Length: 2756, dtype: int64"
      ]
     },
     "execution_count": 156,
     "metadata": {},
     "output_type": "execute_result"
    }
   ],
   "source": [
    "data['DevType'].value_counts()"
   ]
  },
  {
   "cell_type": "code",
   "execution_count": 157,
   "id": "01808070",
   "metadata": {},
   "outputs": [
    {
     "data": {
      "text/plain": [
       "10                  1006\n",
       "6                    842\n",
       "8                    830\n",
       "5                    783\n",
       "7                    775\n",
       "15                   615\n",
       "12                   573\n",
       "20                   555\n",
       "4                    535\n",
       "9                    502\n",
       "3                    437\n",
       "14                   359\n",
       "11                   354\n",
       "13                   332\n",
       "18                   319\n",
       "2                    270\n",
       "16                   267\n",
       "17                   228\n",
       "25                   221\n",
       "30                   173\n",
       "22                   159\n",
       "19                   156\n",
       "23                   121\n",
       "24                   113\n",
       "21                    94\n",
       "35                    90\n",
       "1                     81\n",
       "26                    65\n",
       "27                    61\n",
       "32                    60\n",
       "28                    56\n",
       "33                    50\n",
       "40                    45\n",
       "37                    43\n",
       "34                    40\n",
       "38                    34\n",
       "29                    29\n",
       "31                    27\n",
       "36                    23\n",
       "39                    22\n",
       "Less than 1 year      19\n",
       "41                     5\n",
       "45                     4\n",
       "44                     4\n",
       "42                     3\n",
       "43                     2\n",
       "47                     2\n",
       "49                     2\n",
       "50                     1\n",
       "46                     1\n",
       "48                     1\n",
       "Name: YearsCode, dtype: int64"
      ]
     },
     "execution_count": 157,
     "metadata": {},
     "output_type": "execute_result"
    }
   ],
   "source": [
    "data['YearsCode'].value_counts()"
   ]
  },
  {
   "cell_type": "code",
   "execution_count": 159,
   "id": "8b24a5de",
   "metadata": {},
   "outputs": [
    {
     "data": {
      "text/plain": [
       "2000000.0"
      ]
     },
     "execution_count": 159,
     "metadata": {},
     "output_type": "execute_result"
    }
   ],
   "source": [
    "data['ConvertedComp'].max()"
   ]
  },
  {
   "cell_type": "code",
   "execution_count": 166,
   "id": "1dc9c256",
   "metadata": {},
   "outputs": [],
   "source": [
    "max_comp = data[data['ConvertedComp'] == 2000000.0]"
   ]
  },
  {
   "cell_type": "code",
   "execution_count": 168,
   "id": "65bdb0df",
   "metadata": {},
   "outputs": [
    {
     "data": {
      "text/plain": [
       "(138, 70)"
      ]
     },
     "execution_count": 168,
     "metadata": {},
     "output_type": "execute_result"
    }
   ],
   "source": [
    "max_comp.shape"
   ]
  },
  {
   "cell_type": "code",
   "execution_count": 169,
   "id": "02cca81f",
   "metadata": {},
   "outputs": [
    {
     "data": {
      "text/plain": [
       "0.0"
      ]
     },
     "execution_count": 169,
     "metadata": {},
     "output_type": "execute_result"
    }
   ],
   "source": [
    "data['ConvertedComp'].min()"
   ]
  },
  {
   "cell_type": "code",
   "execution_count": 172,
   "id": "b85d6a87",
   "metadata": {},
   "outputs": [
    {
     "data": {
      "text/plain": [
       "57745.0"
      ]
     },
     "execution_count": 172,
     "metadata": {},
     "output_type": "execute_result"
    }
   ],
   "source": [
    "data['ConvertedComp'].median()"
   ]
  },
  {
   "cell_type": "code",
   "execution_count": 171,
   "id": "03872a93",
   "metadata": {},
   "outputs": [
    {
     "data": {
      "text/plain": [
       "ConvertedComp\n",
       "0.0           26\n",
       "4.0            1\n",
       "5.0            1\n",
       "10.0           2\n",
       "46.0           1\n",
       "            ... \n",
       "1848000.0      2\n",
       "1850000.0      1\n",
       "1860000.0      1\n",
       "1980000.0      1\n",
       "2000000.0    138\n",
       "Length: 3515, dtype: int64"
      ]
     },
     "execution_count": 171,
     "metadata": {},
     "output_type": "execute_result"
    }
   ],
   "source": [
    "data.groupby(by='ConvertedComp').size()"
   ]
  },
  {
   "cell_type": "code",
   "execution_count": 175,
   "id": "785e75f0",
   "metadata": {},
   "outputs": [
    {
     "data": {
      "text/plain": [
       "(2557, 70)"
      ]
     },
     "execution_count": 175,
     "metadata": {},
     "output_type": "execute_result"
    }
   ],
   "source": [
    "Highearning_data = data[data['ConvertedComp'] > 100000]\n",
    "Highearning_data.shape"
   ]
  },
  {
   "cell_type": "markdown",
   "id": "598a200e",
   "metadata": {},
   "source": [
    "Age"
   ]
  },
  {
   "cell_type": "code",
   "execution_count": 177,
   "id": "85d3ec58",
   "metadata": {},
   "outputs": [
    {
     "data": {
      "text/plain": [
       "<AxesSubplot:ylabel='Frequency'>"
      ]
     },
     "execution_count": 177,
     "metadata": {},
     "output_type": "execute_result"
    },
    {
     "data": {
      "image/png": "[encoded data removed]",
      "text/plain": [
       "<Figure size 640x480 with 1 Axes>"
      ]
     },
     "metadata": {},
     "output_type": "display_data"
    }
   ],
   "source": [
    "Highearning_data['Age'].plot(kind='hist')"
   ]
  },
  {
   "cell_type": "code",
   "execution_count": 204,
   "id": "d96d3df6",
   "metadata": {},
   "outputs": [
    {
     "data": {
      "text/plain": [
       "99.0"
      ]
     },
     "execution_count": 204,
     "metadata": {},
     "output_type": "execute_result"
    }
   ],
   "source": [
    "Highearning_data['Age'].max()"
   ]
  },
  {
   "cell_type": "code",
   "execution_count": 205,
   "id": "e237a5a2",
   "metadata": {},
   "outputs": [
    {
     "data": {
      "text/plain": [
       "17.0"
      ]
     },
     "execution_count": 205,
     "metadata": {},
     "output_type": "execute_result"
    }
   ],
   "source": [
    "Highearning_data['Age'].min()"
   ]
  },
  {
   "cell_type": "code",
   "execution_count": 206,
   "id": "6ade48a3",
   "metadata": {},
   "outputs": [
    {
     "data": {
      "text/plain": [
       "34.296147672552166"
      ]
     },
     "execution_count": 206,
     "metadata": {},
     "output_type": "execute_result"
    }
   ],
   "source": [
    "Highearning_data['Age'].mean()"
   ]
  },
  {
   "cell_type": "markdown",
   "id": "de8e8dd6",
   "metadata": {},
   "source": [
    "Gender"
   ]
  },
  {
   "cell_type": "code",
   "execution_count": 207,
   "id": "c80d9888",
   "metadata": {},
   "outputs": [
    {
     "data": {
      "text/plain": [
       "Man                                                        2357\n",
       "Woman                                                       155\n",
       "Non-binary, genderqueer, or gender non-conforming            17\n",
       "Woman;Non-binary, genderqueer, or gender non-conforming       5\n",
       "Man;Non-binary, genderqueer, or gender non-conforming         5\n",
       "Woman;Man                                                     1\n",
       "Name: Gender, dtype: int64"
      ]
     },
     "execution_count": 207,
     "metadata": {},
     "output_type": "execute_result"
    }
   ],
   "source": [
    "Gender_high = Highearning_data['Gender'].value_counts()\n",
    "Gender_high "
   ]
  },
  {
   "cell_type": "code",
   "execution_count": 186,
   "id": "7872ce82",
   "metadata": {},
   "outputs": [
    {
     "data": {
      "text/plain": [
       "<AxesSubplot:ylabel='Gender'>"
      ]
     },
     "execution_count": 186,
     "metadata": {},
     "output_type": "execute_result"
    },
    {
     "data": {
      "image/png": "[encoded data removed]",
      "text/plain": [
       "<Figure size 640x480 with 1 Axes>"
      ]
     },
     "metadata": {},
     "output_type": "display_data"
    }
   ],
   "source": [
    "Gender_high.plot(kind='pie',\n",
    "                 labels=None,\n",
    "                autopct='%1.1f%%',\n",
    "                pctdistance = 1.3)"
   ]
  },
  {
   "cell_type": "markdown",
   "id": "c6456aee",
   "metadata": {},
   "source": [
    "Educational level"
   ]
  },
  {
   "cell_type": "code",
   "execution_count": 193,
   "id": "e5d27b99",
   "metadata": {},
   "outputs": [
    {
     "data": {
      "text/plain": [
       "Bachelor’s degree (BA, BS, B.Eng., etc.)                                              1380\n",
       "Master’s degree (MA, MS, M.Eng., MBA, etc.)                                            607\n",
       "Some college/university study without earning a degree                                 303\n",
       "Other doctoral degree (Ph.D, Ed.D., etc.)                                               86\n",
       "Associate degree                                                                        79\n",
       "Secondary school (e.g. American high school, German Realschule or Gymnasium, etc.)      64\n",
       "Professional degree (JD, MD, etc.)                                                      16\n",
       "I never completed any formal education                                                   7\n",
       "Primary/elementary school                                                                2\n",
       "Name: EdLevel, dtype: int64"
      ]
     },
     "execution_count": 193,
     "metadata": {},
     "output_type": "execute_result"
    }
   ],
   "source": [
    "Ed_high = Highearning_data['EdLevel'].value_counts()\n",
    "Ed_high"
   ]
  },
  {
   "cell_type": "code",
   "execution_count": 192,
   "id": "8f77e456",
   "metadata": {},
   "outputs": [
    {
     "data": {
      "text/plain": [
       "<AxesSubplot:ylabel='EdLevel'>"
      ]
     },
     "execution_count": 192,
     "metadata": {},
     "output_type": "execute_result"
    },
    {
     "data": {
      "image/png": "[encoded data removed]",
      "text/plain": [
       "<Figure size 640x480 with 1 Axes>"
      ]
     },
     "metadata": {},
     "output_type": "display_data"
    }
   ],
   "source": [
    "Ed_high.plot(kind='pie',\n",
    "            labels=None,\n",
    "                autopct='%1.1f%%',\n",
    "                pctdistance = 1.3)"
   ]
  },
  {
   "cell_type": "code",
   "execution_count": 195,
   "id": "9d4b56b7",
   "metadata": {},
   "outputs": [
    {
     "data": {
      "text/plain": [
       "Computer science, computer engineering, or software engineering          1561\n",
       "Information systems, information technology, or system administration     160\n",
       "Another engineering discipline (ex. civil, electrical, mechanical)        158\n",
       "A natural science (ex. biology, chemistry, physics)                       119\n",
       "Mathematics or statistics                                                 104\n",
       "A humanities discipline (ex. literature, history, philosophy)              69\n",
       "A social science (ex. anthropology, psychology, political science)         66\n",
       "A business discipline (ex. accounting, finance, marketing)                 60\n",
       "Fine arts or performing arts (ex. graphic design, music, studio art)       54\n",
       "Web development or web design                                              52\n",
       "I never declared a major                                                   38\n",
       "A health science (ex. nursing, pharmacy, radiology)                         7\n",
       "Name: UndergradMajor, dtype: int64"
      ]
     },
     "execution_count": 195,
     "metadata": {},
     "output_type": "execute_result"
    }
   ],
   "source": [
    "Highearning_data['UndergradMajor'].value_counts()"
   ]
  },
  {
   "cell_type": "code",
   "execution_count": null,
   "id": "ba33d273",
   "metadata": {},
   "outputs": [],
   "source": [
    "-EdLevel\n",
    "-UndergradMajor\n",
    "-DevType\n",
    "-YearsCode\n",
    "-Age\n",
    "-Gender"
   ]
  },
  {
   "cell_type": "code",
   "execution_count": 208,
   "id": "104b7f6c",
   "metadata": {},
   "outputs": [
    {
     "data": {
      "text/plain": [
       "20    213\n",
       "10    179\n",
       "15    135\n",
       "12    127\n",
       "8     125\n",
       "6     121\n",
       "7     120\n",
       "9      97\n",
       "14     97\n",
       "18     95\n",
       "Name: YearsCode, dtype: int64"
      ]
     },
     "execution_count": 208,
     "metadata": {},
     "output_type": "execute_result"
    }
   ],
   "source": [
    "Top_10 = Highearning_data['YearsCode'].value_counts().head(10)\n",
    "Top_10"
   ]
  },
  {
   "cell_type": "code",
   "execution_count": 203,
   "id": "9b0881c7",
   "metadata": {},
   "outputs": [
    {
     "data": {
      "text/plain": [
       "<AxesSubplot:>"
      ]
     },
     "execution_count": 203,
     "metadata": {},
     "output_type": "execute_result"
    },
    {
     "data": {
      "image/png": "[encoded data removed]",
      "text/plain": [
       "<Figure size 640x480 with 1 Axes>"
      ]
     },
     "metadata": {},
     "output_type": "display_data"
    }
   ],
   "source": [
    "Top_10.plot(kind='bar')"
   ]
  },
  {
   "cell_type": "code",
   "execution_count": 217,
   "id": "cbe30d5a",
   "metadata": {},
   "outputs": [
    {
     "data": {
      "text/plain": [
       "CodeRev                                  YearsCode       \n",
       "Yes, because I see value in code review  20                  173\n",
       "                                         10                  156\n",
       "                                         12                  109\n",
       "                                         15                  109\n",
       "                                         8                    97\n",
       "                                                            ... \n",
       "No                                       45                    1\n",
       "                                         47                    1\n",
       "Yes, because I see value in code review  42                    1\n",
       "                                         Less than 1 year      1\n",
       "No                                       1                     1\n",
       "Length: 126, dtype: int64"
      ]
     },
     "execution_count": 217,
     "metadata": {},
     "output_type": "execute_result"
    }
   ],
   "source": [
    "new = Highearning_data[['CodeRev', 'YearsCode']]\n",
    "new.value_counts()"
   ]
  },
  {
   "cell_type": "code",
   "execution_count": 226,
   "id": "9b0583fa",
   "metadata": {},
   "outputs": [
    {
     "data": {
      "text/html": [
       "<div>\n",
       "<style scoped>\n",
       "    .dataframe tbody tr th:only-of-type {\n",
       "        vertical-align: middle;\n",
       "    }\n",
       "\n",
       "    .dataframe tbody tr th {\n",
       "        vertical-align: top;\n",
       "    }\n",
       "\n",
       "    .dataframe thead th {\n",
       "        text-align: right;\n",
       "    }\n",
       "</style>\n",
       "<table border=\"1\" class=\"dataframe\">\n",
       "  <thead>\n",
       "    <tr style=\"text-align: right;\">\n",
       "      <th></th>\n",
       "      <th>Age</th>\n",
       "      <th>ConvertedComp</th>\n",
       "    </tr>\n",
       "  </thead>\n",
       "  <tbody>\n",
       "    <tr>\n",
       "      <th>Age</th>\n",
       "      <td>1.000000</td>\n",
       "      <td>-0.119474</td>\n",
       "    </tr>\n",
       "    <tr>\n",
       "      <th>ConvertedComp</th>\n",
       "      <td>-0.119474</td>\n",
       "      <td>1.000000</td>\n",
       "    </tr>\n",
       "  </tbody>\n",
       "</table>\n",
       "</div>"
      ],
      "text/plain": [
       "                    Age  ConvertedComp\n",
       "Age            1.000000      -0.119474\n",
       "ConvertedComp -0.119474       1.000000"
      ]
     },
     "execution_count": 226,
     "metadata": {},
     "output_type": "execute_result"
    }
   ],
   "source": [
    "Highearning_data_corr = Highearning_data[['Age', 'ConvertedComp']].corr()\n",
    "Highearning_data_corr"
   ]
  },
  {
   "cell_type": "markdown",
   "id": "768c6e35",
   "metadata": {},
   "source": [
    "import seaborn as sns"
   ]
  },
  {
   "cell_type": "code",
   "execution_count": 227,
   "id": "dfd09409",
   "metadata": {},
   "outputs": [
    {
     "data": {
      "text/plain": [
       "<AxesSubplot:>"
      ]
     },
     "execution_count": 227,
     "metadata": {},
     "output_type": "execute_result"
    },
    {
     "data": {
      "image/png": "[encoded data removed]",
      "text/plain": [
       "<Figure size 640x480 with 2 Axes>"
      ]
     },
     "metadata": {},
     "output_type": "display_data"
    }
   ],
   "source": [
    "sns.heatmap(Highearning_data_corr)"
   ]
  },
  {
   "cell_type": "code",
   "execution_count": 222,
   "id": "e422a6c3",
   "metadata": {},
   "outputs": [
    {
     "data": {
      "text/html": [
       "<div>\n",
       "<style scoped>\n",
       "    .dataframe tbody tr th:only-of-type {\n",
       "        vertical-align: middle;\n",
       "    }\n",
       "\n",
       "    .dataframe tbody tr th {\n",
       "        vertical-align: top;\n",
       "    }\n",
       "\n",
       "    .dataframe thead th {\n",
       "        text-align: right;\n",
       "    }\n",
       "</style>\n",
       "<table border=\"1\" class=\"dataframe\">\n",
       "  <thead>\n",
       "    <tr style=\"text-align: right;\">\n",
       "      <th></th>\n",
       "      <th>Respondent</th>\n",
       "      <th>CompTotal</th>\n",
       "      <th>ConvertedComp</th>\n",
       "      <th>WorkWeekHrs</th>\n",
       "      <th>CodeRevHrs</th>\n",
       "      <th>Age</th>\n",
       "    </tr>\n",
       "  </thead>\n",
       "  <tbody>\n",
       "    <tr>\n",
       "      <th>count</th>\n",
       "      <td>6.000000</td>\n",
       "      <td>6.000000</td>\n",
       "      <td>6.000000</td>\n",
       "      <td>6.000000</td>\n",
       "      <td>6.000000</td>\n",
       "      <td>6.000000</td>\n",
       "    </tr>\n",
       "    <tr>\n",
       "      <th>mean</th>\n",
       "      <td>0.162878</td>\n",
       "      <td>0.168034</td>\n",
       "      <td>0.148541</td>\n",
       "      <td>0.173563</td>\n",
       "      <td>0.156720</td>\n",
       "      <td>0.140817</td>\n",
       "    </tr>\n",
       "    <tr>\n",
       "      <th>std</th>\n",
       "      <td>0.410127</td>\n",
       "      <td>0.407731</td>\n",
       "      <td>0.420350</td>\n",
       "      <td>0.405054</td>\n",
       "      <td>0.413652</td>\n",
       "      <td>0.423537</td>\n",
       "    </tr>\n",
       "    <tr>\n",
       "      <th>min</th>\n",
       "      <td>-0.011102</td>\n",
       "      <td>-0.014742</td>\n",
       "      <td>-0.119474</td>\n",
       "      <td>-0.011102</td>\n",
       "      <td>-0.038293</td>\n",
       "      <td>-0.119474</td>\n",
       "    </tr>\n",
       "    <tr>\n",
       "      <th>25%</th>\n",
       "      <td>-0.006699</td>\n",
       "      <td>0.000125</td>\n",
       "      <td>-0.021206</td>\n",
       "      <td>0.003311</td>\n",
       "      <td>-0.024287</td>\n",
       "      <td>-0.030752</td>\n",
       "    </tr>\n",
       "    <tr>\n",
       "      <th>50%</th>\n",
       "      <td>-0.001611</td>\n",
       "      <td>0.001448</td>\n",
       "      <td>0.008932</td>\n",
       "      <td>0.014759</td>\n",
       "      <td>-0.007773</td>\n",
       "      <td>-0.003283</td>\n",
       "    </tr>\n",
       "    <tr>\n",
       "      <th>75%</th>\n",
       "      <td>-0.000410</td>\n",
       "      <td>0.015635</td>\n",
       "      <td>0.020316</td>\n",
       "      <td>0.021292</td>\n",
       "      <td>0.016021</td>\n",
       "      <td>0.007318</td>\n",
       "    </tr>\n",
       "    <tr>\n",
       "      <th>max</th>\n",
       "      <td>1.000000</td>\n",
       "      <td>1.000000</td>\n",
       "      <td>1.000000</td>\n",
       "      <td>1.000000</td>\n",
       "      <td>1.000000</td>\n",
       "      <td>1.000000</td>\n",
       "    </tr>\n",
       "  </tbody>\n",
       "</table>\n",
       "</div>"
      ],
      "text/plain": [
       "       Respondent  CompTotal  ConvertedComp  WorkWeekHrs  CodeRevHrs       Age\n",
       "count    6.000000   6.000000       6.000000     6.000000    6.000000  6.000000\n",
       "mean     0.162878   0.168034       0.148541     0.173563    0.156720  0.140817\n",
       "std      0.410127   0.407731       0.420350     0.405054    0.413652  0.423537\n",
       "min     -0.011102  -0.014742      -0.119474    -0.011102   -0.038293 -0.119474\n",
       "25%     -0.006699   0.000125      -0.021206     0.003311   -0.024287 -0.030752\n",
       "50%     -0.001611   0.001448       0.008932     0.014759   -0.007773 -0.003283\n",
       "75%     -0.000410   0.015635       0.020316     0.021292    0.016021  0.007318\n",
       "max      1.000000   1.000000       1.000000     1.000000    1.000000  1.000000"
      ]
     },
     "execution_count": 222,
     "metadata": {},
     "output_type": "execute_result"
    }
   ],
   "source": [
    "Highearning_data_corr.describe()"
   ]
  },
  {
   "cell_type": "code",
   "execution_count": 229,
   "id": "cd7b21ab",
   "metadata": {},
   "outputs": [
    {
     "data": {
      "text/plain": [
       "2000000.0"
      ]
     },
     "execution_count": 229,
     "metadata": {},
     "output_type": "execute_result"
    }
   ],
   "source": [
    "Highearning_data['ConvertedComp'].max()"
   ]
  },
  {
   "cell_type": "code",
   "execution_count": 230,
   "id": "b90f05d9",
   "metadata": {},
   "outputs": [
    {
     "data": {
      "text/plain": [
       "100010.0"
      ]
     },
     "execution_count": 230,
     "metadata": {},
     "output_type": "execute_result"
    }
   ],
   "source": [
    "Highearning_data['ConvertedComp'].min()"
   ]
  },
  {
   "cell_type": "code",
   "execution_count": null,
   "id": "8b87ed9b",
   "metadata": {},
   "outputs": [],
   "source": []
  }
 ],
 "metadata": {
  "kernelspec": {
   "display_name": "Python 3 (ipykernel)",
   "language": "python",
   "name": "python3"
  },
  "language_info": {
   "codemirror_mode": {
    "name": "ipython",
    "version": 3
   },
   "file_extension": ".py",
   "mimetype": "text/x-python",
   "name": "python",
   "nbconvert_exporter": "python",
   "pygments_lexer": "ipython3",
   "version": "3.9.16"
  }
 },
 "nbformat": 4,
 "nbformat_minor": 5
}
