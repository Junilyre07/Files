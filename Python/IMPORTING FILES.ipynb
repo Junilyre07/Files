{
 "cells": [
  {
   "cell_type": "code",
   "execution_count": 6,
   "id": "71917a2b",
   "metadata": {},
   "outputs": [],
   "source": [
    "#making a dataframe "
   ]
  },
  {
   "cell_type": "code",
   "execution_count": 1,
   "id": "6da0e479",
   "metadata": {},
   "outputs": [],
   "source": [
    "import pandas as pd"
   ]
  },
  {
   "cell_type": "code",
   "execution_count": 2,
   "id": "0a8c4d52",
   "metadata": {},
   "outputs": [],
   "source": [
    "cousins = ({'Name' : ['Aldrin', 'Fiona', 'Rexearl', 'Khai', 'Jaden', 'Sam', 'Yuan', 'David', 'Jehan', 'Briel', 'Jazen'],\n",
    "                        'Age' : [18, 15, 15, 14, 11, 10, 9, 8, 8, 7,1],\n",
    "                        'Talent' : ['dancing', 'writing', 'drawing', 'singing', 'karate', 'beauty', 'painting', 'basketball', 'ballet', 'baking', 'eating']})"
   ]
  },
  {
   "cell_type": "code",
   "execution_count": 3,
   "id": "79efc57b",
   "metadata": {},
   "outputs": [],
   "source": [
    "cousins = pd.DataFrame(cousins)"
   ]
  },
  {
   "cell_type": "code",
   "execution_count": 4,
   "id": "f3025c0c",
   "metadata": {},
   "outputs": [
    {
     "data": {
      "text/html": [
       "<div>\n",
       "<style scoped>\n",
       "    .dataframe tbody tr th:only-of-type {\n",
       "        vertical-align: middle;\n",
       "    }\n",
       "\n",
       "    .dataframe tbody tr th {\n",
       "        vertical-align: top;\n",
       "    }\n",
       "\n",
       "    .dataframe thead th {\n",
       "        text-align: right;\n",
       "    }\n",
       "</style>\n",
       "<table border=\"1\" class=\"dataframe\">\n",
       "  <thead>\n",
       "    <tr style=\"text-align: right;\">\n",
       "      <th></th>\n",
       "      <th>Name</th>\n",
       "      <th>Age</th>\n",
       "      <th>Talent</th>\n",
       "    </tr>\n",
       "  </thead>\n",
       "  <tbody>\n",
       "    <tr>\n",
       "      <th>0</th>\n",
       "      <td>Aldrin</td>\n",
       "      <td>18</td>\n",
       "      <td>dancing</td>\n",
       "    </tr>\n",
       "    <tr>\n",
       "      <th>1</th>\n",
       "      <td>Fiona</td>\n",
       "      <td>15</td>\n",
       "      <td>writing</td>\n",
       "    </tr>\n",
       "    <tr>\n",
       "      <th>2</th>\n",
       "      <td>Rexearl</td>\n",
       "      <td>15</td>\n",
       "      <td>drawing</td>\n",
       "    </tr>\n",
       "    <tr>\n",
       "      <th>3</th>\n",
       "      <td>Khai</td>\n",
       "      <td>14</td>\n",
       "      <td>singing</td>\n",
       "    </tr>\n",
       "    <tr>\n",
       "      <th>4</th>\n",
       "      <td>Jaden</td>\n",
       "      <td>11</td>\n",
       "      <td>karate</td>\n",
       "    </tr>\n",
       "    <tr>\n",
       "      <th>5</th>\n",
       "      <td>Sam</td>\n",
       "      <td>10</td>\n",
       "      <td>beauty</td>\n",
       "    </tr>\n",
       "    <tr>\n",
       "      <th>6</th>\n",
       "      <td>Yuan</td>\n",
       "      <td>9</td>\n",
       "      <td>painting</td>\n",
       "    </tr>\n",
       "    <tr>\n",
       "      <th>7</th>\n",
       "      <td>David</td>\n",
       "      <td>8</td>\n",
       "      <td>basketball</td>\n",
       "    </tr>\n",
       "    <tr>\n",
       "      <th>8</th>\n",
       "      <td>Jehan</td>\n",
       "      <td>8</td>\n",
       "      <td>ballet</td>\n",
       "    </tr>\n",
       "    <tr>\n",
       "      <th>9</th>\n",
       "      <td>Briel</td>\n",
       "      <td>7</td>\n",
       "      <td>baking</td>\n",
       "    </tr>\n",
       "    <tr>\n",
       "      <th>10</th>\n",
       "      <td>Jazen</td>\n",
       "      <td>1</td>\n",
       "      <td>eating</td>\n",
       "    </tr>\n",
       "  </tbody>\n",
       "</table>\n",
       "</div>"
      ],
      "text/plain": [
       "       Name  Age      Talent\n",
       "0    Aldrin   18     dancing\n",
       "1     Fiona   15     writing\n",
       "2   Rexearl   15     drawing\n",
       "3      Khai   14     singing\n",
       "4     Jaden   11      karate\n",
       "5       Sam   10      beauty\n",
       "6      Yuan    9    painting\n",
       "7     David    8  basketball\n",
       "8     Jehan    8      ballet\n",
       "9     Briel    7      baking\n",
       "10    Jazen    1      eating"
      ]
     },
     "execution_count": 4,
     "metadata": {},
     "output_type": "execute_result"
    }
   ],
   "source": [
    "cousins"
   ]
  },
  {
   "cell_type": "code",
   "execution_count": 5,
   "id": "70f0a29e",
   "metadata": {},
   "outputs": [
    {
     "data": {
      "text/plain": [
       "Index(['Name', 'Age', 'Talent'], dtype='object')"
      ]
     },
     "execution_count": 5,
     "metadata": {},
     "output_type": "execute_result"
    }
   ],
   "source": [
    "cousins.keys()"
   ]
  },
  {
   "cell_type": "code",
   "execution_count": 6,
   "id": "a98f9727",
   "metadata": {},
   "outputs": [
    {
     "ename": "NameError",
     "evalue": "name 'filename' is not defined",
     "output_type": "error",
     "traceback": [
      "\u001b[1;31m---------------------------------------------------------------------------\u001b[0m",
      "\u001b[1;31mNameError\u001b[0m                                 Traceback (most recent call last)",
      "Input \u001b[1;32mIn [6]\u001b[0m, in \u001b[0;36m<cell line: 2>\u001b[1;34m()\u001b[0m\n\u001b[0;32m      1\u001b[0m \u001b[38;5;66;03m#saving as CSV\u001b[39;00m\n\u001b[1;32m----> 2\u001b[0m \u001b[43mfilename\u001b[49m\u001b[38;5;241m.\u001b[39mto_csv(\u001b[38;5;124m'\u001b[39m\u001b[38;5;124m'\u001b[39m\u001b[38;5;241m.\u001b[39mcsv)\n",
      "\u001b[1;31mNameError\u001b[0m: name 'filename' is not defined"
     ]
    }
   ],
   "source": [
    "#saving as CSV\n",
    "filename.to_csv(''.csv)"
   ]
  },
  {
   "cell_type": "code",
   "execution_count": null,
   "id": "2188ad18",
   "metadata": {},
   "outputs": [],
   "source": [
    "cousins.iloc[6, 2]"
   ]
  },
  {
   "cell_type": "code",
   "execution_count": 9,
   "id": "5ddc662b",
   "metadata": {},
   "outputs": [
    {
     "name": "stderr",
     "output_type": "stream",
     "text": [
      "C:\\Users\\Romelio Villar Jr\\AppData\\Local\\Temp\\ipykernel_26660\\2768657369.py:1: FutureWarning: Dropping of nuisance columns in DataFrame reductions (with 'numeric_only=None') is deprecated; in a future version this will raise TypeError.  Select only valid columns before calling the reduction.\n",
      "  cousins.mean()\n"
     ]
    },
    {
     "data": {
      "text/plain": [
       "Age    10.545455\n",
       "dtype: float64"
      ]
     },
     "execution_count": 9,
     "metadata": {},
     "output_type": "execute_result"
    }
   ],
   "source": [
    "cousins.mean()"
   ]
  },
  {
   "cell_type": "code",
   "execution_count": null,
   "id": "2c35d78e",
   "metadata": {},
   "outputs": [],
   "source": []
  }
 ],
 "metadata": {
  "kernelspec": {
   "display_name": "Python 3 (ipykernel)",
   "language": "python",
   "name": "python3"
  },
  "language_info": {
   "codemirror_mode": {
    "name": "ipython",
    "version": 3
   },
   "file_extension": ".py",
   "mimetype": "text/x-python",
   "name": "python",
   "nbconvert_exporter": "python",
   "pygments_lexer": "ipython3",
   "version": "3.9.16"
  }
 },
 "nbformat": 4,
 "nbformat_minor": 5
}
