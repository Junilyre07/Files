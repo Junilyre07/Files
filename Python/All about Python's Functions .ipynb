{
 "cells": [
  {
   "cell_type": "markdown",
   "id": "777e70bd",
   "metadata": {},
   "source": [
    "# Data Types"
   ]
  },
  {
   "cell_type": "code",
   "execution_count": 1,
   "id": "e7690c2c",
   "metadata": {},
   "outputs": [
    {
     "data": {
      "text/plain": [
       "int"
      ]
     },
     "execution_count": 1,
     "metadata": {},
     "output_type": "execute_result"
    }
   ],
   "source": [
    "type(-7 + 9)"
   ]
  },
  {
   "cell_type": "code",
   "execution_count": 2,
   "id": "72f27730",
   "metadata": {},
   "outputs": [
    {
     "data": {
      "text/plain": [
       "float"
      ]
     },
     "execution_count": 2,
     "metadata": {},
     "output_type": "execute_result"
    }
   ],
   "source": [
    "type(7 + 17.5)"
   ]
  },
  {
   "cell_type": "code",
   "execution_count": 3,
   "id": "3aa0e402",
   "metadata": {},
   "outputs": [
    {
     "data": {
      "text/plain": [
       "bool"
      ]
     },
     "execution_count": 3,
     "metadata": {},
     "output_type": "execute_result"
    }
   ],
   "source": [
    "type(True)"
   ]
  },
  {
   "cell_type": "code",
   "execution_count": 4,
   "id": "8d78036a",
   "metadata": {},
   "outputs": [
    {
     "data": {
      "text/plain": [
       "complex"
      ]
     },
     "execution_count": 4,
     "metadata": {},
     "output_type": "execute_result"
    }
   ],
   "source": [
    "#for complex, only letter 'j' works.\n",
    "\n",
    "type(7 + 3j)"
   ]
  },
  {
   "cell_type": "markdown",
   "id": "9707622c",
   "metadata": {},
   "source": [
    "#double quotes and single quots are the same. "
   ]
  },
  {
   "cell_type": "raw",
   "id": "25a2a47a",
   "metadata": {},
   "source": [
    "#let's try triple quotes."
   ]
  },
  {
   "cell_type": "code",
   "execution_count": 8,
   "id": "730562c5",
   "metadata": {},
   "outputs": [
    {
     "name": "stdout",
     "output_type": "stream",
     "text": [
      "\n",
      "\n",
      "  I will be a data analyst,\n",
      "  in Jesus Name,\n",
      "  this August. \n",
      "  \n",
      "\n"
     ]
    }
   ],
   "source": [
    "Multiple_line = \"\"\"\n",
    "\n",
    "  I will be a data analyst,\n",
    "  in Jesus Name,\n",
    "  this August. \n",
    "  \n",
    "\"\"\"\n",
    "\n",
    "print(Multiple_line)"
   ]
  },
  {
   "cell_type": "code",
   "execution_count": 10,
   "id": "7cbea17e",
   "metadata": {},
   "outputs": [],
   "source": [
    "a = 'Junilyre villar'"
   ]
  },
  {
   "cell_type": "code",
   "execution_count": 11,
   "id": "40d9f484",
   "metadata": {},
   "outputs": [
    {
     "name": "stdout",
     "output_type": "stream",
     "text": [
      "e\n"
     ]
    }
   ],
   "source": [
    "#print a letter \n",
    "\n",
    "print(a[7])"
   ]
  },
  {
   "cell_type": "code",
   "execution_count": 12,
   "id": "43441317",
   "metadata": {},
   "outputs": [
    {
     "name": "stdout",
     "output_type": "stream",
     "text": [
      "Junilyre \n"
     ]
    }
   ],
   "source": [
    "#print the first name only\n",
    "\n",
    "print(a[:9])"
   ]
  },
  {
   "cell_type": "code",
   "execution_count": 13,
   "id": "188dfc63",
   "metadata": {},
   "outputs": [
    {
     "data": {
      "text/plain": [
       "'Junilyre villarJunilyre villarJunilyre villar'"
      ]
     },
     "execution_count": 13,
     "metadata": {},
     "output_type": "execute_result"
    }
   ],
   "source": [
    "a*3"
   ]
  },
  {
   "cell_type": "markdown",
   "id": "18c5a146",
   "metadata": {},
   "source": [
    "# List - we have to use []. Lists are changeable, mutable. There can be duplicates."
   ]
  },
  {
   "cell_type": "code",
   "execution_count": 1,
   "id": "ddbff476",
   "metadata": {},
   "outputs": [],
   "source": [
    "Fruits = ['banana', 'apple', 'grapes', 'orange']"
   ]
  },
  {
   "cell_type": "code",
   "execution_count": 2,
   "id": "9823c6bf",
   "metadata": {},
   "outputs": [
    {
     "data": {
      "text/plain": [
       "['banana', 'apple', 'grapes', 'orange', 'melon']"
      ]
     },
     "execution_count": 2,
     "metadata": {},
     "output_type": "execute_result"
    }
   ],
   "source": [
    "#We use append to add one item at the end. \n",
    "\n",
    "Fruits.append('melon')\n",
    "\n",
    "Fruits"
   ]
  },
  {
   "cell_type": "code",
   "execution_count": 3,
   "id": "9a7b0cca",
   "metadata": {},
   "outputs": [
    {
     "data": {
      "text/plain": [
       "['watermelon', 'apple', 'grapes', 'orange', 'melon']"
      ]
     },
     "execution_count": 3,
     "metadata": {},
     "output_type": "execute_result"
    }
   ],
   "source": [
    "#changing the value of an item in the list\n",
    "\n",
    "Fruits[0] = 'watermelon'\n",
    "\n",
    "Fruits"
   ]
  },
  {
   "cell_type": "code",
   "execution_count": 4,
   "id": "700241e5",
   "metadata": {},
   "outputs": [
    {
     "name": "stdout",
     "output_type": "stream",
     "text": [
      "the same element using negative and positive indexing:\n",
      " Postive: watermelon \n",
      " Negative: grapes\n",
      "the same element using negative and positive indexing:\n",
      " Postive: apple \n",
      " Negative: orange\n",
      "the same element using negative and positive indexing:\n",
      " Postive: grapes \n",
      " Negative: melon\n"
     ]
    }
   ],
   "source": [
    "print('the same element using negative and positive indexing:\\n Postive:',Fruits[0],\n",
    "'\\n Negative:' , Fruits[-3]  )\n",
    "print('the same element using negative and positive indexing:\\n Postive:',Fruits[1],\n",
    "'\\n Negative:' , Fruits[-2]  )\n",
    "print('the same element using negative and positive indexing:\\n Postive:',Fruits[2],\n",
    "'\\n Negative:' , Fruits[-1]  )"
   ]
  },
  {
   "cell_type": "raw",
   "id": "30db4a5b",
   "metadata": {},
   "source": [
    "Nested lists = a list within a list."
   ]
  },
  {
   "cell_type": "code",
   "execution_count": 5,
   "id": "f1fe163d",
   "metadata": {},
   "outputs": [
    {
     "data": {
      "text/plain": [
       "['banana', 'apple', 'grapes', ['lemon', 'pear'], 'orange']"
      ]
     },
     "execution_count": 5,
     "metadata": {},
     "output_type": "execute_result"
    }
   ],
   "source": [
    "nested_Fruits = ['banana', 'apple', 'grapes', ['lemon', 'pear'],'orange']\n",
    "nested_Fruits"
   ]
  },
  {
   "cell_type": "code",
   "execution_count": 6,
   "id": "99446a1d",
   "metadata": {},
   "outputs": [
    {
     "data": {
      "text/plain": [
       "'pear'"
      ]
     },
     "execution_count": 6,
     "metadata": {},
     "output_type": "execute_result"
    }
   ],
   "source": [
    "#getting the index of the nested list. \n",
    "\n",
    "nested_Fruits[3][1]"
   ]
  },
  {
   "cell_type": "code",
   "execution_count": 7,
   "id": "cb0dbcb5",
   "metadata": {},
   "outputs": [
    {
     "data": {
      "text/plain": [
       "['apple', 'grapes', ['lemon', 'pear'], 'orange']"
      ]
     },
     "execution_count": 7,
     "metadata": {},
     "output_type": "execute_result"
    }
   ],
   "source": [
    "#deleting an item\n",
    "del(nested_Fruits[0])\n",
    "nested_Fruits"
   ]
  },
  {
   "cell_type": "markdown",
   "id": "322a220f",
   "metadata": {},
   "source": [
    "# Tuples = we have to use (). There can be duplicates. Tuples are immutable. "
   ]
  },
  {
   "cell_type": "code",
   "execution_count": 12,
   "id": "c39ad229",
   "metadata": {},
   "outputs": [],
   "source": [
    "Tuple = (5,6,(\"lyka\", \"fiona\"),8,7,9,4,5,1,0,2,1,)"
   ]
  },
  {
   "cell_type": "code",
   "execution_count": 13,
   "id": "0c6c8923",
   "metadata": {},
   "outputs": [
    {
     "data": {
      "text/plain": [
       "6"
      ]
     },
     "execution_count": 13,
     "metadata": {},
     "output_type": "execute_result"
    }
   ],
   "source": [
    "Tuple[1]"
   ]
  },
  {
   "cell_type": "code",
   "execution_count": 14,
   "id": "b0479f38",
   "metadata": {},
   "outputs": [
    {
     "data": {
      "text/plain": [
       "(6, ('lyka', 'fiona'), 8, 7)"
      ]
     },
     "execution_count": 14,
     "metadata": {},
     "output_type": "execute_result"
    }
   ],
   "source": [
    "Tuple[1:5]"
   ]
  },
  {
   "cell_type": "code",
   "execution_count": 15,
   "id": "711e2701",
   "metadata": {},
   "outputs": [
    {
     "ename": "AttributeError",
     "evalue": "'tuple' object has no attribute 'append'",
     "output_type": "error",
     "traceback": [
      "\u001b[1;31m---------------------------------------------------------------------------\u001b[0m",
      "\u001b[1;31mAttributeError\u001b[0m                            Traceback (most recent call last)",
      "Input \u001b[1;32mIn [15]\u001b[0m, in \u001b[0;36m<cell line: 1>\u001b[1;34m()\u001b[0m\n\u001b[1;32m----> 1\u001b[0m \u001b[43mTuple\u001b[49m\u001b[38;5;241;43m.\u001b[39;49m\u001b[43mappend\u001b[49m(\u001b[38;5;124m'\u001b[39m\u001b[38;5;124mcoconut\u001b[39m\u001b[38;5;124m'\u001b[39m)\n",
      "\u001b[1;31mAttributeError\u001b[0m: 'tuple' object has no attribute 'append'"
     ]
    }
   ],
   "source": [
    "Tuple.append('coconut') #immutable "
   ]
  },
  {
   "cell_type": "markdown",
   "id": "d62cd77a",
   "metadata": {},
   "source": [
    "# NESTED TUPLES"
   ]
  },
  {
   "cell_type": "code",
   "execution_count": null,
   "id": "3e89f407",
   "metadata": {},
   "outputs": [],
   "source": [
    "# Create a nest tuple\n",
    "\n",
    "NestedT =(1, 2, (\"pop\", \"rock\") ,(3,4),(\"disco\",(1,2)))"
   ]
  },
  {
   "cell_type": "code",
   "execution_count": null,
   "id": "8cabbcda",
   "metadata": {},
   "outputs": [],
   "source": [
    "# Print element on each index\n",
    "\n",
    "print(\"Element 0 of Tuple: \", NestedT[0])\n",
    "print(\"Element 1 of Tuple: \", NestedT[1])\n",
    "print(\"Element 2 of Tuple: \", NestedT[2])\n",
    "print(\"Element 3 of Tuple: \", NestedT[3])\n",
    "print(\"Element 4 of Tuple: \", NestedT[4])"
   ]
  },
  {
   "cell_type": "code",
   "execution_count": null,
   "id": "af0dde59",
   "metadata": {},
   "outputs": [],
   "source": [
    "# Print element on each index, including nest indexes\n",
    "\n",
    "print(\"Element 2, 0 of Tuple: \",   NestedT[2][0])\n",
    "print(\"Element 2, 1 of Tuple: \",   NestedT[2][1])\n",
    "print(\"Element 3, 0 of Tuple: \",   NestedT[3][0])\n",
    "print(\"Element 3, 1 of Tuple: \",   NestedT[3][1])\n",
    "print(\"Element 4, 0 of Tuple: \",   NestedT[4][0])\n",
    "print(\"Element 4, 1 of Tuple: \",   NestedT[4][1])"
   ]
  },
  {
   "cell_type": "code",
   "execution_count": null,
   "id": "f541e48a",
   "metadata": {},
   "outputs": [],
   "source": [
    "# Print the first element in the second nested tuples\n",
    "\n",
    "NestedT[2][1][0]"
   ]
  },
  {
   "cell_type": "code",
   "execution_count": null,
   "id": "5095b33d",
   "metadata": {},
   "outputs": [],
   "source": [
    "NestedT[4][0][3]"
   ]
  },
  {
   "cell_type": "markdown",
   "id": "f08929f9",
   "metadata": {},
   "source": [
    "# Sets = we have to use {}. There will be no duplicates. No indexes. "
   ]
  },
  {
   "cell_type": "code",
   "execution_count": 17,
   "id": "a2c7acdd",
   "metadata": {},
   "outputs": [
    {
     "data": {
      "text/plain": [
       "set"
      ]
     },
     "execution_count": 17,
     "metadata": {},
     "output_type": "execute_result"
    }
   ],
   "source": [
    "#A tuple in a set\n",
    "\n",
    "Set = {1,2,3, (list,0)}\n",
    "\n",
    "type(Set)"
   ]
  },
  {
   "cell_type": "code",
   "execution_count": 18,
   "id": "6e42327f",
   "metadata": {},
   "outputs": [],
   "source": [
    "#combining 2 sets\n",
    "Set1 = {1,3,5,7, 9, 10, 12, 14}"
   ]
  },
  {
   "cell_type": "code",
   "execution_count": 19,
   "id": "76f7d63a",
   "metadata": {},
   "outputs": [],
   "source": [
    "Set2 = {2,3,4,6,9,11,13,15}"
   ]
  },
  {
   "cell_type": "raw",
   "id": "9e1a62ec",
   "metadata": {},
   "source": [
    "We use | to combine the 2 sets but excluding the items that are in the both sets. "
   ]
  },
  {
   "cell_type": "code",
   "execution_count": 20,
   "id": "0a21a3c1",
   "metadata": {},
   "outputs": [
    {
     "name": "stdout",
     "output_type": "stream",
     "text": [
      "{1, 2, 3, 4, 5, 6, 7, 9, 10, 11, 12, 13, 14, 15}\n"
     ]
    }
   ],
   "source": [
    "print(Set1 | Set2)"
   ]
  },
  {
   "cell_type": "markdown",
   "id": "14d78aa3",
   "metadata": {},
   "source": [
    "& - it will print the items that are both present in the two sets. "
   ]
  },
  {
   "cell_type": "code",
   "execution_count": 21,
   "id": "b9ad9026",
   "metadata": {},
   "outputs": [
    {
     "name": "stdout",
     "output_type": "stream",
     "text": [
      "{9, 3}\n"
     ]
    }
   ],
   "source": [
    "print(Set1 & Set2)"
   ]
  },
  {
   "cell_type": "markdown",
   "id": "68080e88",
   "metadata": {},
   "source": [
    "we use -  to show what does not match"
   ]
  },
  {
   "cell_type": "code",
   "execution_count": 22,
   "id": "d4d93233",
   "metadata": {},
   "outputs": [
    {
     "name": "stdout",
     "output_type": "stream",
     "text": [
      "{1, 5, 7, 10, 12, 14}\n"
     ]
    }
   ],
   "source": [
    "print(Set1 - Set2)"
   ]
  },
  {
   "cell_type": "code",
   "execution_count": 23,
   "id": "6a7dfa2a",
   "metadata": {},
   "outputs": [
    {
     "name": "stdout",
     "output_type": "stream",
     "text": [
      "{2, 4, 6, 11, 13, 15}\n"
     ]
    }
   ],
   "source": [
    "print(Set2 - Set1)"
   ]
  },
  {
   "cell_type": "code",
   "execution_count": 24,
   "id": "1829534d",
   "metadata": {},
   "outputs": [
    {
     "data": {
      "text/plain": [
       "{1, 2, 3, 4, 5, 6, 7, 9, 10, 11, 12, 13, 14, 15}"
      ]
     },
     "execution_count": 24,
     "metadata": {},
     "output_type": "execute_result"
    }
   ],
   "source": [
    "joinedset = Set1.union(Set2)\n",
    "joinedset"
   ]
  },
  {
   "cell_type": "markdown",
   "id": "985332ac",
   "metadata": {},
   "source": [
    "\n",
    "# Dictionary sample"
   ]
  },
  {
   "cell_type": "code",
   "execution_count": 25,
   "id": "f300e9fa",
   "metadata": {},
   "outputs": [
    {
     "data": {
      "text/plain": [
       "{'name': 'John', 'age': 30, 'city': 'New York'}"
      ]
     },
     "execution_count": 25,
     "metadata": {},
     "output_type": "execute_result"
    }
   ],
   "source": [
    "my_dict = {'name': 'John', 'age': 30, 'city': 'New York'}\n",
    "my_dict"
   ]
  },
  {
   "cell_type": "code",
   "execution_count": 27,
   "id": "252ddc23",
   "metadata": {},
   "outputs": [
    {
     "data": {
      "text/plain": [
       "'John'"
      ]
     },
     "execution_count": 27,
     "metadata": {},
     "output_type": "execute_result"
    }
   ],
   "source": [
    "my_dict['name']"
   ]
  },
  {
   "cell_type": "code",
   "execution_count": 28,
   "id": "1c80f725",
   "metadata": {},
   "outputs": [
    {
     "data": {
      "text/plain": [
       "{'name': 'John', 'age': 30, 'city': 'New York', 'citizenship': 'American'}"
      ]
     },
     "execution_count": 28,
     "metadata": {},
     "output_type": "execute_result"
    }
   ],
   "source": [
    "my_dict['citizenship'] = \"American\"\n",
    "my_dict"
   ]
  },
  {
   "cell_type": "code",
   "execution_count": 29,
   "id": "c514904f",
   "metadata": {},
   "outputs": [
    {
     "data": {
      "text/plain": [
       "{'name': 'John', 'age': 30, 'city': 'New York', 'citizenship': 'American'}"
      ]
     },
     "execution_count": 29,
     "metadata": {},
     "output_type": "execute_result"
    }
   ],
   "source": [
    "my_dict\n"
   ]
  },
  {
   "cell_type": "code",
   "execution_count": 30,
   "id": "1c044a09",
   "metadata": {},
   "outputs": [
    {
     "data": {
      "text/plain": [
       "False"
      ]
     },
     "execution_count": 30,
     "metadata": {},
     "output_type": "execute_result"
    }
   ],
   "source": [
    "\"school\" in my_dict "
   ]
  },
  {
   "cell_type": "code",
   "execution_count": 31,
   "id": "2950f172",
   "metadata": {},
   "outputs": [
    {
     "data": {
      "text/plain": [
       "True"
      ]
     },
     "execution_count": 31,
     "metadata": {},
     "output_type": "execute_result"
    }
   ],
   "source": [
    "'name' in my_dict "
   ]
  },
  {
   "cell_type": "code",
   "execution_count": 32,
   "id": "149fa060",
   "metadata": {},
   "outputs": [
    {
     "data": {
      "text/plain": [
       "dict_keys(['name', 'age', 'city', 'citizenship'])"
      ]
     },
     "execution_count": 32,
     "metadata": {},
     "output_type": "execute_result"
    }
   ],
   "source": [
    "my_dict.keys()"
   ]
  },
  {
   "cell_type": "code",
   "execution_count": 13,
   "id": "fdd5675a",
   "metadata": {},
   "outputs": [
    {
     "data": {
      "text/plain": [
       "dict_values(['John', 30, 'New York', 'American'])"
      ]
     },
     "execution_count": 13,
     "metadata": {},
     "output_type": "execute_result"
    }
   ],
   "source": [
    "my_dict.values()"
   ]
  },
  {
   "cell_type": "markdown",
   "id": "b9440f84",
   "metadata": {},
   "source": [
    "# Loops"
   ]
  },
  {
   "cell_type": "markdown",
   "id": "994cb9f5",
   "metadata": {},
   "source": [
    "For loops"
   ]
  },
  {
   "cell_type": "code",
   "execution_count": 14,
   "id": "1aece179",
   "metadata": {},
   "outputs": [],
   "source": [
    "colors = [\"red\", \"orange\", \"blue\", \"white\", \"black\"]\n",
    "\n",
    "for i in range(0, 5):\n",
    "    colors[i] = \"pink\""
   ]
  },
  {
   "cell_type": "code",
   "execution_count": null,
   "id": "b7e4b6a3",
   "metadata": {},
   "outputs": [],
   "source": []
  },
  {
   "cell_type": "code",
   "execution_count": 15,
   "id": "e8af0f0f",
   "metadata": {},
   "outputs": [
    {
     "data": {
      "text/plain": [
       "['pink', 'pink', 'pink', 'pink', 'pink']"
      ]
     },
     "execution_count": 15,
     "metadata": {},
     "output_type": "execute_result"
    }
   ],
   "source": [
    "colors"
   ]
  },
  {
   "cell_type": "code",
   "execution_count": 16,
   "id": "e8eec56f",
   "metadata": {},
   "outputs": [],
   "source": [
    "colors = [\"red\", \"orange\", \"blue\", \"white\", \"black\"]"
   ]
  },
  {
   "cell_type": "code",
   "execution_count": 17,
   "id": "c4f38b01",
   "metadata": {},
   "outputs": [],
   "source": [
    "for i in range(1):\n",
    "    colors[i] = \"pink\""
   ]
  },
  {
   "cell_type": "code",
   "execution_count": 18,
   "id": "c185ccd0",
   "metadata": {},
   "outputs": [
    {
     "data": {
      "text/plain": [
       "['pink', 'orange', 'blue', 'white', 'black']"
      ]
     },
     "execution_count": 18,
     "metadata": {},
     "output_type": "execute_result"
    }
   ],
   "source": [
    "colors"
   ]
  },
  {
   "cell_type": "code",
   "execution_count": 19,
   "id": "09905a47",
   "metadata": {},
   "outputs": [
    {
     "name": "stdout",
     "output_type": "stream",
     "text": [
      "0 pink\n",
      "1 orange\n",
      "2 blue\n",
      "3 white\n",
      "4 black\n"
     ]
    }
   ],
   "source": [
    "for i, color in enumerate(colors):\n",
    "    print(i, color)\n",
    "    "
   ]
  },
  {
   "cell_type": "code",
   "execution_count": 20,
   "id": "71ef8127",
   "metadata": {},
   "outputs": [
    {
     "name": "stdout",
     "output_type": "stream",
     "text": [
      "pink\n",
      "orange\n",
      "blue\n",
      "white\n",
      "black\n"
     ]
    }
   ],
   "source": [
    "for i in range(len(colors)):\n",
    "    # Operation\n",
    "    print(colors[i])"
   ]
  },
  {
   "cell_type": "code",
   "execution_count": 21,
   "id": "5f62e5ec",
   "metadata": {},
   "outputs": [],
   "source": [
    "food = [\"cake\", \"fries\", \"rice\", \"apple\", \"icecream\"]"
   ]
  },
  {
   "cell_type": "code",
   "execution_count": 22,
   "id": "3ed66298",
   "metadata": {},
   "outputs": [
    {
     "name": "stdout",
     "output_type": "stream",
     "text": [
      "0 cake\n",
      "1 fries\n",
      "2 rice\n",
      "3 apple\n",
      "4 icecream\n"
     ]
    }
   ],
   "source": [
    "for i, item in enumerate(food):\n",
    "    print(i, item)"
   ]
  },
  {
   "cell_type": "code",
   "execution_count": 23,
   "id": "32e6ce08",
   "metadata": {},
   "outputs": [],
   "source": [
    "colors = [\"red\", \"orange\", \"blue\", \"white\", \"black\"]"
   ]
  },
  {
   "cell_type": "code",
   "execution_count": 24,
   "id": "e878dd1d",
   "metadata": {},
   "outputs": [
    {
     "name": "stdout",
     "output_type": "stream",
     "text": [
      "0 red\n",
      "1 orange\n",
      "2 blue\n",
      "3 white\n",
      "4 black\n"
     ]
    }
   ],
   "source": [
    "#when we use the enumarate function, there's always index and values\n",
    "\n",
    "for index, item in enumerate(colors):\n",
    "    print(index, item)"
   ]
  },
  {
   "cell_type": "code",
   "execution_count": 25,
   "id": "f137947f",
   "metadata": {},
   "outputs": [],
   "source": [
    "Mylist = {'Singer1': \"Britnery\", 'Singer2': \"Christina\", 'Singer3': \"Sarah\"}\n"
   ]
  },
  {
   "cell_type": "code",
   "execution_count": 26,
   "id": "59ff6f80",
   "metadata": {},
   "outputs": [
    {
     "name": "stdout",
     "output_type": "stream",
     "text": [
      "Singer1\n",
      "Singer2\n",
      "Singer3\n"
     ]
    }
   ],
   "source": [
    "#getting the keys\n",
    "\n",
    "for keys in Mylist.keys():\n",
    "    print(keys)"
   ]
  },
  {
   "cell_type": "code",
   "execution_count": 27,
   "id": "22221fbe",
   "metadata": {},
   "outputs": [
    {
     "name": "stdout",
     "output_type": "stream",
     "text": [
      "Britnery\n",
      "Christina\n",
      "Sarah\n"
     ]
    }
   ],
   "source": [
    "#getting the values\n",
    "\n",
    "for values in Mylist.values():\n",
    "    print(values)"
   ]
  },
  {
   "cell_type": "code",
   "execution_count": 28,
   "id": "a82cb27d",
   "metadata": {},
   "outputs": [
    {
     "name": "stdout",
     "output_type": "stream",
     "text": [
      "Singer1 -> Britnery\n",
      "Singer2 -> Christina\n",
      "Singer3 -> Sarah\n"
     ]
    }
   ],
   "source": [
    "#getting both the values and keys\n",
    "\n",
    "for keys,values in Mylist.items():\n",
    "    print(keys, '->', values)"
   ]
  },
  {
   "cell_type": "code",
   "execution_count": 29,
   "id": "f95eccca",
   "metadata": {},
   "outputs": [
    {
     "name": "stdout",
     "output_type": "stream",
     "text": [
      "Sum: 55\n"
     ]
    }
   ],
   "source": [
    "num = 1\n",
    "sum = 0\n",
    "while num <= 10:\n",
    "    sum += num\n",
    "    num += 1\n",
    "print(\"Sum:\", sum)"
   ]
  },
  {
   "cell_type": "code",
   "execution_count": null,
   "id": "70537ed4",
   "metadata": {},
   "outputs": [],
   "source": []
  },
  {
   "cell_type": "markdown",
   "id": "c298c581",
   "metadata": {},
   "source": [
    "# while loops"
   ]
  },
  {
   "cell_type": "code",
   "execution_count": null,
   "id": "4dd56693",
   "metadata": {},
   "outputs": [],
   "source": [
    "num = 1\n",
    "while num <= 5:\n",
    "    print(num)\n",
    "    num += 1\n"
   ]
  },
  {
   "cell_type": "code",
   "execution_count": null,
   "id": "1031c4cd",
   "metadata": {},
   "outputs": [],
   "source": [
    "num = 1\n",
    "sum = 0\n",
    "while num <= 10:\n",
    "    sum += num\n",
    "    num =+ 1\n",
    "print(\"Sum:\", sum)"
   ]
  },
  {
   "cell_type": "markdown",
   "id": "342da847",
   "metadata": {},
   "source": [
    "# Variables"
   ]
  },
  {
   "cell_type": "code",
   "execution_count": null,
   "id": "1b8e2287",
   "metadata": {},
   "outputs": [],
   "source": [
    "#Camel Case \n",
    "\n",
    "testVar = \"lyka\""
   ]
  },
  {
   "cell_type": "code",
   "execution_count": null,
   "id": "d738949a",
   "metadata": {},
   "outputs": [],
   "source": [
    "#Panel Case\n",
    "\n",
    "TestVar = 'lyka'"
   ]
  },
  {
   "cell_type": "code",
   "execution_count": null,
   "id": "ffa6a74d",
   "metadata": {},
   "outputs": [],
   "source": [
    "#Snake Case\n",
    "\n",
    "test_var = 'lyka'"
   ]
  },
  {
   "cell_type": "code",
   "execution_count": null,
   "id": "cb23b692",
   "metadata": {},
   "outputs": [],
   "source": [
    "x = 'lyka is pretty' + '.'\n",
    "print(x)"
   ]
  },
  {
   "cell_type": "markdown",
   "id": "b6331c98",
   "metadata": {},
   "source": [
    "# Cannot concatenate string + Integer"
   ]
  },
  {
   "cell_type": "code",
   "execution_count": null,
   "id": "e62f56cc",
   "metadata": {},
   "outputs": [],
   "source": [
    "#adding multiple variables \n",
    "x = 'lyka'\n",
    "y = ' is'\n",
    "z = pretty'\n",
    "\n",
    "print(x+y+z)"
   ]
  },
  {
   "cell_type": "code",
   "execution_count": null,
   "id": "531927d0",
   "metadata": {},
   "outputs": [],
   "source": [
    "x = 'lyka'\n",
    "y = ' is'\n",
    "z = ' pretty.'\n",
    "\n",
    "print(x+y+z)"
   ]
  },
  {
   "cell_type": "code",
   "execution_count": null,
   "id": "7cb96c73",
   "metadata": {},
   "outputs": [],
   "source": [
    "#ssme result without a plus sign.\n",
    "x = 'lyka'\n",
    "y = ' is'\n",
    "z = ' pretty.'\n",
    "\n",
    "print(x,y,z)"
   ]
  },
  {
   "cell_type": "code",
   "execution_count": null,
   "id": "03e4ff1d",
   "metadata": {},
   "outputs": [],
   "source": [
    "#adding string and integer, there should not be a plus sign \n",
    "x = 'lyka'\n",
    "y = 7\n",
    "\n",
    "print(x,y)"
   ]
  },
  {
   "cell_type": "markdown",
   "id": "59e060dc",
   "metadata": {},
   "source": [
    "# If else statement "
   ]
  },
  {
   "cell_type": "code",
   "execution_count": null,
   "id": "054a7d5b",
   "metadata": {},
   "outputs": [],
   "source": [
    "import pandas as pd\n",
    "data = pd.read_csv(\"Salaries.csv\")"
   ]
  },
  {
   "cell_type": "code",
   "execution_count": null,
   "id": "4e213df0",
   "metadata": {},
   "outputs": [],
   "source": [
    "data.head(2)"
   ]
  },
  {
   "cell_type": "code",
   "execution_count": null,
   "id": "a0d30d03",
   "metadata": {},
   "outputs": [],
   "source": [
    "Salary = 200000\n",
    "\n",
    "if Salary > 100000:\n",
    "    print('High Earner')\n",
    "else:\n",
    "    print('low earner') "
   ]
  },
  {
   "cell_type": "code",
   "execution_count": null,
   "id": "784ac5c6",
   "metadata": {},
   "outputs": [],
   "source": [
    "Salary = 200000\n",
    "\n",
    "if Salary < 100000:\n",
    "    print('High Earner')\n",
    "else:\n",
    "    print('low earner') "
   ]
  },
  {
   "cell_type": "markdown",
   "id": "a1a930b1",
   "metadata": {},
   "source": [
    "with elif"
   ]
  },
  {
   "cell_type": "code",
   "execution_count": null,
   "id": "c27620aa",
   "metadata": {},
   "outputs": [],
   "source": [
    "Salary = 200000\n",
    "\n",
    "for salary in data['salary']:\n",
    "    if salary > 100000:\n",
    "        print('High Earner')\n",
    "    elif salary <= 50000:\n",
    "        print('Low Earner')\n",
    "    else:\n",
    "        print('Medium Earner') "
   ]
  },
  {
   "cell_type": "markdown",
   "id": "e4df5591",
   "metadata": {},
   "source": [
    "# Using else if in a dataframe"
   ]
  },
  {
   "cell_type": "code",
   "execution_count": null,
   "id": "73f26081",
   "metadata": {},
   "outputs": [],
   "source": [
    "import pandas as pd\n",
    "\n",
    "# Create a DataFrame\n",
    "data = {'Name': ['John', 'Alice', 'Bob'],\n",
    "        'Age': [25, 30, 35]}\n",
    "df = pd.DataFrame(data)\n",
    "\n",
    "# Apply if-else condition on a column\n",
    "df['Category'] = df['Age'].apply(lambda x: 'Young' if x < 30 else 'Adult')\n",
    "\n",
    "# Print the modified DataFrame\n",
    "print(df)\n"
   ]
  },
  {
   "cell_type": "code",
   "execution_count": null,
   "id": "f10dfa39",
   "metadata": {},
   "outputs": [],
   "source": [
    "data['Salary Category']"
   ]
  },
  {
   "cell_type": "code",
   "execution_count": null,
   "id": "0aae338f",
   "metadata": {},
   "outputs": [],
   "source": [
    "data"
   ]
  },
  {
   "cell_type": "code",
   "execution_count": null,
   "id": "e64d51b4",
   "metadata": {},
   "outputs": [],
   "source": [
    "data['Salary Category'] = ''\n",
    "for index, lyka  in enumerate(data['salary']):\n",
    "    if lyka > 100000:\n",
    "        data.loc[index, 'Salary Category'] = 'High Earner'\n",
    "    elif lyka <= 50000:\n",
    "        data.loc[index, 'Salary Category'] = 'Low Earner'\n",
    "    else:\n",
    "        data.loc[index, 'Salary Category'] = 'Medium Earner'\n"
   ]
  },
  {
   "cell_type": "markdown",
   "id": "c0bcc718",
   "metadata": {},
   "source": [
    "# Functions"
   ]
  },
  {
   "cell_type": "code",
   "execution_count": 4,
   "id": "71dc2292",
   "metadata": {},
   "outputs": [],
   "source": [
    "#example1\n",
    "\n",
    "def first_func():\n",
    "    print('I did it')"
   ]
  },
  {
   "cell_type": "code",
   "execution_count": 3,
   "id": "19a75ecb",
   "metadata": {},
   "outputs": [
    {
     "name": "stdout",
     "output_type": "stream",
     "text": [
      "I did it\n"
     ]
    }
   ],
   "source": [
    "first_func()"
   ]
  },
  {
   "cell_type": "code",
   "execution_count": 5,
   "id": "16fe7855",
   "metadata": {},
   "outputs": [],
   "source": [
    "#example2\n",
    "\n",
    "def squared(number):\n",
    "    print(number**2)"
   ]
  },
  {
   "cell_type": "code",
   "execution_count": 6,
   "id": "92aa0b4d",
   "metadata": {},
   "outputs": [
    {
     "name": "stdout",
     "output_type": "stream",
     "text": [
      "9\n"
     ]
    }
   ],
   "source": [
    "squared(3)"
   ]
  },
  {
   "cell_type": "code",
   "execution_count": 7,
   "id": "94673618",
   "metadata": {},
   "outputs": [],
   "source": [
    "def squared_power(number, power):\n",
    "    print(number**power)"
   ]
  },
  {
   "cell_type": "code",
   "execution_count": 13,
   "id": "a16b81e0",
   "metadata": {},
   "outputs": [
    {
     "name": "stdout",
     "output_type": "stream",
     "text": [
      "125\n"
     ]
    }
   ],
   "source": [
    "squared_power(5, 3)"
   ]
  },
  {
   "cell_type": "code",
   "execution_count": 21,
   "id": "03787b34",
   "metadata": {},
   "outputs": [],
   "source": [
    "#arbitrary argument example3\n",
    "\n",
    "def number_arbitrary(*number):\n",
    "    print(number[0]*number[1])\n"
   ]
  },
  {
   "cell_type": "code",
   "execution_count": 22,
   "id": "c994a43f",
   "metadata": {},
   "outputs": [
    {
     "name": "stdout",
     "output_type": "stream",
     "text": [
      "30\n"
     ]
    }
   ],
   "source": [
    "#a tuple\n",
    "number_arbitrary(5,6,7,8,9)"
   ]
  },
  {
   "cell_type": "code",
   "execution_count": 24,
   "id": "d6c39382",
   "metadata": {},
   "outputs": [],
   "source": [
    "arg_tuple =(5,6,7,8,9)\n",
    "\n",
    "def number_arbitrary1(*number):\n",
    "    print(number[0]*number[1])"
   ]
  },
  {
   "cell_type": "code",
   "execution_count": 27,
   "id": "de582a85",
   "metadata": {},
   "outputs": [
    {
     "name": "stdout",
     "output_type": "stream",
     "text": [
      "30\n"
     ]
    }
   ],
   "source": [
    "number_arbitrary1(*arg_tuple)"
   ]
  },
  {
   "cell_type": "markdown",
   "id": "16761c07",
   "metadata": {},
   "source": [
    "# Convert Data types"
   ]
  },
  {
   "cell_type": "code",
   "execution_count": 28,
   "id": "925a15eb",
   "metadata": {},
   "outputs": [
    {
     "data": {
      "text/plain": [
       "7"
      ]
     },
     "execution_count": 28,
     "metadata": {},
     "output_type": "execute_result"
    }
   ],
   "source": [
    "int('7')"
   ]
  },
  {
   "cell_type": "code",
   "execution_count": 30,
   "id": "1ccf1bc5",
   "metadata": {},
   "outputs": [
    {
     "data": {
      "text/plain": [
       "str"
      ]
     },
     "execution_count": 30,
     "metadata": {},
     "output_type": "execute_result"
    }
   ],
   "source": [
    "data_type = '7'\n",
    "type(data_type)"
   ]
  },
  {
   "cell_type": "code",
   "execution_count": 33,
   "id": "c9b36def",
   "metadata": {},
   "outputs": [
    {
     "data": {
      "text/plain": [
       "str"
      ]
     },
     "execution_count": 33,
     "metadata": {},
     "output_type": "execute_result"
    }
   ],
   "source": [
    "int(data_type)\n",
    "type(data_type)"
   ]
  },
  {
   "cell_type": "code",
   "execution_count": 35,
   "id": "df2fd63b",
   "metadata": {},
   "outputs": [
    {
     "data": {
      "text/plain": [
       "list"
      ]
     },
     "execution_count": 35,
     "metadata": {},
     "output_type": "execute_result"
    }
   ],
   "source": [
    "#converting tuples, list and dictionary or sets\n",
    "list = [1,2,3,4,5,6,7,8,9]\n",
    "type(list)"
   ]
  },
  {
   "cell_type": "code",
   "execution_count": 36,
   "id": "7dda5aec",
   "metadata": {},
   "outputs": [
    {
     "data": {
      "text/plain": [
       "tuple"
      ]
     },
     "execution_count": 36,
     "metadata": {},
     "output_type": "execute_result"
    }
   ],
   "source": [
    "type(tuple(list))"
   ]
  },
  {
   "cell_type": "code",
   "execution_count": 37,
   "id": "c7f117d9",
   "metadata": {},
   "outputs": [],
   "source": [
    "List2 = [1,2,2,3,3,5,6,7,8,8,9,10,11,11,1,2]"
   ]
  },
  {
   "cell_type": "code",
   "execution_count": 39,
   "id": "893e74a5",
   "metadata": {},
   "outputs": [
    {
     "data": {
      "text/plain": [
       "{1, 2, 3, 5, 6, 7, 8, 9, 10, 11}"
      ]
     },
     "execution_count": 39,
     "metadata": {},
     "output_type": "execute_result"
    }
   ],
   "source": [
    "type(set(List2))\n",
    "#sets can have duplciates so it returns uniques values"
   ]
  },
  {
   "cell_type": "code",
   "execution_count": 41,
   "id": "5056fce6",
   "metadata": {},
   "outputs": [
    {
     "data": {
      "text/plain": [
       "set"
      ]
     },
     "execution_count": 41,
     "metadata": {},
     "output_type": "execute_result"
    }
   ],
   "source": [
    "type(set(List2))"
   ]
  },
  {
   "cell_type": "code",
   "execution_count": null,
   "id": "de384176",
   "metadata": {},
   "outputs": [],
   "source": [
    "lykadict = {'name':'lyka', 'age': 33, 'country': 'Philippines'}"
   ]
  },
  {
   "cell_type": "code",
   "execution_count": null,
   "id": "5fd09853",
   "metadata": {},
   "outputs": [],
   "source": [
    "type(lykadict)"
   ]
  },
  {
   "cell_type": "code",
   "execution_count": null,
   "id": "3d034f32",
   "metadata": {},
   "outputs": [],
   "source": [
    "lykadict.keys()"
   ]
  },
  {
   "cell_type": "code",
   "execution_count": 6,
   "id": "9c40f219",
   "metadata": {},
   "outputs": [
    {
     "data": {
      "text/plain": [
       "dict_values(['lyka', 33, 'Philippines'])"
      ]
     },
     "execution_count": 6,
     "metadata": {},
     "output_type": "execute_result"
    }
   ],
   "source": [
    "lykadict.values()"
   ]
  },
  {
   "cell_type": "code",
   "execution_count": 7,
   "id": "cd7bd945",
   "metadata": {},
   "outputs": [
    {
     "data": {
      "text/plain": [
       "('name', 'age', 'country')"
      ]
     },
     "execution_count": 7,
     "metadata": {},
     "output_type": "execute_result"
    }
   ],
   "source": [
    "tuple(lykadict.keys())"
   ]
  },
  {
   "cell_type": "code",
   "execution_count": 8,
   "id": "f02ebce5",
   "metadata": {},
   "outputs": [
    {
     "data": {
      "text/plain": [
       "['name', 'age', 'country']"
      ]
     },
     "execution_count": 8,
     "metadata": {},
     "output_type": "execute_result"
    }
   ],
   "source": [
    "list(lykadict.keys())"
   ]
  },
  {
   "cell_type": "code",
   "execution_count": null,
   "id": "08d4fda3",
   "metadata": {},
   "outputs": [],
   "source": [
    "set(lykadict.items())"
   ]
  },
  {
   "cell_type": "markdown",
   "id": "dc524993",
   "metadata": {},
   "source": [
    "# INPUT function"
   ]
  },
  {
   "cell_type": "code",
   "execution_count": null,
   "id": "3ff39acf",
   "metadata": {},
   "outputs": [],
   "source": [
    "weight = input()"
   ]
  },
  {
   "cell_type": "markdown",
   "id": "110febc3",
   "metadata": {},
   "source": [
    "# BMI calculator "
   ]
  },
  {
   "cell_type": "code",
   "execution_count": 1,
   "id": "e8c2eeba",
   "metadata": {},
   "outputs": [
    {
     "name": "stdout",
     "output_type": "stream",
     "text": [
      "enter your nameLyka\n",
      "enter your weight in pound: 93\n",
      "enter your height in inches: 59\n",
      "18.781671933352484\n"
     ]
    }
   ],
   "source": [
    "name = input('enter your name')\n",
    "weight = int(input('enter your weight in pound: '))\n",
    "height = int(input('enter your height in inches: '))\n",
    "\n",
    "BMI =  (weight / (height * height)) * 703\n",
    "print(BMI)"
   ]
  },
  {
   "cell_type": "code",
   "execution_count": null,
   "id": "7c9d54b4",
   "metadata": {},
   "outputs": [],
   "source": [
    "if BMI <= 18.5:\n",
    "    print('Underweight')\n",
    "elif 18.5 <= BMI <= 24.9:\n",
    "        print('Normal weight')\n",
    "elif 25 <= BMI <=25.9:\n",
    "        print('overweight')\n",
    "else:\n",
    "        print('obesity')"
   ]
  },
  {
   "cell_type": "markdown",
   "id": "6f723627",
   "metadata": {},
   "source": [
    "# Create 2D numpy array"
   ]
  },
  {
   "cell_type": "code",
   "execution_count": 1,
   "id": "b2832424",
   "metadata": {},
   "outputs": [],
   "source": [
    "#import libraries \n",
    "\n",
    "import numpy as np \n",
    "import matplotlib.pyplot as plt"
   ]
  },
  {
   "cell_type": "code",
   "execution_count": 2,
   "id": "4753138a",
   "metadata": {},
   "outputs": [
    {
     "data": {
      "text/plain": [
       "[[11, 12, 13], [21, 22, 23], [31, 32, 33]]"
      ]
     },
     "execution_count": 2,
     "metadata": {},
     "output_type": "execute_result"
    }
   ],
   "source": [
    "# Create a list\n",
    "\n",
    "data = [[11, 12, 13], [21, 22, 23], [31, 32, 33]]\n",
    "data"
   ]
  },
  {
   "cell_type": "code",
   "execution_count": 3,
   "id": "404ee4fe",
   "metadata": {},
   "outputs": [],
   "source": [
    "final = np.array(data)"
   ]
  },
  {
   "cell_type": "code",
   "execution_count": 4,
   "id": "5f0c1f0a",
   "metadata": {},
   "outputs": [
    {
     "data": {
      "text/plain": [
       "2"
      ]
     },
     "execution_count": 4,
     "metadata": {},
     "output_type": "execute_result"
    }
   ],
   "source": [
    "final.ndim"
   ]
  },
  {
   "cell_type": "code",
   "execution_count": 5,
   "id": "f861c5a1",
   "metadata": {},
   "outputs": [
    {
     "data": {
      "text/plain": [
       "9"
      ]
     },
     "execution_count": 5,
     "metadata": {},
     "output_type": "execute_result"
    }
   ],
   "source": [
    "final.size"
   ]
  },
  {
   "cell_type": "code",
   "execution_count": 6,
   "id": "847bbece",
   "metadata": {},
   "outputs": [
    {
     "data": {
      "text/plain": [
       "(3, 3)"
      ]
     },
     "execution_count": 6,
     "metadata": {},
     "output_type": "execute_result"
    }
   ],
   "source": [
    "final.shape"
   ]
  },
  {
   "cell_type": "code",
   "execution_count": 10,
   "id": "4963b86b",
   "metadata": {},
   "outputs": [
    {
     "data": {
      "text/plain": [
       "array([[11, 12, 13],\n",
       "       [21, 22, 23],\n",
       "       [31, 32, 33]])"
      ]
     },
     "execution_count": 10,
     "metadata": {},
     "output_type": "execute_result"
    }
   ],
   "source": [
    "final"
   ]
  },
  {
   "cell_type": "code",
   "execution_count": 11,
   "id": "06162290",
   "metadata": {},
   "outputs": [
    {
     "data": {
      "text/plain": [
       "23"
      ]
     },
     "execution_count": 11,
     "metadata": {},
     "output_type": "execute_result"
    }
   ],
   "source": [
    "#access the element\n",
    "\n",
    "final[1,2]"
   ]
  },
  {
   "cell_type": "code",
   "execution_count": 12,
   "id": "70de0c8d",
   "metadata": {},
   "outputs": [
    {
     "data": {
      "text/plain": [
       "12"
      ]
     },
     "execution_count": 12,
     "metadata": {},
     "output_type": "execute_result"
    }
   ],
   "source": [
    "final[0,1]"
   ]
  },
  {
   "cell_type": "markdown",
   "id": "60521dfd",
   "metadata": {},
   "source": [
    "# Basic Operations"
   ]
  },
  {
   "cell_type": "code",
   "execution_count": 13,
   "id": "10a675cc",
   "metadata": {},
   "outputs": [
    {
     "data": {
      "text/plain": [
       "array([[1, 0],\n",
       "       [0, 1]])"
      ]
     },
     "execution_count": 13,
     "metadata": {},
     "output_type": "execute_result"
    }
   ],
   "source": [
    "# Create a numpy array X\n",
    "\n",
    "X = np.array([[1, 0], [0, 1]]) \n",
    "X"
   ]
  },
  {
   "cell_type": "code",
   "execution_count": 14,
   "id": "7590fd48",
   "metadata": {},
   "outputs": [
    {
     "data": {
      "text/plain": [
       "array([[2, 1],\n",
       "       [1, 2]])"
      ]
     },
     "execution_count": 14,
     "metadata": {},
     "output_type": "execute_result"
    }
   ],
   "source": [
    "# Create a numpy array Y\n",
    "\n",
    "Y = np.array([[2, 1], [1, 2]]) \n",
    "Y"
   ]
  },
  {
   "cell_type": "code",
   "execution_count": 15,
   "id": "e3581958",
   "metadata": {},
   "outputs": [
    {
     "data": {
      "text/plain": [
       "array([[3, 1],\n",
       "       [1, 3]])"
      ]
     },
     "execution_count": 15,
     "metadata": {},
     "output_type": "execute_result"
    }
   ],
   "source": [
    "# Add X and Y\n",
    "\n",
    "Z = X + Y\n",
    "Z"
   ]
  },
  {
   "cell_type": "code",
   "execution_count": 19,
   "id": "3cbd46b8",
   "metadata": {},
   "outputs": [],
   "source": [
    "#Multiplying a numpy array by a scaler\n",
    "G = 2 * Y"
   ]
  },
  {
   "cell_type": "code",
   "execution_count": 17,
   "id": "8762e833",
   "metadata": {},
   "outputs": [
    {
     "data": {
      "text/plain": [
       "array([[4, 2],\n",
       "       [2, 4]])"
      ]
     },
     "execution_count": 17,
     "metadata": {},
     "output_type": "execute_result"
    }
   ],
   "source": [
    "G"
   ]
  },
  {
   "cell_type": "code",
   "execution_count": 22,
   "id": "cb74778a",
   "metadata": {},
   "outputs": [],
   "source": [
    "H = Y * X"
   ]
  },
  {
   "cell_type": "code",
   "execution_count": 23,
   "id": "b0e829cf",
   "metadata": {},
   "outputs": [
    {
     "data": {
      "text/plain": [
       "array([[2, 0],\n",
       "       [0, 2]])"
      ]
     },
     "execution_count": 23,
     "metadata": {},
     "output_type": "execute_result"
    }
   ],
   "source": [
    "H"
   ]
  },
  {
   "cell_type": "code",
   "execution_count": 24,
   "id": "49348c5b",
   "metadata": {},
   "outputs": [],
   "source": [
    "#We can also perform matrix multiplication with the numpy arrays"
   ]
  },
  {
   "cell_type": "code",
   "execution_count": 27,
   "id": "570527ba",
   "metadata": {},
   "outputs": [
    {
     "data": {
      "text/plain": [
       "array([[0, 1, 1],\n",
       "       [1, 0, 1]])"
      ]
     },
     "execution_count": 27,
     "metadata": {},
     "output_type": "execute_result"
    }
   ],
   "source": [
    "# Create a matrix A\n",
    "\n",
    "a = np.array([[0, 1, 1], [1, 0, 1]])\n",
    "a"
   ]
  },
  {
   "cell_type": "code",
   "execution_count": 28,
   "id": "ee33853e",
   "metadata": {},
   "outputs": [
    {
     "data": {
      "text/plain": [
       "array([[0, 1, 1],\n",
       "       [1, 0, 1]])"
      ]
     },
     "execution_count": 28,
     "metadata": {},
     "output_type": "execute_result"
    }
   ],
   "source": [
    "# Create a matrix B\n",
    "\n",
    "b = np.array([[1, 1], [1, 1], [-1, 1]])\n",
    "a"
   ]
  },
  {
   "cell_type": "code",
   "execution_count": 32,
   "id": "374b4f50",
   "metadata": {},
   "outputs": [
    {
     "data": {
      "text/plain": [
       "array([[0, 2],\n",
       "       [0, 2]])"
      ]
     },
     "execution_count": 32,
     "metadata": {},
     "output_type": "execute_result"
    }
   ],
   "source": [
    "L = np.dot(a, b)\n",
    "L"
   ]
  },
  {
   "cell_type": "code",
   "execution_count": 38,
   "id": "c36d84e5",
   "metadata": {},
   "outputs": [
    {
     "data": {
      "text/plain": [
       "0"
      ]
     },
     "execution_count": 38,
     "metadata": {},
     "output_type": "execute_result"
    }
   ],
   "source": [
    "a=np.array([0,1])\n",
    "b=np.array([1,0])\n",
    "np.dot(a,b) "
   ]
  },
  {
   "cell_type": "code",
   "execution_count": 34,
   "id": "75296dd6",
   "metadata": {},
   "outputs": [
    {
     "data": {
      "text/plain": [
       "array([0, 1])"
      ]
     },
     "execution_count": 34,
     "metadata": {},
     "output_type": "execute_result"
    }
   ],
   "source": [
    "\n",
    "X=np.array([[1,0,1],[2,2,2]]) \n",
    "out=X[0,1:3]\n",
    "out"
   ]
  },
  {
   "cell_type": "code",
   "execution_count": 37,
   "id": "63f1e9ac",
   "metadata": {},
   "outputs": [
    {
     "data": {
      "text/plain": [
       "array([[2, 2],\n",
       "       [2, 2]])"
      ]
     },
     "execution_count": 37,
     "metadata": {},
     "output_type": "execute_result"
    }
   ],
   "source": [
    "X=np.array([[1,0],[0,1]])\n",
    "Y=np.array([[2,2],[2,2]])\n",
    "Z=np.dot(X,Y)\n",
    "Z"
   ]
  },
  {
   "cell_type": "code",
   "execution_count": 39,
   "id": "bd1bd384",
   "metadata": {},
   "outputs": [],
   "source": [
    "X=np.array([[1,0],[0,1]])\n",
    "Y=np.array([[0,1],[1,0]])\n",
    "Z=X+Y"
   ]
  },
  {
   "cell_type": "code",
   "execution_count": 40,
   "id": "0cc6d1d6",
   "metadata": {},
   "outputs": [
    {
     "data": {
      "text/plain": [
       "array([[1, 1],\n",
       "       [1, 1]])"
      ]
     },
     "execution_count": 40,
     "metadata": {},
     "output_type": "execute_result"
    }
   ],
   "source": [
    "Z"
   ]
  },
  {
   "cell_type": "code",
   "execution_count": 41,
   "id": "8a932c58",
   "metadata": {},
   "outputs": [
    {
     "data": {
      "text/plain": [
       "array([[2, 1],\n",
       "       [1, 2]])"
      ]
     },
     "execution_count": 41,
     "metadata": {},
     "output_type": "execute_result"
    }
   ],
   "source": [
    "\n",
    "X=np.array([[1,0],[0,1]])\n",
    "Y=np.array([[2,1],[1,2]]) \n",
    "Z=np.dot(X,Y)\n",
    "Z"
   ]
  },
  {
   "cell_type": "markdown",
   "id": "d20dd734",
   "metadata": {},
   "source": [
    "# HANDLING MISSING DATA"
   ]
  },
  {
   "cell_type": "code",
   "execution_count": null,
   "id": "f7dd74e5",
   "metadata": {},
   "outputs": [],
   "source": [
    "missing_data = df.isnull()\n",
    "missing_data.head(5) \n",
    "\n",
    "#checking missing values"
   ]
  },
  {
   "cell_type": "code",
   "execution_count": null,
   "id": "63a26cc0",
   "metadata": {},
   "outputs": [],
   "source": [
    "dataframes.dropna()"
   ]
  },
  {
   "cell_type": "code",
   "execution_count": null,
   "id": "1dd7782b",
   "metadata": {},
   "outputs": [],
   "source": [
    "for column in missing_data.columns.values.tolist():\n",
    "    print(column)\n",
    "    print (missing_data[column].value_counts())\n",
    "    print(\"\")   \n",
    "    \n",
    "#counting missing values in each column "
   ]
  },
  {
   "cell_type": "markdown",
   "id": "5959c26f",
   "metadata": {},
   "source": [
    "Dropping rows, or columns "
   ]
  },
  {
   "cell_type": "code",
   "execution_count": null,
   "id": "210dbe71",
   "metadata": {},
   "outputs": [],
   "source": [
    "df.dropna(subset=[\"price\"], axis=0, inplace = True)"
   ]
  },
  {
   "cell_type": "code",
   "execution_count": 2,
   "id": "ad6c65ea",
   "metadata": {},
   "outputs": [],
   "source": [
    "#When inplace=True is set, it means that the dropna() operation \n",
    "#will modify the original DataFrame directly, removing the rows \n",
    "#that have missing values in the specified subset. "
   ]
  },
  {
   "cell_type": "code",
   "execution_count": 3,
   "id": "84a70a54",
   "metadata": {},
   "outputs": [],
   "source": [
    "#If inplace=False or not specified (default behavior), the dropna() operation will return a new DataFrame \n",
    "#with the desired changes, leaving the original DataFrame unchanged."
   ]
  },
  {
   "cell_type": "markdown",
   "id": "e63c868f",
   "metadata": {},
   "source": [
    "Replacing Values "
   ]
  },
  {
   "cell_type": "code",
   "execution_count": null,
   "id": "47bda993",
   "metadata": {},
   "outputs": [],
   "source": [
    "dataframename.replace(missing_value, new_value)\n",
    "\n",
    "#example\n",
    "\n",
    "mean =  df[\"column.name\"].mean()\n",
    "df[\"column.name\"].replace(np.nan, mean)"
   ]
  },
  {
   "cell_type": "code",
   "execution_count": null,
   "id": "a02aa6fd",
   "metadata": {},
   "outputs": [],
   "source": [
    "# Replace missing values with a specified value\n",
    "df['column_name'].fillna(value, inplace=True)\n"
   ]
  },
  {
   "cell_type": "markdown",
   "id": "756f2711",
   "metadata": {},
   "source": [
    "# DATA FORMATTING"
   ]
  },
  {
   "cell_type": "code",
   "execution_count": null,
   "id": "7180c20c",
   "metadata": {},
   "outputs": [],
   "source": [
    "#example converting Miles per gallong to L/100km in Car dataset \n",
    "\n",
    "df[\"city-mpg\"]= 235/df[\"city-mpg\"]\n",
    "df.rename(columns={\"city-mpg\": \"city-mpg\"}, inplace=True)"
   ]
  },
  {
   "cell_type": "code",
   "execution_count": null,
   "id": "6565821b",
   "metadata": {},
   "outputs": [],
   "source": [
    "# Convert a column to a specific data type\n",
    "df['column_name'] = df['column_name'].astype('int')"
   ]
  },
  {
   "cell_type": "code",
   "execution_count": null,
   "id": "94d013d0",
   "metadata": {},
   "outputs": [],
   "source": [
    "# Remove leading and trailing whitespaces from a column\n",
    "df['column_name'] = df['column_name'].str.strip()\n"
   ]
  },
  {
   "cell_type": "code",
   "execution_count": null,
   "id": "ca93d765",
   "metadata": {},
   "outputs": [],
   "source": [
    "# Convert a column to uppercase\n",
    "df['column_name'] = df['column_name'].str.upper()\n",
    "\n",
    "# Convert a column to lowercase\n",
    "df['column_name'] = df['column_name'].str.lower()\n"
   ]
  },
  {
   "cell_type": "code",
   "execution_count": null,
   "id": "0a4b7f0f",
   "metadata": {},
   "outputs": [],
   "source": [
    "# Convert a string column to a datetime format\n",
    "df['date_column'] = pd.to_datetime(df['date_column'], format='%Y-%m-%d')\n"
   ]
  },
  {
   "cell_type": "code",
   "execution_count": null,
   "id": "abc569e2",
   "metadata": {},
   "outputs": [],
   "source": [
    "# Remove duplicate rows from a DataFrame\n",
    "df.drop_duplicates(inplace=True)\n"
   ]
  },
  {
   "cell_type": "code",
   "execution_count": null,
   "id": "7c423ac8",
   "metadata": {},
   "outputs": [],
   "source": [
    "# Format numbers with a specific number of decimal places\n",
    "df['column_name'] = df['column_name'].apply(lambda x: '{:.2f}'.format(x))\n"
   ]
  },
  {
   "cell_type": "code",
   "execution_count": null,
   "id": "763eed7b",
   "metadata": {},
   "outputs": [],
   "source": [
    "# Remove special characters from a string column\n",
    "import re\n",
    "df['column_name'] = df['column_name'].apply(lambda x: re.sub('[^A-Za-z0-9]+', '', x))\n"
   ]
  },
  {
   "cell_type": "code",
   "execution_count": null,
   "id": "3d1ab456",
   "metadata": {},
   "outputs": [],
   "source": [
    "# Scale numeric values using z-score normalization\n",
    "from sklearn.preprocessing import StandardScaler\n",
    "scaler = StandardScaler()\n",
    "df['column_name'] = scaler.fit_transform(df[['column_name']])\n"
   ]
  },
  {
   "cell_type": "markdown",
   "id": "c30e0757",
   "metadata": {},
   "source": [
    "# Data Normalization"
   ]
  },
  {
   "cell_type": "markdown",
   "id": "711d480d",
   "metadata": {},
   "source": [
    "1.)Simple Feature Scaling: It scales the values in a feature to be between 0 and 1 by dividing each value by the maximum value in the feature."
   ]
  },
  {
   "cell_type": "code",
   "execution_count": 4,
   "id": "7c52d284",
   "metadata": {},
   "outputs": [
    {
     "name": "stdout",
     "output_type": "stream",
     "text": [
      "[0.2 0.4 0.6 0.8 1. ]\n"
     ]
    }
   ],
   "source": [
    "import numpy as np\n",
    "\n",
    "# Original data\n",
    "data = np.array([5, 10, 15, 20, 25])\n",
    "\n",
    "# Apply simple feature scaling\n",
    "scaled_data = data / np.max(data)\n",
    "\n",
    "print(scaled_data)\n"
   ]
  },
  {
   "cell_type": "markdown",
   "id": "42cd42cf",
   "metadata": {},
   "source": [
    "2.) Min-Max Scaling: It scales the values in a feature to be between a specified range, typically between 0 and 1, by subtracting the minimum value and dividing by the range."
   ]
  },
  {
   "cell_type": "code",
   "execution_count": 5,
   "id": "fabd03eb",
   "metadata": {},
   "outputs": [
    {
     "name": "stdout",
     "output_type": "stream",
     "text": [
      "[0.   0.25 0.5  0.75 1.  ]\n"
     ]
    }
   ],
   "source": [
    "import numpy as np\n",
    "\n",
    "# Original data\n",
    "data = np.array([10, 20, 30, 40, 50])\n",
    "\n",
    "# Apply min-max scaling\n",
    "scaled_data = (data - np.min(data)) / (np.max(data) - np.min(data))\n",
    "\n",
    "print(scaled_data)\n"
   ]
  },
  {
   "cell_type": "markdown",
   "id": "2d4ac61b",
   "metadata": {},
   "source": [
    "3.) Z-Score Normalization: It standardizes the values in a feature by subtracting the mean and dividing by the standard deviation, resulting in a distribution with a mean of 0 and a standard deviation of 1."
   ]
  },
  {
   "cell_type": "code",
   "execution_count": 6,
   "id": "6e96826a",
   "metadata": {},
   "outputs": [
    {
     "name": "stdout",
     "output_type": "stream",
     "text": [
      "[-1.41421356 -0.70710678  0.          0.70710678  1.41421356]\n"
     ]
    }
   ],
   "source": [
    "import numpy as np\n",
    "\n",
    "# Original data\n",
    "data = np.array([12, 15, 18, 21, 24])\n",
    "\n",
    "# Apply z-score normalization\n",
    "mean = np.mean(data)\n",
    "std = np.std(data)\n",
    "normalized_data = (data - mean) / std\n",
    "\n",
    "print(normalized_data)\n"
   ]
  },
  {
   "cell_type": "markdown",
   "id": "0a85abff",
   "metadata": {},
   "source": [
    "# Binning in Python"
   ]
  },
  {
   "cell_type": "code",
   "execution_count": null,
   "id": "e009ceef",
   "metadata": {},
   "outputs": [],
   "source": [
    "bins = mp.linspace(min(df[\"price\"]), max(df[\"price\"]),4)\n",
    "\n",
    "group_names = [\"Low\", \"Medium\", \"High\"]\n",
    "\n",
    "df[\"price-binned\"] = pd.cut(df[\"price\"], bins, labels = group_names, include_lowest=True)"
   ]
  },
  {
   "cell_type": "markdown",
   "id": "e71355af",
   "metadata": {},
   "source": [
    "# Turning categorical variables into quantitative variables"
   ]
  },
  {
   "cell_type": "markdown",
   "id": "fa29567b",
   "metadata": {},
   "source": [
    "label Encoder"
   ]
  },
  {
   "cell_type": "code",
   "execution_count": 14,
   "id": "11da6827",
   "metadata": {},
   "outputs": [
    {
     "name": "stdout",
     "output_type": "stream",
     "text": [
      "  Category  Encoded_Category\n",
      "0      Red                 2\n",
      "1     Blue                 0\n",
      "2    Green                 1\n",
      "3    Green                 1\n",
      "4     Blue                 0\n",
      "5      Red                 2\n"
     ]
    }
   ],
   "source": [
    "import pandas as pd\n",
    "from sklearn.preprocessing import LabelEncoder\n",
    "\n",
    "# Create a dataframe with a categorical column\n",
    "data = {'Category': ['Red', 'Blue', 'Green', 'Green', 'Blue', 'Red']}\n",
    "df = pd.DataFrame(data)\n",
    "\n",
    "# Initialize the LabelEncoder\n",
    "label_encoder = LabelEncoder()\n",
    "\n",
    "# Encode the categorical column\n",
    "df['Encoded_Category'] = label_encoder.fit_transform(df['Category'])\n",
    "print(df)\n"
   ]
  },
  {
   "cell_type": "markdown",
   "id": "4001e3ce",
   "metadata": {},
   "source": [
    "One Hot Encoder"
   ]
  },
  {
   "cell_type": "code",
   "execution_count": 15,
   "id": "568c6d8d",
   "metadata": {},
   "outputs": [
    {
     "name": "stdout",
     "output_type": "stream",
     "text": [
      "  Category  (A,)  (B,)  (C,)\n",
      "0        A   1.0   0.0   0.0\n",
      "1        B   0.0   1.0   0.0\n",
      "2        A   1.0   0.0   0.0\n",
      "3        C   0.0   0.0   1.0\n",
      "4        B   0.0   1.0   0.0\n",
      "5        C   0.0   0.0   1.0\n"
     ]
    }
   ],
   "source": [
    "import pandas as pd\n",
    "from sklearn.preprocessing import OneHotEncoder\n",
    "\n",
    "# Create a dataframe with a categorical column\n",
    "data = {'Category': ['A', 'B', 'A', 'C', 'B', 'C']}\n",
    "df = pd.DataFrame(data)\n",
    "\n",
    "# Initialize the OneHotEncoder\n",
    "onehot_encoder = OneHotEncoder()\n",
    "\n",
    "# Perform one-hot encoding on the categorical column\n",
    "encoded_columns = pd.DataFrame(onehot_encoder.fit_transform(df[['Category']]).toarray(),\n",
    "                               columns=onehot_encoder.categories_)\n",
    "\n",
    "# Concatenate the encoded columns with the original dataframe\n",
    "df = pd.concat([df, encoded_columns], axis=1)\n",
    "print(df)\n"
   ]
  },
  {
   "cell_type": "markdown",
   "id": "73fa8613",
   "metadata": {},
   "source": [
    "Dummy Encoding (Pandas)"
   ]
  },
  {
   "cell_type": "code",
   "execution_count": 22,
   "id": "74591a93",
   "metadata": {},
   "outputs": [
    {
     "name": "stdout",
     "output_type": "stream",
     "text": [
      "  Category  Category_A  Category_B  Category_C\n",
      "0        A           1           0           0\n",
      "1        B           0           1           0\n",
      "2        A           1           0           0\n",
      "3        C           0           0           1\n",
      "4        B           0           1           0\n",
      "5        C           0           0           1\n"
     ]
    }
   ],
   "source": [
    "import pandas as pd\n",
    "\n",
    "# Create a dataframe with a categorical column\n",
    "data = {'Category': ['A', 'B', 'A', 'C', 'B', 'C']}\n",
    "df = pd.DataFrame(data)\n",
    "\n",
    "# Perform dummy encoding on the categorical column\n",
    "encoded_columns = pd.get_dummies(df['Category'], prefix='Category')\n",
    "\n",
    "# Concatenate the encoded columns with the original dataframe\n",
    "df = pd.concat([df, encoded_columns], axis=1)\n",
    "print(df)\n"
   ]
  },
  {
   "cell_type": "code",
   "execution_count": 42,
   "id": "a635e5d2",
   "metadata": {},
   "outputs": [],
   "source": [
    "import matplotlib.pyplot as plt\n",
    "import numpy as np\n",
    "%matplotlib notebook"
   ]
  },
  {
   "cell_type": "code",
   "execution_count": 43,
   "id": "6c18e244",
   "metadata": {},
   "outputs": [],
   "source": [
    "x = np.random.randn(50)"
   ]
  },
  {
   "cell_type": "code",
   "execution_count": 44,
   "id": "ceede521",
   "metadata": {},
   "outputs": [
    {
     "data": {
      "text/plain": [
       "array([-3.26126407e-01, -3.83289460e-01, -7.12784575e-01,  6.60447071e-01,\n",
       "       -8.44643942e-01, -7.67985708e-02,  1.51978981e+00, -8.76912195e-01,\n",
       "        1.59174029e-03, -5.55541128e-01,  3.31438962e-01, -5.47609949e-01,\n",
       "       -1.87739155e+00, -6.85565085e-01, -8.33694200e-01,  8.85149587e-01,\n",
       "       -2.25757984e-01, -6.81047913e-03,  9.89442500e-03, -7.23491450e-02,\n",
       "       -1.26375258e+00, -1.48723772e+00, -1.42416035e+00, -1.00603440e+00,\n",
       "       -1.59654951e+00,  1.55432675e-01,  2.57948816e+00, -4.29556721e-01,\n",
       "       -2.80097245e+00,  1.92195820e-02, -1.29114517e+00,  7.44905308e-01,\n",
       "        4.81355891e-02, -1.38813876e+00,  7.25573474e-01, -2.07576434e-01,\n",
       "       -1.43766568e-01, -5.25681222e-01,  2.71214439e+00, -7.78900855e-02,\n",
       "        8.20972216e-02,  6.43275855e-02, -9.30425843e-01, -6.45760879e-02,\n",
       "       -8.53389473e-02,  1.77168765e+00, -9.65570806e-01,  1.37035427e+00,\n",
       "       -5.67278493e-01, -1.06915842e+00])"
      ]
     },
     "execution_count": 44,
     "metadata": {},
     "output_type": "execute_result"
    }
   ],
   "source": [
    "x"
   ]
  },
  {
   "cell_type": "code",
   "execution_count": 46,
   "id": "836c3514",
   "metadata": {},
   "outputs": [
    {
     "data": {
      "application/javascript": [
       "/* Put everything inside the global mpl namespace */\n",
       "/* global mpl */\n",
       "window.mpl = {};\n",
       "\n",
       "mpl.get_websocket_type = function () {\n",
       "    if (typeof WebSocket !== 'undefined') {\n",
       "        return WebSocket;\n",
       "    } else if (typeof MozWebSocket !== 'undefined') {\n",
       "        return MozWebSocket;\n",
       "    } else {\n",
       "        alert(\n",
       "            'Your browser does not have WebSocket support. ' +\n",
       "                'Please try Chrome, Safari or Firefox ≥ 6. ' +\n",
       "                'Firefox 4 and 5 are also supported but you ' +\n",
       "                'have to enable WebSockets in about:config.'\n",
       "        );\n",
       "    }\n",
       "};\n",
       "\n",
       "mpl.figure = function (figure_id, websocket, ondownload, parent_element) {\n",
       "    this.id = figure_id;\n",
       "\n",
       "    this.ws = websocket;\n",
       "\n",
       "    this.supports_binary = this.ws.binaryType !== undefined;\n",
       "\n",
       "    if (!this.supports_binary) {\n",
       "        var warnings = document.getElementById('mpl-warnings');\n",
       "        if (warnings) {\n",
       "            warnings.style.display = 'block';\n",
       "            warnings.textContent =\n",
       "                'This browser does not support binary websocket messages. ' +\n",
       "                'Performance may be slow.';\n",
       "        }\n",
       "    }\n",
       "\n",
       "    this.imageObj = new Image();\n",
       "\n",
       "    this.context = undefined;\n",
       "    this.message = undefined;\n",
       "    this.canvas = undefined;\n",
       "    this.rubberband_canvas = undefined;\n",
       "    this.rubberband_context = undefined;\n",
       "    this.format_dropdown = undefined;\n",
       "\n",
       "    this.image_mode = 'full';\n",
       "\n",
       "    this.root = document.createElement('div');\n",
       "    this.root.setAttribute('style', 'display: inline-block');\n",
       "    this._root_extra_style(this.root);\n",
       "\n",
       "    parent_element.appendChild(this.root);\n",
       "\n",
       "    this._init_header(this);\n",
       "    this._init_canvas(this);\n",
       "    this._init_toolbar(this);\n",
       "\n",
       "    var fig = this;\n",
       "\n",
       "    this.waiting = false;\n",
       "\n",
       "    this.ws.onopen = function () {\n",
       "        fig.send_message('supports_binary', { value: fig.supports_binary });\n",
       "        fig.send_message('send_image_mode', {});\n",
       "        if (fig.ratio !== 1) {\n",
       "            fig.send_message('set_device_pixel_ratio', {\n",
       "                device_pixel_ratio: fig.ratio,\n",
       "            });\n",
       "        }\n",
       "        fig.send_message('refresh', {});\n",
       "    };\n",
       "\n",
       "    this.imageObj.onload = function () {\n",
       "        if (fig.image_mode === 'full') {\n",
       "            // Full images could contain transparency (where diff images\n",
       "            // almost always do), so we need to clear the canvas so that\n",
       "            // there is no ghosting.\n",
       "            fig.context.clearRect(0, 0, fig.canvas.width, fig.canvas.height);\n",
       "        }\n",
       "        fig.context.drawImage(fig.imageObj, 0, 0);\n",
       "    };\n",
       "\n",
       "    this.imageObj.onunload = function () {\n",
       "        fig.ws.close();\n",
       "    };\n",
       "\n",
       "    this.ws.onmessage = this._make_on_message_function(this);\n",
       "\n",
       "    this.ondownload = ondownload;\n",
       "};\n",
       "\n",
       "mpl.figure.prototype._init_header = function () {\n",
       "    var titlebar = document.createElement('div');\n",
       "    titlebar.classList =\n",
       "        'ui-dialog-titlebar ui-widget-header ui-corner-all ui-helper-clearfix';\n",
       "    var titletext = document.createElement('div');\n",
       "    titletext.classList = 'ui-dialog-title';\n",
       "    titletext.setAttribute(\n",
       "        'style',\n",
       "        'width: 100%; text-align: center; padding: 3px;'\n",
       "    );\n",
       "    titlebar.appendChild(titletext);\n",
       "    this.root.appendChild(titlebar);\n",
       "    this.header = titletext;\n",
       "};\n",
       "\n",
       "mpl.figure.prototype._canvas_extra_style = function (_canvas_div) {};\n",
       "\n",
       "mpl.figure.prototype._root_extra_style = function (_canvas_div) {};\n",
       "\n",
       "mpl.figure.prototype._init_canvas = function () {\n",
       "    var fig = this;\n",
       "\n",
       "    var canvas_div = (this.canvas_div = document.createElement('div'));\n",
       "    canvas_div.setAttribute(\n",
       "        'style',\n",
       "        'border: 1px solid #ddd;' +\n",
       "            'box-sizing: content-box;' +\n",
       "            'clear: both;' +\n",
       "            'min-height: 1px;' +\n",
       "            'min-width: 1px;' +\n",
       "            'outline: 0;' +\n",
       "            'overflow: hidden;' +\n",
       "            'position: relative;' +\n",
       "            'resize: both;'\n",
       "    );\n",
       "\n",
       "    function on_keyboard_event_closure(name) {\n",
       "        return function (event) {\n",
       "            return fig.key_event(event, name);\n",
       "        };\n",
       "    }\n",
       "\n",
       "    canvas_div.addEventListener(\n",
       "        'keydown',\n",
       "        on_keyboard_event_closure('key_press')\n",
       "    );\n",
       "    canvas_div.addEventListener(\n",
       "        'keyup',\n",
       "        on_keyboard_event_closure('key_release')\n",
       "    );\n",
       "\n",
       "    this._canvas_extra_style(canvas_div);\n",
       "    this.root.appendChild(canvas_div);\n",
       "\n",
       "    var canvas = (this.canvas = document.createElement('canvas'));\n",
       "    canvas.classList.add('mpl-canvas');\n",
       "    canvas.setAttribute('style', 'box-sizing: content-box;');\n",
       "\n",
       "    this.context = canvas.getContext('2d');\n",
       "\n",
       "    var backingStore =\n",
       "        this.context.backingStorePixelRatio ||\n",
       "        this.context.webkitBackingStorePixelRatio ||\n",
       "        this.context.mozBackingStorePixelRatio ||\n",
       "        this.context.msBackingStorePixelRatio ||\n",
       "        this.context.oBackingStorePixelRatio ||\n",
       "        this.context.backingStorePixelRatio ||\n",
       "        1;\n",
       "\n",
       "    this.ratio = (window.devicePixelRatio || 1) / backingStore;\n",
       "\n",
       "    var rubberband_canvas = (this.rubberband_canvas = document.createElement(\n",
       "        'canvas'\n",
       "    ));\n",
       "    rubberband_canvas.setAttribute(\n",
       "        'style',\n",
       "        'box-sizing: content-box; position: absolute; left: 0; top: 0; z-index: 1;'\n",
       "    );\n",
       "\n",
       "    // Apply a ponyfill if ResizeObserver is not implemented by browser.\n",
       "    if (this.ResizeObserver === undefined) {\n",
       "        if (window.ResizeObserver !== undefined) {\n",
       "            this.ResizeObserver = window.ResizeObserver;\n",
       "        } else {\n",
       "            var obs = _JSXTOOLS_RESIZE_OBSERVER({});\n",
       "            this.ResizeObserver = obs.ResizeObserver;\n",
       "        }\n",
       "    }\n",
       "\n",
       "    this.resizeObserverInstance = new this.ResizeObserver(function (entries) {\n",
       "        var nentries = entries.length;\n",
       "        for (var i = 0; i < nentries; i++) {\n",
       "            var entry = entries[i];\n",
       "            var width, height;\n",
       "            if (entry.contentBoxSize) {\n",
       "                if (entry.contentBoxSize instanceof Array) {\n",
       "                    // Chrome 84 implements new version of spec.\n",
       "                    width = entry.contentBoxSize[0].inlineSize;\n",
       "                    height = entry.contentBoxSize[0].blockSize;\n",
       "                } else {\n",
       "                    // Firefox implements old version of spec.\n",
       "                    width = entry.contentBoxSize.inlineSize;\n",
       "                    height = entry.contentBoxSize.blockSize;\n",
       "                }\n",
       "            } else {\n",
       "                // Chrome <84 implements even older version of spec.\n",
       "                width = entry.contentRect.width;\n",
       "                height = entry.contentRect.height;\n",
       "            }\n",
       "\n",
       "            // Keep the size of the canvas and rubber band canvas in sync with\n",
       "            // the canvas container.\n",
       "            if (entry.devicePixelContentBoxSize) {\n",
       "                // Chrome 84 implements new version of spec.\n",
       "                canvas.setAttribute(\n",
       "                    'width',\n",
       "                    entry.devicePixelContentBoxSize[0].inlineSize\n",
       "                );\n",
       "                canvas.setAttribute(\n",
       "                    'height',\n",
       "                    entry.devicePixelContentBoxSize[0].blockSize\n",
       "                );\n",
       "            } else {\n",
       "                canvas.setAttribute('width', width * fig.ratio);\n",
       "                canvas.setAttribute('height', height * fig.ratio);\n",
       "            }\n",
       "            canvas.setAttribute(\n",
       "                'style',\n",
       "                'width: ' + width + 'px; height: ' + height + 'px;'\n",
       "            );\n",
       "\n",
       "            rubberband_canvas.setAttribute('width', width);\n",
       "            rubberband_canvas.setAttribute('height', height);\n",
       "\n",
       "            // And update the size in Python. We ignore the initial 0/0 size\n",
       "            // that occurs as the element is placed into the DOM, which should\n",
       "            // otherwise not happen due to the minimum size styling.\n",
       "            if (fig.ws.readyState == 1 && width != 0 && height != 0) {\n",
       "                fig.request_resize(width, height);\n",
       "            }\n",
       "        }\n",
       "    });\n",
       "    this.resizeObserverInstance.observe(canvas_div);\n",
       "\n",
       "    function on_mouse_event_closure(name) {\n",
       "        return function (event) {\n",
       "            return fig.mouse_event(event, name);\n",
       "        };\n",
       "    }\n",
       "\n",
       "    rubberband_canvas.addEventListener(\n",
       "        'mousedown',\n",
       "        on_mouse_event_closure('button_press')\n",
       "    );\n",
       "    rubberband_canvas.addEventListener(\n",
       "        'mouseup',\n",
       "        on_mouse_event_closure('button_release')\n",
       "    );\n",
       "    rubberband_canvas.addEventListener(\n",
       "        'dblclick',\n",
       "        on_mouse_event_closure('dblclick')\n",
       "    );\n",
       "    // Throttle sequential mouse events to 1 every 20ms.\n",
       "    rubberband_canvas.addEventListener(\n",
       "        'mousemove',\n",
       "        on_mouse_event_closure('motion_notify')\n",
       "    );\n",
       "\n",
       "    rubberband_canvas.addEventListener(\n",
       "        'mouseenter',\n",
       "        on_mouse_event_closure('figure_enter')\n",
       "    );\n",
       "    rubberband_canvas.addEventListener(\n",
       "        'mouseleave',\n",
       "        on_mouse_event_closure('figure_leave')\n",
       "    );\n",
       "\n",
       "    canvas_div.addEventListener('wheel', function (event) {\n",
       "        if (event.deltaY < 0) {\n",
       "            event.step = 1;\n",
       "        } else {\n",
       "            event.step = -1;\n",
       "        }\n",
       "        on_mouse_event_closure('scroll')(event);\n",
       "    });\n",
       "\n",
       "    canvas_div.appendChild(canvas);\n",
       "    canvas_div.appendChild(rubberband_canvas);\n",
       "\n",
       "    this.rubberband_context = rubberband_canvas.getContext('2d');\n",
       "    this.rubberband_context.strokeStyle = '#000000';\n",
       "\n",
       "    this._resize_canvas = function (width, height, forward) {\n",
       "        if (forward) {\n",
       "            canvas_div.style.width = width + 'px';\n",
       "            canvas_div.style.height = height + 'px';\n",
       "        }\n",
       "    };\n",
       "\n",
       "    // Disable right mouse context menu.\n",
       "    this.rubberband_canvas.addEventListener('contextmenu', function (_e) {\n",
       "        event.preventDefault();\n",
       "        return false;\n",
       "    });\n",
       "\n",
       "    function set_focus() {\n",
       "        canvas.focus();\n",
       "        canvas_div.focus();\n",
       "    }\n",
       "\n",
       "    window.setTimeout(set_focus, 100);\n",
       "};\n",
       "\n",
       "mpl.figure.prototype._init_toolbar = function () {\n",
       "    var fig = this;\n",
       "\n",
       "    var toolbar = document.createElement('div');\n",
       "    toolbar.classList = 'mpl-toolbar';\n",
       "    this.root.appendChild(toolbar);\n",
       "\n",
       "    function on_click_closure(name) {\n",
       "        return function (_event) {\n",
       "            return fig.toolbar_button_onclick(name);\n",
       "        };\n",
       "    }\n",
       "\n",
       "    function on_mouseover_closure(tooltip) {\n",
       "        return function (event) {\n",
       "            if (!event.currentTarget.disabled) {\n",
       "                return fig.toolbar_button_onmouseover(tooltip);\n",
       "            }\n",
       "        };\n",
       "    }\n",
       "\n",
       "    fig.buttons = {};\n",
       "    var buttonGroup = document.createElement('div');\n",
       "    buttonGroup.classList = 'mpl-button-group';\n",
       "    for (var toolbar_ind in mpl.toolbar_items) {\n",
       "        var name = mpl.toolbar_items[toolbar_ind][0];\n",
       "        var tooltip = mpl.toolbar_items[toolbar_ind][1];\n",
       "        var image = mpl.toolbar_items[toolbar_ind][2];\n",
       "        var method_name = mpl.toolbar_items[toolbar_ind][3];\n",
       "\n",
       "        if (!name) {\n",
       "            /* Instead of a spacer, we start a new button group. */\n",
       "            if (buttonGroup.hasChildNodes()) {\n",
       "                toolbar.appendChild(buttonGroup);\n",
       "            }\n",
       "            buttonGroup = document.createElement('div');\n",
       "            buttonGroup.classList = 'mpl-button-group';\n",
       "            continue;\n",
       "        }\n",
       "\n",
       "        var button = (fig.buttons[name] = document.createElement('button'));\n",
       "        button.classList = 'mpl-widget';\n",
       "        button.setAttribute('role', 'button');\n",
       "        button.setAttribute('aria-disabled', 'false');\n",
       "        button.addEventListener('click', on_click_closure(method_name));\n",
       "        button.addEventListener('mouseover', on_mouseover_closure(tooltip));\n",
       "\n",
       "        var icon_img = document.createElement('img');\n",
       "        icon_img.src = '_images/' + image + '.png';\n",
       "        icon_img.srcset = '_images/' + image + '_large.png 2x';\n",
       "        icon_img.alt = tooltip;\n",
       "        button.appendChild(icon_img);\n",
       "\n",
       "        buttonGroup.appendChild(button);\n",
       "    }\n",
       "\n",
       "    if (buttonGroup.hasChildNodes()) {\n",
       "        toolbar.appendChild(buttonGroup);\n",
       "    }\n",
       "\n",
       "    var fmt_picker = document.createElement('select');\n",
       "    fmt_picker.classList = 'mpl-widget';\n",
       "    toolbar.appendChild(fmt_picker);\n",
       "    this.format_dropdown = fmt_picker;\n",
       "\n",
       "    for (var ind in mpl.extensions) {\n",
       "        var fmt = mpl.extensions[ind];\n",
       "        var option = document.createElement('option');\n",
       "        option.selected = fmt === mpl.default_extension;\n",
       "        option.innerHTML = fmt;\n",
       "        fmt_picker.appendChild(option);\n",
       "    }\n",
       "\n",
       "    var status_bar = document.createElement('span');\n",
       "    status_bar.classList = 'mpl-message';\n",
       "    toolbar.appendChild(status_bar);\n",
       "    this.message = status_bar;\n",
       "};\n",
       "\n",
       "mpl.figure.prototype.request_resize = function (x_pixels, y_pixels) {\n",
       "    // Request matplotlib to resize the figure. Matplotlib will then trigger a resize in the client,\n",
       "    // which will in turn request a refresh of the image.\n",
       "    this.send_message('resize', { width: x_pixels, height: y_pixels });\n",
       "};\n",
       "\n",
       "mpl.figure.prototype.send_message = function (type, properties) {\n",
       "    properties['type'] = type;\n",
       "    properties['figure_id'] = this.id;\n",
       "    this.ws.send(JSON.stringify(properties));\n",
       "};\n",
       "\n",
       "mpl.figure.prototype.send_draw_message = function () {\n",
       "    if (!this.waiting) {\n",
       "        this.waiting = true;\n",
       "        this.ws.send(JSON.stringify({ type: 'draw', figure_id: this.id }));\n",
       "    }\n",
       "};\n",
       "\n",
       "mpl.figure.prototype.handle_save = function (fig, _msg) {\n",
       "    var format_dropdown = fig.format_dropdown;\n",
       "    var format = format_dropdown.options[format_dropdown.selectedIndex].value;\n",
       "    fig.ondownload(fig, format);\n",
       "};\n",
       "\n",
       "mpl.figure.prototype.handle_resize = function (fig, msg) {\n",
       "    var size = msg['size'];\n",
       "    if (size[0] !== fig.canvas.width || size[1] !== fig.canvas.height) {\n",
       "        fig._resize_canvas(size[0], size[1], msg['forward']);\n",
       "        fig.send_message('refresh', {});\n",
       "    }\n",
       "};\n",
       "\n",
       "mpl.figure.prototype.handle_rubberband = function (fig, msg) {\n",
       "    var x0 = msg['x0'] / fig.ratio;\n",
       "    var y0 = (fig.canvas.height - msg['y0']) / fig.ratio;\n",
       "    var x1 = msg['x1'] / fig.ratio;\n",
       "    var y1 = (fig.canvas.height - msg['y1']) / fig.ratio;\n",
       "    x0 = Math.floor(x0) + 0.5;\n",
       "    y0 = Math.floor(y0) + 0.5;\n",
       "    x1 = Math.floor(x1) + 0.5;\n",
       "    y1 = Math.floor(y1) + 0.5;\n",
       "    var min_x = Math.min(x0, x1);\n",
       "    var min_y = Math.min(y0, y1);\n",
       "    var width = Math.abs(x1 - x0);\n",
       "    var height = Math.abs(y1 - y0);\n",
       "\n",
       "    fig.rubberband_context.clearRect(\n",
       "        0,\n",
       "        0,\n",
       "        fig.canvas.width / fig.ratio,\n",
       "        fig.canvas.height / fig.ratio\n",
       "    );\n",
       "\n",
       "    fig.rubberband_context.strokeRect(min_x, min_y, width, height);\n",
       "};\n",
       "\n",
       "mpl.figure.prototype.handle_figure_label = function (fig, msg) {\n",
       "    // Updates the figure title.\n",
       "    fig.header.textContent = msg['label'];\n",
       "};\n",
       "\n",
       "mpl.figure.prototype.handle_cursor = function (fig, msg) {\n",
       "    fig.rubberband_canvas.style.cursor = msg['cursor'];\n",
       "};\n",
       "\n",
       "mpl.figure.prototype.handle_message = function (fig, msg) {\n",
       "    fig.message.textContent = msg['message'];\n",
       "};\n",
       "\n",
       "mpl.figure.prototype.handle_draw = function (fig, _msg) {\n",
       "    // Request the server to send over a new figure.\n",
       "    fig.send_draw_message();\n",
       "};\n",
       "\n",
       "mpl.figure.prototype.handle_image_mode = function (fig, msg) {\n",
       "    fig.image_mode = msg['mode'];\n",
       "};\n",
       "\n",
       "mpl.figure.prototype.handle_history_buttons = function (fig, msg) {\n",
       "    for (var key in msg) {\n",
       "        if (!(key in fig.buttons)) {\n",
       "            continue;\n",
       "        }\n",
       "        fig.buttons[key].disabled = !msg[key];\n",
       "        fig.buttons[key].setAttribute('aria-disabled', !msg[key]);\n",
       "    }\n",
       "};\n",
       "\n",
       "mpl.figure.prototype.handle_navigate_mode = function (fig, msg) {\n",
       "    if (msg['mode'] === 'PAN') {\n",
       "        fig.buttons['Pan'].classList.add('active');\n",
       "        fig.buttons['Zoom'].classList.remove('active');\n",
       "    } else if (msg['mode'] === 'ZOOM') {\n",
       "        fig.buttons['Pan'].classList.remove('active');\n",
       "        fig.buttons['Zoom'].classList.add('active');\n",
       "    } else {\n",
       "        fig.buttons['Pan'].classList.remove('active');\n",
       "        fig.buttons['Zoom'].classList.remove('active');\n",
       "    }\n",
       "};\n",
       "\n",
       "mpl.figure.prototype.updated_canvas_event = function () {\n",
       "    // Called whenever the canvas gets updated.\n",
       "    this.send_message('ack', {});\n",
       "};\n",
       "\n",
       "// A function to construct a web socket function for onmessage handling.\n",
       "// Called in the figure constructor.\n",
       "mpl.figure.prototype._make_on_message_function = function (fig) {\n",
       "    return function socket_on_message(evt) {\n",
       "        if (evt.data instanceof Blob) {\n",
       "            var img = evt.data;\n",
       "            if (img.type !== 'image/png') {\n",
       "                /* FIXME: We get \"Resource interpreted as Image but\n",
       "                 * transferred with MIME type text/plain:\" errors on\n",
       "                 * Chrome.  But how to set the MIME type?  It doesn't seem\n",
       "                 * to be part of the websocket stream */\n",
       "                img.type = 'image/png';\n",
       "            }\n",
       "\n",
       "            /* Free the memory for the previous frames */\n",
       "            if (fig.imageObj.src) {\n",
       "                (window.URL || window.webkitURL).revokeObjectURL(\n",
       "                    fig.imageObj.src\n",
       "                );\n",
       "            }\n",
       "\n",
       "            fig.imageObj.src = (window.URL || window.webkitURL).createObjectURL(\n",
       "                img\n",
       "            );\n",
       "            fig.updated_canvas_event();\n",
       "            fig.waiting = false;\n",
       "            return;\n",
       "        } else if (\n",
       "            typeof evt.data === 'string' &&\n",
       "            evt.data.slice(0, 21) === 'data:image/png;base64'\n",
       "        ) {\n",
       "            fig.imageObj.src = evt.data;\n",
       "            fig.updated_canvas_event();\n",
       "            fig.waiting = false;\n",
       "            return;\n",
       "        }\n",
       "\n",
       "        var msg = JSON.parse(evt.data);\n",
       "        var msg_type = msg['type'];\n",
       "\n",
       "        // Call the  \"handle_{type}\" callback, which takes\n",
       "        // the figure and JSON message as its only arguments.\n",
       "        try {\n",
       "            var callback = fig['handle_' + msg_type];\n",
       "        } catch (e) {\n",
       "            console.log(\n",
       "                \"No handler for the '\" + msg_type + \"' message type: \",\n",
       "                msg\n",
       "            );\n",
       "            return;\n",
       "        }\n",
       "\n",
       "        if (callback) {\n",
       "            try {\n",
       "                // console.log(\"Handling '\" + msg_type + \"' message: \", msg);\n",
       "                callback(fig, msg);\n",
       "            } catch (e) {\n",
       "                console.log(\n",
       "                    \"Exception inside the 'handler_\" + msg_type + \"' callback:\",\n",
       "                    e,\n",
       "                    e.stack,\n",
       "                    msg\n",
       "                );\n",
       "            }\n",
       "        }\n",
       "    };\n",
       "};\n",
       "\n",
       "// from https://stackoverflow.com/questions/1114465/getting-mouse-location-in-canvas\n",
       "mpl.findpos = function (e) {\n",
       "    //this section is from http://www.quirksmode.org/js/events_properties.html\n",
       "    var targ;\n",
       "    if (!e) {\n",
       "        e = window.event;\n",
       "    }\n",
       "    if (e.target) {\n",
       "        targ = e.target;\n",
       "    } else if (e.srcElement) {\n",
       "        targ = e.srcElement;\n",
       "    }\n",
       "    if (targ.nodeType === 3) {\n",
       "        // defeat Safari bug\n",
       "        targ = targ.parentNode;\n",
       "    }\n",
       "\n",
       "    // pageX,Y are the mouse positions relative to the document\n",
       "    var boundingRect = targ.getBoundingClientRect();\n",
       "    var x = e.pageX - (boundingRect.left + document.body.scrollLeft);\n",
       "    var y = e.pageY - (boundingRect.top + document.body.scrollTop);\n",
       "\n",
       "    return { x: x, y: y };\n",
       "};\n",
       "\n",
       "/*\n",
       " * return a copy of an object with only non-object keys\n",
       " * we need this to avoid circular references\n",
       " * https://stackoverflow.com/a/24161582/3208463\n",
       " */\n",
       "function simpleKeys(original) {\n",
       "    return Object.keys(original).reduce(function (obj, key) {\n",
       "        if (typeof original[key] !== 'object') {\n",
       "            obj[key] = original[key];\n",
       "        }\n",
       "        return obj;\n",
       "    }, {});\n",
       "}\n",
       "\n",
       "mpl.figure.prototype.mouse_event = function (event, name) {\n",
       "    var canvas_pos = mpl.findpos(event);\n",
       "\n",
       "    if (name === 'button_press') {\n",
       "        this.canvas.focus();\n",
       "        this.canvas_div.focus();\n",
       "    }\n",
       "\n",
       "    var x = canvas_pos.x * this.ratio;\n",
       "    var y = canvas_pos.y * this.ratio;\n",
       "\n",
       "    this.send_message(name, {\n",
       "        x: x,\n",
       "        y: y,\n",
       "        button: event.button,\n",
       "        step: event.step,\n",
       "        guiEvent: simpleKeys(event),\n",
       "    });\n",
       "\n",
       "    /* This prevents the web browser from automatically changing to\n",
       "     * the text insertion cursor when the button is pressed.  We want\n",
       "     * to control all of the cursor setting manually through the\n",
       "     * 'cursor' event from matplotlib */\n",
       "    event.preventDefault();\n",
       "    return false;\n",
       "};\n",
       "\n",
       "mpl.figure.prototype._key_event_extra = function (_event, _name) {\n",
       "    // Handle any extra behaviour associated with a key event\n",
       "};\n",
       "\n",
       "mpl.figure.prototype.key_event = function (event, name) {\n",
       "    // Prevent repeat events\n",
       "    if (name === 'key_press') {\n",
       "        if (event.key === this._key) {\n",
       "            return;\n",
       "        } else {\n",
       "            this._key = event.key;\n",
       "        }\n",
       "    }\n",
       "    if (name === 'key_release') {\n",
       "        this._key = null;\n",
       "    }\n",
       "\n",
       "    var value = '';\n",
       "    if (event.ctrlKey && event.key !== 'Control') {\n",
       "        value += 'ctrl+';\n",
       "    }\n",
       "    else if (event.altKey && event.key !== 'Alt') {\n",
       "        value += 'alt+';\n",
       "    }\n",
       "    else if (event.shiftKey && event.key !== 'Shift') {\n",
       "        value += 'shift+';\n",
       "    }\n",
       "\n",
       "    value += 'k' + event.key;\n",
       "\n",
       "    this._key_event_extra(event, name);\n",
       "\n",
       "    this.send_message(name, { key: value, guiEvent: simpleKeys(event) });\n",
       "    return false;\n",
       "};\n",
       "\n",
       "mpl.figure.prototype.toolbar_button_onclick = function (name) {\n",
       "    if (name === 'download') {\n",
       "        this.handle_save(this, null);\n",
       "    } else {\n",
       "        this.send_message('toolbar_button', { name: name });\n",
       "    }\n",
       "};\n",
       "\n",
       "mpl.figure.prototype.toolbar_button_onmouseover = function (tooltip) {\n",
       "    this.message.textContent = tooltip;\n",
       "};\n",
       "\n",
       "///////////////// REMAINING CONTENT GENERATED BY embed_js.py /////////////////\n",
       "// prettier-ignore\n",
       "var _JSXTOOLS_RESIZE_OBSERVER=function(A){var t,i=new WeakMap,n=new WeakMap,a=new WeakMap,r=new WeakMap,o=new Set;function s(e){if(!(this instanceof s))throw new TypeError(\"Constructor requires 'new' operator\");i.set(this,e)}function h(){throw new TypeError(\"Function is not a constructor\")}function c(e,t,i,n){e=0 in arguments?Number(arguments[0]):0,t=1 in arguments?Number(arguments[1]):0,i=2 in arguments?Number(arguments[2]):0,n=3 in arguments?Number(arguments[3]):0,this.right=(this.x=this.left=e)+(this.width=i),this.bottom=(this.y=this.top=t)+(this.height=n),Object.freeze(this)}function d(){t=requestAnimationFrame(d);var s=new WeakMap,p=new Set;o.forEach((function(t){r.get(t).forEach((function(i){var r=t instanceof window.SVGElement,o=a.get(t),d=r?0:parseFloat(o.paddingTop),f=r?0:parseFloat(o.paddingRight),l=r?0:parseFloat(o.paddingBottom),u=r?0:parseFloat(o.paddingLeft),g=r?0:parseFloat(o.borderTopWidth),m=r?0:parseFloat(o.borderRightWidth),w=r?0:parseFloat(o.borderBottomWidth),b=u+f,F=d+l,v=(r?0:parseFloat(o.borderLeftWidth))+m,W=g+w,y=r?0:t.offsetHeight-W-t.clientHeight,E=r?0:t.offsetWidth-v-t.clientWidth,R=b+v,z=F+W,M=r?t.width:parseFloat(o.width)-R-E,O=r?t.height:parseFloat(o.height)-z-y;if(n.has(t)){var k=n.get(t);if(k[0]===M&&k[1]===O)return}n.set(t,[M,O]);var S=Object.create(h.prototype);S.target=t,S.contentRect=new c(u,d,M,O),s.has(i)||(s.set(i,[]),p.add(i)),s.get(i).push(S)}))})),p.forEach((function(e){i.get(e).call(e,s.get(e),e)}))}return s.prototype.observe=function(i){if(i instanceof window.Element){r.has(i)||(r.set(i,new Set),o.add(i),a.set(i,window.getComputedStyle(i)));var n=r.get(i);n.has(this)||n.add(this),cancelAnimationFrame(t),t=requestAnimationFrame(d)}},s.prototype.unobserve=function(i){if(i instanceof window.Element&&r.has(i)){var n=r.get(i);n.has(this)&&(n.delete(this),n.size||(r.delete(i),o.delete(i))),n.size||r.delete(i),o.size||cancelAnimationFrame(t)}},A.DOMRectReadOnly=c,A.ResizeObserver=s,A.ResizeObserverEntry=h,A}; // eslint-disable-line\n",
       "mpl.toolbar_items = [[\"Home\", \"Reset original view\", \"fa fa-home icon-home\", \"home\"], [\"Back\", \"Back to previous view\", \"fa fa-arrow-left icon-arrow-left\", \"back\"], [\"Forward\", \"Forward to next view\", \"fa fa-arrow-right icon-arrow-right\", \"forward\"], [\"\", \"\", \"\", \"\"], [\"Pan\", \"Left button pans, Right button zooms\\nx/y fixes axis, CTRL fixes aspect\", \"fa fa-arrows icon-move\", \"pan\"], [\"Zoom\", \"Zoom to rectangle\\nx/y fixes axis\", \"fa fa-square-o icon-check-empty\", \"zoom\"], [\"\", \"\", \"\", \"\"], [\"Download\", \"Download plot\", \"fa fa-floppy-o icon-save\", \"download\"]];\n",
       "\n",
       "mpl.extensions = [\"eps\", \"jpeg\", \"pgf\", \"pdf\", \"png\", \"ps\", \"raw\", \"svg\", \"tif\"];\n",
       "\n",
       "mpl.default_extension = \"png\";/* global mpl */\n",
       "\n",
       "var comm_websocket_adapter = function (comm) {\n",
       "    // Create a \"websocket\"-like object which calls the given IPython comm\n",
       "    // object with the appropriate methods. Currently this is a non binary\n",
       "    // socket, so there is still some room for performance tuning.\n",
       "    var ws = {};\n",
       "\n",
       "    ws.binaryType = comm.kernel.ws.binaryType;\n",
       "    ws.readyState = comm.kernel.ws.readyState;\n",
       "    function updateReadyState(_event) {\n",
       "        if (comm.kernel.ws) {\n",
       "            ws.readyState = comm.kernel.ws.readyState;\n",
       "        } else {\n",
       "            ws.readyState = 3; // Closed state.\n",
       "        }\n",
       "    }\n",
       "    comm.kernel.ws.addEventListener('open', updateReadyState);\n",
       "    comm.kernel.ws.addEventListener('close', updateReadyState);\n",
       "    comm.kernel.ws.addEventListener('error', updateReadyState);\n",
       "\n",
       "    ws.close = function () {\n",
       "        comm.close();\n",
       "    };\n",
       "    ws.send = function (m) {\n",
       "        //console.log('sending', m);\n",
       "        comm.send(m);\n",
       "    };\n",
       "    // Register the callback with on_msg.\n",
       "    comm.on_msg(function (msg) {\n",
       "        //console.log('receiving', msg['content']['data'], msg);\n",
       "        var data = msg['content']['data'];\n",
       "        if (data['blob'] !== undefined) {\n",
       "            data = {\n",
       "                data: new Blob(msg['buffers'], { type: data['blob'] }),\n",
       "            };\n",
       "        }\n",
       "        // Pass the mpl event to the overridden (by mpl) onmessage function.\n",
       "        ws.onmessage(data);\n",
       "    });\n",
       "    return ws;\n",
       "};\n",
       "\n",
       "mpl.mpl_figure_comm = function (comm, msg) {\n",
       "    // This is the function which gets called when the mpl process\n",
       "    // starts-up an IPython Comm through the \"matplotlib\" channel.\n",
       "\n",
       "    var id = msg.content.data.id;\n",
       "    // Get hold of the div created by the display call when the Comm\n",
       "    // socket was opened in Python.\n",
       "    var element = document.getElementById(id);\n",
       "    var ws_proxy = comm_websocket_adapter(comm);\n",
       "\n",
       "    function ondownload(figure, _format) {\n",
       "        window.open(figure.canvas.toDataURL());\n",
       "    }\n",
       "\n",
       "    var fig = new mpl.figure(id, ws_proxy, ondownload, element);\n",
       "\n",
       "    // Call onopen now - mpl needs it, as it is assuming we've passed it a real\n",
       "    // web socket which is closed, not our websocket->open comm proxy.\n",
       "    ws_proxy.onopen();\n",
       "\n",
       "    fig.parent_element = element;\n",
       "    fig.cell_info = mpl.find_output_cell(\"<div id='\" + id + \"'></div>\");\n",
       "    if (!fig.cell_info) {\n",
       "        console.error('Failed to find cell for figure', id, fig);\n",
       "        return;\n",
       "    }\n",
       "    fig.cell_info[0].output_area.element.on(\n",
       "        'cleared',\n",
       "        { fig: fig },\n",
       "        fig._remove_fig_handler\n",
       "    );\n",
       "};\n",
       "\n",
       "mpl.figure.prototype.handle_close = function (fig, msg) {\n",
       "    var width = fig.canvas.width / fig.ratio;\n",
       "    fig.cell_info[0].output_area.element.off(\n",
       "        'cleared',\n",
       "        fig._remove_fig_handler\n",
       "    );\n",
       "    fig.resizeObserverInstance.unobserve(fig.canvas_div);\n",
       "\n",
       "    // Update the output cell to use the data from the current canvas.\n",
       "    fig.push_to_output();\n",
       "    var dataURL = fig.canvas.toDataURL();\n",
       "    // Re-enable the keyboard manager in IPython - without this line, in FF,\n",
       "    // the notebook keyboard shortcuts fail.\n",
       "    IPython.keyboard_manager.enable();\n",
       "    fig.parent_element.innerHTML =\n",
       "        '<img src=\"' + dataURL + '\" width=\"' + width + '\">';\n",
       "    fig.close_ws(fig, msg);\n",
       "};\n",
       "\n",
       "mpl.figure.prototype.close_ws = function (fig, msg) {\n",
       "    fig.send_message('closing', msg);\n",
       "    // fig.ws.close()\n",
       "};\n",
       "\n",
       "mpl.figure.prototype.push_to_output = function (_remove_interactive) {\n",
       "    // Turn the data on the canvas into data in the output cell.\n",
       "    var width = this.canvas.width / this.ratio;\n",
       "    var dataURL = this.canvas.toDataURL();\n",
       "    this.cell_info[1]['text/html'] =\n",
       "        '<img src=\"' + dataURL + '\" width=\"' + width + '\">';\n",
       "};\n",
       "\n",
       "mpl.figure.prototype.updated_canvas_event = function () {\n",
       "    // Tell IPython that the notebook contents must change.\n",
       "    IPython.notebook.set_dirty(true);\n",
       "    this.send_message('ack', {});\n",
       "    var fig = this;\n",
       "    // Wait a second, then push the new image to the DOM so\n",
       "    // that it is saved nicely (might be nice to debounce this).\n",
       "    setTimeout(function () {\n",
       "        fig.push_to_output();\n",
       "    }, 1000);\n",
       "};\n",
       "\n",
       "mpl.figure.prototype._init_toolbar = function () {\n",
       "    var fig = this;\n",
       "\n",
       "    var toolbar = document.createElement('div');\n",
       "    toolbar.classList = 'btn-toolbar';\n",
       "    this.root.appendChild(toolbar);\n",
       "\n",
       "    function on_click_closure(name) {\n",
       "        return function (_event) {\n",
       "            return fig.toolbar_button_onclick(name);\n",
       "        };\n",
       "    }\n",
       "\n",
       "    function on_mouseover_closure(tooltip) {\n",
       "        return function (event) {\n",
       "            if (!event.currentTarget.disabled) {\n",
       "                return fig.toolbar_button_onmouseover(tooltip);\n",
       "            }\n",
       "        };\n",
       "    }\n",
       "\n",
       "    fig.buttons = {};\n",
       "    var buttonGroup = document.createElement('div');\n",
       "    buttonGroup.classList = 'btn-group';\n",
       "    var button;\n",
       "    for (var toolbar_ind in mpl.toolbar_items) {\n",
       "        var name = mpl.toolbar_items[toolbar_ind][0];\n",
       "        var tooltip = mpl.toolbar_items[toolbar_ind][1];\n",
       "        var image = mpl.toolbar_items[toolbar_ind][2];\n",
       "        var method_name = mpl.toolbar_items[toolbar_ind][3];\n",
       "\n",
       "        if (!name) {\n",
       "            /* Instead of a spacer, we start a new button group. */\n",
       "            if (buttonGroup.hasChildNodes()) {\n",
       "                toolbar.appendChild(buttonGroup);\n",
       "            }\n",
       "            buttonGroup = document.createElement('div');\n",
       "            buttonGroup.classList = 'btn-group';\n",
       "            continue;\n",
       "        }\n",
       "\n",
       "        button = fig.buttons[name] = document.createElement('button');\n",
       "        button.classList = 'btn btn-default';\n",
       "        button.href = '#';\n",
       "        button.title = name;\n",
       "        button.innerHTML = '<i class=\"fa ' + image + ' fa-lg\"></i>';\n",
       "        button.addEventListener('click', on_click_closure(method_name));\n",
       "        button.addEventListener('mouseover', on_mouseover_closure(tooltip));\n",
       "        buttonGroup.appendChild(button);\n",
       "    }\n",
       "\n",
       "    if (buttonGroup.hasChildNodes()) {\n",
       "        toolbar.appendChild(buttonGroup);\n",
       "    }\n",
       "\n",
       "    // Add the status bar.\n",
       "    var status_bar = document.createElement('span');\n",
       "    status_bar.classList = 'mpl-message pull-right';\n",
       "    toolbar.appendChild(status_bar);\n",
       "    this.message = status_bar;\n",
       "\n",
       "    // Add the close button to the window.\n",
       "    var buttongrp = document.createElement('div');\n",
       "    buttongrp.classList = 'btn-group inline pull-right';\n",
       "    button = document.createElement('button');\n",
       "    button.classList = 'btn btn-mini btn-primary';\n",
       "    button.href = '#';\n",
       "    button.title = 'Stop Interaction';\n",
       "    button.innerHTML = '<i class=\"fa fa-power-off icon-remove icon-large\"></i>';\n",
       "    button.addEventListener('click', function (_evt) {\n",
       "        fig.handle_close(fig, {});\n",
       "    });\n",
       "    button.addEventListener(\n",
       "        'mouseover',\n",
       "        on_mouseover_closure('Stop Interaction')\n",
       "    );\n",
       "    buttongrp.appendChild(button);\n",
       "    var titlebar = this.root.querySelector('.ui-dialog-titlebar');\n",
       "    titlebar.insertBefore(buttongrp, titlebar.firstChild);\n",
       "};\n",
       "\n",
       "mpl.figure.prototype._remove_fig_handler = function (event) {\n",
       "    var fig = event.data.fig;\n",
       "    if (event.target !== this) {\n",
       "        // Ignore bubbled events from children.\n",
       "        return;\n",
       "    }\n",
       "    fig.close_ws(fig, {});\n",
       "};\n",
       "\n",
       "mpl.figure.prototype._root_extra_style = function (el) {\n",
       "    el.style.boxSizing = 'content-box'; // override notebook setting of border-box.\n",
       "};\n",
       "\n",
       "mpl.figure.prototype._canvas_extra_style = function (el) {\n",
       "    // this is important to make the div 'focusable\n",
       "    el.setAttribute('tabindex', 0);\n",
       "    // reach out to IPython and tell the keyboard manager to turn it's self\n",
       "    // off when our div gets focus\n",
       "\n",
       "    // location in version 3\n",
       "    if (IPython.notebook.keyboard_manager) {\n",
       "        IPython.notebook.keyboard_manager.register_events(el);\n",
       "    } else {\n",
       "        // location in version 2\n",
       "        IPython.keyboard_manager.register_events(el);\n",
       "    }\n",
       "};\n",
       "\n",
       "mpl.figure.prototype._key_event_extra = function (event, _name) {\n",
       "    // Check for shift+enter\n",
       "    if (event.shiftKey && event.which === 13) {\n",
       "        this.canvas_div.blur();\n",
       "        // select the cell after this one\n",
       "        var index = IPython.notebook.find_cell_index(this.cell_info[0]);\n",
       "        IPython.notebook.select(index + 1);\n",
       "    }\n",
       "};\n",
       "\n",
       "mpl.figure.prototype.handle_save = function (fig, _msg) {\n",
       "    fig.ondownload(fig, null);\n",
       "};\n",
       "\n",
       "mpl.find_output_cell = function (html_output) {\n",
       "    // Return the cell and output element which can be found *uniquely* in the notebook.\n",
       "    // Note - this is a bit hacky, but it is done because the \"notebook_saving.Notebook\"\n",
       "    // IPython event is triggered only after the cells have been serialised, which for\n",
       "    // our purposes (turning an active figure into a static one), is too late.\n",
       "    var cells = IPython.notebook.get_cells();\n",
       "    var ncells = cells.length;\n",
       "    for (var i = 0; i < ncells; i++) {\n",
       "        var cell = cells[i];\n",
       "        if (cell.cell_type === 'code') {\n",
       "            for (var j = 0; j < cell.output_area.outputs.length; j++) {\n",
       "                var data = cell.output_area.outputs[j];\n",
       "                if (data.data) {\n",
       "                    // IPython >= 3 moved mimebundle to data attribute of output\n",
       "                    data = data.data;\n",
       "                }\n",
       "                if (data['text/html'] === html_output) {\n",
       "                    return [cell, data, j];\n",
       "                }\n",
       "            }\n",
       "        }\n",
       "    }\n",
       "};\n",
       "\n",
       "// Register the function which deals with the matplotlib target/channel.\n",
       "// The kernel may be null if the page has been refreshed.\n",
       "if (IPython.notebook.kernel !== null) {\n",
       "    IPython.notebook.kernel.comm_manager.register_target(\n",
       "        'matplotlib',\n",
       "        mpl.mpl_figure_comm\n",
       "    );\n",
       "}\n"
      ],
      "text/plain": [
       "<IPython.core.display.Javascript object>"
      ]
     },
     "metadata": {},
     "output_type": "display_data"
    },
    {
     "data": {
      "text/html": [
       "<img src=\"data:image/png;base64,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\" width=\"640.2\">"
      ],
      "text/plain": [
       "<IPython.core.display.HTML object>"
      ]
     },
     "metadata": {},
     "output_type": "display_data"
    },
    {
     "data": {
      "text/plain": [
       "<function matplotlib.pyplot.show(block=None)>"
      ]
     },
     "execution_count": 46,
     "metadata": {},
     "output_type": "execute_result"
    }
   ],
   "source": [
    "plt.hist(x, 100)\n",
    "plt.title(\"sample histogram\")\n",
    "plt.show"
   ]
  },
  {
   "cell_type": "code",
   "execution_count": 16,
   "id": "15fe951a",
   "metadata": {},
   "outputs": [],
   "source": [
    "A"
   ]
  },
  {
   "cell_type": "code",
   "execution_count": null,
   "id": "b1b71728",
   "metadata": {},
   "outputs": [],
   "source": [
    "# Import required libraries\n",
    "import pandas as pd\n",
    "import dash\n",
    "import dash_html_components as html\n",
    "import dash_core_components as dcc\n",
    "from dash.dependencies import Input, Output\n",
    "import plotly.express as px\n",
    "\n",
    "# Read the airline data into pandas dataframe\n",
    "airline_data =  pd.read_csv('https://cf-courses-data.s3.us.cloud-object-storage.appdomain.cloud/IBMDeveloperSkillsNetwork-DV0101EN-SkillsNetwork/Data%20Files/airline_data.csv', \n",
    "                            encoding = \"ISO-8859-1\",\n",
    "                            dtype={'Div1Airport': str, 'Div1TailNum': str, \n",
    "                                   'Div2Airport': str, 'Div2TailNum': str})\n",
    "\n",
    "# Create a dash application\n",
    "app = dash.Dash(__name__)\n",
    "\n",
    "# Build dash app layout\n",
    "app.layout = html.Div(children=[ html.H1('Flight Delay Time Statistics', \n",
    "                                style={'textAlign': 'center', 'color': '#503D36',\n",
    "                                'font-size': 30}),\n",
    "                                html.Div([\"Input Year: \", dcc.Input(id='input-year', value='2010', \n",
    "                                type='number', style={'height':'35px', 'font-size': 30}),], \n",
    "                                style={'font-size': 30}),\n",
    "                                html.Br(),\n",
    "                                html.Br(), \n",
    "                                # Segment 1\n",
    "                                html.Div([\n",
    "                                        html.Div(dcc.Graph(id='carrier-plot')),\n",
    "                                        html.Div(dcc.Graph(id='weather-plot'))\n",
    "                                ], style={'display': 'flex'}),\n",
    "                                # Segment 2\n",
    "                                html.Div([\n",
    "                                        html.Div(dcc.Graph(id='nas-plot')),\n",
    "                                        html.Div(dcc.Graph(id='security-plot'))\n",
    "                                ], style={'display': 'flex'}),\n",
    "                                # Segment 3\n",
    "                                html.Div(dcc.Graph(id='late-plot'), style={'width':'65%'})\n",
    "                                ])\n",
    "\n",
    "\"\"\" Compute_info function description\n",
    "\n",
    "This function takes in airline data and selected year as an input and performs computation for creating charts and plots.\n",
    "\n",
    "Arguments:\n",
    "    airline_data: Input airline data.\n",
    "    entered_year: Input year for which computation needs to be performed.\n",
    "    \n",
    "Returns:\n",
    "    Computed average dataframes for carrier delay, weather delay, NAS delay, security delay, and late aircraft delay.\n",
    "\n",
    "\"\"\"\n",
    "def compute_info(airline_data, entered_year):\n",
    "    # Select data\n",
    "    df =  airline_data[airline_data['Year']==int(entered_year)]\n",
    "    # Compute delay averages\n",
    "    avg_car = df.groupby(['Month','Reporting_Airline'])['CarrierDelay'].mean().reset_index()\n",
    "    avg_weather = df.groupby(['Month','Reporting_Airline'])['WeatherDelay'].mean().reset_index()\n",
    "    avg_NAS = df.groupby(['Month','Reporting_Airline'])['NASDelay'].mean().reset_index()\n",
    "    avg_sec = df.groupby(['Month','Reporting_Airline'])['SecurityDelay'].mean().reset_index()\n",
    "    avg_late = df.groupby(['Month','Reporting_Airline'])['LateAircraftDelay'].mean().reset_index()\n",
    "    return avg_car, avg_weather, avg_NAS, avg_sec, avg_late\n",
    "\n",
    "\"\"\"Callback Function\n",
    "\n",
    "Function that returns fugures using the provided input year.\n",
    "\n",
    "Arguments:\n",
    "\n",
    "    entered_year: Input year provided by the user.\n",
    "    \n",
    "Returns:\n",
    "\n",
    "    List of figures computed using the provided helper function `compute_info`.\n",
    "\"\"\"\n",
    "# Callback decorator\n",
    "@app.callback( [\n",
    "               Output(component_id='carrier-plot', component_property='figure'),\n",
    "               Output(component_id='weather-plot', component_property='figure'),\n",
    "               Output(component_id='nas-plot', component_property='figure'),\n",
    "               Output(component_id='security-plot', component_property='figure'),\n",
    "               Output(component_id='late-plot', component_property='figure')\n",
    "               ],\n",
    "               Input(component_id='input-year', component_property='value'))\n",
    "# Computation to callback function and return graph\n",
    "def get_graph(entered_year):\n",
    "    \n",
    "    # Compute required information for creating graph from the data\n",
    "    avg_car, avg_weather, avg_NAS, avg_sec, avg_late = compute_info(airline_data, entered_year)\n",
    "            \n",
    "    # Line plot for carrier delay\n",
    "    carrier_fig = px.line(avg_car, x='Month', y='CarrierDelay', color='Reporting_Airline', title='Average carrrier delay time (minutes) by airline')\n",
    "    # Line plot for weather delay\n",
    "    weather_fig = px.line(avg_weather, x='Month', y='WeatherDelay', color='Reporting_Airline', title='Average weather delay time (minutes) by airline')\n",
    "    # Line plot for nas delay\n",
    "    nas_fig = px.line(avg_NAS, x='Month', y='NASDelay', color='Reporting_Airline', title='Average NAS delay time (minutes) by airline')\n",
    "    # Line plot for security delay\n",
    "    sec_fig = px.line(avg_sec, x='Month', y='SecurityDelay', color='Reporting_Airline', title='Average security delay time (minutes) by airline')\n",
    "    # Line plot for late aircraft delay\n",
    "    late_fig = px.line(avg_late, x='Month', y='LateAircraftDelay', color='Reporting_Airline', title='Average late aircraft delay time (minutes) by airline')\n",
    "            \n",
    "    return[carrier_fig, weather_fig, nas_fig, sec_fig, late_fig]\n",
    "\n",
    "# Run the app\n",
    "if __name__ == '__main__':\n",
    "    app.run_server()"
   ]
  },
  {
   "cell_type": "code",
   "execution_count": null,
   "id": "6a76d34a",
   "metadata": {},
   "outputs": [],
   "source": [
    "#!/usr/bin/env python\n",
    "# coding: utf-8\n",
    "\n",
    "# In[ ]:\n",
    "\n",
    "\n",
    "import dash\n",
    "from dash import dcc\n",
    "from dash import html\n",
    "from dash.dependencies import Input, Output\n",
    "import pandas as pd\n",
    "import plotly.graph_objs as go\n",
    "import plotly.express as px\n",
    "\n",
    "# Load the data using pandas\n",
    "data = pd.read_csv('https://cf-courses-data.s3.us.cloud-object-storage.appdomain.cloud/IBMDeveloperSkillsNetwork-DV0101EN-SkillsNetwork/Data%20Files/historical_automobile_sales.csv')\n",
    "\n",
    "# Initialize the Dash app\n",
    "app = dash.Dash(__name__)\n",
    "\n",
    "# Set the title of the dashboard\n",
    "app.title = html.Div(children[html.H1(\"Automobile Statistics Dashboard\",\n",
    "                              style={'textAlign': 'center', 'color':'#503D36',\n",
    "                              'font-size':24}),\n",
    "\n",
    "#---------------------------------------------------------------------------------\n",
    "# Create the dropdown menu options\n",
    "# Define the dropdown options at the module level or within a function/method\n",
    "dropdown_options = [\n",
    "    {'label': 'Yearly Statistics', 'value': 'Yearly Statistics'},\n",
    "    {'label': 'Recession Period Statistics', 'value': 'Recession Period Statistics'}\n",
    "]\n",
    "\n",
    "# List of years \n",
    "year_list = [i for i in range(1980, 2024, 1)]\n",
    "#---------------------------------------------------------------------------------------\n",
    "# Create the layout of the app\n",
    "app.layout = html.Div([\n",
    "    html.H1(\"Automobile Statistics Dashboard\", style={'textAlign': 'center', 'color':'#503D36', 'font-size':24}),\n",
    "    html.Div([  # TASK 2.2: Add two dropdown menus\n",
    "        html.Label(\"Select Statistics:\"),\n",
    "        dcc.Dropdown(\n",
    "            id='dropdown-statistics',\n",
    "            options=[\n",
    "                {'label': 'Yearly Statistics', 'value': 'Yearly Statistics'},\n",
    "                {'label': 'Recession Period Statistics', 'value': 'Recession Period Statistics'}\n",
    "            ],\n",
    "            value='Select Statistics',\n",
    "            placeholder='Select a report type'\n",
    "        )\n",
    "    ]),\n",
    "    html.Div([\n",
    "        dcc.Dropdown(\n",
    "            id='select-year',\n",
    "            options=[{'label': i, 'value': i} for i in year_list],\n",
    "            value=year_list[0],  # Set default value\n",
    "            placeholder='Select a year'\n",
    "        )\n",
    "    ]),\n",
    "    html.Div([  # TASK 2.3: Add a division for output display\n",
    "        html.Div(id='output-container', className='chart-grid', style={'display': 'flex'})\n",
    "    ])\n",
    "])\n",
    "\n",
    "#TASK 2.4: Creating Callbacks\n",
    "# Define the callback function to update the input container based on the selected statistics\n",
    "@app.callback(\n",
    "    Output(component_id='......', component_property='....'),\n",
    "    Input(component_id='..........',component_property='....'))\n",
    "\n",
    "def update_input_container(.......):\n",
    "    if selected_statistics =='........': \n",
    "        return False\n",
    "    else: \n",
    "        return ......\n",
    "\n",
    "#Callback for plotting\n",
    "# Define the callback function to update the input container based on the selected statistics\n",
    "@app.callback(\n",
    "    Output(component_id='input-container', component_property='disabled'),\n",
    "    Input(component_id='statistics-dropdown', component_property='value')\n",
    ")\n",
    "def update_input_container(selected_statistics):\n",
    "    if selected_statistics == 'Yearly Statistics':\n",
    "        return False\n",
    "    else:\n",
    "        return True\n",
    "\n",
    "@app.callback(\n",
    "    Output(component_id='output-container', component_property='children'),\n",
    "    [Input(component_id='select-year', component_property='value'),\n",
    "     Input(component_id='statistics-dropdown', component_property='value')]\n",
    ")\n",
    "def update_output_container(selected_year, selected_statistics):\n",
    "    if selected_statistics == 'Recession Period Statistics':\n",
    "        # Filter data for recession periods\n",
    "        recession_data = data[data['Recession'] == 1]\n",
    "        # Generate plots for recession statistics\n",
    "        recession_plots = generate_recession_plots(recession_data)\n",
    "\n",
    "        # Return plots as divisions\n",
    "        return html.Div([\n",
    "            html.Div(recession_plots[0], className='plot'),\n",
    "            html.Div(recession_plots[1], className='plot'),\n",
    "            html.Div(recession_plots[2], className='plot'),\n",
    "            html.Div(recession_plots[3], className='plot')\n",
    "        ])\n",
    "    \n",
    "    elif selected_statistics == 'Yearly Statistics':\n",
    "        # Create dataframe based on selected year\n",
    "        yearly_data = data[data['Year'] == selected_year]\n",
    "        # Generate plots for yearly statistics\n",
    "        yearly_plots = generate_yearly_plots(yearly_data)\n",
    "\n",
    "        # Return plots as divisions\n",
    "        return html.Div([\n",
    "            html.Div(yearly_plots[0], className='plot'),\n",
    "            html.Div(yearly_plots[1], className='plot'),\n",
    "            html.Div(yearly_plots[2], className='plot'),\n",
    "            html.Div(yearly_plots[3], className='plot')\n",
    "        ])\n",
    "\n",
    "        \n",
    "#TASK 2.5: Create and display graphs for Recession Report Statistics\n",
    "\n",
    "#Plot 1 Automobile sales fluctuate over Recession Period (year wise)\n",
    "        # use groupby to create relevant data for plotting\n",
    "        yearly_rec=recession_data.groupby('Year')['Automobile_Sales'].mean().reset_index()\n",
    "        R_chart1 = dcc.Graph(\n",
    "            figure=px.line(yearly_rec,\n",
    "                x='Year',\n",
    "                y='Automobile_Sales',\n",
    "                title=\"Average Automobile Sales fluctuation over Recession Period\"))\n",
    "\n",
    "#Plot 2 Calculate the average number of vehicles sold by vehicle type       \n",
    "        # use groupby to create relevant data for plotting\n",
    "        average_sales = recession_data.groupby('Vehicle_Type)['Automobile_Sales'].mean().reset_index()                           \n",
    "        R_chart2  = dcc.Graph(figure=px.line(average_sales,\n",
    "                x='Vehicle_Type',\n",
    "                y='Automobile_Sales',\n",
    "                title=\"Average Automobile Sales fluctuation over Recession Period\"))\n",
    "# Plot 3: Pie chart for total expenditure share by vehicle type during recessions\n",
    "# Use groupby to create relevant data for plotting\n",
    "exp_rec = recession_data.groupby('Vehicle_Type')['Advertising_Expenditure'].sum().reset_index()\n",
    "R_chart3 = dcc.Graph(\n",
    "    figure=px.pie(exp_rec,\n",
    "                  values='Advertising_Expenditure',  # Replace with the actual column name\n",
    "                  names='Vehicle_Type',  # Replace with the actual column name\n",
    "                  title=\"Total Expenditure Share by Vehicle Type During Recessions\"\n",
    "                  )\n",
    ")\n",
    "\n",
    "# Plot 4: Bar chart for the effect of unemployment rate on vehicle type and sales\n",
    "# You will need to create a similar groupby and DataFrame for this plot as well\n",
    "# Replace 'unemployment_effect_data' with your actual DataFrame\n",
    "unemployment_effect_data = data.groupby(['Vehicle_Type', 'Unemployment_Rate'])['Sales'].sum().reset_index()\n",
    "\n",
    "R_chart4 = dcc.Graph(\n",
    "    figure=px.bar(unemployment_effect_data,\n",
    "                  x='Vehicle_Type',  # Replace with the actual column name\n",
    "                  y='Sales',  # Replace with the actual column name\n",
    "                  color='Unemployment_Rate',  # Replace with the actual column name\n",
    "                  title=\"Effect of Unemployment Rate on Vehicle Type and Sales\"\n",
    "                  )\n",
    ")\n",
    " \n",
    "\n",
    "\n",
    "return [\n",
    "    html.Div(className='chart-item', children=[\n",
    "        html.Div(children=[R_chart1], className='chart'),\n",
    "        html.Div(children=[R_chart2], className='chart')\n",
    "    ]),\n",
    "    html.Div(className='chart-item', children=[\n",
    "        html.Div(children=[R_chart3], className='chart'),\n",
    "        html.Div(children=[R_chart4], className='chart')\n",
    "    ])\n",
    "]\n",
    "\n",
    "\n",
    "# TASK 2.6: Create and display graphs for Yearly Report Statistics\n",
    " # Yearly Statistic Report Plots                             \n",
    "    elif (input_year and selected_statistics=='...............') :\n",
    "        yearly_data = data[data['Year'] == ......]\n",
    "                              \n",
    "#TASK 2.5: Creating Graphs Yearly data\n",
    "                              \n",
    "elif (input_year and selected_statistics == 'Yearly Statistics'):\n",
    "    yearly_data = data[data['Year'] == input_year]\n",
    "\n",
    "    # Plot 1: Yearly Automobile sales using line chart for the whole period\n",
    "    yas = yearly_data.groupby('Year')['Automobile_Sales'].mean().reset_index()\n",
    "    Y_chart1 = dcc.Graph(figure=px.line(yas, x='Year', y='Automobile_Sales', title='Yearly Automobile Sales'))\n",
    "\n",
    "    # Plot 2: Total Monthly Automobile sales using line chart\n",
    "    monthly_sales = yearly_data.groupby('Month')['Automobile_Sales'].sum().reset_index()\n",
    "    Y_chart2 = dcc.Graph(figure=px.line(monthly_sales, x='Month', y='Automobile_Sales', title='Total Monthly Automobile Sales'))\n",
    "\n",
    "    # Plot 3: Bar chart for average number of vehicles sold during the given year\n",
    "    avr_vdata = yearly_data.groupby('Vehicle_Type')['Automobile_Sales'].mean().reset_index()\n",
    "    Y_chart3 = dcc.Graph(figure=px.bar(avr_vdata, x='Vehicle_Type', y='Automobile_Sales', title=f'Average Vehicles Sold by Vehicle Type in the year {input_year}'))\n",
    "\n",
    "    # Plot 4: Total Advertisement Expenditure for each vehicle using pie chart\n",
    "    exp_year = yearly_data.groupby('Vehicle_Type')['Advertising_Expenditure'].sum().reset_index()\n",
    "    Y_chart4 = dcc.Graph(figure=px.pie(exp_year, values='Advertising_Expenditure', names='Vehicle_Type', title=f'Total Advertisement Expenditure by Vehicle Type in the year {input_year}'))\n",
    "\n",
    "    return [\n",
    "        html.Div(className='chart-item', children=[html.Div(children=[Y_chart1], className='chart'), html.Div(children=[Y_chart2], className='chart')], style={'display': 'flex'}),\n",
    "        html.Div(className='chart-item', children=[html.Div(children=[Y_chart3], className='chart'), html.Div(children=[Y_chart4], className='chart')], style={'display': 'flex'})\n",
    "    ]\n",
    "\n",
    "    else:\n",
    "        return None\n",
    "\n",
    "# Run the Dash app\n",
    "if __name__ == '__main__':\n",
    "    app.run_server(debug=True)\n",
    "\n"
   ]
  }
 ],
 "metadata": {
  "kernelspec": {
   "display_name": "Python 3 (ipykernel)",
   "language": "python",
   "name": "python3"
  },
  "language_info": {
   "codemirror_mode": {
    "name": "ipython",
    "version": 3
   },
   "file_extension": ".py",
   "mimetype": "text/x-python",
   "name": "python",
   "nbconvert_exporter": "python",
   "pygments_lexer": "ipython3",
   "version": "3.9.16"
  }
 },
 "nbformat": 4,
 "nbformat_minor": 5
}
