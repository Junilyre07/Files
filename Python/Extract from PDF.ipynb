{
 "cells": [
  {
   "cell_type": "code",
   "execution_count": 5,
   "id": "727b4827",
   "metadata": {},
   "outputs": [],
   "source": [
    "import requests\n",
    "import pdfplumber"
   ]
  },
  {
   "cell_type": "code",
   "execution_count": 6,
   "id": "96a88277",
   "metadata": {},
   "outputs": [],
   "source": [
    "def extract_from_pdf(url):\n",
    "    response = requests.get(url)\n",
    "    with open(\"fs.pdf\", \"wb\") as pdf_file:\n",
    "        pdf_file.write(response.content)"
   ]
  },
  {
   "cell_type": "code",
   "execution_count": 7,
   "id": "c8975def",
   "metadata": {},
   "outputs": [],
   "source": [
    "meralco_pdf = \"https://www.grantthornton.global/globalassets/1.-member-firms/global/insights/article-pdfs/ifrs/ifrs-example-financial-statements-2021_2.pdf\"\n",
    "extract_from_pdf(meralco_pdf)"
   ]
  },
  {
   "cell_type": "code",
   "execution_count": 8,
   "id": "f1b8b228",
   "metadata": {},
   "outputs": [],
   "source": [
    "with pdfplumber.open(\"fs.pdf\") as pdf:\n",
    "    page = pdf.pages[9]\n",
    "    text = page.extract_text()\n"
   ]
  },
  {
   "cell_type": "code",
   "execution_count": 9,
   "id": "7c07a543",
   "metadata": {},
   "outputs": [],
   "source": [
    "for row in text.split('\\n'):\n",
    "    if row.startswith(\"Current assets\"):\n",
    "        Current_assets = row.split()[:4]"
   ]
  },
  {
   "cell_type": "code",
   "execution_count": null,
   "id": "ab36c3d7",
   "metadata": {},
   "outputs": [],
   "source": []
  },
  {
   "cell_type": "code",
   "execution_count": 10,
   "id": "4d044ecc",
   "metadata": {},
   "outputs": [
    {
     "name": "stdout",
     "output_type": "stream",
     "text": [
      "['Current', 'assets', '87,627', '58,668']\n"
     ]
    }
   ],
   "source": [
    "print(Current_assets)"
   ]
  },
  {
   "cell_type": "code",
   "execution_count": 11,
   "id": "db0349bc",
   "metadata": {},
   "outputs": [
    {
     "data": {
      "text/plain": [
       "'Current assets'"
      ]
     },
     "execution_count": 11,
     "metadata": {},
     "output_type": "execute_result"
    }
   ],
   "source": [
    "label = ' '.join(Current_assets[:2])\n",
    "label"
   ]
  },
  {
   "cell_type": "code",
   "execution_count": 12,
   "id": "d919651e",
   "metadata": {},
   "outputs": [
    {
     "data": {
      "text/plain": [
       "'87,627'"
      ]
     },
     "execution_count": 12,
     "metadata": {},
     "output_type": "execute_result"
    }
   ],
   "source": [
    "value_2021 = Current_assets [-2]\n",
    "value_2021"
   ]
  },
  {
   "cell_type": "code",
   "execution_count": 13,
   "id": "78a2ef5a",
   "metadata": {},
   "outputs": [
    {
     "data": {
      "text/plain": [
       "'58,668'"
      ]
     },
     "execution_count": 13,
     "metadata": {},
     "output_type": "execute_result"
    }
   ],
   "source": [
    "value_2020 = Current_assets [-1]\n",
    "value_2020"
   ]
  },
  {
   "cell_type": "code",
   "execution_count": 14,
   "id": "e486d074",
   "metadata": {},
   "outputs": [],
   "source": [
    "import pandas as pd"
   ]
  },
  {
   "cell_type": "code",
   "execution_count": 15,
   "id": "82ac56b5",
   "metadata": {},
   "outputs": [],
   "source": [
    "asset_df = pd.DataFrame(columns=['Accounting_Entry', '2021', '2020'])"
   ]
  },
  {
   "cell_type": "code",
   "execution_count": 16,
   "id": "6ce28233",
   "metadata": {},
   "outputs": [
    {
     "data": {
      "text/html": [
       "<div>\n",
       "<style scoped>\n",
       "    .dataframe tbody tr th:only-of-type {\n",
       "        vertical-align: middle;\n",
       "    }\n",
       "\n",
       "    .dataframe tbody tr th {\n",
       "        vertical-align: top;\n",
       "    }\n",
       "\n",
       "    .dataframe thead th {\n",
       "        text-align: right;\n",
       "    }\n",
       "</style>\n",
       "<table border=\"1\" class=\"dataframe\">\n",
       "  <thead>\n",
       "    <tr style=\"text-align: right;\">\n",
       "      <th></th>\n",
       "      <th>Accounting_Entry</th>\n",
       "      <th>2021</th>\n",
       "      <th>2020</th>\n",
       "    </tr>\n",
       "  </thead>\n",
       "  <tbody>\n",
       "  </tbody>\n",
       "</table>\n",
       "</div>"
      ],
      "text/plain": [
       "Empty DataFrame\n",
       "Columns: [Accounting_Entry, 2021, 2020]\n",
       "Index: []"
      ]
     },
     "execution_count": 16,
     "metadata": {},
     "output_type": "execute_result"
    }
   ],
   "source": [
    "asset_df"
   ]
  },
  {
   "cell_type": "code",
   "execution_count": 17,
   "id": "4412b091",
   "metadata": {},
   "outputs": [
    {
     "name": "stderr",
     "output_type": "stream",
     "text": [
      "C:\\Users\\Romelio Villar Jr\\AppData\\Local\\Temp\\ipykernel_10228\\54483376.py:1: FutureWarning: The frame.append method is deprecated and will be removed from pandas in a future version. Use pandas.concat instead.\n",
      "  asset_df = asset_df.append({'Accounting_Entry':label, '2021': value_2021,'2020':  value_2020}, ignore_index=True)\n"
     ]
    }
   ],
   "source": [
    "asset_df = asset_df.append({'Accounting_Entry':label, '2021': value_2021,'2020':  value_2020}, ignore_index=True)"
   ]
  },
  {
   "cell_type": "code",
   "execution_count": 18,
   "id": "8857df2c",
   "metadata": {},
   "outputs": [
    {
     "data": {
      "text/html": [
       "<div>\n",
       "<style scoped>\n",
       "    .dataframe tbody tr th:only-of-type {\n",
       "        vertical-align: middle;\n",
       "    }\n",
       "\n",
       "    .dataframe tbody tr th {\n",
       "        vertical-align: top;\n",
       "    }\n",
       "\n",
       "    .dataframe thead th {\n",
       "        text-align: right;\n",
       "    }\n",
       "</style>\n",
       "<table border=\"1\" class=\"dataframe\">\n",
       "  <thead>\n",
       "    <tr style=\"text-align: right;\">\n",
       "      <th></th>\n",
       "      <th>Accounting_Entry</th>\n",
       "      <th>2021</th>\n",
       "      <th>2020</th>\n",
       "    </tr>\n",
       "  </thead>\n",
       "  <tbody>\n",
       "    <tr>\n",
       "      <th>0</th>\n",
       "      <td>Current assets</td>\n",
       "      <td>87,627</td>\n",
       "      <td>58,668</td>\n",
       "    </tr>\n",
       "  </tbody>\n",
       "</table>\n",
       "</div>"
      ],
      "text/plain": [
       "  Accounting_Entry    2021    2020\n",
       "0   Current assets  87,627  58,668"
      ]
     },
     "execution_count": 18,
     "metadata": {},
     "output_type": "execute_result"
    }
   ],
   "source": [
    "asset_df\n"
   ]
  },
  {
   "cell_type": "code",
   "execution_count": 21,
   "id": "16cdddd3",
   "metadata": {},
   "outputs": [],
   "source": [
    "csv_file_path = \"meralco.csv\""
   ]
  },
  {
   "cell_type": "code",
   "execution_count": 22,
   "id": "4b4c752a",
   "metadata": {},
   "outputs": [],
   "source": [
    "asset_df.to_csv(csv_file_path, index=False)"
   ]
  },
  {
   "cell_type": "code",
   "execution_count": 23,
   "id": "bae9b0fd",
   "metadata": {},
   "outputs": [
    {
     "name": "stdout",
     "output_type": "stream",
     "text": [
      "Data has been exported to meralco.csv\n"
     ]
    }
   ],
   "source": [
    "print(f\"Data has been exported to {csv_file_path}\")"
   ]
  },
  {
   "cell_type": "code",
   "execution_count": null,
   "id": "a7f2ef3c",
   "metadata": {},
   "outputs": [],
   "source": []
  }
 ],
 "metadata": {
  "kernelspec": {
   "display_name": "Python 3 (ipykernel)",
   "language": "python",
   "name": "python3"
  },
  "language_info": {
   "codemirror_mode": {
    "name": "ipython",
    "version": 3
   },
   "file_extension": ".py",
   "mimetype": "text/x-python",
   "name": "python",
   "nbconvert_exporter": "python",
   "pygments_lexer": "ipython3",
   "version": "3.9.16"
  }
 },
 "nbformat": 4,
 "nbformat_minor": 5
}
