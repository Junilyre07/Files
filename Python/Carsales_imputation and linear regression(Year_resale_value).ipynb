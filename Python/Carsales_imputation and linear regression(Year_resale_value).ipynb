{
 "cells": [
  {
   "cell_type": "code",
   "execution_count": 36,
   "id": "c5f0008e",
   "metadata": {},
   "outputs": [],
   "source": [
    "import pandas as pd\n",
    "import numpy as np"
   ]
  },
  {
   "cell_type": "code",
   "execution_count": 37,
   "id": "e3568d80",
   "metadata": {},
   "outputs": [],
   "source": [
    "data = pd.read_csv(\"carsales.csv\")"
   ]
  },
  {
   "cell_type": "code",
   "execution_count": 38,
   "id": "731a5a6b",
   "metadata": {},
   "outputs": [
    {
     "data": {
      "text/html": [
       "<div>\n",
       "<style scoped>\n",
       "    .dataframe tbody tr th:only-of-type {\n",
       "        vertical-align: middle;\n",
       "    }\n",
       "\n",
       "    .dataframe tbody tr th {\n",
       "        vertical-align: top;\n",
       "    }\n",
       "\n",
       "    .dataframe thead th {\n",
       "        text-align: right;\n",
       "    }\n",
       "</style>\n",
       "<table border=\"1\" class=\"dataframe\">\n",
       "  <thead>\n",
       "    <tr style=\"text-align: right;\">\n",
       "      <th></th>\n",
       "      <th>Manufacturer</th>\n",
       "      <th>Model</th>\n",
       "      <th>Sales</th>\n",
       "      <th>Year_Resale_Value</th>\n",
       "      <th>Vehicle Type</th>\n",
       "      <th>Price In Thousands</th>\n",
       "      <th>Engine Size</th>\n",
       "      <th>Horsepower</th>\n",
       "      <th>Wheelbase</th>\n",
       "      <th>Width</th>\n",
       "      <th>Length</th>\n",
       "      <th>Curb Weight</th>\n",
       "      <th>Fuel Capacity</th>\n",
       "      <th>Fuel Efficiency</th>\n",
       "      <th>Latest Launch</th>\n",
       "      <th>Power Perf Factor</th>\n",
       "    </tr>\n",
       "  </thead>\n",
       "  <tbody>\n",
       "    <tr>\n",
       "      <th>0</th>\n",
       "      <td>Acura</td>\n",
       "      <td>Integra</td>\n",
       "      <td>16.919</td>\n",
       "      <td>16.360</td>\n",
       "      <td>Passenger</td>\n",
       "      <td>21.50</td>\n",
       "      <td>1.8</td>\n",
       "      <td>140.0</td>\n",
       "      <td>101.2</td>\n",
       "      <td>67.3</td>\n",
       "      <td>172.4</td>\n",
       "      <td>2.639</td>\n",
       "      <td>13.2</td>\n",
       "      <td>28.0</td>\n",
       "      <td>02/02/2012</td>\n",
       "      <td>58.280150</td>\n",
       "    </tr>\n",
       "    <tr>\n",
       "      <th>1</th>\n",
       "      <td>Acura</td>\n",
       "      <td>TL</td>\n",
       "      <td>39.384</td>\n",
       "      <td>19.875</td>\n",
       "      <td>Passenger</td>\n",
       "      <td>28.40</td>\n",
       "      <td>3.2</td>\n",
       "      <td>225.0</td>\n",
       "      <td>108.1</td>\n",
       "      <td>70.3</td>\n",
       "      <td>192.9</td>\n",
       "      <td>3.517</td>\n",
       "      <td>17.2</td>\n",
       "      <td>25.0</td>\n",
       "      <td>06/03/2011</td>\n",
       "      <td>91.370778</td>\n",
       "    </tr>\n",
       "    <tr>\n",
       "      <th>2</th>\n",
       "      <td>Acura</td>\n",
       "      <td>CL</td>\n",
       "      <td>14.114</td>\n",
       "      <td>18.225</td>\n",
       "      <td>Passenger</td>\n",
       "      <td>NaN</td>\n",
       "      <td>3.2</td>\n",
       "      <td>225.0</td>\n",
       "      <td>106.9</td>\n",
       "      <td>70.6</td>\n",
       "      <td>192.0</td>\n",
       "      <td>3.470</td>\n",
       "      <td>17.2</td>\n",
       "      <td>26.0</td>\n",
       "      <td>01/04/2012</td>\n",
       "      <td>NaN</td>\n",
       "    </tr>\n",
       "    <tr>\n",
       "      <th>3</th>\n",
       "      <td>Audi</td>\n",
       "      <td>RL</td>\n",
       "      <td>8.588</td>\n",
       "      <td>29.725</td>\n",
       "      <td>Passenger</td>\n",
       "      <td>42.00</td>\n",
       "      <td>3.5</td>\n",
       "      <td>210.0</td>\n",
       "      <td>114.6</td>\n",
       "      <td>71.4</td>\n",
       "      <td>196.6</td>\n",
       "      <td>3.850</td>\n",
       "      <td>18.0</td>\n",
       "      <td>22.0</td>\n",
       "      <td>03/10/2011</td>\n",
       "      <td>91.389779</td>\n",
       "    </tr>\n",
       "    <tr>\n",
       "      <th>4</th>\n",
       "      <td>Audi</td>\n",
       "      <td>A4</td>\n",
       "      <td>20.397</td>\n",
       "      <td>22.255</td>\n",
       "      <td>Passenger</td>\n",
       "      <td>23.99</td>\n",
       "      <td>1.8</td>\n",
       "      <td>150.0</td>\n",
       "      <td>102.6</td>\n",
       "      <td>68.2</td>\n",
       "      <td>178.0</td>\n",
       "      <td>2.998</td>\n",
       "      <td>16.4</td>\n",
       "      <td>27.0</td>\n",
       "      <td>10/08/2011</td>\n",
       "      <td>62.777639</td>\n",
       "    </tr>\n",
       "    <tr>\n",
       "      <th>5</th>\n",
       "      <td>Audi</td>\n",
       "      <td>A6</td>\n",
       "      <td>18.780</td>\n",
       "      <td>23.555</td>\n",
       "      <td>Passenger</td>\n",
       "      <td>33.95</td>\n",
       "      <td>2.8</td>\n",
       "      <td>200.0</td>\n",
       "      <td>108.7</td>\n",
       "      <td>76.1</td>\n",
       "      <td>192.0</td>\n",
       "      <td>3.561</td>\n",
       "      <td>18.5</td>\n",
       "      <td>22.0</td>\n",
       "      <td>08/09/2011</td>\n",
       "      <td>84.565105</td>\n",
       "    </tr>\n",
       "    <tr>\n",
       "      <th>6</th>\n",
       "      <td>Bmw</td>\n",
       "      <td>A8</td>\n",
       "      <td>1.380</td>\n",
       "      <td>39.000</td>\n",
       "      <td>Passenger</td>\n",
       "      <td>62.00</td>\n",
       "      <td>4.2</td>\n",
       "      <td>310.0</td>\n",
       "      <td>113.0</td>\n",
       "      <td>74.0</td>\n",
       "      <td>198.2</td>\n",
       "      <td>3.902</td>\n",
       "      <td>23.7</td>\n",
       "      <td>21.0</td>\n",
       "      <td>2/27/2012</td>\n",
       "      <td>134.656858</td>\n",
       "    </tr>\n",
       "    <tr>\n",
       "      <th>7</th>\n",
       "      <td>Bmw</td>\n",
       "      <td>323i</td>\n",
       "      <td>19.747</td>\n",
       "      <td>NaN</td>\n",
       "      <td>Passenger</td>\n",
       "      <td>26.99</td>\n",
       "      <td>2.5</td>\n",
       "      <td>170.0</td>\n",
       "      <td>107.3</td>\n",
       "      <td>68.4</td>\n",
       "      <td>176.0</td>\n",
       "      <td>3.179</td>\n",
       "      <td>16.6</td>\n",
       "      <td>26.0</td>\n",
       "      <td>6/28/2011</td>\n",
       "      <td>71.191207</td>\n",
       "    </tr>\n",
       "  </tbody>\n",
       "</table>\n",
       "</div>"
      ],
      "text/plain": [
       "  Manufacturer    Model   Sales  Year_Resale_Value Vehicle Type  \\\n",
       "0        Acura  Integra  16.919             16.360    Passenger   \n",
       "1        Acura       TL  39.384             19.875    Passenger   \n",
       "2        Acura       CL  14.114             18.225    Passenger   \n",
       "3         Audi       RL   8.588             29.725    Passenger   \n",
       "4         Audi       A4  20.397             22.255    Passenger   \n",
       "5         Audi       A6  18.780             23.555    Passenger   \n",
       "6          Bmw       A8   1.380             39.000    Passenger   \n",
       "7          Bmw     323i  19.747                NaN    Passenger   \n",
       "\n",
       "   Price In Thousands  Engine Size  Horsepower  Wheelbase  Width  Length  \\\n",
       "0               21.50          1.8       140.0      101.2   67.3   172.4   \n",
       "1               28.40          3.2       225.0      108.1   70.3   192.9   \n",
       "2                 NaN          3.2       225.0      106.9   70.6   192.0   \n",
       "3               42.00          3.5       210.0      114.6   71.4   196.6   \n",
       "4               23.99          1.8       150.0      102.6   68.2   178.0   \n",
       "5               33.95          2.8       200.0      108.7   76.1   192.0   \n",
       "6               62.00          4.2       310.0      113.0   74.0   198.2   \n",
       "7               26.99          2.5       170.0      107.3   68.4   176.0   \n",
       "\n",
       "   Curb Weight  Fuel Capacity  Fuel Efficiency Latest Launch  \\\n",
       "0        2.639           13.2             28.0    02/02/2012   \n",
       "1        3.517           17.2             25.0    06/03/2011   \n",
       "2        3.470           17.2             26.0    01/04/2012   \n",
       "3        3.850           18.0             22.0    03/10/2011   \n",
       "4        2.998           16.4             27.0    10/08/2011   \n",
       "5        3.561           18.5             22.0    08/09/2011   \n",
       "6        3.902           23.7             21.0     2/27/2012   \n",
       "7        3.179           16.6             26.0     6/28/2011   \n",
       "\n",
       "   Power Perf Factor  \n",
       "0          58.280150  \n",
       "1          91.370778  \n",
       "2                NaN  \n",
       "3          91.389779  \n",
       "4          62.777639  \n",
       "5          84.565105  \n",
       "6         134.656858  \n",
       "7          71.191207  "
      ]
     },
     "execution_count": 38,
     "metadata": {},
     "output_type": "execute_result"
    }
   ],
   "source": [
    "data.head(8)"
   ]
  },
  {
   "cell_type": "code",
   "execution_count": 39,
   "id": "586ab492",
   "metadata": {},
   "outputs": [
    {
     "name": "stdout",
     "output_type": "stream",
     "text": [
      "Manufacturer           1\n",
      "Model                  2\n",
      "Sales                  0\n",
      "Year_Resale_Value     36\n",
      "Vehicle Type           0\n",
      "Price In Thousands     2\n",
      "Engine Size            1\n",
      "Horsepower             1\n",
      "Wheelbase              1\n",
      "Width                  1\n",
      "Length                 1\n",
      "Curb Weight            2\n",
      "Fuel Capacity          1\n",
      "Fuel Efficiency        3\n",
      "Latest Launch          0\n",
      "Power Perf Factor      2\n",
      "dtype: int64\n"
     ]
    }
   ],
   "source": [
    "print(data.isnull().sum())"
   ]
  },
  {
   "cell_type": "code",
   "execution_count": 40,
   "id": "fbd73532",
   "metadata": {},
   "outputs": [
    {
     "data": {
      "text/plain": [
       "Manufacturer           object\n",
       "Model                  object\n",
       "Sales                 float64\n",
       "Year_Resale_Value     float64\n",
       "Vehicle Type           object\n",
       "Price In Thousands    float64\n",
       "Engine Size           float64\n",
       "Horsepower            float64\n",
       "Wheelbase             float64\n",
       "Width                 float64\n",
       "Length                float64\n",
       "Curb Weight           float64\n",
       "Fuel Capacity         float64\n",
       "Fuel Efficiency       float64\n",
       "Latest Launch          object\n",
       "Power Perf Factor     float64\n",
       "dtype: object"
      ]
     },
     "execution_count": 40,
     "metadata": {},
     "output_type": "execute_result"
    }
   ],
   "source": [
    "data.dtypes"
   ]
  },
  {
   "cell_type": "code",
   "execution_count": 41,
   "id": "e6cfc1e2",
   "metadata": {},
   "outputs": [],
   "source": [
    "from sklearn.preprocessing import LabelEncoder\n",
    "encoder = LabelEncoder()\n",
    "data['M'] = encoder.fit_transform(data['Manufacturer'])\n",
    "data['Vehicle Type'] = encoder.fit_transform(data['Vehicle Type'])\n",
    "data['Model'] = encoder.fit_transform(data['Model'])\n",
    "data['Latest Launch'] = encoder.fit_transform(data['Latest Launch'])\n"
   ]
  },
  {
   "cell_type": "code",
   "execution_count": 42,
   "id": "d82e7b71",
   "metadata": {},
   "outputs": [
    {
     "data": {
      "text/html": [
       "<div>\n",
       "<style scoped>\n",
       "    .dataframe tbody tr th:only-of-type {\n",
       "        vertical-align: middle;\n",
       "    }\n",
       "\n",
       "    .dataframe tbody tr th {\n",
       "        vertical-align: top;\n",
       "    }\n",
       "\n",
       "    .dataframe thead th {\n",
       "        text-align: right;\n",
       "    }\n",
       "</style>\n",
       "<table border=\"1\" class=\"dataframe\">\n",
       "  <thead>\n",
       "    <tr style=\"text-align: right;\">\n",
       "      <th></th>\n",
       "      <th>Manufacturer</th>\n",
       "      <th>Model</th>\n",
       "      <th>Sales</th>\n",
       "      <th>Year_Resale_Value</th>\n",
       "      <th>Vehicle Type</th>\n",
       "      <th>Price In Thousands</th>\n",
       "      <th>Engine Size</th>\n",
       "      <th>Horsepower</th>\n",
       "      <th>Wheelbase</th>\n",
       "      <th>Width</th>\n",
       "      <th>Length</th>\n",
       "      <th>Curb Weight</th>\n",
       "      <th>Fuel Capacity</th>\n",
       "      <th>Fuel Efficiency</th>\n",
       "      <th>Latest Launch</th>\n",
       "      <th>Power Perf Factor</th>\n",
       "      <th>M</th>\n",
       "    </tr>\n",
       "  </thead>\n",
       "  <tbody>\n",
       "    <tr>\n",
       "      <th>0</th>\n",
       "      <td>Acura</td>\n",
       "      <td>77</td>\n",
       "      <td>16.919</td>\n",
       "      <td>16.360</td>\n",
       "      <td>1</td>\n",
       "      <td>21.5</td>\n",
       "      <td>1.8</td>\n",
       "      <td>140.0</td>\n",
       "      <td>101.2</td>\n",
       "      <td>67.3</td>\n",
       "      <td>172.4</td>\n",
       "      <td>2.639</td>\n",
       "      <td>13.2</td>\n",
       "      <td>28.0</td>\n",
       "      <td>2</td>\n",
       "      <td>58.280150</td>\n",
       "      <td>0</td>\n",
       "    </tr>\n",
       "    <tr>\n",
       "      <th>1</th>\n",
       "      <td>Acura</td>\n",
       "      <td>141</td>\n",
       "      <td>39.384</td>\n",
       "      <td>19.875</td>\n",
       "      <td>1</td>\n",
       "      <td>28.4</td>\n",
       "      <td>3.2</td>\n",
       "      <td>225.0</td>\n",
       "      <td>108.1</td>\n",
       "      <td>70.3</td>\n",
       "      <td>192.9</td>\n",
       "      <td>3.517</td>\n",
       "      <td>17.2</td>\n",
       "      <td>25.0</td>\n",
       "      <td>18</td>\n",
       "      <td>91.370778</td>\n",
       "      <td>0</td>\n",
       "    </tr>\n",
       "  </tbody>\n",
       "</table>\n",
       "</div>"
      ],
      "text/plain": [
       "  Manufacturer  Model   Sales  Year_Resale_Value  Vehicle Type  \\\n",
       "0        Acura     77  16.919             16.360             1   \n",
       "1        Acura    141  39.384             19.875             1   \n",
       "\n",
       "   Price In Thousands  Engine Size  Horsepower  Wheelbase  Width  Length  \\\n",
       "0                21.5          1.8       140.0      101.2   67.3   172.4   \n",
       "1                28.4          3.2       225.0      108.1   70.3   192.9   \n",
       "\n",
       "   Curb Weight  Fuel Capacity  Fuel Efficiency  Latest Launch  \\\n",
       "0        2.639           13.2             28.0              2   \n",
       "1        3.517           17.2             25.0             18   \n",
       "\n",
       "   Power Perf Factor  M  \n",
       "0          58.280150  0  \n",
       "1          91.370778  0  "
      ]
     },
     "execution_count": 42,
     "metadata": {},
     "output_type": "execute_result"
    }
   ],
   "source": [
    "data.head(2)"
   ]
  },
  {
   "cell_type": "code",
   "execution_count": 43,
   "id": "1a15f3af",
   "metadata": {},
   "outputs": [
    {
     "data": {
      "text/html": [
       "<div>\n",
       "<style scoped>\n",
       "    .dataframe tbody tr th:only-of-type {\n",
       "        vertical-align: middle;\n",
       "    }\n",
       "\n",
       "    .dataframe tbody tr th {\n",
       "        vertical-align: top;\n",
       "    }\n",
       "\n",
       "    .dataframe thead th {\n",
       "        text-align: right;\n",
       "    }\n",
       "</style>\n",
       "<table border=\"1\" class=\"dataframe\">\n",
       "  <thead>\n",
       "    <tr style=\"text-align: right;\">\n",
       "      <th></th>\n",
       "      <th>Model</th>\n",
       "      <th>Sales</th>\n",
       "      <th>Year_Resale_Value</th>\n",
       "      <th>Vehicle Type</th>\n",
       "      <th>Price In Thousands</th>\n",
       "      <th>Engine Size</th>\n",
       "      <th>Horsepower</th>\n",
       "      <th>Wheelbase</th>\n",
       "      <th>Width</th>\n",
       "      <th>Length</th>\n",
       "      <th>Curb Weight</th>\n",
       "      <th>Fuel Capacity</th>\n",
       "      <th>Fuel Efficiency</th>\n",
       "      <th>Latest Launch</th>\n",
       "      <th>Power Perf Factor</th>\n",
       "      <th>M</th>\n",
       "    </tr>\n",
       "  </thead>\n",
       "  <tbody>\n",
       "    <tr>\n",
       "      <th>Model</th>\n",
       "      <td>1.000000</td>\n",
       "      <td>-0.043201</td>\n",
       "      <td>-0.117526</td>\n",
       "      <td>-0.209616</td>\n",
       "      <td>-0.050510</td>\n",
       "      <td>0.026960</td>\n",
       "      <td>-0.037653</td>\n",
       "      <td>0.073003</td>\n",
       "      <td>0.082366</td>\n",
       "      <td>0.021909</td>\n",
       "      <td>0.064780</td>\n",
       "      <td>0.089043</td>\n",
       "      <td>-0.097174</td>\n",
       "      <td>-0.005033</td>\n",
       "      <td>-0.036747</td>\n",
       "      <td>0.126672</td>\n",
       "    </tr>\n",
       "    <tr>\n",
       "      <th>Sales</th>\n",
       "      <td>-0.043201</td>\n",
       "      <td>1.000000</td>\n",
       "      <td>-0.279034</td>\n",
       "      <td>-0.242183</td>\n",
       "      <td>-0.304734</td>\n",
       "      <td>0.019983</td>\n",
       "      <td>-0.197756</td>\n",
       "      <td>0.358179</td>\n",
       "      <td>0.140918</td>\n",
       "      <td>0.254980</td>\n",
       "      <td>0.008628</td>\n",
       "      <td>0.086540</td>\n",
       "      <td>-0.016764</td>\n",
       "      <td>0.082657</td>\n",
       "      <td>-0.223252</td>\n",
       "      <td>-0.154020</td>\n",
       "    </tr>\n",
       "    <tr>\n",
       "      <th>Year_Resale_Value</th>\n",
       "      <td>-0.117526</td>\n",
       "      <td>-0.279034</td>\n",
       "      <td>1.000000</td>\n",
       "      <td>0.089360</td>\n",
       "      <td>0.953840</td>\n",
       "      <td>0.531330</td>\n",
       "      <td>0.769081</td>\n",
       "      <td>-0.052270</td>\n",
       "      <td>0.178767</td>\n",
       "      <td>0.026548</td>\n",
       "      <td>0.361557</td>\n",
       "      <td>0.325567</td>\n",
       "      <td>-0.399880</td>\n",
       "      <td>-0.076658</td>\n",
       "      <td>0.827123</td>\n",
       "      <td>0.010029</td>\n",
       "    </tr>\n",
       "    <tr>\n",
       "      <th>Vehicle Type</th>\n",
       "      <td>-0.209616</td>\n",
       "      <td>-0.242183</td>\n",
       "      <td>0.089360</td>\n",
       "      <td>1.000000</td>\n",
       "      <td>0.044145</td>\n",
       "      <td>-0.258902</td>\n",
       "      <td>-0.004689</td>\n",
       "      <td>-0.388009</td>\n",
       "      <td>-0.246183</td>\n",
       "      <td>-0.135259</td>\n",
       "      <td>-0.522773</td>\n",
       "      <td>-0.597469</td>\n",
       "      <td>0.575056</td>\n",
       "      <td>-0.004898</td>\n",
       "      <td>0.001047</td>\n",
       "      <td>-0.032145</td>\n",
       "    </tr>\n",
       "    <tr>\n",
       "      <th>Price In Thousands</th>\n",
       "      <td>-0.050510</td>\n",
       "      <td>-0.304734</td>\n",
       "      <td>0.953840</td>\n",
       "      <td>0.044145</td>\n",
       "      <td>1.000000</td>\n",
       "      <td>0.626875</td>\n",
       "      <td>0.839744</td>\n",
       "      <td>0.110513</td>\n",
       "      <td>0.329136</td>\n",
       "      <td>0.156935</td>\n",
       "      <td>0.526224</td>\n",
       "      <td>0.423282</td>\n",
       "      <td>-0.492157</td>\n",
       "      <td>-0.065983</td>\n",
       "      <td>0.897945</td>\n",
       "      <td>-0.042456</td>\n",
       "    </tr>\n",
       "    <tr>\n",
       "      <th>Engine Size</th>\n",
       "      <td>0.026960</td>\n",
       "      <td>0.019983</td>\n",
       "      <td>0.531330</td>\n",
       "      <td>-0.258902</td>\n",
       "      <td>0.626875</td>\n",
       "      <td>1.000000</td>\n",
       "      <td>0.837360</td>\n",
       "      <td>0.472130</td>\n",
       "      <td>0.690398</td>\n",
       "      <td>0.541424</td>\n",
       "      <td>0.760043</td>\n",
       "      <td>0.663022</td>\n",
       "      <td>-0.734622</td>\n",
       "      <td>0.059137</td>\n",
       "      <td>0.818528</td>\n",
       "      <td>-0.263272</td>\n",
       "    </tr>\n",
       "    <tr>\n",
       "      <th>Horsepower</th>\n",
       "      <td>-0.037653</td>\n",
       "      <td>-0.197756</td>\n",
       "      <td>0.769081</td>\n",
       "      <td>-0.004689</td>\n",
       "      <td>0.839744</td>\n",
       "      <td>0.837360</td>\n",
       "      <td>1.000000</td>\n",
       "      <td>0.286308</td>\n",
       "      <td>0.539158</td>\n",
       "      <td>0.393364</td>\n",
       "      <td>0.610131</td>\n",
       "      <td>0.499907</td>\n",
       "      <td>-0.611332</td>\n",
       "      <td>-0.082647</td>\n",
       "      <td>0.992994</td>\n",
       "      <td>-0.202077</td>\n",
       "    </tr>\n",
       "    <tr>\n",
       "      <th>Wheelbase</th>\n",
       "      <td>0.073003</td>\n",
       "      <td>0.358179</td>\n",
       "      <td>-0.052270</td>\n",
       "      <td>-0.388009</td>\n",
       "      <td>0.110513</td>\n",
       "      <td>0.472130</td>\n",
       "      <td>0.286308</td>\n",
       "      <td>1.000000</td>\n",
       "      <td>0.683135</td>\n",
       "      <td>0.839639</td>\n",
       "      <td>0.651016</td>\n",
       "      <td>0.654044</td>\n",
       "      <td>-0.497931</td>\n",
       "      <td>0.121397</td>\n",
       "      <td>0.258852</td>\n",
       "      <td>-0.275465</td>\n",
       "    </tr>\n",
       "    <tr>\n",
       "      <th>Width</th>\n",
       "      <td>0.082366</td>\n",
       "      <td>0.140918</td>\n",
       "      <td>0.178767</td>\n",
       "      <td>-0.246183</td>\n",
       "      <td>0.329136</td>\n",
       "      <td>0.690398</td>\n",
       "      <td>0.539158</td>\n",
       "      <td>0.683135</td>\n",
       "      <td>1.000000</td>\n",
       "      <td>0.710435</td>\n",
       "      <td>0.720927</td>\n",
       "      <td>0.656302</td>\n",
       "      <td>-0.602546</td>\n",
       "      <td>0.057532</td>\n",
       "      <td>0.512025</td>\n",
       "      <td>-0.287777</td>\n",
       "    </tr>\n",
       "    <tr>\n",
       "      <th>Length</th>\n",
       "      <td>0.021909</td>\n",
       "      <td>0.254980</td>\n",
       "      <td>0.026548</td>\n",
       "      <td>-0.135259</td>\n",
       "      <td>0.156935</td>\n",
       "      <td>0.541424</td>\n",
       "      <td>0.393364</td>\n",
       "      <td>0.839639</td>\n",
       "      <td>0.710435</td>\n",
       "      <td>1.000000</td>\n",
       "      <td>0.627163</td>\n",
       "      <td>0.563540</td>\n",
       "      <td>-0.446756</td>\n",
       "      <td>0.099006</td>\n",
       "      <td>0.354095</td>\n",
       "      <td>-0.307775</td>\n",
       "    </tr>\n",
       "    <tr>\n",
       "      <th>Curb Weight</th>\n",
       "      <td>0.064780</td>\n",
       "      <td>0.008628</td>\n",
       "      <td>0.361557</td>\n",
       "      <td>-0.522773</td>\n",
       "      <td>0.526224</td>\n",
       "      <td>0.760043</td>\n",
       "      <td>0.610131</td>\n",
       "      <td>0.651016</td>\n",
       "      <td>0.720927</td>\n",
       "      <td>0.627163</td>\n",
       "      <td>1.000000</td>\n",
       "      <td>0.863968</td>\n",
       "      <td>-0.818402</td>\n",
       "      <td>0.046588</td>\n",
       "      <td>0.612071</td>\n",
       "      <td>-0.161159</td>\n",
       "    </tr>\n",
       "    <tr>\n",
       "      <th>Fuel Capacity</th>\n",
       "      <td>0.089043</td>\n",
       "      <td>0.086540</td>\n",
       "      <td>0.325567</td>\n",
       "      <td>-0.597469</td>\n",
       "      <td>0.423282</td>\n",
       "      <td>0.663022</td>\n",
       "      <td>0.499907</td>\n",
       "      <td>0.654044</td>\n",
       "      <td>0.656302</td>\n",
       "      <td>0.563540</td>\n",
       "      <td>0.863968</td>\n",
       "      <td>1.000000</td>\n",
       "      <td>-0.801512</td>\n",
       "      <td>0.056764</td>\n",
       "      <td>0.501184</td>\n",
       "      <td>-0.141514</td>\n",
       "    </tr>\n",
       "    <tr>\n",
       "      <th>Fuel Efficiency</th>\n",
       "      <td>-0.097174</td>\n",
       "      <td>-0.016764</td>\n",
       "      <td>-0.399880</td>\n",
       "      <td>0.575056</td>\n",
       "      <td>-0.492157</td>\n",
       "      <td>-0.734622</td>\n",
       "      <td>-0.611332</td>\n",
       "      <td>-0.497931</td>\n",
       "      <td>-0.602546</td>\n",
       "      <td>-0.446756</td>\n",
       "      <td>-0.818402</td>\n",
       "      <td>-0.801512</td>\n",
       "      <td>1.000000</td>\n",
       "      <td>-0.018181</td>\n",
       "      <td>-0.607495</td>\n",
       "      <td>0.092477</td>\n",
       "    </tr>\n",
       "    <tr>\n",
       "      <th>Latest Launch</th>\n",
       "      <td>-0.005033</td>\n",
       "      <td>0.082657</td>\n",
       "      <td>-0.076658</td>\n",
       "      <td>-0.004898</td>\n",
       "      <td>-0.065983</td>\n",
       "      <td>0.059137</td>\n",
       "      <td>-0.082647</td>\n",
       "      <td>0.121397</td>\n",
       "      <td>0.057532</td>\n",
       "      <td>0.099006</td>\n",
       "      <td>0.046588</td>\n",
       "      <td>0.056764</td>\n",
       "      <td>-0.018181</td>\n",
       "      <td>1.000000</td>\n",
       "      <td>-0.074525</td>\n",
       "      <td>0.062878</td>\n",
       "    </tr>\n",
       "    <tr>\n",
       "      <th>Power Perf Factor</th>\n",
       "      <td>-0.036747</td>\n",
       "      <td>-0.223252</td>\n",
       "      <td>0.827123</td>\n",
       "      <td>0.001047</td>\n",
       "      <td>0.897945</td>\n",
       "      <td>0.818528</td>\n",
       "      <td>0.992994</td>\n",
       "      <td>0.258852</td>\n",
       "      <td>0.512025</td>\n",
       "      <td>0.354095</td>\n",
       "      <td>0.612071</td>\n",
       "      <td>0.501184</td>\n",
       "      <td>-0.607495</td>\n",
       "      <td>-0.074525</td>\n",
       "      <td>1.000000</td>\n",
       "      <td>-0.169293</td>\n",
       "    </tr>\n",
       "    <tr>\n",
       "      <th>M</th>\n",
       "      <td>0.126672</td>\n",
       "      <td>-0.154020</td>\n",
       "      <td>0.010029</td>\n",
       "      <td>-0.032145</td>\n",
       "      <td>-0.042456</td>\n",
       "      <td>-0.263272</td>\n",
       "      <td>-0.202077</td>\n",
       "      <td>-0.275465</td>\n",
       "      <td>-0.287777</td>\n",
       "      <td>-0.307775</td>\n",
       "      <td>-0.161159</td>\n",
       "      <td>-0.141514</td>\n",
       "      <td>0.092477</td>\n",
       "      <td>0.062878</td>\n",
       "      <td>-0.169293</td>\n",
       "      <td>1.000000</td>\n",
       "    </tr>\n",
       "  </tbody>\n",
       "</table>\n",
       "</div>"
      ],
      "text/plain": [
       "                       Model     Sales  Year_Resale_Value  Vehicle Type  \\\n",
       "Model               1.000000 -0.043201          -0.117526     -0.209616   \n",
       "Sales              -0.043201  1.000000          -0.279034     -0.242183   \n",
       "Year_Resale_Value  -0.117526 -0.279034           1.000000      0.089360   \n",
       "Vehicle Type       -0.209616 -0.242183           0.089360      1.000000   \n",
       "Price In Thousands -0.050510 -0.304734           0.953840      0.044145   \n",
       "Engine Size         0.026960  0.019983           0.531330     -0.258902   \n",
       "Horsepower         -0.037653 -0.197756           0.769081     -0.004689   \n",
       "Wheelbase           0.073003  0.358179          -0.052270     -0.388009   \n",
       "Width               0.082366  0.140918           0.178767     -0.246183   \n",
       "Length              0.021909  0.254980           0.026548     -0.135259   \n",
       "Curb Weight         0.064780  0.008628           0.361557     -0.522773   \n",
       "Fuel Capacity       0.089043  0.086540           0.325567     -0.597469   \n",
       "Fuel Efficiency    -0.097174 -0.016764          -0.399880      0.575056   \n",
       "Latest Launch      -0.005033  0.082657          -0.076658     -0.004898   \n",
       "Power Perf Factor  -0.036747 -0.223252           0.827123      0.001047   \n",
       "M                   0.126672 -0.154020           0.010029     -0.032145   \n",
       "\n",
       "                    Price In Thousands  Engine Size  Horsepower  Wheelbase  \\\n",
       "Model                        -0.050510     0.026960   -0.037653   0.073003   \n",
       "Sales                        -0.304734     0.019983   -0.197756   0.358179   \n",
       "Year_Resale_Value             0.953840     0.531330    0.769081  -0.052270   \n",
       "Vehicle Type                  0.044145    -0.258902   -0.004689  -0.388009   \n",
       "Price In Thousands            1.000000     0.626875    0.839744   0.110513   \n",
       "Engine Size                   0.626875     1.000000    0.837360   0.472130   \n",
       "Horsepower                    0.839744     0.837360    1.000000   0.286308   \n",
       "Wheelbase                     0.110513     0.472130    0.286308   1.000000   \n",
       "Width                         0.329136     0.690398    0.539158   0.683135   \n",
       "Length                        0.156935     0.541424    0.393364   0.839639   \n",
       "Curb Weight                   0.526224     0.760043    0.610131   0.651016   \n",
       "Fuel Capacity                 0.423282     0.663022    0.499907   0.654044   \n",
       "Fuel Efficiency              -0.492157    -0.734622   -0.611332  -0.497931   \n",
       "Latest Launch                -0.065983     0.059137   -0.082647   0.121397   \n",
       "Power Perf Factor             0.897945     0.818528    0.992994   0.258852   \n",
       "M                            -0.042456    -0.263272   -0.202077  -0.275465   \n",
       "\n",
       "                       Width    Length  Curb Weight  Fuel Capacity  \\\n",
       "Model               0.082366  0.021909     0.064780       0.089043   \n",
       "Sales               0.140918  0.254980     0.008628       0.086540   \n",
       "Year_Resale_Value   0.178767  0.026548     0.361557       0.325567   \n",
       "Vehicle Type       -0.246183 -0.135259    -0.522773      -0.597469   \n",
       "Price In Thousands  0.329136  0.156935     0.526224       0.423282   \n",
       "Engine Size         0.690398  0.541424     0.760043       0.663022   \n",
       "Horsepower          0.539158  0.393364     0.610131       0.499907   \n",
       "Wheelbase           0.683135  0.839639     0.651016       0.654044   \n",
       "Width               1.000000  0.710435     0.720927       0.656302   \n",
       "Length              0.710435  1.000000     0.627163       0.563540   \n",
       "Curb Weight         0.720927  0.627163     1.000000       0.863968   \n",
       "Fuel Capacity       0.656302  0.563540     0.863968       1.000000   \n",
       "Fuel Efficiency    -0.602546 -0.446756    -0.818402      -0.801512   \n",
       "Latest Launch       0.057532  0.099006     0.046588       0.056764   \n",
       "Power Perf Factor   0.512025  0.354095     0.612071       0.501184   \n",
       "M                  -0.287777 -0.307775    -0.161159      -0.141514   \n",
       "\n",
       "                    Fuel Efficiency  Latest Launch  Power Perf Factor  \\\n",
       "Model                     -0.097174      -0.005033          -0.036747   \n",
       "Sales                     -0.016764       0.082657          -0.223252   \n",
       "Year_Resale_Value         -0.399880      -0.076658           0.827123   \n",
       "Vehicle Type               0.575056      -0.004898           0.001047   \n",
       "Price In Thousands        -0.492157      -0.065983           0.897945   \n",
       "Engine Size               -0.734622       0.059137           0.818528   \n",
       "Horsepower                -0.611332      -0.082647           0.992994   \n",
       "Wheelbase                 -0.497931       0.121397           0.258852   \n",
       "Width                     -0.602546       0.057532           0.512025   \n",
       "Length                    -0.446756       0.099006           0.354095   \n",
       "Curb Weight               -0.818402       0.046588           0.612071   \n",
       "Fuel Capacity             -0.801512       0.056764           0.501184   \n",
       "Fuel Efficiency            1.000000      -0.018181          -0.607495   \n",
       "Latest Launch             -0.018181       1.000000          -0.074525   \n",
       "Power Perf Factor         -0.607495      -0.074525           1.000000   \n",
       "M                          0.092477       0.062878          -0.169293   \n",
       "\n",
       "                           M  \n",
       "Model               0.126672  \n",
       "Sales              -0.154020  \n",
       "Year_Resale_Value   0.010029  \n",
       "Vehicle Type       -0.032145  \n",
       "Price In Thousands -0.042456  \n",
       "Engine Size        -0.263272  \n",
       "Horsepower         -0.202077  \n",
       "Wheelbase          -0.275465  \n",
       "Width              -0.287777  \n",
       "Length             -0.307775  \n",
       "Curb Weight        -0.161159  \n",
       "Fuel Capacity      -0.141514  \n",
       "Fuel Efficiency     0.092477  \n",
       "Latest Launch       0.062878  \n",
       "Power Perf Factor  -0.169293  \n",
       "M                   1.000000  "
      ]
     },
     "execution_count": 43,
     "metadata": {},
     "output_type": "execute_result"
    }
   ],
   "source": [
    "data.corr()"
   ]
  },
  {
   "cell_type": "code",
   "execution_count": 44,
   "id": "1b230c4a",
   "metadata": {},
   "outputs": [],
   "source": [
    "selected = ['Sales','Year_Resale_Value', 'Price In Thousands', 'Engine Size','Horsepower','Curb Weight','Fuel Capacity','Fuel Efficiency','Power Perf Factor']\n",
    "finaldata = data[selected]"
   ]
  },
  {
   "cell_type": "code",
   "execution_count": 45,
   "id": "2ea0afa8",
   "metadata": {},
   "outputs": [],
   "source": [
    "# Assign target variable (Y) and features (X)\n",
    "Y = finaldata['Year_Resale_Value']\n",
    "X = finaldata.drop('Year_Resale_Value', axis=1)"
   ]
  },
  {
   "cell_type": "code",
   "execution_count": 46,
   "id": "7fe00d0d",
   "metadata": {},
   "outputs": [
    {
     "data": {
      "text/plain": [
       "<bound method NDFrame._add_numeric_operations.<locals>.sum of      Sales  Price In Thousands  Engine Size  Horsepower  Curb Weight  \\\n",
       "0    False               False        False       False        False   \n",
       "1    False               False        False       False        False   \n",
       "2    False                True        False       False        False   \n",
       "3    False               False        False       False        False   \n",
       "4    False               False        False       False        False   \n",
       "..     ...                 ...          ...         ...          ...   \n",
       "152  False               False        False       False        False   \n",
       "153  False               False        False       False        False   \n",
       "154  False               False        False       False        False   \n",
       "155  False               False        False       False        False   \n",
       "156  False               False        False       False        False   \n",
       "\n",
       "     Fuel Capacity  Fuel Efficiency  Power Perf Factor  \n",
       "0            False            False              False  \n",
       "1            False            False              False  \n",
       "2            False            False               True  \n",
       "3            False            False              False  \n",
       "4            False            False              False  \n",
       "..             ...              ...                ...  \n",
       "152          False            False              False  \n",
       "153          False            False              False  \n",
       "154          False            False              False  \n",
       "155          False            False              False  \n",
       "156          False            False              False  \n",
       "\n",
       "[157 rows x 8 columns]>"
      ]
     },
     "execution_count": 46,
     "metadata": {},
     "output_type": "execute_result"
    }
   ],
   "source": [
    "X.isnull().sum"
   ]
  },
  {
   "cell_type": "code",
   "execution_count": 47,
   "id": "b25a7b35",
   "metadata": {},
   "outputs": [],
   "source": [
    "from sklearn.model_selection import train_test_split\n"
   ]
  },
  {
   "cell_type": "code",
   "execution_count": 52,
   "id": "71065072",
   "metadata": {
    "scrolled": true
   },
   "outputs": [
    {
     "ename": "AttributeError",
     "evalue": "'numpy.ndarray' object has no attribute 'values'",
     "output_type": "error",
     "traceback": [
      "\u001b[1;31m---------------------------------------------------------------------------\u001b[0m",
      "\u001b[1;31mAttributeError\u001b[0m                            Traceback (most recent call last)",
      "Input \u001b[1;32mIn [52]\u001b[0m, in \u001b[0;36m<cell line: 5>\u001b[1;34m()\u001b[0m\n\u001b[0;32m      3\u001b[0m \u001b[38;5;66;03m# Perform mean imputation on Y\u001b[39;00m\n\u001b[0;32m      4\u001b[0m Y_imputer \u001b[38;5;241m=\u001b[39m SimpleImputer(strategy\u001b[38;5;241m=\u001b[39m\u001b[38;5;124m'\u001b[39m\u001b[38;5;124mmean\u001b[39m\u001b[38;5;124m'\u001b[39m)\n\u001b[1;32m----> 5\u001b[0m Y \u001b[38;5;241m=\u001b[39m Y_imputer\u001b[38;5;241m.\u001b[39mfit_transform(\u001b[43mY\u001b[49m\u001b[38;5;241;43m.\u001b[39;49m\u001b[43mvalues\u001b[49m\u001b[38;5;241m.\u001b[39mreshape(\u001b[38;5;241m-\u001b[39m\u001b[38;5;241m1\u001b[39m, \u001b[38;5;241m1\u001b[39m))\n\u001b[0;32m      7\u001b[0m \u001b[38;5;66;03m# Perform mean imputation on X\u001b[39;00m\n\u001b[0;32m      8\u001b[0m X_imputer \u001b[38;5;241m=\u001b[39m SimpleImputer(strategy\u001b[38;5;241m=\u001b[39m\u001b[38;5;124m'\u001b[39m\u001b[38;5;124mmean\u001b[39m\u001b[38;5;124m'\u001b[39m)\n",
      "\u001b[1;31mAttributeError\u001b[0m: 'numpy.ndarray' object has no attribute 'values'"
     ]
    }
   ],
   "source": [
    "from sklearn.impute import SimpleImputer\n",
    "\n",
    "# Perform mean imputation on Y\n",
    "Y_imputer = SimpleImputer(strategy='mean')\n",
    "Y = Y_imputer.fit_transform(Y.values.reshape(-1, 1))\n",
    "\n",
    "# Perform mean imputation on X\n",
    "X_imputer = SimpleImputer(strategy='mean')\n",
    "X = X_imputer.fit_transform(X)\n",
    "\n",
    "\n"
   ]
  },
  {
   "cell_type": "code",
   "execution_count": 53,
   "id": "34d818a6",
   "metadata": {},
   "outputs": [],
   "source": [
    "# Split the data into training and test sets\n",
    "X_train, X_test, Y_train, Y_test = train_test_split(X, Y, test_size=0.2, random_state=42)\n"
   ]
  },
  {
   "cell_type": "code",
   "execution_count": 54,
   "id": "63d7a382",
   "metadata": {},
   "outputs": [],
   "source": [
    "from sklearn.linear_model import LinearRegression\n",
    "\n",
    "regression_model = LinearRegression()\n"
   ]
  },
  {
   "cell_type": "code",
   "execution_count": 166,
   "id": "b2d6f100",
   "metadata": {},
   "outputs": [
    {
     "data": {
      "text/html": [
       "<style>#sk-container-id-12 {color: black;background-color: white;}#sk-container-id-12 pre{padding: 0;}#sk-container-id-12 div.sk-toggleable {background-color: white;}#sk-container-id-12 label.sk-toggleable__label {cursor: pointer;display: block;width: 100%;margin-bottom: 0;padding: 0.3em;box-sizing: border-box;text-align: center;}#sk-container-id-12 label.sk-toggleable__label-arrow:before {content: \"▸\";float: left;margin-right: 0.25em;color: #696969;}#sk-container-id-12 label.sk-toggleable__label-arrow:hover:before {color: black;}#sk-container-id-12 div.sk-estimator:hover label.sk-toggleable__label-arrow:before {color: black;}#sk-container-id-12 div.sk-toggleable__content {max-height: 0;max-width: 0;overflow: hidden;text-align: left;background-color: #f0f8ff;}#sk-container-id-12 div.sk-toggleable__content pre {margin: 0.2em;color: black;border-radius: 0.25em;background-color: #f0f8ff;}#sk-container-id-12 input.sk-toggleable__control:checked~div.sk-toggleable__content {max-height: 200px;max-width: 100%;overflow: auto;}#sk-container-id-12 input.sk-toggleable__control:checked~label.sk-toggleable__label-arrow:before {content: \"▾\";}#sk-container-id-12 div.sk-estimator input.sk-toggleable__control:checked~label.sk-toggleable__label {background-color: #d4ebff;}#sk-container-id-12 div.sk-label input.sk-toggleable__control:checked~label.sk-toggleable__label {background-color: #d4ebff;}#sk-container-id-12 input.sk-hidden--visually {border: 0;clip: rect(1px 1px 1px 1px);clip: rect(1px, 1px, 1px, 1px);height: 1px;margin: -1px;overflow: hidden;padding: 0;position: absolute;width: 1px;}#sk-container-id-12 div.sk-estimator {font-family: monospace;background-color: #f0f8ff;border: 1px dotted black;border-radius: 0.25em;box-sizing: border-box;margin-bottom: 0.5em;}#sk-container-id-12 div.sk-estimator:hover {background-color: #d4ebff;}#sk-container-id-12 div.sk-parallel-item::after {content: \"\";width: 100%;border-bottom: 1px solid gray;flex-grow: 1;}#sk-container-id-12 div.sk-label:hover label.sk-toggleable__label {background-color: #d4ebff;}#sk-container-id-12 div.sk-serial::before {content: \"\";position: absolute;border-left: 1px solid gray;box-sizing: border-box;top: 0;bottom: 0;left: 50%;z-index: 0;}#sk-container-id-12 div.sk-serial {display: flex;flex-direction: column;align-items: center;background-color: white;padding-right: 0.2em;padding-left: 0.2em;position: relative;}#sk-container-id-12 div.sk-item {position: relative;z-index: 1;}#sk-container-id-12 div.sk-parallel {display: flex;align-items: stretch;justify-content: center;background-color: white;position: relative;}#sk-container-id-12 div.sk-item::before, #sk-container-id-12 div.sk-parallel-item::before {content: \"\";position: absolute;border-left: 1px solid gray;box-sizing: border-box;top: 0;bottom: 0;left: 50%;z-index: -1;}#sk-container-id-12 div.sk-parallel-item {display: flex;flex-direction: column;z-index: 1;position: relative;background-color: white;}#sk-container-id-12 div.sk-parallel-item:first-child::after {align-self: flex-end;width: 50%;}#sk-container-id-12 div.sk-parallel-item:last-child::after {align-self: flex-start;width: 50%;}#sk-container-id-12 div.sk-parallel-item:only-child::after {width: 0;}#sk-container-id-12 div.sk-dashed-wrapped {border: 1px dashed gray;margin: 0 0.4em 0.5em 0.4em;box-sizing: border-box;padding-bottom: 0.4em;background-color: white;}#sk-container-id-12 div.sk-label label {font-family: monospace;font-weight: bold;display: inline-block;line-height: 1.2em;}#sk-container-id-12 div.sk-label-container {text-align: center;}#sk-container-id-12 div.sk-container {/* jupyter's `normalize.less` sets `[hidden] { display: none; }` but bootstrap.min.css set `[hidden] { display: none !important; }` so we also need the `!important` here to be able to override the default hidden behavior on the sphinx rendered scikit-learn.org. See: https://github.com/scikit-learn/scikit-learn/issues/21755 */display: inline-block !important;position: relative;}#sk-container-id-12 div.sk-text-repr-fallback {display: none;}</style><div id=\"sk-container-id-12\" class=\"sk-top-container\"><div class=\"sk-text-repr-fallback\"><pre>LinearRegression()</pre><b>In a Jupyter environment, please rerun this cell to show the HTML representation or trust the notebook. <br />On GitHub, the HTML representation is unable to render, please try loading this page with nbviewer.org.</b></div><div class=\"sk-container\" hidden><div class=\"sk-item\"><div class=\"sk-estimator sk-toggleable\"><input class=\"sk-toggleable__control sk-hidden--visually\" id=\"sk-estimator-id-12\" type=\"checkbox\" checked><label for=\"sk-estimator-id-12\" class=\"sk-toggleable__label sk-toggleable__label-arrow\">LinearRegression</label><div class=\"sk-toggleable__content\"><pre>LinearRegression()</pre></div></div></div></div></div>"
      ],
      "text/plain": [
       "LinearRegression()"
      ]
     },
     "execution_count": 166,
     "metadata": {},
     "output_type": "execute_result"
    }
   ],
   "source": [
    "regression_model.fit(X_train, Y_train)\n"
   ]
  },
  {
   "cell_type": "code",
   "execution_count": 167,
   "id": "f3f87353",
   "metadata": {},
   "outputs": [],
   "source": [
    "Y_pred = regression_model.predict(X_test)\n"
   ]
  },
  {
   "cell_type": "code",
   "execution_count": 168,
   "id": "15f26ce2",
   "metadata": {},
   "outputs": [
    {
     "data": {
      "text/plain": [
       "array([[41.36941051],\n",
       "       [12.9426405 ],\n",
       "       [11.08163121],\n",
       "       [17.70825263],\n",
       "       [21.80194304],\n",
       "       [15.87685461],\n",
       "       [40.76849041],\n",
       "       [23.10960067],\n",
       "       [35.55375892],\n",
       "       [13.7289256 ],\n",
       "       [10.31832079],\n",
       "       [15.88298641],\n",
       "       [27.64212463],\n",
       "       [16.56646448],\n",
       "       [31.44606528],\n",
       "       [15.90590929],\n",
       "       [40.52542551],\n",
       "       [12.76786024],\n",
       "       [26.92853656],\n",
       "       [20.5980598 ],\n",
       "       [13.88267354],\n",
       "       [22.73187295],\n",
       "       [18.38958711],\n",
       "       [22.00254005],\n",
       "       [12.4816901 ],\n",
       "       [13.4057441 ],\n",
       "       [14.13831298],\n",
       "       [19.42920886],\n",
       "       [11.51993041],\n",
       "       [23.9968752 ],\n",
       "       [11.7186466 ],\n",
       "       [20.51299862]])"
      ]
     },
     "execution_count": 168,
     "metadata": {},
     "output_type": "execute_result"
    }
   ],
   "source": [
    "Y_pred"
   ]
  },
  {
   "cell_type": "code",
   "execution_count": 169,
   "id": "fdd86612",
   "metadata": {},
   "outputs": [
    {
     "name": "stdout",
     "output_type": "stream",
     "text": [
      "Mean Absolute Error: 5.122907436744769\n",
      "R-squared Score: 0.7089016737975831\n"
     ]
    }
   ],
   "source": [
    "from sklearn.metrics import mean_absolute_error\n",
    "\n",
    "mae = mean_absolute_error(Y_test, Y_pred)\n",
    "print(f\"Mean Absolute Error: {mae}\")\n",
    "\n",
    "from sklearn.metrics import r2_score\n",
    "\n",
    "r2 = r2_score(Y_test, Y_pred)\n",
    "print(f\"R-squared Score: {r2}\")\n",
    "\n"
   ]
  },
  {
   "cell_type": "code",
   "execution_count": 170,
   "id": "973710f8",
   "metadata": {},
   "outputs": [
    {
     "data": {
      "text/html": [
       "<div>\n",
       "<style scoped>\n",
       "    .dataframe tbody tr th:only-of-type {\n",
       "        vertical-align: middle;\n",
       "    }\n",
       "\n",
       "    .dataframe tbody tr th {\n",
       "        vertical-align: top;\n",
       "    }\n",
       "\n",
       "    .dataframe thead th {\n",
       "        text-align: right;\n",
       "    }\n",
       "</style>\n",
       "<table border=\"1\" class=\"dataframe\">\n",
       "  <thead>\n",
       "    <tr style=\"text-align: right;\">\n",
       "      <th></th>\n",
       "      <th>Manufacturer</th>\n",
       "      <th>Model</th>\n",
       "      <th>Sales</th>\n",
       "      <th>Year_Resale_Value</th>\n",
       "      <th>Vehicle Type</th>\n",
       "      <th>Price In Thousands</th>\n",
       "      <th>Engine Size</th>\n",
       "      <th>Horsepower</th>\n",
       "      <th>Wheelbase</th>\n",
       "      <th>Width</th>\n",
       "      <th>Length</th>\n",
       "      <th>Curb Weight</th>\n",
       "      <th>Fuel Capacity</th>\n",
       "      <th>Fuel Efficiency</th>\n",
       "      <th>Latest Launch</th>\n",
       "      <th>Power Perf Factor</th>\n",
       "    </tr>\n",
       "  </thead>\n",
       "  <tbody>\n",
       "    <tr>\n",
       "      <th>152</th>\n",
       "      <td>29</td>\n",
       "      <td>146</td>\n",
       "      <td>3.545</td>\n",
       "      <td>NaN</td>\n",
       "      <td>1</td>\n",
       "      <td>24.4</td>\n",
       "      <td>1.9</td>\n",
       "      <td>160.0</td>\n",
       "      <td>100.5</td>\n",
       "      <td>67.6</td>\n",
       "      <td>176.6</td>\n",
       "      <td>3.042</td>\n",
       "      <td>15.8</td>\n",
       "      <td>25.0</td>\n",
       "      <td>125</td>\n",
       "      <td>66.498812</td>\n",
       "    </tr>\n",
       "    <tr>\n",
       "      <th>153</th>\n",
       "      <td>29</td>\n",
       "      <td>123</td>\n",
       "      <td>15.245</td>\n",
       "      <td>NaN</td>\n",
       "      <td>1</td>\n",
       "      <td>27.5</td>\n",
       "      <td>2.4</td>\n",
       "      <td>168.0</td>\n",
       "      <td>104.9</td>\n",
       "      <td>69.3</td>\n",
       "      <td>185.9</td>\n",
       "      <td>3.208</td>\n",
       "      <td>17.9</td>\n",
       "      <td>25.0</td>\n",
       "      <td>65</td>\n",
       "      <td>70.654495</td>\n",
       "    </tr>\n",
       "    <tr>\n",
       "      <th>154</th>\n",
       "      <td>29</td>\n",
       "      <td>147</td>\n",
       "      <td>17.531</td>\n",
       "      <td>NaN</td>\n",
       "      <td>1</td>\n",
       "      <td>28.8</td>\n",
       "      <td>2.4</td>\n",
       "      <td>168.0</td>\n",
       "      <td>104.9</td>\n",
       "      <td>69.3</td>\n",
       "      <td>186.2</td>\n",
       "      <td>3.259</td>\n",
       "      <td>17.9</td>\n",
       "      <td>25.0</td>\n",
       "      <td>109</td>\n",
       "      <td>71.155978</td>\n",
       "    </tr>\n",
       "    <tr>\n",
       "      <th>155</th>\n",
       "      <td>29</td>\n",
       "      <td>22</td>\n",
       "      <td>3.493</td>\n",
       "      <td>NaN</td>\n",
       "      <td>1</td>\n",
       "      <td>45.5</td>\n",
       "      <td>2.3</td>\n",
       "      <td>236.0</td>\n",
       "      <td>104.9</td>\n",
       "      <td>71.5</td>\n",
       "      <td>185.7</td>\n",
       "      <td>3.601</td>\n",
       "      <td>18.5</td>\n",
       "      <td>23.0</td>\n",
       "      <td>98</td>\n",
       "      <td>101.623357</td>\n",
       "    </tr>\n",
       "  </tbody>\n",
       "</table>\n",
       "</div>"
      ],
      "text/plain": [
       "     Manufacturer  Model   Sales  Year_Resale_Value  Vehicle Type  \\\n",
       "152            29    146   3.545                NaN             1   \n",
       "153            29    123  15.245                NaN             1   \n",
       "154            29    147  17.531                NaN             1   \n",
       "155            29     22   3.493                NaN             1   \n",
       "\n",
       "     Price In Thousands  Engine Size  Horsepower  Wheelbase  Width  Length  \\\n",
       "152                24.4          1.9       160.0      100.5   67.6   176.6   \n",
       "153                27.5          2.4       168.0      104.9   69.3   185.9   \n",
       "154                28.8          2.4       168.0      104.9   69.3   186.2   \n",
       "155                45.5          2.3       236.0      104.9   71.5   185.7   \n",
       "\n",
       "     Curb Weight  Fuel Capacity  Fuel Efficiency  Latest Launch  \\\n",
       "152        3.042           15.8             25.0            125   \n",
       "153        3.208           17.9             25.0             65   \n",
       "154        3.259           17.9             25.0            109   \n",
       "155        3.601           18.5             23.0             98   \n",
       "\n",
       "     Power Perf Factor  \n",
       "152          66.498812  \n",
       "153          70.654495  \n",
       "154          71.155978  \n",
       "155         101.623357  "
      ]
     },
     "execution_count": 170,
     "metadata": {},
     "output_type": "execute_result"
    }
   ],
   "source": [
    "data.iloc[152:156]"
   ]
  },
  {
   "cell_type": "code",
   "execution_count": 171,
   "id": "3f8b7ad4",
   "metadata": {},
   "outputs": [
    {
     "data": {
      "text/html": [
       "<div>\n",
       "<style scoped>\n",
       "    .dataframe tbody tr th:only-of-type {\n",
       "        vertical-align: middle;\n",
       "    }\n",
       "\n",
       "    .dataframe tbody tr th {\n",
       "        vertical-align: top;\n",
       "    }\n",
       "\n",
       "    .dataframe thead th {\n",
       "        text-align: right;\n",
       "    }\n",
       "</style>\n",
       "<table border=\"1\" class=\"dataframe\">\n",
       "  <thead>\n",
       "    <tr style=\"text-align: right;\">\n",
       "      <th></th>\n",
       "      <th>Sales</th>\n",
       "      <th>Year_Resale_Value</th>\n",
       "      <th>Price In Thousands</th>\n",
       "      <th>Engine Size</th>\n",
       "      <th>Horsepower</th>\n",
       "      <th>Curb Weight</th>\n",
       "      <th>Fuel Capacity</th>\n",
       "      <th>Fuel Efficiency</th>\n",
       "      <th>Power Perf Factor</th>\n",
       "    </tr>\n",
       "  </thead>\n",
       "  <tbody>\n",
       "    <tr>\n",
       "      <th>7</th>\n",
       "      <td>19.747</td>\n",
       "      <td>NaN</td>\n",
       "      <td>26.99</td>\n",
       "      <td>2.5</td>\n",
       "      <td>170.0</td>\n",
       "      <td>3.179</td>\n",
       "      <td>16.6</td>\n",
       "      <td>26.0</td>\n",
       "      <td>71.191207</td>\n",
       "    </tr>\n",
       "  </tbody>\n",
       "</table>\n",
       "</div>"
      ],
      "text/plain": [
       "    Sales  Year_Resale_Value  Price In Thousands  Engine Size  Horsepower  \\\n",
       "7  19.747                NaN               26.99          2.5       170.0   \n",
       "\n",
       "   Curb Weight  Fuel Capacity  Fuel Efficiency  Power Perf Factor  \n",
       "7        3.179           16.6             26.0          71.191207  "
      ]
     },
     "execution_count": 171,
     "metadata": {},
     "output_type": "execute_result"
    }
   ],
   "source": [
    "finaldata.iloc[7:8]"
   ]
  },
  {
   "cell_type": "code",
   "execution_count": 199,
   "id": "8a81f68a",
   "metadata": {},
   "outputs": [],
   "source": [
    "new1= [19.747, 26.99, 2.5, 170.0, 3.179, 16.6, 26.0, 71.191207]\n",
    "new_reshaped = np.array(new1).reshape(1,-1)  # Reshape the array\n",
    "\n"
   ]
  },
  {
   "cell_type": "code",
   "execution_count": 200,
   "id": "12a6e82b",
   "metadata": {},
   "outputs": [],
   "source": [
    "Y_pred1 = regression_model.predict(new_reshaped)"
   ]
  },
  {
   "cell_type": "code",
   "execution_count": 184,
   "id": "b4d120b2",
   "metadata": {},
   "outputs": [
    {
     "data": {
      "text/plain": [
       "array([[17.19638778]])"
      ]
     },
     "execution_count": 184,
     "metadata": {},
     "output_type": "execute_result"
    }
   ],
   "source": [
    "Y_pred1"
   ]
  },
  {
   "cell_type": "code",
   "execution_count": 185,
   "id": "99b2c6db",
   "metadata": {},
   "outputs": [
    {
     "data": {
      "text/html": [
       "<div>\n",
       "<style scoped>\n",
       "    .dataframe tbody tr th:only-of-type {\n",
       "        vertical-align: middle;\n",
       "    }\n",
       "\n",
       "    .dataframe tbody tr th {\n",
       "        vertical-align: top;\n",
       "    }\n",
       "\n",
       "    .dataframe thead th {\n",
       "        text-align: right;\n",
       "    }\n",
       "</style>\n",
       "<table border=\"1\" class=\"dataframe\">\n",
       "  <thead>\n",
       "    <tr style=\"text-align: right;\">\n",
       "      <th></th>\n",
       "      <th>Sales</th>\n",
       "      <th>Year_Resale_Value</th>\n",
       "      <th>Price In Thousands</th>\n",
       "      <th>Engine Size</th>\n",
       "      <th>Horsepower</th>\n",
       "      <th>Curb Weight</th>\n",
       "      <th>Fuel Capacity</th>\n",
       "      <th>Fuel Efficiency</th>\n",
       "      <th>Power Perf Factor</th>\n",
       "    </tr>\n",
       "  </thead>\n",
       "  <tbody>\n",
       "    <tr>\n",
       "      <th>18</th>\n",
       "      <td>14.785</td>\n",
       "      <td>NaN</td>\n",
       "      <td>46.225</td>\n",
       "      <td>5.7</td>\n",
       "      <td>255.0</td>\n",
       "      <td>5.572</td>\n",
       "      <td>30.0</td>\n",
       "      <td>15.0</td>\n",
       "      <td>109.509117</td>\n",
       "    </tr>\n",
       "  </tbody>\n",
       "</table>\n",
       "</div>"
      ],
      "text/plain": [
       "     Sales  Year_Resale_Value  Price In Thousands  Engine Size  Horsepower  \\\n",
       "18  14.785                NaN              46.225          5.7       255.0   \n",
       "\n",
       "    Curb Weight  Fuel Capacity  Fuel Efficiency  Power Perf Factor  \n",
       "18        5.572           30.0             15.0         109.509117  "
      ]
     },
     "execution_count": 185,
     "metadata": {},
     "output_type": "execute_result"
    }
   ],
   "source": [
    "finaldata.iloc[18:19]"
   ]
  },
  {
   "cell_type": "code",
   "execution_count": 188,
   "id": "c7228127",
   "metadata": {},
   "outputs": [],
   "source": [
    "new2= [14.785,46.225,5.7,255.0,5.572,30.0,15.0,109.509117]\n",
    "new_reshaped2 = np.array(new2).reshape(1, -1)  # Reshape the array"
   ]
  },
  {
   "cell_type": "code",
   "execution_count": 189,
   "id": "196be97c",
   "metadata": {},
   "outputs": [],
   "source": [
    "Y_pred2 = regression_model.predict(new_reshaped2)"
   ]
  },
  {
   "cell_type": "code",
   "execution_count": 190,
   "id": "dfcb6431",
   "metadata": {},
   "outputs": [
    {
     "data": {
      "text/plain": [
       "array([[22.73187296]])"
      ]
     },
     "execution_count": 190,
     "metadata": {},
     "output_type": "execute_result"
    }
   ],
   "source": [
    "Y_pred2 "
   ]
  },
  {
   "cell_type": "code",
   "execution_count": 191,
   "id": "c8c5f07f",
   "metadata": {},
   "outputs": [
    {
     "data": {
      "text/html": [
       "<div>\n",
       "<style scoped>\n",
       "    .dataframe tbody tr th:only-of-type {\n",
       "        vertical-align: middle;\n",
       "    }\n",
       "\n",
       "    .dataframe tbody tr th {\n",
       "        vertical-align: top;\n",
       "    }\n",
       "\n",
       "    .dataframe thead th {\n",
       "        text-align: right;\n",
       "    }\n",
       "</style>\n",
       "<table border=\"1\" class=\"dataframe\">\n",
       "  <thead>\n",
       "    <tr style=\"text-align: right;\">\n",
       "      <th></th>\n",
       "      <th>Sales</th>\n",
       "      <th>Year_Resale_Value</th>\n",
       "      <th>Price In Thousands</th>\n",
       "      <th>Engine Size</th>\n",
       "      <th>Horsepower</th>\n",
       "      <th>Curb Weight</th>\n",
       "      <th>Fuel Capacity</th>\n",
       "      <th>Fuel Efficiency</th>\n",
       "      <th>Power Perf Factor</th>\n",
       "    </tr>\n",
       "  </thead>\n",
       "  <tbody>\n",
       "    <tr>\n",
       "      <th>27</th>\n",
       "      <td>107.995</td>\n",
       "      <td>NaN</td>\n",
       "      <td>18.89</td>\n",
       "      <td>3.4</td>\n",
       "      <td>180.0</td>\n",
       "      <td>3.389</td>\n",
       "      <td>17.0</td>\n",
       "      <td>27.0</td>\n",
       "      <td>71.838039</td>\n",
       "    </tr>\n",
       "  </tbody>\n",
       "</table>\n",
       "</div>"
      ],
      "text/plain": [
       "      Sales  Year_Resale_Value  Price In Thousands  Engine Size  Horsepower  \\\n",
       "27  107.995                NaN               18.89          3.4       180.0   \n",
       "\n",
       "    Curb Weight  Fuel Capacity  Fuel Efficiency  Power Perf Factor  \n",
       "27        3.389           17.0             27.0          71.838039  "
      ]
     },
     "execution_count": 191,
     "metadata": {},
     "output_type": "execute_result"
    }
   ],
   "source": [
    "finaldata.iloc[27:28]"
   ]
  },
  {
   "cell_type": "code",
   "execution_count": 194,
   "id": "39c64fc1",
   "metadata": {},
   "outputs": [],
   "source": [
    "new3 = [107.995,18.89,3.4,180.0,3.389,17.0,27.0,71.838039]\n",
    "new_reshaped3 = np.array(new3).reshape(1, -1)"
   ]
  },
  {
   "cell_type": "code",
   "execution_count": 196,
   "id": "82dc9c40",
   "metadata": {},
   "outputs": [
    {
     "data": {
      "text/plain": [
       "array([[12.86570586]])"
      ]
     },
     "execution_count": 196,
     "metadata": {},
     "output_type": "execute_result"
    }
   ],
   "source": [
    "Y_pred3 = regression_model.predict(new_reshaped3)\n",
    "Y_pred3"
   ]
  },
  {
   "cell_type": "code",
   "execution_count": 202,
   "id": "92e33a63",
   "metadata": {},
   "outputs": [
    {
     "data": {
      "text/html": [
       "<div>\n",
       "<style scoped>\n",
       "    .dataframe tbody tr th:only-of-type {\n",
       "        vertical-align: middle;\n",
       "    }\n",
       "\n",
       "    .dataframe tbody tr th {\n",
       "        vertical-align: top;\n",
       "    }\n",
       "\n",
       "    .dataframe thead th {\n",
       "        text-align: right;\n",
       "    }\n",
       "</style>\n",
       "<table border=\"1\" class=\"dataframe\">\n",
       "  <thead>\n",
       "    <tr style=\"text-align: right;\">\n",
       "      <th></th>\n",
       "      <th>Sales</th>\n",
       "      <th>Year_Resale_Value</th>\n",
       "      <th>Price In Thousands</th>\n",
       "      <th>Engine Size</th>\n",
       "      <th>Horsepower</th>\n",
       "      <th>Curb Weight</th>\n",
       "      <th>Fuel Capacity</th>\n",
       "      <th>Fuel Efficiency</th>\n",
       "      <th>Power Perf Factor</th>\n",
       "    </tr>\n",
       "  </thead>\n",
       "  <tbody>\n",
       "    <tr>\n",
       "      <th>34</th>\n",
       "      <td>30.696</td>\n",
       "      <td>NaN</td>\n",
       "      <td>29.185</td>\n",
       "      <td>3.5</td>\n",
       "      <td>253.0</td>\n",
       "      <td>3.567</td>\n",
       "      <td>17.0</td>\n",
       "      <td>23.0</td>\n",
       "      <td>101.655244</td>\n",
       "    </tr>\n",
       "  </tbody>\n",
       "</table>\n",
       "</div>"
      ],
      "text/plain": [
       "     Sales  Year_Resale_Value  Price In Thousands  Engine Size  Horsepower  \\\n",
       "34  30.696                NaN              29.185          3.5       253.0   \n",
       "\n",
       "    Curb Weight  Fuel Capacity  Fuel Efficiency  Power Perf Factor  \n",
       "34        3.567           17.0             23.0         101.655244  "
      ]
     },
     "execution_count": 202,
     "metadata": {},
     "output_type": "execute_result"
    }
   ],
   "source": [
    "finaldata.iloc[34:35]"
   ]
  },
  {
   "cell_type": "code",
   "execution_count": 205,
   "id": "7387e269",
   "metadata": {},
   "outputs": [],
   "source": [
    "new4 = [30.696,29.185,3.5,253.0,3.567,17.0,23.0,101.655244]\n",
    "new_reshaped4 = np.array(new4).reshape(1, -1)"
   ]
  },
  {
   "cell_type": "code",
   "execution_count": 210,
   "id": "e9fc8d65",
   "metadata": {},
   "outputs": [
    {
     "data": {
      "text/plain": [
       "array([[20.62715146]])"
      ]
     },
     "execution_count": 210,
     "metadata": {},
     "output_type": "execute_result"
    }
   ],
   "source": [
    "Y_pred4 = regression_model.predict(new_reshaped4)\n",
    "Y_pred4"
   ]
  },
  {
   "cell_type": "code",
   "execution_count": 213,
   "id": "f601f563",
   "metadata": {},
   "outputs": [
    {
     "data": {
      "text/html": [
       "<div>\n",
       "<style scoped>\n",
       "    .dataframe tbody tr th:only-of-type {\n",
       "        vertical-align: middle;\n",
       "    }\n",
       "\n",
       "    .dataframe tbody tr th {\n",
       "        vertical-align: top;\n",
       "    }\n",
       "\n",
       "    .dataframe thead th {\n",
       "        text-align: right;\n",
       "    }\n",
       "</style>\n",
       "<table border=\"1\" class=\"dataframe\">\n",
       "  <thead>\n",
       "    <tr style=\"text-align: right;\">\n",
       "      <th></th>\n",
       "      <th>Sales</th>\n",
       "      <th>Year_Resale_Value</th>\n",
       "      <th>Price In Thousands</th>\n",
       "      <th>Engine Size</th>\n",
       "      <th>Horsepower</th>\n",
       "      <th>Curb Weight</th>\n",
       "      <th>Fuel Capacity</th>\n",
       "      <th>Fuel Efficiency</th>\n",
       "      <th>Power Perf Factor</th>\n",
       "    </tr>\n",
       "  </thead>\n",
       "  <tbody>\n",
       "    <tr>\n",
       "      <th>44</th>\n",
       "      <td>101.323</td>\n",
       "      <td>NaN</td>\n",
       "      <td>26.31</td>\n",
       "      <td>5.2</td>\n",
       "      <td>230.0</td>\n",
       "      <td>4.394</td>\n",
       "      <td>25.0</td>\n",
       "      <td>17.0</td>\n",
       "      <td>92.854125</td>\n",
       "    </tr>\n",
       "  </tbody>\n",
       "</table>\n",
       "</div>"
      ],
      "text/plain": [
       "      Sales  Year_Resale_Value  Price In Thousands  Engine Size  Horsepower  \\\n",
       "44  101.323                NaN               26.31          5.2       230.0   \n",
       "\n",
       "    Curb Weight  Fuel Capacity  Fuel Efficiency  Power Perf Factor  \n",
       "44        4.394           25.0             17.0          92.854125  "
      ]
     },
     "execution_count": 213,
     "metadata": {},
     "output_type": "execute_result"
    }
   ],
   "source": [
    "finaldata.iloc[44:45]"
   ]
  },
  {
   "cell_type": "code",
   "execution_count": 215,
   "id": "30fd6aa8",
   "metadata": {},
   "outputs": [],
   "source": [
    "new5 = [101.323,26.31,5.2,230.0,4.394,25.0,17.0,92.854125]\n",
    "new_reshaped5 = np.array(new5).reshape(1,-1)"
   ]
  },
  {
   "cell_type": "code",
   "execution_count": 217,
   "id": "cdcbf328",
   "metadata": {},
   "outputs": [
    {
     "data": {
      "text/plain": [
       "array([[17.012309]])"
      ]
     },
     "execution_count": 217,
     "metadata": {},
     "output_type": "execute_result"
    }
   ],
   "source": [
    "Y_pred5 = regression_model.predict(new_reshaped5)\n",
    "Y_pred5 "
   ]
  },
  {
   "cell_type": "code",
   "execution_count": 218,
   "id": "182a12a6",
   "metadata": {},
   "outputs": [
    {
     "data": {
      "text/html": [
       "<div>\n",
       "<style scoped>\n",
       "    .dataframe tbody tr th:only-of-type {\n",
       "        vertical-align: middle;\n",
       "    }\n",
       "\n",
       "    .dataframe tbody tr th {\n",
       "        vertical-align: top;\n",
       "    }\n",
       "\n",
       "    .dataframe thead th {\n",
       "        text-align: right;\n",
       "    }\n",
       "</style>\n",
       "<table border=\"1\" class=\"dataframe\">\n",
       "  <thead>\n",
       "    <tr style=\"text-align: right;\">\n",
       "      <th></th>\n",
       "      <th>Sales</th>\n",
       "      <th>Year_Resale_Value</th>\n",
       "      <th>Price In Thousands</th>\n",
       "      <th>Engine Size</th>\n",
       "      <th>Horsepower</th>\n",
       "      <th>Curb Weight</th>\n",
       "      <th>Fuel Capacity</th>\n",
       "      <th>Fuel Efficiency</th>\n",
       "      <th>Power Perf Factor</th>\n",
       "    </tr>\n",
       "  </thead>\n",
       "  <tbody>\n",
       "    <tr>\n",
       "      <th>50</th>\n",
       "      <td>175.67</td>\n",
       "      <td>NaN</td>\n",
       "      <td>12.315</td>\n",
       "      <td>2.0</td>\n",
       "      <td>107.0</td>\n",
       "      <td>2.564</td>\n",
       "      <td>13.2</td>\n",
       "      <td>30.0</td>\n",
       "      <td>43.117132</td>\n",
       "    </tr>\n",
       "  </tbody>\n",
       "</table>\n",
       "</div>"
      ],
      "text/plain": [
       "     Sales  Year_Resale_Value  Price In Thousands  Engine Size  Horsepower  \\\n",
       "50  175.67                NaN              12.315          2.0       107.0   \n",
       "\n",
       "    Curb Weight  Fuel Capacity  Fuel Efficiency  Power Perf Factor  \n",
       "50        2.564           13.2             30.0          43.117132  "
      ]
     },
     "execution_count": 218,
     "metadata": {},
     "output_type": "execute_result"
    }
   ],
   "source": [
    "finaldata.iloc[50:51]"
   ]
  },
  {
   "cell_type": "code",
   "execution_count": 219,
   "id": "dc820716",
   "metadata": {},
   "outputs": [],
   "source": [
    "new6 = [175.67,12.315,2.0,107.0,2.564,13.2 ,30.0,43.117132]"
   ]
  },
  {
   "cell_type": "code",
   "execution_count": 221,
   "id": "186c8666",
   "metadata": {},
   "outputs": [],
   "source": [
    "new_reshaped6 = np.array(new6).reshape(1,-1)"
   ]
  },
  {
   "cell_type": "code",
   "execution_count": 223,
   "id": "36ce24a7",
   "metadata": {},
   "outputs": [
    {
     "data": {
      "text/plain": [
       "array([[9.13511719]])"
      ]
     },
     "execution_count": 223,
     "metadata": {},
     "output_type": "execute_result"
    }
   ],
   "source": [
    "Y_pred6 = regression_model.predict(new_reshaped6)\n",
    "Y_pred6"
   ]
  },
  {
   "cell_type": "code",
   "execution_count": 224,
   "id": "275d1b38",
   "metadata": {},
   "outputs": [
    {
     "data": {
      "text/html": [
       "<div>\n",
       "<style scoped>\n",
       "    .dataframe tbody tr th:only-of-type {\n",
       "        vertical-align: middle;\n",
       "    }\n",
       "\n",
       "    .dataframe tbody tr th {\n",
       "        vertical-align: top;\n",
       "    }\n",
       "\n",
       "    .dataframe thead th {\n",
       "        text-align: right;\n",
       "    }\n",
       "</style>\n",
       "<table border=\"1\" class=\"dataframe\">\n",
       "  <thead>\n",
       "    <tr style=\"text-align: right;\">\n",
       "      <th></th>\n",
       "      <th>Sales</th>\n",
       "      <th>Year_Resale_Value</th>\n",
       "      <th>Price In Thousands</th>\n",
       "      <th>Engine Size</th>\n",
       "      <th>Horsepower</th>\n",
       "      <th>Curb Weight</th>\n",
       "      <th>Fuel Capacity</th>\n",
       "      <th>Fuel Efficiency</th>\n",
       "      <th>Power Perf Factor</th>\n",
       "    </tr>\n",
       "  </thead>\n",
       "  <tbody>\n",
       "    <tr>\n",
       "      <th>66</th>\n",
       "      <td>15.467</td>\n",
       "      <td>NaN</td>\n",
       "      <td>42.8</td>\n",
       "      <td>3.0</td>\n",
       "      <td>240.0</td>\n",
       "      <td>3.65</td>\n",
       "      <td>18.4</td>\n",
       "      <td>21.0</td>\n",
       "      <td>102.178985</td>\n",
       "    </tr>\n",
       "  </tbody>\n",
       "</table>\n",
       "</div>"
      ],
      "text/plain": [
       "     Sales  Year_Resale_Value  Price In Thousands  Engine Size  Horsepower  \\\n",
       "66  15.467                NaN                42.8          3.0       240.0   \n",
       "\n",
       "    Curb Weight  Fuel Capacity  Fuel Efficiency  Power Perf Factor  \n",
       "66         3.65           18.4             21.0         102.178985  "
      ]
     },
     "execution_count": 224,
     "metadata": {},
     "output_type": "execute_result"
    }
   ],
   "source": [
    "finaldata.iloc[66:67]"
   ]
  },
  {
   "cell_type": "code",
   "execution_count": 225,
   "id": "93b91cd7",
   "metadata": {},
   "outputs": [],
   "source": [
    "new7 = [15.467,42.8,3.0,240.0,3.65,18.4,21.0,102.178985]"
   ]
  },
  {
   "cell_type": "code",
   "execution_count": 227,
   "id": "48b2cf73",
   "metadata": {},
   "outputs": [],
   "source": [
    "new_reshaped7 = np.array(new7).reshape(1,-1)"
   ]
  },
  {
   "cell_type": "code",
   "execution_count": 229,
   "id": "89f30e54",
   "metadata": {},
   "outputs": [
    {
     "data": {
      "text/plain": [
       "array([[25.77476475]])"
      ]
     },
     "execution_count": 229,
     "metadata": {},
     "output_type": "execute_result"
    }
   ],
   "source": [
    "Y_pred7 = regression_model.predict(new_reshaped7)\n",
    "Y_pred7"
   ]
  },
  {
   "cell_type": "code",
   "execution_count": 230,
   "id": "4348a025",
   "metadata": {},
   "outputs": [
    {
     "data": {
      "text/html": [
       "<div>\n",
       "<style scoped>\n",
       "    .dataframe tbody tr th:only-of-type {\n",
       "        vertical-align: middle;\n",
       "    }\n",
       "\n",
       "    .dataframe tbody tr th {\n",
       "        vertical-align: top;\n",
       "    }\n",
       "\n",
       "    .dataframe thead th {\n",
       "        text-align: right;\n",
       "    }\n",
       "</style>\n",
       "<table border=\"1\" class=\"dataframe\">\n",
       "  <thead>\n",
       "    <tr style=\"text-align: right;\">\n",
       "      <th></th>\n",
       "      <th>Sales</th>\n",
       "      <th>Year_Resale_Value</th>\n",
       "      <th>Price In Thousands</th>\n",
       "      <th>Engine Size</th>\n",
       "      <th>Horsepower</th>\n",
       "      <th>Curb Weight</th>\n",
       "      <th>Fuel Capacity</th>\n",
       "      <th>Fuel Efficiency</th>\n",
       "      <th>Power Perf Factor</th>\n",
       "    </tr>\n",
       "  </thead>\n",
       "  <tbody>\n",
       "    <tr>\n",
       "      <th>72</th>\n",
       "      <td>3.334</td>\n",
       "      <td>NaN</td>\n",
       "      <td>46.305</td>\n",
       "      <td>4.0</td>\n",
       "      <td>300.0</td>\n",
       "      <td>3.693</td>\n",
       "      <td>19.8</td>\n",
       "      <td>21.0</td>\n",
       "      <td>125.013357</td>\n",
       "    </tr>\n",
       "  </tbody>\n",
       "</table>\n",
       "</div>"
      ],
      "text/plain": [
       "    Sales  Year_Resale_Value  Price In Thousands  Engine Size  Horsepower  \\\n",
       "72  3.334                NaN              46.305          4.0       300.0   \n",
       "\n",
       "    Curb Weight  Fuel Capacity  Fuel Efficiency  Power Perf Factor  \n",
       "72        3.693           19.8             21.0         125.013357  "
      ]
     },
     "execution_count": 230,
     "metadata": {},
     "output_type": "execute_result"
    }
   ],
   "source": [
    "finaldata.iloc[72:73]"
   ]
  },
  {
   "cell_type": "code",
   "execution_count": 231,
   "id": "588387dd",
   "metadata": {},
   "outputs": [],
   "source": [
    "new8 = [3.334,46.305,4.0,300.0,3.693,19.8,21.0,125.013357]"
   ]
  },
  {
   "cell_type": "code",
   "execution_count": 233,
   "id": "44ae8993",
   "metadata": {},
   "outputs": [],
   "source": [
    "new_reshaped8 = np.array(new8).reshape(1,-1)"
   ]
  },
  {
   "cell_type": "code",
   "execution_count": 235,
   "id": "66bc1a4b",
   "metadata": {},
   "outputs": [
    {
     "data": {
      "text/plain": [
       "array([[29.46328613]])"
      ]
     },
     "execution_count": 235,
     "metadata": {},
     "output_type": "execute_result"
    }
   ],
   "source": [
    "Ypred8 = regression_model.predict(new_reshaped8)\n",
    "Ypred8"
   ]
  },
  {
   "cell_type": "code",
   "execution_count": 241,
   "id": "845203ee",
   "metadata": {},
   "outputs": [
    {
     "data": {
      "text/html": [
       "<div>\n",
       "<style scoped>\n",
       "    .dataframe tbody tr th:only-of-type {\n",
       "        vertical-align: middle;\n",
       "    }\n",
       "\n",
       "    .dataframe tbody tr th {\n",
       "        vertical-align: top;\n",
       "    }\n",
       "\n",
       "    .dataframe thead th {\n",
       "        text-align: right;\n",
       "    }\n",
       "</style>\n",
       "<table border=\"1\" class=\"dataframe\">\n",
       "  <thead>\n",
       "    <tr style=\"text-align: right;\">\n",
       "      <th></th>\n",
       "      <th>Sales</th>\n",
       "      <th>Year_Resale_Value</th>\n",
       "      <th>Price In Thousands</th>\n",
       "      <th>Engine Size</th>\n",
       "      <th>Horsepower</th>\n",
       "      <th>Curb Weight</th>\n",
       "      <th>Fuel Capacity</th>\n",
       "      <th>Fuel Efficiency</th>\n",
       "      <th>Power Perf Factor</th>\n",
       "    </tr>\n",
       "  </thead>\n",
       "  <tbody>\n",
       "    <tr>\n",
       "      <th>74</th>\n",
       "      <td>9.126</td>\n",
       "      <td>NaN</td>\n",
       "      <td>60.105</td>\n",
       "      <td>4.7</td>\n",
       "      <td>230.0</td>\n",
       "      <td>5.401</td>\n",
       "      <td>25.4</td>\n",
       "      <td>15.0</td>\n",
       "      <td>105.760458</td>\n",
       "    </tr>\n",
       "    <tr>\n",
       "      <th>75</th>\n",
       "      <td>51.238</td>\n",
       "      <td>NaN</td>\n",
       "      <td>34.605</td>\n",
       "      <td>3.0</td>\n",
       "      <td>220.0</td>\n",
       "      <td>3.900</td>\n",
       "      <td>17.2</td>\n",
       "      <td>21.0</td>\n",
       "      <td>91.943802</td>\n",
       "    </tr>\n",
       "  </tbody>\n",
       "</table>\n",
       "</div>"
      ],
      "text/plain": [
       "     Sales  Year_Resale_Value  Price In Thousands  Engine Size  Horsepower  \\\n",
       "74   9.126                NaN              60.105          4.7       230.0   \n",
       "75  51.238                NaN              34.605          3.0       220.0   \n",
       "\n",
       "    Curb Weight  Fuel Capacity  Fuel Efficiency  Power Perf Factor  \n",
       "74        5.401           25.4             15.0         105.760458  \n",
       "75        3.900           17.2             21.0          91.943802  "
      ]
     },
     "execution_count": 241,
     "metadata": {},
     "output_type": "execute_result"
    }
   ],
   "source": [
    "finaldata.iloc[74:76]"
   ]
  },
  {
   "cell_type": "code",
   "execution_count": 238,
   "id": "d3b66042",
   "metadata": {},
   "outputs": [],
   "source": [
    "new9 = [9.126,60.105,4.7,230.0,5.401,25.4,15.0,105.760458]\n",
    "new_reshaped9 = np.array(new9).reshape(1,-1)"
   ]
  },
  {
   "cell_type": "code",
   "execution_count": 240,
   "id": "3a55b630",
   "metadata": {},
   "outputs": [
    {
     "data": {
      "text/plain": [
       "array([[26.80112366]])"
      ]
     },
     "execution_count": 240,
     "metadata": {},
     "output_type": "execute_result"
    }
   ],
   "source": [
    "Ypred9 = regression_model.predict(new_reshaped9)\n",
    "Ypred9"
   ]
  },
  {
   "cell_type": "code",
   "execution_count": 242,
   "id": "9a5786da",
   "metadata": {},
   "outputs": [],
   "source": [
    "new10 = [51.238,34.605,3.0,220.0,3.900,17.2,21.0,91.943802]"
   ]
  },
  {
   "cell_type": "code",
   "execution_count": 243,
   "id": "366a11e0",
   "metadata": {},
   "outputs": [],
   "source": [
    "new_reshaped10 = np.array(new10).reshape(1,-1)"
   ]
  },
  {
   "cell_type": "code",
   "execution_count": 244,
   "id": "bb7f6d9a",
   "metadata": {},
   "outputs": [
    {
     "data": {
      "text/plain": [
       "array([[20.51299864]])"
      ]
     },
     "execution_count": 244,
     "metadata": {},
     "output_type": "execute_result"
    }
   ],
   "source": [
    "Ypred10 = regression_model.predict(new_reshaped10)\n",
    "Ypred10"
   ]
  },
  {
   "cell_type": "code",
   "execution_count": 245,
   "id": "f427db1c",
   "metadata": {},
   "outputs": [
    {
     "data": {
      "text/html": [
       "<div>\n",
       "<style scoped>\n",
       "    .dataframe tbody tr th:only-of-type {\n",
       "        vertical-align: middle;\n",
       "    }\n",
       "\n",
       "    .dataframe tbody tr th {\n",
       "        vertical-align: top;\n",
       "    }\n",
       "\n",
       "    .dataframe thead th {\n",
       "        text-align: right;\n",
       "    }\n",
       "</style>\n",
       "<table border=\"1\" class=\"dataframe\">\n",
       "  <thead>\n",
       "    <tr style=\"text-align: right;\">\n",
       "      <th></th>\n",
       "      <th>Sales</th>\n",
       "      <th>Year_Resale_Value</th>\n",
       "      <th>Price In Thousands</th>\n",
       "      <th>Engine Size</th>\n",
       "      <th>Horsepower</th>\n",
       "      <th>Curb Weight</th>\n",
       "      <th>Fuel Capacity</th>\n",
       "      <th>Fuel Efficiency</th>\n",
       "      <th>Power Perf Factor</th>\n",
       "    </tr>\n",
       "  </thead>\n",
       "  <tbody>\n",
       "    <tr>\n",
       "      <th>78</th>\n",
       "      <td>22.925</td>\n",
       "      <td>NaN</td>\n",
       "      <td>42.66</td>\n",
       "      <td>5.4</td>\n",
       "      <td>300.0</td>\n",
       "      <td>5.393</td>\n",
       "      <td>30.0</td>\n",
       "      <td>15.0</td>\n",
       "      <td>123.972047</td>\n",
       "    </tr>\n",
       "  </tbody>\n",
       "</table>\n",
       "</div>"
      ],
      "text/plain": [
       "     Sales  Year_Resale_Value  Price In Thousands  Engine Size  Horsepower  \\\n",
       "78  22.925                NaN               42.66          5.4       300.0   \n",
       "\n",
       "    Curb Weight  Fuel Capacity  Fuel Efficiency  Power Perf Factor  \n",
       "78        5.393           30.0             15.0         123.972047  "
      ]
     },
     "execution_count": 245,
     "metadata": {},
     "output_type": "execute_result"
    }
   ],
   "source": [
    "finaldata.iloc[78:79]"
   ]
  },
  {
   "cell_type": "code",
   "execution_count": 247,
   "id": "4e2f1b81",
   "metadata": {},
   "outputs": [],
   "source": [
    "new11 = [22.925,42.66,5.4,300.0,5.393,30.0,15.0,123.972047]\n",
    "new_reshaped11 = np.array(new11).reshape(1,-1)"
   ]
  },
  {
   "cell_type": "code",
   "execution_count": 250,
   "id": "4c997c78",
   "metadata": {},
   "outputs": [
    {
     "data": {
      "text/plain": [
       "array([[24.55038198]])"
      ]
     },
     "execution_count": 250,
     "metadata": {},
     "output_type": "execute_result"
    }
   ],
   "source": [
    "Ypred11 = regression_model.predict(new_reshaped11)\n",
    "Ypred11"
   ]
  },
  {
   "cell_type": "code",
   "execution_count": 251,
   "id": "8becd076",
   "metadata": {},
   "outputs": [
    {
     "data": {
      "text/html": [
       "<div>\n",
       "<style scoped>\n",
       "    .dataframe tbody tr th:only-of-type {\n",
       "        vertical-align: middle;\n",
       "    }\n",
       "\n",
       "    .dataframe tbody tr th {\n",
       "        vertical-align: top;\n",
       "    }\n",
       "\n",
       "    .dataframe thead th {\n",
       "        text-align: right;\n",
       "    }\n",
       "</style>\n",
       "<table border=\"1\" class=\"dataframe\">\n",
       "  <thead>\n",
       "    <tr style=\"text-align: right;\">\n",
       "      <th></th>\n",
       "      <th>Sales</th>\n",
       "      <th>Year_Resale_Value</th>\n",
       "      <th>Price In Thousands</th>\n",
       "      <th>Engine Size</th>\n",
       "      <th>Horsepower</th>\n",
       "      <th>Curb Weight</th>\n",
       "      <th>Fuel Capacity</th>\n",
       "      <th>Fuel Efficiency</th>\n",
       "      <th>Power Perf Factor</th>\n",
       "    </tr>\n",
       "  </thead>\n",
       "  <tbody>\n",
       "    <tr>\n",
       "      <th>96</th>\n",
       "      <td>7.998</td>\n",
       "      <td>NaN</td>\n",
       "      <td>38.9</td>\n",
       "      <td>2.3</td>\n",
       "      <td>190.0</td>\n",
       "      <td>3.055</td>\n",
       "      <td>15.9</td>\n",
       "      <td>26.0</td>\n",
       "      <td>82.807362</td>\n",
       "    </tr>\n",
       "    <tr>\n",
       "      <th>97</th>\n",
       "      <td>1.526</td>\n",
       "      <td>NaN</td>\n",
       "      <td>41.0</td>\n",
       "      <td>2.3</td>\n",
       "      <td>185.0</td>\n",
       "      <td>2.975</td>\n",
       "      <td>14.0</td>\n",
       "      <td>27.0</td>\n",
       "      <td>81.848969</td>\n",
       "    </tr>\n",
       "    <tr>\n",
       "      <th>98</th>\n",
       "      <td>11.592</td>\n",
       "      <td>NaN</td>\n",
       "      <td>41.6</td>\n",
       "      <td>3.2</td>\n",
       "      <td>215.0</td>\n",
       "      <td>3.213</td>\n",
       "      <td>16.4</td>\n",
       "      <td>26.0</td>\n",
       "      <td>92.925792</td>\n",
       "    </tr>\n",
       "    <tr>\n",
       "      <th>99</th>\n",
       "      <td>0.954</td>\n",
       "      <td>NaN</td>\n",
       "      <td>85.5</td>\n",
       "      <td>5.0</td>\n",
       "      <td>302.0</td>\n",
       "      <td>4.115</td>\n",
       "      <td>23.2</td>\n",
       "      <td>20.0</td>\n",
       "      <td>141.100985</td>\n",
       "    </tr>\n",
       "    <tr>\n",
       "      <th>100</th>\n",
       "      <td>28.976</td>\n",
       "      <td>NaN</td>\n",
       "      <td>35.3</td>\n",
       "      <td>3.2</td>\n",
       "      <td>215.0</td>\n",
       "      <td>4.387</td>\n",
       "      <td>19.0</td>\n",
       "      <td>20.0</td>\n",
       "      <td>90.495532</td>\n",
       "    </tr>\n",
       "  </tbody>\n",
       "</table>\n",
       "</div>"
      ],
      "text/plain": [
       "      Sales  Year_Resale_Value  Price In Thousands  Engine Size  Horsepower  \\\n",
       "96    7.998                NaN                38.9          2.3       190.0   \n",
       "97    1.526                NaN                41.0          2.3       185.0   \n",
       "98   11.592                NaN                41.6          3.2       215.0   \n",
       "99    0.954                NaN                85.5          5.0       302.0   \n",
       "100  28.976                NaN                35.3          3.2       215.0   \n",
       "\n",
       "     Curb Weight  Fuel Capacity  Fuel Efficiency  Power Perf Factor  \n",
       "96         3.055           15.9             26.0          82.807362  \n",
       "97         2.975           14.0             27.0          81.848969  \n",
       "98         3.213           16.4             26.0          92.925792  \n",
       "99         4.115           23.2             20.0         141.100985  \n",
       "100        4.387           19.0             20.0          90.495532  "
      ]
     },
     "execution_count": 251,
     "metadata": {},
     "output_type": "execute_result"
    }
   ],
   "source": [
    "finaldata.iloc[96:101]"
   ]
  },
  {
   "cell_type": "code",
   "execution_count": 252,
   "id": "fa99b144",
   "metadata": {},
   "outputs": [],
   "source": [
    "new12 = [7.998,38.9,2.3,190.0,3.055,15.9,26.0,82.807362]\n",
    "new13 = [1.526,41.0,2.3,185.0,2.975,14.0,27.0,81.848969]\n",
    "new14 = [11.592,41.6,3.2,215.0,3.213,16.4,26.0,92.925792]\n",
    "new15 = [0.954,85.5,5.0,302.0,4.115,23.2,20.0,141.100985]\n",
    "new16 = [28.976,35.3,3.2,215.0,4.387,19.0,20.0,90.495532]"
   ]
  },
  {
   "cell_type": "code",
   "execution_count": 255,
   "id": "0fa12593",
   "metadata": {},
   "outputs": [],
   "source": [
    "new_shaped12 = np.array(new12).reshape(1,-1)\n",
    "new_shaped13 = np.array(new13).reshape(1,-1)\n",
    "new_shaped14 = np.array(new14).reshape(1,-1)\n",
    "new_shaped15 = np.array(new15).reshape(1,-1)\n",
    "new_shaped16 = np.array(new16).reshape(1,-1)"
   ]
  },
  {
   "cell_type": "code",
   "execution_count": 256,
   "id": "22c98d16",
   "metadata": {},
   "outputs": [
    {
     "data": {
      "text/plain": [
       "array([[22.95459355]])"
      ]
     },
     "execution_count": 256,
     "metadata": {},
     "output_type": "execute_result"
    }
   ],
   "source": [
    "Ypred12 = regression_model.predict(new_shaped12)\n",
    "Ypred12"
   ]
  },
  {
   "cell_type": "code",
   "execution_count": 258,
   "id": "a617fdec",
   "metadata": {},
   "outputs": [
    {
     "data": {
      "text/plain": [
       "array([[23.10960066]])"
      ]
     },
     "execution_count": 258,
     "metadata": {},
     "output_type": "execute_result"
    }
   ],
   "source": [
    "Ypred13 = regression_model.predict(new_shaped13)\n",
    "Ypred13"
   ]
  },
  {
   "cell_type": "code",
   "execution_count": 259,
   "id": "18501685",
   "metadata": {},
   "outputs": [
    {
     "data": {
      "text/plain": [
       "array([[23.99687521]])"
      ]
     },
     "execution_count": 259,
     "metadata": {},
     "output_type": "execute_result"
    }
   ],
   "source": [
    "Ypred14 = regression_model.predict(new_shaped14)\n",
    "Ypred14"
   ]
  },
  {
   "cell_type": "code",
   "execution_count": 260,
   "id": "e7ae31bf",
   "metadata": {},
   "outputs": [
    {
     "data": {
      "text/plain": [
       "array([[42.35409794]])"
      ]
     },
     "execution_count": 260,
     "metadata": {},
     "output_type": "execute_result"
    }
   ],
   "source": [
    "Ypred15 = regression_model.predict(new_shaped15)\n",
    "Ypred15"
   ]
  },
  {
   "cell_type": "code",
   "execution_count": 261,
   "id": "17551245",
   "metadata": {},
   "outputs": [
    {
     "data": {
      "text/plain": [
       "array([[19.33039113]])"
      ]
     },
     "execution_count": 261,
     "metadata": {},
     "output_type": "execute_result"
    }
   ],
   "source": [
    "Ypred16 = regression_model.predict(new_shaped16)\n",
    "Ypred16"
   ]
  },
  {
   "cell_type": "code",
   "execution_count": 262,
   "id": "8adecba4",
   "metadata": {},
   "outputs": [
    {
     "data": {
      "text/html": [
       "<div>\n",
       "<style scoped>\n",
       "    .dataframe tbody tr th:only-of-type {\n",
       "        vertical-align: middle;\n",
       "    }\n",
       "\n",
       "    .dataframe tbody tr th {\n",
       "        vertical-align: top;\n",
       "    }\n",
       "\n",
       "    .dataframe thead th {\n",
       "        text-align: right;\n",
       "    }\n",
       "</style>\n",
       "<table border=\"1\" class=\"dataframe\">\n",
       "  <thead>\n",
       "    <tr style=\"text-align: right;\">\n",
       "      <th></th>\n",
       "      <th>Sales</th>\n",
       "      <th>Year_Resale_Value</th>\n",
       "      <th>Price In Thousands</th>\n",
       "      <th>Engine Size</th>\n",
       "      <th>Horsepower</th>\n",
       "      <th>Curb Weight</th>\n",
       "      <th>Fuel Capacity</th>\n",
       "      <th>Fuel Efficiency</th>\n",
       "      <th>Power Perf Factor</th>\n",
       "    </tr>\n",
       "  </thead>\n",
       "  <tbody>\n",
       "    <tr>\n",
       "      <th>106</th>\n",
       "      <td>54.158</td>\n",
       "      <td>NaN</td>\n",
       "      <td>22.799</td>\n",
       "      <td>3.3</td>\n",
       "      <td>170.0</td>\n",
       "      <td>3.821</td>\n",
       "      <td>19.4</td>\n",
       "      <td>18.0</td>\n",
       "      <td>69.782944</td>\n",
       "    </tr>\n",
       "    <tr>\n",
       "      <th>107</th>\n",
       "      <td>65.005</td>\n",
       "      <td>NaN</td>\n",
       "      <td>17.890</td>\n",
       "      <td>3.3</td>\n",
       "      <td>170.0</td>\n",
       "      <td>3.217</td>\n",
       "      <td>19.4</td>\n",
       "      <td>18.0</td>\n",
       "      <td>67.889271</td>\n",
       "    </tr>\n",
       "    <tr>\n",
       "      <th>108</th>\n",
       "      <td>1.112</td>\n",
       "      <td>11.24</td>\n",
       "      <td>18.145</td>\n",
       "      <td>3.1</td>\n",
       "      <td>150.0</td>\n",
       "      <td>3.102</td>\n",
       "      <td>15.2</td>\n",
       "      <td>25.0</td>\n",
       "      <td>60.861612</td>\n",
       "    </tr>\n",
       "    <tr>\n",
       "      <th>109</th>\n",
       "      <td>38.554</td>\n",
       "      <td>NaN</td>\n",
       "      <td>24.150</td>\n",
       "      <td>3.5</td>\n",
       "      <td>215.0</td>\n",
       "      <td>3.455</td>\n",
       "      <td>18.0</td>\n",
       "      <td>NaN</td>\n",
       "      <td>86.272523</td>\n",
       "    </tr>\n",
       "    <tr>\n",
       "      <th>110</th>\n",
       "      <td>80.255</td>\n",
       "      <td>NaN</td>\n",
       "      <td>18.270</td>\n",
       "      <td>2.4</td>\n",
       "      <td>150.0</td>\n",
       "      <td>2.958</td>\n",
       "      <td>15.0</td>\n",
       "      <td>27.0</td>\n",
       "      <td>60.727447</td>\n",
       "    </tr>\n",
       "  </tbody>\n",
       "</table>\n",
       "</div>"
      ],
      "text/plain": [
       "      Sales  Year_Resale_Value  Price In Thousands  Engine Size  Horsepower  \\\n",
       "106  54.158                NaN              22.799          3.3       170.0   \n",
       "107  65.005                NaN              17.890          3.3       170.0   \n",
       "108   1.112              11.24              18.145          3.1       150.0   \n",
       "109  38.554                NaN              24.150          3.5       215.0   \n",
       "110  80.255                NaN              18.270          2.4       150.0   \n",
       "\n",
       "     Curb Weight  Fuel Capacity  Fuel Efficiency  Power Perf Factor  \n",
       "106        3.821           19.4             18.0          69.782944  \n",
       "107        3.217           19.4             18.0          67.889271  \n",
       "108        3.102           15.2             25.0          60.861612  \n",
       "109        3.455           18.0              NaN          86.272523  \n",
       "110        2.958           15.0             27.0          60.727447  "
      ]
     },
     "execution_count": 262,
     "metadata": {},
     "output_type": "execute_result"
    }
   ],
   "source": [
    "finaldata.iloc[106:111]"
   ]
  },
  {
   "cell_type": "code",
   "execution_count": 263,
   "id": "79c633d3",
   "metadata": {},
   "outputs": [],
   "source": [
    "new17 = [54.158,22.799,3.3,170.0,3.821,19.4,18.0,69.782944]\n",
    "new18 = [65.005,17.890,3.3,170.0,3.217,19.4,18.0,67.889271]\n",
    "new19 = [38.554, 24.150,3.5,215.0,3.455,18.0,24,86.272523]\n",
    "new20 = [80.255,18.270,2.4,150.0,2.958,15.0,27.0,60.727447]"
   ]
  },
  {
   "cell_type": "code",
   "execution_count": 269,
   "id": "7c313979",
   "metadata": {},
   "outputs": [],
   "source": [
    "new_reshaped17 = np.array(new17).reshape(1,-1)\n",
    "new_reshaped18 = np.array(new18).reshape(1,-1)\n",
    "new_reshaped19 = np.array(new19).reshape(1,-1)\n",
    "new_reshaped20 = np.array(new20).reshape(1,-1)\n"
   ]
  },
  {
   "cell_type": "code",
   "execution_count": 270,
   "id": "cfcc36c5",
   "metadata": {},
   "outputs": [
    {
     "data": {
      "text/plain": [
       "array([[14.95818205]])"
      ]
     },
     "execution_count": 270,
     "metadata": {},
     "output_type": "execute_result"
    }
   ],
   "source": [
    "Ypred17 = regression_model.predict(new_reshaped17)\n",
    "Ypred17"
   ]
  },
  {
   "cell_type": "code",
   "execution_count": 271,
   "id": "c595f8be",
   "metadata": {},
   "outputs": [
    {
     "data": {
      "text/plain": [
       "array([[15.31943045]])"
      ]
     },
     "execution_count": 271,
     "metadata": {},
     "output_type": "execute_result"
    }
   ],
   "source": [
    "Ypred18 = regression_model.predict(new_reshaped18)\n",
    "Ypred18"
   ]
  },
  {
   "cell_type": "code",
   "execution_count": 272,
   "id": "18ebac92",
   "metadata": {},
   "outputs": [
    {
     "data": {
      "text/plain": [
       "array([[17.32003912]])"
      ]
     },
     "execution_count": 272,
     "metadata": {},
     "output_type": "execute_result"
    }
   ],
   "source": [
    "Ypred19 = regression_model.predict(new_reshaped19)\n",
    "Ypred19"
   ]
  },
  {
   "cell_type": "code",
   "execution_count": 273,
   "id": "e980c99f",
   "metadata": {},
   "outputs": [
    {
     "data": {
      "text/plain": [
       "array([[13.11489659]])"
      ]
     },
     "execution_count": 273,
     "metadata": {},
     "output_type": "execute_result"
    }
   ],
   "source": [
    "Ypred20 = regression_model.predict(new_reshaped20)\n",
    "Ypred20"
   ]
  },
  {
   "cell_type": "code",
   "execution_count": 274,
   "id": "f7ec0ab7",
   "metadata": {},
   "outputs": [
    {
     "data": {
      "text/html": [
       "<div>\n",
       "<style scoped>\n",
       "    .dataframe tbody tr th:only-of-type {\n",
       "        vertical-align: middle;\n",
       "    }\n",
       "\n",
       "    .dataframe tbody tr th {\n",
       "        vertical-align: top;\n",
       "    }\n",
       "\n",
       "    .dataframe thead th {\n",
       "        text-align: right;\n",
       "    }\n",
       "</style>\n",
       "<table border=\"1\" class=\"dataframe\">\n",
       "  <thead>\n",
       "    <tr style=\"text-align: right;\">\n",
       "      <th></th>\n",
       "      <th>Sales</th>\n",
       "      <th>Year_Resale_Value</th>\n",
       "      <th>Price In Thousands</th>\n",
       "      <th>Engine Size</th>\n",
       "      <th>Horsepower</th>\n",
       "      <th>Curb Weight</th>\n",
       "      <th>Fuel Capacity</th>\n",
       "      <th>Fuel Efficiency</th>\n",
       "      <th>Power Perf Factor</th>\n",
       "    </tr>\n",
       "  </thead>\n",
       "  <tbody>\n",
       "    <tr>\n",
       "      <th>117</th>\n",
       "      <td>1.872</td>\n",
       "      <td>NaN</td>\n",
       "      <td>43.0</td>\n",
       "      <td>3.5</td>\n",
       "      <td>253.0</td>\n",
       "      <td>2.85</td>\n",
       "      <td>12.0</td>\n",
       "      <td>21.0</td>\n",
       "      <td>106.984456</td>\n",
       "    </tr>\n",
       "  </tbody>\n",
       "</table>\n",
       "</div>"
      ],
      "text/plain": [
       "     Sales  Year_Resale_Value  Price In Thousands  Engine Size  Horsepower  \\\n",
       "117  1.872                NaN                43.0          3.5       253.0   \n",
       "\n",
       "     Curb Weight  Fuel Capacity  Fuel Efficiency  Power Perf Factor  \n",
       "117         2.85           12.0             21.0         106.984456  "
      ]
     },
     "execution_count": 274,
     "metadata": {},
     "output_type": "execute_result"
    }
   ],
   "source": [
    "finaldata.iloc[117:118]"
   ]
  },
  {
   "cell_type": "code",
   "execution_count": 275,
   "id": "c6cda5d0",
   "metadata": {},
   "outputs": [],
   "source": [
    "new21 = [1.872,43.0,3.5,253.0,2.85,12.0,21.0,106.984456]"
   ]
  },
  {
   "cell_type": "code",
   "execution_count": 276,
   "id": "3040a204",
   "metadata": {},
   "outputs": [],
   "source": [
    "new_reshaped21 = np.array(new21).reshape(1,-1)"
   ]
  },
  {
   "cell_type": "code",
   "execution_count": 278,
   "id": "a56459ad",
   "metadata": {},
   "outputs": [
    {
     "data": {
      "text/plain": [
       "array([[27.49745283]])"
      ]
     },
     "execution_count": 278,
     "metadata": {},
     "output_type": "execute_result"
    }
   ],
   "source": [
    "Ypred21 = regression_model.predict(new_reshaped21)\n",
    "Ypred21"
   ]
  },
  {
   "cell_type": "code",
   "execution_count": 280,
   "id": "7f01d385",
   "metadata": {},
   "outputs": [
    {
     "data": {
      "text/html": [
       "<div>\n",
       "<style scoped>\n",
       "    .dataframe tbody tr th:only-of-type {\n",
       "        vertical-align: middle;\n",
       "    }\n",
       "\n",
       "    .dataframe tbody tr th {\n",
       "        vertical-align: top;\n",
       "    }\n",
       "\n",
       "    .dataframe thead th {\n",
       "        text-align: right;\n",
       "    }\n",
       "</style>\n",
       "<table border=\"1\" class=\"dataframe\">\n",
       "  <thead>\n",
       "    <tr style=\"text-align: right;\">\n",
       "      <th></th>\n",
       "      <th>Sales</th>\n",
       "      <th>Year_Resale_Value</th>\n",
       "      <th>Price In Thousands</th>\n",
       "      <th>Engine Size</th>\n",
       "      <th>Horsepower</th>\n",
       "      <th>Curb Weight</th>\n",
       "      <th>Fuel Capacity</th>\n",
       "      <th>Fuel Efficiency</th>\n",
       "      <th>Power Perf Factor</th>\n",
       "    </tr>\n",
       "  </thead>\n",
       "  <tbody>\n",
       "    <tr>\n",
       "      <th>123</th>\n",
       "      <td>39.572</td>\n",
       "      <td>NaN</td>\n",
       "      <td>25.635</td>\n",
       "      <td>3.4</td>\n",
       "      <td>185.0</td>\n",
       "      <td>3.942</td>\n",
       "      <td>25.0</td>\n",
       "      <td>23.0</td>\n",
       "      <td>76.20844</td>\n",
       "    </tr>\n",
       "  </tbody>\n",
       "</table>\n",
       "</div>"
      ],
      "text/plain": [
       "      Sales  Year_Resale_Value  Price In Thousands  Engine Size  Horsepower  \\\n",
       "123  39.572                NaN              25.635          3.4       185.0   \n",
       "\n",
       "     Curb Weight  Fuel Capacity  Fuel Efficiency  Power Perf Factor  \n",
       "123        3.942           25.0             23.0           76.20844  "
      ]
     },
     "execution_count": 280,
     "metadata": {},
     "output_type": "execute_result"
    }
   ],
   "source": [
    "finaldata.iloc[123:124]"
   ]
  },
  {
   "cell_type": "code",
   "execution_count": 281,
   "id": "3f45e867",
   "metadata": {},
   "outputs": [],
   "source": [
    "new22 = [39.572 ,25.635,3.4,185.0,3.942,25.0,23.0,76.20844]"
   ]
  },
  {
   "cell_type": "code",
   "execution_count": 282,
   "id": "6bf998b9",
   "metadata": {},
   "outputs": [],
   "source": [
    "new_reshaped22 = np.array(new22).reshape(1,-1)"
   ]
  },
  {
   "cell_type": "code",
   "execution_count": 284,
   "id": "a34ea231",
   "metadata": {},
   "outputs": [
    {
     "data": {
      "text/plain": [
       "array([[16.55680186]])"
      ]
     },
     "execution_count": 284,
     "metadata": {},
     "output_type": "execute_result"
    }
   ],
   "source": [
    "Ypred22 = regression_model.predict(new_reshaped22)\n",
    "Ypred22"
   ]
  },
  {
   "cell_type": "code",
   "execution_count": 285,
   "id": "c17d5fc6",
   "metadata": {},
   "outputs": [
    {
     "data": {
      "text/html": [
       "<div>\n",
       "<style scoped>\n",
       "    .dataframe tbody tr th:only-of-type {\n",
       "        vertical-align: middle;\n",
       "    }\n",
       "\n",
       "    .dataframe tbody tr th {\n",
       "        vertical-align: top;\n",
       "    }\n",
       "\n",
       "    .dataframe thead th {\n",
       "        text-align: right;\n",
       "    }\n",
       "</style>\n",
       "<table border=\"1\" class=\"dataframe\">\n",
       "  <thead>\n",
       "    <tr style=\"text-align: right;\">\n",
       "      <th></th>\n",
       "      <th>Sales</th>\n",
       "      <th>Year_Resale_Value</th>\n",
       "      <th>Price In Thousands</th>\n",
       "      <th>Engine Size</th>\n",
       "      <th>Horsepower</th>\n",
       "      <th>Curb Weight</th>\n",
       "      <th>Fuel Capacity</th>\n",
       "      <th>Fuel Efficiency</th>\n",
       "      <th>Power Perf Factor</th>\n",
       "    </tr>\n",
       "  </thead>\n",
       "  <tbody>\n",
       "    <tr>\n",
       "      <th>127</th>\n",
       "      <td>9.191</td>\n",
       "      <td>NaN</td>\n",
       "      <td>33.12</td>\n",
       "      <td>2.3</td>\n",
       "      <td>170.0</td>\n",
       "      <td>3.28</td>\n",
       "      <td>18.5</td>\n",
       "      <td>23.0</td>\n",
       "      <td>73.503778</td>\n",
       "    </tr>\n",
       "    <tr>\n",
       "      <th>128</th>\n",
       "      <td>12.115</td>\n",
       "      <td>NaN</td>\n",
       "      <td>26.10</td>\n",
       "      <td>2.0</td>\n",
       "      <td>185.0</td>\n",
       "      <td>2.99</td>\n",
       "      <td>16.9</td>\n",
       "      <td>23.0</td>\n",
       "      <td>76.023048</td>\n",
       "    </tr>\n",
       "  </tbody>\n",
       "</table>\n",
       "</div>"
      ],
      "text/plain": [
       "      Sales  Year_Resale_Value  Price In Thousands  Engine Size  Horsepower  \\\n",
       "127   9.191                NaN               33.12          2.3       170.0   \n",
       "128  12.115                NaN               26.10          2.0       185.0   \n",
       "\n",
       "     Curb Weight  Fuel Capacity  Fuel Efficiency  Power Perf Factor  \n",
       "127         3.28           18.5             23.0          73.503778  \n",
       "128         2.99           16.9             23.0          76.023048  "
      ]
     },
     "execution_count": 285,
     "metadata": {},
     "output_type": "execute_result"
    }
   ],
   "source": [
    "finaldata.iloc[127:129]"
   ]
  },
  {
   "cell_type": "code",
   "execution_count": 286,
   "id": "321e6132",
   "metadata": {},
   "outputs": [],
   "source": [
    "new23 = [9.191,33.12,2.3,170.0,3.28,18.5,23.0,73.503778]\n",
    "new24 = [12.115,26.10,2.0,185.0,2.99,16.9,23.0 ,76.023048]\n"
   ]
  },
  {
   "cell_type": "code",
   "execution_count": 287,
   "id": "13671465",
   "metadata": {},
   "outputs": [],
   "source": [
    "new_reshaped23 = np.array(new23).reshape(1,-1)\n",
    "new_reshaped24 = np.array(new24).reshape(1,-1)"
   ]
  },
  {
   "cell_type": "code",
   "execution_count": 289,
   "id": "0f960d97",
   "metadata": {},
   "outputs": [
    {
     "data": {
      "text/plain": [
       "array([[20.31332461]])"
      ]
     },
     "execution_count": 289,
     "metadata": {},
     "output_type": "execute_result"
    }
   ],
   "source": [
    "Ypred23 = regression_model.predict(new_reshaped23)\n",
    "Ypred23"
   ]
  },
  {
   "cell_type": "code",
   "execution_count": 290,
   "id": "eb3842ca",
   "metadata": {},
   "outputs": [
    {
     "data": {
      "text/plain": [
       "array([[19.42920887]])"
      ]
     },
     "execution_count": 290,
     "metadata": {},
     "output_type": "execute_result"
    }
   ],
   "source": [
    "Ypred24 = regression_model.predict(new_reshaped24)\n",
    "Ypred24"
   ]
  },
  {
   "cell_type": "code",
   "execution_count": 291,
   "id": "9a384c3d",
   "metadata": {},
   "outputs": [
    {
     "data": {
      "text/html": [
       "<div>\n",
       "<style scoped>\n",
       "    .dataframe tbody tr th:only-of-type {\n",
       "        vertical-align: middle;\n",
       "    }\n",
       "\n",
       "    .dataframe tbody tr th {\n",
       "        vertical-align: top;\n",
       "    }\n",
       "\n",
       "    .dataframe thead th {\n",
       "        text-align: right;\n",
       "    }\n",
       "</style>\n",
       "<table border=\"1\" class=\"dataframe\">\n",
       "  <thead>\n",
       "    <tr style=\"text-align: right;\">\n",
       "      <th></th>\n",
       "      <th>Sales</th>\n",
       "      <th>Year_Resale_Value</th>\n",
       "      <th>Price In Thousands</th>\n",
       "      <th>Engine Size</th>\n",
       "      <th>Horsepower</th>\n",
       "      <th>Curb Weight</th>\n",
       "      <th>Fuel Capacity</th>\n",
       "      <th>Fuel Efficiency</th>\n",
       "      <th>Power Perf Factor</th>\n",
       "    </tr>\n",
       "  </thead>\n",
       "  <tbody>\n",
       "    <tr>\n",
       "      <th>132</th>\n",
       "      <td>8.472</td>\n",
       "      <td>NaN</td>\n",
       "      <td>18.835</td>\n",
       "      <td>2.2</td>\n",
       "      <td>137.0</td>\n",
       "      <td>3.075</td>\n",
       "      <td>13.1</td>\n",
       "      <td>27.0</td>\n",
       "      <td>56.295243</td>\n",
       "    </tr>\n",
       "    <tr>\n",
       "      <th>133</th>\n",
       "      <td>49.989</td>\n",
       "      <td>NaN</td>\n",
       "      <td>15.010</td>\n",
       "      <td>2.2</td>\n",
       "      <td>137.0</td>\n",
       "      <td>2.910</td>\n",
       "      <td>13.1</td>\n",
       "      <td>28.0</td>\n",
       "      <td>54.819728</td>\n",
       "    </tr>\n",
       "    <tr>\n",
       "      <th>134</th>\n",
       "      <td>47.107</td>\n",
       "      <td>NaN</td>\n",
       "      <td>22.695</td>\n",
       "      <td>2.5</td>\n",
       "      <td>165.0</td>\n",
       "      <td>3.415</td>\n",
       "      <td>16.9</td>\n",
       "      <td>25.0</td>\n",
       "      <td>67.765908</td>\n",
       "    </tr>\n",
       "    <tr>\n",
       "      <th>135</th>\n",
       "      <td>33.028</td>\n",
       "      <td>NaN</td>\n",
       "      <td>20.095</td>\n",
       "      <td>2.5</td>\n",
       "      <td>165.0</td>\n",
       "      <td>3.125</td>\n",
       "      <td>15.9</td>\n",
       "      <td>24.0</td>\n",
       "      <td>66.762943</td>\n",
       "    </tr>\n",
       "  </tbody>\n",
       "</table>\n",
       "</div>"
      ],
      "text/plain": [
       "      Sales  Year_Resale_Value  Price In Thousands  Engine Size  Horsepower  \\\n",
       "132   8.472                NaN              18.835          2.2       137.0   \n",
       "133  49.989                NaN              15.010          2.2       137.0   \n",
       "134  47.107                NaN              22.695          2.5       165.0   \n",
       "135  33.028                NaN              20.095          2.5       165.0   \n",
       "\n",
       "     Curb Weight  Fuel Capacity  Fuel Efficiency  Power Perf Factor  \n",
       "132        3.075           13.1             27.0          56.295243  \n",
       "133        2.910           13.1             28.0          54.819728  \n",
       "134        3.415           16.9             25.0          67.765908  \n",
       "135        3.125           15.9             24.0          66.762943  "
      ]
     },
     "execution_count": 291,
     "metadata": {},
     "output_type": "execute_result"
    }
   ],
   "source": [
    "finaldata.iloc[132:136]"
   ]
  },
  {
   "cell_type": "code",
   "execution_count": 292,
   "id": "050ce30b",
   "metadata": {},
   "outputs": [],
   "source": [
    "new25 = [8.472,18.835,2.2,137.0,3.075,13.1,27.0,56.295243]\n",
    "new26 = [49.989,15.010,2.2,137.0, 2.910,13.1,28.0,54.819728]\n",
    "new27 = [47.107,22.695,2.5,165.0,3.415,16.9,25.0,67.765908]\n",
    "new28 = [33.028,20.095,2.5,165.0,3.125,15.9,24.0,66.762943]\n"
   ]
  },
  {
   "cell_type": "code",
   "execution_count": 293,
   "id": "0989dc8e",
   "metadata": {},
   "outputs": [],
   "source": [
    "new_reshaped25 = np.array(new25).reshape(1,-1)\n",
    "new_reshaped26 = np.array(new26).reshape(1,-1)\n",
    "new_reshaped27 = np.array(new27).reshape(1,-1)\n",
    "new_reshaped28 = np.array(new28).reshape(1,-1)"
   ]
  },
  {
   "cell_type": "code",
   "execution_count": 294,
   "id": "da4ba8ae",
   "metadata": {},
   "outputs": [
    {
     "data": {
      "text/plain": [
       "array([[12.23233392]])"
      ]
     },
     "execution_count": 294,
     "metadata": {},
     "output_type": "execute_result"
    }
   ],
   "source": [
    "Ypred25 = regression_model.predict(new_reshaped25)\n",
    "Ypred25"
   ]
  },
  {
   "cell_type": "code",
   "execution_count": 295,
   "id": "94421d15",
   "metadata": {},
   "outputs": [
    {
     "data": {
      "text/plain": [
       "array([[11.0816312]])"
      ]
     },
     "execution_count": 295,
     "metadata": {},
     "output_type": "execute_result"
    }
   ],
   "source": [
    "Ypred26 = regression_model.predict(new_reshaped26)\n",
    "Ypred26"
   ]
  },
  {
   "cell_type": "code",
   "execution_count": 296,
   "id": "74600c45",
   "metadata": {},
   "outputs": [
    {
     "data": {
      "text/plain": [
       "array([[14.73296708]])"
      ]
     },
     "execution_count": 296,
     "metadata": {},
     "output_type": "execute_result"
    }
   ],
   "source": [
    "Ypred27 = regression_model.predict(new_reshaped27)\n",
    "Ypred27"
   ]
  },
  {
   "cell_type": "code",
   "execution_count": 297,
   "id": "0d33b3e4",
   "metadata": {},
   "outputs": [
    {
     "data": {
      "text/plain": [
       "array([[14.86457249]])"
      ]
     },
     "execution_count": 297,
     "metadata": {},
     "output_type": "execute_result"
    }
   ],
   "source": [
    "Ypred28 = regression_model.predict(new_reshaped28)\n",
    "Ypred28"
   ]
  },
  {
   "cell_type": "code",
   "execution_count": 298,
   "id": "4192830d",
   "metadata": {},
   "outputs": [
    {
     "data": {
      "text/html": [
       "<div>\n",
       "<style scoped>\n",
       "    .dataframe tbody tr th:only-of-type {\n",
       "        vertical-align: middle;\n",
       "    }\n",
       "\n",
       "    .dataframe tbody tr th {\n",
       "        vertical-align: top;\n",
       "    }\n",
       "\n",
       "    .dataframe thead th {\n",
       "        text-align: right;\n",
       "    }\n",
       "</style>\n",
       "<table border=\"1\" class=\"dataframe\">\n",
       "  <thead>\n",
       "    <tr style=\"text-align: right;\">\n",
       "      <th></th>\n",
       "      <th>Sales</th>\n",
       "      <th>Year_Resale_Value</th>\n",
       "      <th>Price In Thousands</th>\n",
       "      <th>Engine Size</th>\n",
       "      <th>Horsepower</th>\n",
       "      <th>Curb Weight</th>\n",
       "      <th>Fuel Capacity</th>\n",
       "      <th>Fuel Efficiency</th>\n",
       "      <th>Power Perf Factor</th>\n",
       "    </tr>\n",
       "  </thead>\n",
       "  <tbody>\n",
       "    <tr>\n",
       "      <th>141</th>\n",
       "      <td>65.119</td>\n",
       "      <td>NaN</td>\n",
       "      <td>22.368</td>\n",
       "      <td>3.0</td>\n",
       "      <td>194.0</td>\n",
       "      <td>3.759</td>\n",
       "      <td>20.9</td>\n",
       "      <td>22.0</td>\n",
       "      <td>78.027219</td>\n",
       "    </tr>\n",
       "  </tbody>\n",
       "</table>\n",
       "</div>"
      ],
      "text/plain": [
       "      Sales  Year_Resale_Value  Price In Thousands  Engine Size  Horsepower  \\\n",
       "141  65.119                NaN              22.368          3.0       194.0   \n",
       "\n",
       "     Curb Weight  Fuel Capacity  Fuel Efficiency  Power Perf Factor  \n",
       "141        3.759           20.9             22.0          78.027219  "
      ]
     },
     "execution_count": 298,
     "metadata": {},
     "output_type": "execute_result"
    }
   ],
   "source": [
    "finaldata.iloc[141:142]"
   ]
  },
  {
   "cell_type": "code",
   "execution_count": 299,
   "id": "e0a3b816",
   "metadata": {},
   "outputs": [],
   "source": [
    "new29 = [65.119,22.368,3.0,194.0,3.759,20.9,22.0,78.027219]"
   ]
  },
  {
   "cell_type": "code",
   "execution_count": 300,
   "id": "db76bcaf",
   "metadata": {},
   "outputs": [],
   "source": [
    "new_reshaped29 = np.array(new29).reshape(1,-1)"
   ]
  },
  {
   "cell_type": "code",
   "execution_count": 302,
   "id": "23899020",
   "metadata": {},
   "outputs": [
    {
     "data": {
      "text/plain": [
       "array([[15.9430083]])"
      ]
     },
     "execution_count": 302,
     "metadata": {},
     "output_type": "execute_result"
    }
   ],
   "source": [
    "Ypred29 = regression_model.predict(new_reshaped29)\n",
    "Ypred29"
   ]
  },
  {
   "cell_type": "code",
   "execution_count": 303,
   "id": "3f3f332d",
   "metadata": {},
   "outputs": [
    {
     "data": {
      "text/html": [
       "<div>\n",
       "<style scoped>\n",
       "    .dataframe tbody tr th:only-of-type {\n",
       "        vertical-align: middle;\n",
       "    }\n",
       "\n",
       "    .dataframe tbody tr th {\n",
       "        vertical-align: top;\n",
       "    }\n",
       "\n",
       "    .dataframe thead th {\n",
       "        text-align: right;\n",
       "    }\n",
       "</style>\n",
       "<table border=\"1\" class=\"dataframe\">\n",
       "  <thead>\n",
       "    <tr style=\"text-align: right;\">\n",
       "      <th></th>\n",
       "      <th>Sales</th>\n",
       "      <th>Year_Resale_Value</th>\n",
       "      <th>Price In Thousands</th>\n",
       "      <th>Engine Size</th>\n",
       "      <th>Horsepower</th>\n",
       "      <th>Curb Weight</th>\n",
       "      <th>Fuel Capacity</th>\n",
       "      <th>Fuel Efficiency</th>\n",
       "      <th>Power Perf Factor</th>\n",
       "    </tr>\n",
       "  </thead>\n",
       "  <tbody>\n",
       "    <tr>\n",
       "      <th>150</th>\n",
       "      <td>49.463</td>\n",
       "      <td>NaN</td>\n",
       "      <td>15.9</td>\n",
       "      <td>2.0</td>\n",
       "      <td>115.0</td>\n",
       "      <td>2.769</td>\n",
       "      <td>14.5</td>\n",
       "      <td>26.0</td>\n",
       "      <td>47.329632</td>\n",
       "    </tr>\n",
       "    <tr>\n",
       "      <th>151</th>\n",
       "      <td>16.957</td>\n",
       "      <td>NaN</td>\n",
       "      <td>23.4</td>\n",
       "      <td>1.9</td>\n",
       "      <td>160.0</td>\n",
       "      <td>2.998</td>\n",
       "      <td>15.8</td>\n",
       "      <td>25.0</td>\n",
       "      <td>66.113057</td>\n",
       "    </tr>\n",
       "    <tr>\n",
       "      <th>152</th>\n",
       "      <td>3.545</td>\n",
       "      <td>NaN</td>\n",
       "      <td>24.4</td>\n",
       "      <td>1.9</td>\n",
       "      <td>160.0</td>\n",
       "      <td>3.042</td>\n",
       "      <td>15.8</td>\n",
       "      <td>25.0</td>\n",
       "      <td>66.498812</td>\n",
       "    </tr>\n",
       "    <tr>\n",
       "      <th>153</th>\n",
       "      <td>15.245</td>\n",
       "      <td>NaN</td>\n",
       "      <td>27.5</td>\n",
       "      <td>2.4</td>\n",
       "      <td>168.0</td>\n",
       "      <td>3.208</td>\n",
       "      <td>17.9</td>\n",
       "      <td>25.0</td>\n",
       "      <td>70.654495</td>\n",
       "    </tr>\n",
       "    <tr>\n",
       "      <th>154</th>\n",
       "      <td>17.531</td>\n",
       "      <td>NaN</td>\n",
       "      <td>28.8</td>\n",
       "      <td>2.4</td>\n",
       "      <td>168.0</td>\n",
       "      <td>3.259</td>\n",
       "      <td>17.9</td>\n",
       "      <td>25.0</td>\n",
       "      <td>71.155978</td>\n",
       "    </tr>\n",
       "    <tr>\n",
       "      <th>155</th>\n",
       "      <td>3.493</td>\n",
       "      <td>NaN</td>\n",
       "      <td>45.5</td>\n",
       "      <td>2.3</td>\n",
       "      <td>236.0</td>\n",
       "      <td>3.601</td>\n",
       "      <td>18.5</td>\n",
       "      <td>23.0</td>\n",
       "      <td>101.623357</td>\n",
       "    </tr>\n",
       "    <tr>\n",
       "      <th>156</th>\n",
       "      <td>18.969</td>\n",
       "      <td>NaN</td>\n",
       "      <td>36.0</td>\n",
       "      <td>2.9</td>\n",
       "      <td>201.0</td>\n",
       "      <td>3.600</td>\n",
       "      <td>21.1</td>\n",
       "      <td>24.0</td>\n",
       "      <td>85.735655</td>\n",
       "    </tr>\n",
       "  </tbody>\n",
       "</table>\n",
       "</div>"
      ],
      "text/plain": [
       "      Sales  Year_Resale_Value  Price In Thousands  Engine Size  Horsepower  \\\n",
       "150  49.463                NaN                15.9          2.0       115.0   \n",
       "151  16.957                NaN                23.4          1.9       160.0   \n",
       "152   3.545                NaN                24.4          1.9       160.0   \n",
       "153  15.245                NaN                27.5          2.4       168.0   \n",
       "154  17.531                NaN                28.8          2.4       168.0   \n",
       "155   3.493                NaN                45.5          2.3       236.0   \n",
       "156  18.969                NaN                36.0          2.9       201.0   \n",
       "\n",
       "     Curb Weight  Fuel Capacity  Fuel Efficiency  Power Perf Factor  \n",
       "150        2.769           14.5             26.0          47.329632  \n",
       "151        2.998           15.8             25.0          66.113057  \n",
       "152        3.042           15.8             25.0          66.498812  \n",
       "153        3.208           17.9             25.0          70.654495  \n",
       "154        3.259           17.9             25.0          71.155978  \n",
       "155        3.601           18.5             23.0         101.623357  \n",
       "156        3.600           21.1             24.0          85.735655  "
      ]
     },
     "execution_count": 303,
     "metadata": {},
     "output_type": "execute_result"
    }
   ],
   "source": [
    "finaldata.iloc[150:157]"
   ]
  },
  {
   "cell_type": "code",
   "execution_count": 304,
   "id": "5a39903f",
   "metadata": {},
   "outputs": [],
   "source": [
    "new30 = [49.463,15.9,2.0,115.0,2.769,14.5,26.0,47.329632]\n",
    "new31 = [16.957,23.4,1.9,160.0,2.998,15.8,25.0,66.113057]\n",
    "new32 = [3.545,24.4,1.9,160.0,3.042,15.8,25.0,66.498812]\n",
    "new33 = [15.245,27.5,2.4,168.0,3.208,17.9,25.0,70.654495]\n",
    "new34 = [17.531,28.8,2.4,168.0,3.259,17.9,25.0,71.155978]\n",
    "new35 = [3.493,45.5,2.3,236.0,3.601,18.5,23.0,101.623357]\n",
    "new36 = [18.969,36.0,2.9,201.0,3.600,21.1,24.0,85.735655]"
   ]
  },
  {
   "cell_type": "code",
   "execution_count": 305,
   "id": "07100462",
   "metadata": {},
   "outputs": [],
   "source": [
    "new_reshaped30 = np.array(new30).reshape(1,-1)\n",
    "new_reshaped31 = np.array(new31).reshape(1,-1)\n",
    "new_reshaped32 = np.array(new32).reshape(1,-1)\n",
    "new_reshaped33 = np.array(new33).reshape(1,-1)\n",
    "new_reshaped34 = np.array(new34).reshape(1,-1)\n",
    "new_reshaped35 = np.array(new35).reshape(1,-1)\n",
    "new_reshaped36 = np.array(new36).reshape(1,-1)"
   ]
  },
  {
   "cell_type": "code",
   "execution_count": 306,
   "id": "e50b0c9f",
   "metadata": {},
   "outputs": [
    {
     "data": {
      "text/plain": [
       "array([[11.71864659]])"
      ]
     },
     "execution_count": 306,
     "metadata": {},
     "output_type": "execute_result"
    }
   ],
   "source": [
    "Ypred30 = regression_model.predict(new_reshaped30)\n",
    "Ypred30"
   ]
  },
  {
   "cell_type": "code",
   "execution_count": 307,
   "id": "b2a4027c",
   "metadata": {},
   "outputs": [
    {
     "data": {
      "text/plain": [
       "array([[16.56283045]])"
      ]
     },
     "execution_count": 307,
     "metadata": {},
     "output_type": "execute_result"
    }
   ],
   "source": [
    "Ypred31 = regression_model.predict(new_reshaped31)\n",
    "Ypred31"
   ]
  },
  {
   "cell_type": "code",
   "execution_count": 308,
   "id": "31fac45c",
   "metadata": {},
   "outputs": [
    {
     "data": {
      "text/plain": [
       "array([[16.81583451]])"
      ]
     },
     "execution_count": 308,
     "metadata": {},
     "output_type": "execute_result"
    }
   ],
   "source": [
    "Ypred32 = regression_model.predict(new_reshaped32)\n",
    "Ypred32"
   ]
  },
  {
   "cell_type": "code",
   "execution_count": 309,
   "id": "c9335da9",
   "metadata": {},
   "outputs": [
    {
     "data": {
      "text/plain": [
       "array([[17.79046792]])"
      ]
     },
     "execution_count": 309,
     "metadata": {},
     "output_type": "execute_result"
    }
   ],
   "source": [
    "Ypred33 = regression_model.predict(new_reshaped33)\n",
    "Ypred33"
   ]
  },
  {
   "cell_type": "code",
   "execution_count": 310,
   "id": "2caac014",
   "metadata": {},
   "outputs": [
    {
     "data": {
      "text/plain": [
       "array([[18.06553186]])"
      ]
     },
     "execution_count": 310,
     "metadata": {},
     "output_type": "execute_result"
    }
   ],
   "source": [
    "Ypred34 = regression_model.predict(new_reshaped34)\n",
    "Ypred34"
   ]
  },
  {
   "cell_type": "code",
   "execution_count": 311,
   "id": "bde0004e",
   "metadata": {},
   "outputs": [
    {
     "data": {
      "text/plain": [
       "array([[26.92853655]])"
      ]
     },
     "execution_count": 311,
     "metadata": {},
     "output_type": "execute_result"
    }
   ],
   "source": [
    "Ypred35 = regression_model.predict(new_reshaped35)\n",
    "Ypred35"
   ]
  },
  {
   "cell_type": "code",
   "execution_count": 312,
   "id": "db8cf81e",
   "metadata": {},
   "outputs": [
    {
     "data": {
      "text/plain": [
       "array([[21.64459231]])"
      ]
     },
     "execution_count": 312,
     "metadata": {},
     "output_type": "execute_result"
    }
   ],
   "source": [
    "Ypred36 = regression_model.predict(new_reshaped36)\n",
    "Ypred36"
   ]
  },
  {
   "cell_type": "code",
   "execution_count": null,
   "id": "8c011b36",
   "metadata": {},
   "outputs": [],
   "source": []
  },
  {
   "cell_type": "code",
   "execution_count": null,
   "id": "2052b3a5",
   "metadata": {},
   "outputs": [],
   "source": []
  }
 ],
 "metadata": {
  "kernelspec": {
   "display_name": "Python 3 (ipykernel)",
   "language": "python",
   "name": "python3"
  },
  "language_info": {
   "codemirror_mode": {
    "name": "ipython",
    "version": 3
   },
   "file_extension": ".py",
   "mimetype": "text/x-python",
   "name": "python",
   "nbconvert_exporter": "python",
   "pygments_lexer": "ipython3",
   "version": "3.9.16"
  }
 },
 "nbformat": 4,
 "nbformat_minor": 5
}
