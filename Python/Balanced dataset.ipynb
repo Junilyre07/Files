{
 "cells": [
  {
   "cell_type": "code",
   "execution_count": 26,
   "id": "580e1718",
   "metadata": {},
   "outputs": [],
   "source": [
    "import numpy as np\n",
    "import pandas as pd \n",
    "import seaborn as sns\n",
    "import matplotlib.pyplot as plt\n",
    "get_ipython().run_line_magic('matplotlib', 'inline')\n",
    "import math "
   ]
  },
  {
   "cell_type": "code",
   "execution_count": 27,
   "id": "6b880bbb",
   "metadata": {},
   "outputs": [
    {
     "data": {
      "text/html": [
       "<div>\n",
       "<style scoped>\n",
       "    .dataframe tbody tr th:only-of-type {\n",
       "        vertical-align: middle;\n",
       "    }\n",
       "\n",
       "    .dataframe tbody tr th {\n",
       "        vertical-align: top;\n",
       "    }\n",
       "\n",
       "    .dataframe thead th {\n",
       "        text-align: right;\n",
       "    }\n",
       "</style>\n",
       "<table border=\"1\" class=\"dataframe\">\n",
       "  <thead>\n",
       "    <tr style=\"text-align: right;\">\n",
       "      <th></th>\n",
       "      <th>CLIENTNUM</th>\n",
       "      <th>Attrition_Flag</th>\n",
       "      <th>Customer_Age</th>\n",
       "      <th>Gender</th>\n",
       "      <th>Dependent_count</th>\n",
       "      <th>Education_Level</th>\n",
       "      <th>Marital_Status</th>\n",
       "      <th>Income_Category</th>\n",
       "      <th>Card_Category</th>\n",
       "      <th>Months_on_book</th>\n",
       "      <th>...</th>\n",
       "      <th>Months_Inactive_12_mon</th>\n",
       "      <th>Contacts_Count_12_mon</th>\n",
       "      <th>Credit_Limit</th>\n",
       "      <th>Total_Revolving_Bal</th>\n",
       "      <th>Avg_Open_To_Buy</th>\n",
       "      <th>Total_Amt_Chng_Q4_Q1</th>\n",
       "      <th>Total_Trans_Amt</th>\n",
       "      <th>Total_Trans_Ct</th>\n",
       "      <th>Total_Ct_Chng_Q4_Q1</th>\n",
       "      <th>Avg_Utilization_Ratio</th>\n",
       "    </tr>\n",
       "  </thead>\n",
       "  <tbody>\n",
       "    <tr>\n",
       "      <th>0</th>\n",
       "      <td>768805383</td>\n",
       "      <td>Existing Customer</td>\n",
       "      <td>45</td>\n",
       "      <td>M</td>\n",
       "      <td>3</td>\n",
       "      <td>High School</td>\n",
       "      <td>Married</td>\n",
       "      <td>$60K - $80K</td>\n",
       "      <td>Blue</td>\n",
       "      <td>39</td>\n",
       "      <td>...</td>\n",
       "      <td>1</td>\n",
       "      <td>3</td>\n",
       "      <td>12691.0</td>\n",
       "      <td>777</td>\n",
       "      <td>11914.0</td>\n",
       "      <td>1.335</td>\n",
       "      <td>1144</td>\n",
       "      <td>42</td>\n",
       "      <td>1.625</td>\n",
       "      <td>0.061</td>\n",
       "    </tr>\n",
       "    <tr>\n",
       "      <th>1</th>\n",
       "      <td>818770008</td>\n",
       "      <td>Existing Customer</td>\n",
       "      <td>49</td>\n",
       "      <td>F</td>\n",
       "      <td>5</td>\n",
       "      <td>Graduate</td>\n",
       "      <td>Single</td>\n",
       "      <td>Less than $40K</td>\n",
       "      <td>Blue</td>\n",
       "      <td>44</td>\n",
       "      <td>...</td>\n",
       "      <td>1</td>\n",
       "      <td>2</td>\n",
       "      <td>8256.0</td>\n",
       "      <td>864</td>\n",
       "      <td>7392.0</td>\n",
       "      <td>1.541</td>\n",
       "      <td>1291</td>\n",
       "      <td>33</td>\n",
       "      <td>3.714</td>\n",
       "      <td>0.105</td>\n",
       "    </tr>\n",
       "  </tbody>\n",
       "</table>\n",
       "<p>2 rows × 21 columns</p>\n",
       "</div>"
      ],
      "text/plain": [
       "   CLIENTNUM     Attrition_Flag  Customer_Age Gender  Dependent_count  \\\n",
       "0  768805383  Existing Customer            45      M                3   \n",
       "1  818770008  Existing Customer            49      F                5   \n",
       "\n",
       "  Education_Level Marital_Status Income_Category Card_Category  \\\n",
       "0     High School        Married     $60K - $80K          Blue   \n",
       "1        Graduate         Single  Less than $40K          Blue   \n",
       "\n",
       "   Months_on_book  ...  Months_Inactive_12_mon  Contacts_Count_12_mon  \\\n",
       "0              39  ...                       1                      3   \n",
       "1              44  ...                       1                      2   \n",
       "\n",
       "   Credit_Limit  Total_Revolving_Bal  Avg_Open_To_Buy  Total_Amt_Chng_Q4_Q1  \\\n",
       "0       12691.0                  777          11914.0                 1.335   \n",
       "1        8256.0                  864           7392.0                 1.541   \n",
       "\n",
       "   Total_Trans_Amt  Total_Trans_Ct  Total_Ct_Chng_Q4_Q1  Avg_Utilization_Ratio  \n",
       "0             1144              42                1.625                  0.061  \n",
       "1             1291              33                3.714                  0.105  \n",
       "\n",
       "[2 rows x 21 columns]"
      ]
     },
     "execution_count": 27,
     "metadata": {},
     "output_type": "execute_result"
    }
   ],
   "source": [
    "data = pd.read_csv('credit_card_churn.csv')\n",
    "data.head(2)"
   ]
  },
  {
   "cell_type": "code",
   "execution_count": 28,
   "id": "ef039742",
   "metadata": {},
   "outputs": [],
   "source": [
    "from sklearn.preprocessing import LabelEncoder\n",
    "\n",
    "label_encoder = LabelEncoder()\n",
    "\n",
    "\n",
    "le = LabelEncoder()\n",
    "data['Attrition_Flag'] = 1 - le.fit_transform(data['Attrition_Flag'])\n",
    "\n",
    "le = LabelEncoder()\n",
    "data['Marital_Status'] = le.fit_transform(data['Marital_Status'])\n",
    "\n",
    "le = LabelEncoder()\n",
    "data['Education_Level'] = le.fit_transform(data['Education_Level'])\n",
    "\n",
    "le = LabelEncoder()\n",
    "data['Card_Category'] = le.fit_transform(data['Card_Category'])\n",
    "\n",
    "# Encode 'Gender'\n",
    "data['Gender'] = label_encoder.fit_transform(data['Gender'])\n",
    "\n",
    "# Encode 'Income_Category'\n",
    "data['Income_Category'] = label_encoder.fit_transform(data['Income_Category'])\n"
   ]
  },
  {
   "cell_type": "code",
   "execution_count": 29,
   "id": "e2d6a4b1",
   "metadata": {},
   "outputs": [],
   "source": [
    "\n",
    "X = data.drop('Attrition_Flag', axis=1)\n",
    "y = data['Attrition_Flag']\n"
   ]
  },
  {
   "cell_type": "code",
   "execution_count": 30,
   "id": "29ffe6a0",
   "metadata": {},
   "outputs": [
    {
     "data": {
      "image/png": "[encoded data removed]",
      "text/plain": [
       "<Figure size 640x480 with 1 Axes>"
      ]
     },
     "metadata": {},
     "output_type": "display_data"
    }
   ],
   "source": [
    "from imblearn.over_sampling import RandomOverSampler\n",
    "\n",
    "rus = RandomOverSampler(sampling_strategy=1) # Numerical value\n",
    "# rus = RandomoverSampler(sampling_strategy=\"not minority\") # String\n",
    "X_res, y_res = rus.fit_resample(X, y)\n",
    "\n",
    "ax = y_res.value_counts().plot.pie(autopct='%.2f')\n",
    "_ = ax.set_title(\"Over-sampling\")"
   ]
  },
  {
   "cell_type": "code",
   "execution_count": 31,
   "id": "d76d6b19",
   "metadata": {},
   "outputs": [],
   "source": [
    "from sklearn.model_selection import train_test_split\n",
    "from sklearn.naive_bayes import GaussianNB\n",
    "from sklearn.linear_model import LogisticRegression\n",
    "from sklearn.ensemble import RandomForestClassifier\n",
    "from sklearn.tree import DecisionTreeClassifier\n",
    "from sklearn.metrics import accuracy_score, confusion_matrix, precision_score, recall_score, f1_score"
   ]
  },
  {
   "cell_type": "code",
   "execution_count": 35,
   "id": "b9fbb610",
   "metadata": {},
   "outputs": [],
   "source": [
    "#classifiers with parameters\n",
    "\n",
    "nb = GaussianNB()\n",
    "lr = LogisticRegression(random_state=42, max_iter=1000, penalty='l2', solver='saga', C=1.0)\n",
    "rf = RandomForestClassifier(random_state=42, n_estimators=100, max_depth=10)\n",
    "dt = DecisionTreeClassifier(criterion='gini', splitter='best',max_depth=3)"
   ]
  },
  {
   "cell_type": "code",
   "execution_count": 36,
   "id": "028905c9",
   "metadata": {},
   "outputs": [],
   "source": [
    "# In[34]:\n",
    "\n",
    "\n",
    "from sklearn.model_selection import train_test_split\n",
    "X_train, X_test, y_train, y_test = train_test_split(X_res, y_res, test_size=0.2, random_state=42)\n"
   ]
  },
  {
   "cell_type": "code",
   "execution_count": 37,
   "id": "c7472a00",
   "metadata": {},
   "outputs": [],
   "source": [
    "\n",
    "from sklearn.preprocessing import StandardScaler\n",
    "\n",
    "sc= StandardScaler()\n",
    "X_train=sc.fit_transform(X_train)\n",
    "X_test=sc.transform(X_test)\n"
   ]
  },
  {
   "cell_type": "code",
   "execution_count": 38,
   "id": "e66c6353",
   "metadata": {},
   "outputs": [
    {
     "name": "stdout",
     "output_type": "stream",
     "text": [
      "Evaluation metrics for Naive Bayes:\n",
      "Confusion matrix:\n",
      "[[1326  350]\n",
      " [ 316 1408]]\n",
      "Accuracy: 0.8041176470588235\n",
      "Precision: 0.800910125142207\n",
      "Recall: 0.8167053364269141\n",
      "F1-score: 0.8087306145893165\n",
      "\n",
      "Evaluation metrics for Logistic Regression:\n",
      "Confusion matrix:\n",
      "[[1423  253]\n",
      " [ 265 1459]]\n",
      "Accuracy: 0.8476470588235294\n",
      "Precision: 0.8522196261682243\n",
      "Recall: 0.8462877030162413\n",
      "F1-score: 0.8492433061699651\n",
      "\n",
      "Evaluation metrics for Random Forest:\n",
      "Confusion matrix:\n",
      "[[1615   61]\n",
      " [  11 1713]]\n",
      "Accuracy: 0.9788235294117648\n",
      "Precision: 0.9656144306651635\n",
      "Recall: 0.9936194895591647\n",
      "F1-score: 0.9794168096054889\n",
      "\n",
      "Evaluation metrics for Decision Tree:\n",
      "Confusion matrix:\n",
      "[[1590   86]\n",
      " [ 406 1318]]\n",
      "Accuracy: 0.8552941176470589\n",
      "Precision: 0.9387464387464387\n",
      "Recall: 0.7645011600928074\n",
      "F1-score: 0.8427109974424553\n",
      "\n"
     ]
    }
   ],
   "source": [
    "classifiers = {\"Naive Bayes\": nb,\n",
    "               \"Logistic Regression\": lr,\n",
    "               \"Random Forest\": rf,\n",
    "               \"Decision Tree\": dt}\n",
    "\n",
    "for name, clf in classifiers.items():\n",
    "    clf.fit(X_train, y_train)\n",
    "    y_pred = clf.predict(X_test)\n",
    "    \n",
    "    acc = accuracy_score(y_test, y_pred)\n",
    "    cm = confusion_matrix(y_test, y_pred)\n",
    "    precision = precision_score(y_test, y_pred)\n",
    "    recall = recall_score(y_test, y_pred)\n",
    "    f1 = f1_score(y_test, y_pred)\n",
    "\n",
    "    print(f\"Evaluation metrics for {name}:\")\n",
    "    print(\"Confusion matrix:\")\n",
    "    print(cm)\n",
    "    print(f\"Accuracy: {acc}\")\n",
    "    print(f\"Precision: {precision}\")\n",
    "    print(f\"Recall: {recall}\")\n",
    "    print(f\"F1-score: {f1}\")\n",
    "    print()"
   ]
  },
  {
   "cell_type": "code",
   "execution_count": 39,
   "id": "676387ab",
   "metadata": {},
   "outputs": [
    {
     "data": {
      "image/png": "[encoded data removed]",
      "text/plain": [
       "<Figure size 640x480 with 1 Axes>"
      ]
     },
     "metadata": {},
     "output_type": "display_data"
    }
   ],
   "source": [
    "from imblearn.under_sampling import RandomUnderSampler\n",
    "\n",
    "rus = RandomUnderSampler(sampling_strategy=1) # Numerical value\n",
    "# rus = RandomUnderSampler(sampling_strategy=\"majority\") # String\n",
    "X_res, y_res = rus.fit_resample(X, y)\n",
    "\n",
    "ax = y_res.value_counts().plot.pie(autopct='%.2f')\n",
    "_ = ax.set_title(\"Under-sampling\")"
   ]
  },
  {
   "cell_type": "code",
   "execution_count": 43,
   "id": "5d7dd774",
   "metadata": {},
   "outputs": [],
   "source": [
    "#classifiers with parameters\n",
    "\n",
    "nb = GaussianNB()\n",
    "lr = LogisticRegression(random_state=42, max_iter=1000, penalty='l2', solver='saga', C=1.0)\n",
    "rf = RandomForestClassifier(random_state=42, n_estimators=100, max_depth=10)\n",
    "dt = DecisionTreeClassifier(criterion='gini', splitter='best',max_depth=3)"
   ]
  },
  {
   "cell_type": "code",
   "execution_count": 44,
   "id": "2be87a49",
   "metadata": {},
   "outputs": [],
   "source": [
    "\n",
    "\n",
    "from sklearn.model_selection import train_test_split\n",
    "X_train, X_test, y_train, y_test = train_test_split(X_res, y_res, test_size=0.2, random_state=42)"
   ]
  },
  {
   "cell_type": "code",
   "execution_count": 45,
   "id": "892ead66",
   "metadata": {},
   "outputs": [
    {
     "name": "stdout",
     "output_type": "stream",
     "text": [
      "Evaluation metrics for Naive Bayes:\n",
      "Confusion matrix:\n",
      "[[128 221]\n",
      " [ 63 239]]\n",
      "Accuracy: 0.5637480798771122\n",
      "Precision: 0.5195652173913043\n",
      "Recall: 0.7913907284768212\n",
      "F1-score: 0.6272965879265092\n",
      "Cross-validation scores: [0.59884837 0.53358925 0.58733205 0.58846154 0.55576923]\n",
      "\n"
     ]
    },
    {
     "name": "stderr",
     "output_type": "stream",
     "text": [
      "C:\\Users\\Romelio Villar Jr\\anaconda3\\lib\\site-packages\\sklearn\\linear_model\\_sag.py:350: ConvergenceWarning: The max_iter was reached which means the coef_ did not converge\n",
      "  warnings.warn(\n",
      "C:\\Users\\Romelio Villar Jr\\anaconda3\\lib\\site-packages\\sklearn\\linear_model\\_sag.py:350: ConvergenceWarning: The max_iter was reached which means the coef_ did not converge\n",
      "  warnings.warn(\n",
      "C:\\Users\\Romelio Villar Jr\\anaconda3\\lib\\site-packages\\sklearn\\linear_model\\_sag.py:350: ConvergenceWarning: The max_iter was reached which means the coef_ did not converge\n",
      "  warnings.warn(\n",
      "C:\\Users\\Romelio Villar Jr\\anaconda3\\lib\\site-packages\\sklearn\\linear_model\\_sag.py:350: ConvergenceWarning: The max_iter was reached which means the coef_ did not converge\n",
      "  warnings.warn(\n",
      "C:\\Users\\Romelio Villar Jr\\anaconda3\\lib\\site-packages\\sklearn\\linear_model\\_sag.py:350: ConvergenceWarning: The max_iter was reached which means the coef_ did not converge\n",
      "  warnings.warn(\n",
      "C:\\Users\\Romelio Villar Jr\\anaconda3\\lib\\site-packages\\sklearn\\linear_model\\_sag.py:350: ConvergenceWarning: The max_iter was reached which means the coef_ did not converge\n",
      "  warnings.warn(\n"
     ]
    },
    {
     "name": "stdout",
     "output_type": "stream",
     "text": [
      "Evaluation metrics for Logistic Regression:\n",
      "Confusion matrix:\n",
      "[[  0 349]\n",
      " [  0 302]]\n",
      "Accuracy: 0.46390168970814133\n",
      "Precision: 0.46390168970814133\n",
      "Recall: 1.0\n",
      "F1-score: 0.6337880377754459\n",
      "Cross-validation scores: [0.50863724 0.50863724 0.50863724 0.50961538 0.50961538]\n",
      "\n",
      "Evaluation metrics for Random Forest:\n",
      "Confusion matrix:\n",
      "[[319  30]\n",
      " [ 15 287]]\n",
      "Accuracy: 0.9308755760368663\n",
      "Precision: 0.9053627760252366\n",
      "Recall: 0.9503311258278145\n",
      "F1-score: 0.9273021001615509\n",
      "Cross-validation scores: [0.92322457 0.94433781 0.95777351 0.93076923 0.95576923]\n",
      "\n",
      "Evaluation metrics for Decision Tree:\n",
      "Confusion matrix:\n",
      "[[326  23]\n",
      " [ 79 223]]\n",
      "Accuracy: 0.8433179723502304\n",
      "Precision: 0.9065040650406504\n",
      "Recall: 0.7384105960264901\n",
      "F1-score: 0.8138686131386861\n",
      "Cross-validation scores: [0.86564299 0.84452975 0.85028791 0.82307692 0.875     ]\n",
      "\n"
     ]
    }
   ],
   "source": [
    "from sklearn.model_selection import train_test_split, cross_val_score\n",
    "from sklearn.naive_bayes import GaussianNB\n",
    "from sklearn.linear_model import LogisticRegression\n",
    "from sklearn.ensemble import RandomForestClassifier\n",
    "from sklearn.tree import DecisionTreeClassifier\n",
    "from sklearn.metrics import accuracy_score, confusion_matrix, precision_score, recall_score, f1_score\n",
    "\n",
    "\n",
    "# Define classifiers with parameters\n",
    "nb = GaussianNB()\n",
    "lr = LogisticRegression(random_state=42, max_iter=1000, penalty='l2', solver='saga', C=1.0)\n",
    "rf = RandomForestClassifier(criterion ='gini', max_depth = 20, min_samples_leaf = 1, min_samples_split = 5, n_estimators = 200)\n",
    "\n",
    "dt = DecisionTreeClassifier(criterion='gini', splitter='best', max_depth=3)\n",
    "\n",
    "classifiers = {\"Naive Bayes\": nb,\n",
    "               \"Logistic Regression\": lr,\n",
    "               \"Random Forest\": rf,\n",
    "               \"Decision Tree\": dt}\n",
    "\n",
    "# Loop over classifiers and evaluate performance\n",
    "for name, clf in classifiers.items():\n",
    "    clf.fit(X_train, y_train)\n",
    "    \n",
    "    # Use cross-validation to get performance metrics\n",
    "    cv_scores = cross_val_score(clf, X_train, y_train, cv=5)\n",
    "    \n",
    "    y_pred = clf.predict(X_test)\n",
    "    acc = accuracy_score(y_test, y_pred)\n",
    "    cm = confusion_matrix(y_test, y_pred)\n",
    "    precision = precision_score(y_test, y_pred)\n",
    "    recall = recall_score(y_test, y_pred)\n",
    "    f1 = f1_score(y_test, y_pred)\n",
    "\n",
    "    print(f\"Evaluation metrics for {name}:\")\n",
    "    print(\"Confusion matrix:\")\n",
    "    print(cm)\n",
    "    print(f\"Accuracy: {acc}\")\n",
    "    print(f\"Precision: {precision}\")\n",
    "    print(f\"Recall: {recall}\")\n",
    "    print(f\"F1-score: {f1}\")\n",
    "    print(f\"Cross-validation scores: {cv_scores}\")\n",
    "    print()\n"
   ]
  },
  {
   "cell_type": "code",
   "execution_count": 46,
   "id": "2cb11b56",
   "metadata": {},
   "outputs": [
    {
     "name": "stdout",
     "output_type": "stream",
     "text": [
      "Equation of the regression model: y = 0.0000 + (0.0000 * x1) + (0.0000 * x2) + (-0.0000 * x3) + (0.0000 * x4) + (0.0000 * x5) + (0.0000 * x6) + (0.0000 * x7) + (-0.0000 * x8) + (0.0000 * x9) + (-0.0000 * x10) + (0.0000 * x11) + (0.0000 * x12) + (-0.0000 * x13) + (-0.0000 * x14) + (0.0000 * x15) + (-0.0000 * x16) + (-0.0000 * x17) + (-0.0000 * x18) + (-0.0000 * x19) + (-0.0000 * x20)\n"
     ]
    }
   ],
   "source": [
    "# Print the equation of the regression model\n",
    "coefficients = lr.coef_[0]\n",
    "intercept = lr.intercept_[0]\n",
    "equation = \"y = {:.4f}\".format(intercept)\n",
    "for i in range(len(coefficients)):\n",
    "    equation += \" + ({:.4f} * x{})\".format(coefficients[i], i+1)\n",
    "print(\"Equation of the regression model:\", equation)"
   ]
  },
  {
   "cell_type": "code",
   "execution_count": null,
   "id": "4dac899a",
   "metadata": {},
   "outputs": [],
   "source": []
  },
  {
   "cell_type": "code",
   "execution_count": null,
   "id": "3972d149",
   "metadata": {},
   "outputs": [],
   "source": []
  },
  {
   "cell_type": "code",
   "execution_count": null,
   "id": "186c2d33",
   "metadata": {},
   "outputs": [],
   "source": []
  }
 ],
 "metadata": {
  "kernelspec": {
   "display_name": "Python 3 (ipykernel)",
   "language": "python",
   "name": "python3"
  },
  "language_info": {
   "codemirror_mode": {
    "name": "ipython",
    "version": 3
   },
   "file_extension": ".py",
   "mimetype": "text/x-python",
   "name": "python",
   "nbconvert_exporter": "python",
   "pygments_lexer": "ipython3",
   "version": "3.9.16"
  }
 },
 "nbformat": 4,
 "nbformat_minor": 5
}
